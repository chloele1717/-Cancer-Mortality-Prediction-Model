{
  "nbformat": 4,
  "nbformat_minor": 0,
  "metadata": {
    "colab": {
      "provenance": []
    },
    "kernelspec": {
      "name": "python3",
      "display_name": "Python 3"
    }
  },
  "cells": [
    {
      "cell_type": "markdown",
      "metadata": {
        "id": "uQ6wc2HE0pke"
      },
      "source": [
        "# **Assignment 1 - Part B**\n"
      ]
    },
    {
      "cell_type": "markdown",
      "metadata": {
        "id": "tQgxLRrvjiJb"
      },
      "source": [
        "## Assignment 1 - Regression Models\n",
        "Part B: Experiment on multivariate linear regression. You are allowed to use all numeric features from the dataset and train a multivariate linear regression model\n",
        "\n",
        "Training and testing dataset has been cleaned in the part A and stored in this google drive link: https://drive.google.com/drive/folders/1_50s_IxJsABTRFTWBR0XjuSOnDL4YFuQ under the names training_cleaned2.csv and testing_cleaned2.csv\n",
        "\n",
        "The steps are:\n",
        "1.   Load and Explore Dataset\n",
        "2.   Data Preparation\n",
        "3.   Assess Baseline Model\n",
        "4.   Train Initial Model with all Features\n",
        "\n"
      ]
    },
    {
      "cell_type": "markdown",
      "metadata": {
        "id": "smh_LhVjIg9s"
      },
      "source": [
        "### 1. Load and Explore Dataset"
      ]
    },
    {
      "cell_type": "markdown",
      "metadata": {
        "id": "MqQvL-CLbmmB"
      },
      "source": [
        "**[1.1]** Import the pandas and numpy packages"
      ]
    },
    {
      "cell_type": "code",
      "metadata": {
        "id": "ONaPp_MhboMc"
      },
      "source": [
        "import pandas as pd\n",
        "import numpy as np\n",
        "import altair as alt"
      ],
      "execution_count": 1,
      "outputs": []
    },
    {
      "cell_type": "markdown",
      "source": [
        "**[1.2]** Mounting the drive\n",
        "\n",
        "In this notebook, I'm mounting the Google drive to read a csv file that is stored on my drive. You must allow access to your drive by signing in to your Google account."
      ],
      "metadata": {
        "id": "ESJDMjjGPF19"
      }
    },
    {
      "cell_type": "code",
      "source": [
        "from google.colab import drive\n",
        "drive.mount('/content/drive')"
      ],
      "metadata": {
        "id": "SmxoRFWzPMGs",
        "colab": {
          "base_uri": "https://localhost:8080/"
        },
        "outputId": "01b96459-0c93-45b8-8d82-0fbc634d6cdb"
      },
      "execution_count": 2,
      "outputs": [
        {
          "output_type": "stream",
          "name": "stdout",
          "text": [
            "Mounted at /content/drive\n"
          ]
        }
      ]
    },
    {
      "cell_type": "code",
      "source": [
        "# After executing the cell above, Drive files will be present in \"/content/drive/My Drive\". The below command lists the contents in the drive:\n",
        "!ls \"/content/drive/My Drive\""
      ],
      "metadata": {
        "id": "aeaWgwy5Q3A3",
        "colab": {
          "base_uri": "https://localhost:8080/"
        },
        "outputId": "3924a915-f1a9-45e6-d3cd-30d094646269"
      },
      "execution_count": 3,
      "outputs": [
        {
          "output_type": "stream",
          "name": "stdout",
          "text": [
            " AT2_default_template.gdoc\n",
            " CNN_Articles_2021-2023.csv\n",
            " CNN_Articles_2021-2023.gsheet\n",
            "'Colab Notebooks'\n",
            "'Copy of Data meaning https:  tinyurl.com DSI-Dmean-c (1).gsheet'\n",
            "'Copy of Data meaning https:  tinyurl.com DSI-Dmean-c (2).gsheet'\n",
            "'Copy of Data meaning https:  tinyurl.com DSI-Dmean-c (3).gsheet'\n",
            "'Copy of Data meaning https:  tinyurl.com DSI-Dmean-c.gsheet'\n",
            "'Copy of MLAA - Lecture 1.gslides'\n",
            "'Copy of MLAA - Lecture 2.gslides'\n",
            "'Copy of MLAA - Lecture 5.gslides'\n",
            " data\n",
            "'DSP_AT3 _REPORT.gdoc'\n",
            "'DSP - Lab 4 - Exercise 1 - Solutions.gdoc'\n",
            " DVN_data\n",
            "'Experiment reports'\n",
            " Lambda_Project_Report_Draft.gdoc\n",
            " NLP_data\n",
            "'ODI Data Ethics Canvas.gdoc'\n",
            " Untitled\n",
            "'Untitled document (1).gdoc'\n",
            "'Untitled document.gdoc'\n"
          ]
        }
      ]
    },
    {
      "cell_type": "markdown",
      "metadata": {
        "id": "Ibk9tuTLbqPU"
      },
      "source": [
        "**[1.3]** Create a variable called file_url containing the link to the CSV file for training data"
      ]
    },
    {
      "cell_type": "code",
      "source": [
        "file_url = pd.read_csv('/content/drive/My Drive/data/training_cleaned2.csv')"
      ],
      "metadata": {
        "id": "mNyLH32duQZ2"
      },
      "execution_count": 4,
      "outputs": []
    },
    {
      "cell_type": "markdown",
      "source": [
        "**[1.4]** Load the training dataset into dataframe called df"
      ],
      "metadata": {
        "id": "_35LXawTrjVx"
      }
    },
    {
      "cell_type": "code",
      "source": [
        "df = pd.DataFrame(file_url)"
      ],
      "metadata": {
        "id": "nMOBIRPerjbw"
      },
      "execution_count": 5,
      "outputs": []
    },
    {
      "cell_type": "markdown",
      "metadata": {
        "id": "CDoBj0-aO_mf"
      },
      "source": [
        "**[1.5]** Display the first 5 rows of df"
      ]
    },
    {
      "cell_type": "code",
      "metadata": {
        "id": "e6bEX5o5cVVD",
        "colab": {
          "base_uri": "https://localhost:8080/",
          "height": 235
        },
        "outputId": "59832c5d-0d29-4981-b8ae-91d5ca347c1f"
      },
      "source": [
        "df.head()"
      ],
      "execution_count": 6,
      "outputs": [
        {
          "output_type": "execute_result",
          "data": {
            "text/plain": [
              "   Unnamed: 0  avgAnnCount  avgDeathsPerYear  TARGET_deathRate  incidenceRate  \\\n",
              "0           0    88.000000                40             261.0     561.400000   \n",
              "1           1    73.000000                35             167.3     345.600000   \n",
              "2           2   292.000000               124             191.0     468.400000   \n",
              "3           3  1962.667684                 7             165.4     453.549422   \n",
              "4           4    43.000000                20             160.6     349.700000   \n",
              "\n",
              "   medIncome  popEst2015  povertyPercent  studyPerCap           binnedInc  \\\n",
              "0      29090       13352            26.8  2771.120431    [22640, 34218.1]   \n",
              "1      29782       21903            38.8     0.000000    [22640, 34218.1]   \n",
              "2      41955       48985            15.5     0.000000  (40362.7, 42724.4]   \n",
              "3      55378        3007            11.1     0.000000  (54545.6, 61494.5]   \n",
              "4      26309        8551            35.3     0.000000    [22640, 34218.1]   \n",
              "\n",
              "   ...  PctEmpPrivCoverage  PctPublicCoverage  PctPublicCoverageAlone  \\\n",
              "0  ...                32.0               47.5                    32.9   \n",
              "1  ...                18.8               45.3                    34.1   \n",
              "2  ...                44.9               34.5                    16.0   \n",
              "3  ...                49.6               30.1                    15.2   \n",
              "4  ...                30.4               45.1                    24.5   \n",
              "\n",
              "    PctWhite   PctBlack  PctAsian  PctOtherRace  PctMarriedHouseholds  \\\n",
              "0  99.693045   0.044920  0.000000      0.000000             55.499459   \n",
              "1  94.791383   1.649850  0.063631      2.854286             52.818296   \n",
              "2  95.102348   1.741749  0.376429      0.445611             50.560800   \n",
              "3  85.833870   0.933677  0.160979      7.244044             52.565181   \n",
              "4  24.535525  73.223736  0.394100      1.396239             33.641208   \n",
              "\n",
              "   BirthRate  Id  \n",
              "0   6.838710   0  \n",
              "1   4.799131   1  \n",
              "2   3.996826   2  \n",
              "3   3.291536   3  \n",
              "4   3.166561   4  \n",
              "\n",
              "[5 rows x 34 columns]"
            ],
            "text/html": [
              "\n",
              "  <div id=\"df-2bb5c440-dec2-4de8-ab04-b940861e78bb\">\n",
              "    <div class=\"colab-df-container\">\n",
              "      <div>\n",
              "<style scoped>\n",
              "    .dataframe tbody tr th:only-of-type {\n",
              "        vertical-align: middle;\n",
              "    }\n",
              "\n",
              "    .dataframe tbody tr th {\n",
              "        vertical-align: top;\n",
              "    }\n",
              "\n",
              "    .dataframe thead th {\n",
              "        text-align: right;\n",
              "    }\n",
              "</style>\n",
              "<table border=\"1\" class=\"dataframe\">\n",
              "  <thead>\n",
              "    <tr style=\"text-align: right;\">\n",
              "      <th></th>\n",
              "      <th>Unnamed: 0</th>\n",
              "      <th>avgAnnCount</th>\n",
              "      <th>avgDeathsPerYear</th>\n",
              "      <th>TARGET_deathRate</th>\n",
              "      <th>incidenceRate</th>\n",
              "      <th>medIncome</th>\n",
              "      <th>popEst2015</th>\n",
              "      <th>povertyPercent</th>\n",
              "      <th>studyPerCap</th>\n",
              "      <th>binnedInc</th>\n",
              "      <th>...</th>\n",
              "      <th>PctEmpPrivCoverage</th>\n",
              "      <th>PctPublicCoverage</th>\n",
              "      <th>PctPublicCoverageAlone</th>\n",
              "      <th>PctWhite</th>\n",
              "      <th>PctBlack</th>\n",
              "      <th>PctAsian</th>\n",
              "      <th>PctOtherRace</th>\n",
              "      <th>PctMarriedHouseholds</th>\n",
              "      <th>BirthRate</th>\n",
              "      <th>Id</th>\n",
              "    </tr>\n",
              "  </thead>\n",
              "  <tbody>\n",
              "    <tr>\n",
              "      <th>0</th>\n",
              "      <td>0</td>\n",
              "      <td>88.000000</td>\n",
              "      <td>40</td>\n",
              "      <td>261.0</td>\n",
              "      <td>561.400000</td>\n",
              "      <td>29090</td>\n",
              "      <td>13352</td>\n",
              "      <td>26.8</td>\n",
              "      <td>2771.120431</td>\n",
              "      <td>[22640, 34218.1]</td>\n",
              "      <td>...</td>\n",
              "      <td>32.0</td>\n",
              "      <td>47.5</td>\n",
              "      <td>32.9</td>\n",
              "      <td>99.693045</td>\n",
              "      <td>0.044920</td>\n",
              "      <td>0.000000</td>\n",
              "      <td>0.000000</td>\n",
              "      <td>55.499459</td>\n",
              "      <td>6.838710</td>\n",
              "      <td>0</td>\n",
              "    </tr>\n",
              "    <tr>\n",
              "      <th>1</th>\n",
              "      <td>1</td>\n",
              "      <td>73.000000</td>\n",
              "      <td>35</td>\n",
              "      <td>167.3</td>\n",
              "      <td>345.600000</td>\n",
              "      <td>29782</td>\n",
              "      <td>21903</td>\n",
              "      <td>38.8</td>\n",
              "      <td>0.000000</td>\n",
              "      <td>[22640, 34218.1]</td>\n",
              "      <td>...</td>\n",
              "      <td>18.8</td>\n",
              "      <td>45.3</td>\n",
              "      <td>34.1</td>\n",
              "      <td>94.791383</td>\n",
              "      <td>1.649850</td>\n",
              "      <td>0.063631</td>\n",
              "      <td>2.854286</td>\n",
              "      <td>52.818296</td>\n",
              "      <td>4.799131</td>\n",
              "      <td>1</td>\n",
              "    </tr>\n",
              "    <tr>\n",
              "      <th>2</th>\n",
              "      <td>2</td>\n",
              "      <td>292.000000</td>\n",
              "      <td>124</td>\n",
              "      <td>191.0</td>\n",
              "      <td>468.400000</td>\n",
              "      <td>41955</td>\n",
              "      <td>48985</td>\n",
              "      <td>15.5</td>\n",
              "      <td>0.000000</td>\n",
              "      <td>(40362.7, 42724.4]</td>\n",
              "      <td>...</td>\n",
              "      <td>44.9</td>\n",
              "      <td>34.5</td>\n",
              "      <td>16.0</td>\n",
              "      <td>95.102348</td>\n",
              "      <td>1.741749</td>\n",
              "      <td>0.376429</td>\n",
              "      <td>0.445611</td>\n",
              "      <td>50.560800</td>\n",
              "      <td>3.996826</td>\n",
              "      <td>2</td>\n",
              "    </tr>\n",
              "    <tr>\n",
              "      <th>3</th>\n",
              "      <td>3</td>\n",
              "      <td>1962.667684</td>\n",
              "      <td>7</td>\n",
              "      <td>165.4</td>\n",
              "      <td>453.549422</td>\n",
              "      <td>55378</td>\n",
              "      <td>3007</td>\n",
              "      <td>11.1</td>\n",
              "      <td>0.000000</td>\n",
              "      <td>(54545.6, 61494.5]</td>\n",
              "      <td>...</td>\n",
              "      <td>49.6</td>\n",
              "      <td>30.1</td>\n",
              "      <td>15.2</td>\n",
              "      <td>85.833870</td>\n",
              "      <td>0.933677</td>\n",
              "      <td>0.160979</td>\n",
              "      <td>7.244044</td>\n",
              "      <td>52.565181</td>\n",
              "      <td>3.291536</td>\n",
              "      <td>3</td>\n",
              "    </tr>\n",
              "    <tr>\n",
              "      <th>4</th>\n",
              "      <td>4</td>\n",
              "      <td>43.000000</td>\n",
              "      <td>20</td>\n",
              "      <td>160.6</td>\n",
              "      <td>349.700000</td>\n",
              "      <td>26309</td>\n",
              "      <td>8551</td>\n",
              "      <td>35.3</td>\n",
              "      <td>0.000000</td>\n",
              "      <td>[22640, 34218.1]</td>\n",
              "      <td>...</td>\n",
              "      <td>30.4</td>\n",
              "      <td>45.1</td>\n",
              "      <td>24.5</td>\n",
              "      <td>24.535525</td>\n",
              "      <td>73.223736</td>\n",
              "      <td>0.394100</td>\n",
              "      <td>1.396239</td>\n",
              "      <td>33.641208</td>\n",
              "      <td>3.166561</td>\n",
              "      <td>4</td>\n",
              "    </tr>\n",
              "  </tbody>\n",
              "</table>\n",
              "<p>5 rows × 34 columns</p>\n",
              "</div>\n",
              "      <button class=\"colab-df-convert\" onclick=\"convertToInteractive('df-2bb5c440-dec2-4de8-ab04-b940861e78bb')\"\n",
              "              title=\"Convert this dataframe to an interactive table.\"\n",
              "              style=\"display:none;\">\n",
              "        \n",
              "  <svg xmlns=\"http://www.w3.org/2000/svg\" height=\"24px\"viewBox=\"0 0 24 24\"\n",
              "       width=\"24px\">\n",
              "    <path d=\"M0 0h24v24H0V0z\" fill=\"none\"/>\n",
              "    <path d=\"M18.56 5.44l.94 2.06.94-2.06 2.06-.94-2.06-.94-.94-2.06-.94 2.06-2.06.94zm-11 1L8.5 8.5l.94-2.06 2.06-.94-2.06-.94L8.5 2.5l-.94 2.06-2.06.94zm10 10l.94 2.06.94-2.06 2.06-.94-2.06-.94-.94-2.06-.94 2.06-2.06.94z\"/><path d=\"M17.41 7.96l-1.37-1.37c-.4-.4-.92-.59-1.43-.59-.52 0-1.04.2-1.43.59L10.3 9.45l-7.72 7.72c-.78.78-.78 2.05 0 2.83L4 21.41c.39.39.9.59 1.41.59.51 0 1.02-.2 1.41-.59l7.78-7.78 2.81-2.81c.8-.78.8-2.07 0-2.86zM5.41 20L4 18.59l7.72-7.72 1.47 1.35L5.41 20z\"/>\n",
              "  </svg>\n",
              "      </button>\n",
              "      \n",
              "  <style>\n",
              "    .colab-df-container {\n",
              "      display:flex;\n",
              "      flex-wrap:wrap;\n",
              "      gap: 12px;\n",
              "    }\n",
              "\n",
              "    .colab-df-convert {\n",
              "      background-color: #E8F0FE;\n",
              "      border: none;\n",
              "      border-radius: 50%;\n",
              "      cursor: pointer;\n",
              "      display: none;\n",
              "      fill: #1967D2;\n",
              "      height: 32px;\n",
              "      padding: 0 0 0 0;\n",
              "      width: 32px;\n",
              "    }\n",
              "\n",
              "    .colab-df-convert:hover {\n",
              "      background-color: #E2EBFA;\n",
              "      box-shadow: 0px 1px 2px rgba(60, 64, 67, 0.3), 0px 1px 3px 1px rgba(60, 64, 67, 0.15);\n",
              "      fill: #174EA6;\n",
              "    }\n",
              "\n",
              "    [theme=dark] .colab-df-convert {\n",
              "      background-color: #3B4455;\n",
              "      fill: #D2E3FC;\n",
              "    }\n",
              "\n",
              "    [theme=dark] .colab-df-convert:hover {\n",
              "      background-color: #434B5C;\n",
              "      box-shadow: 0px 1px 3px 1px rgba(0, 0, 0, 0.15);\n",
              "      filter: drop-shadow(0px 1px 2px rgba(0, 0, 0, 0.3));\n",
              "      fill: #FFFFFF;\n",
              "    }\n",
              "  </style>\n",
              "\n",
              "      <script>\n",
              "        const buttonEl =\n",
              "          document.querySelector('#df-2bb5c440-dec2-4de8-ab04-b940861e78bb button.colab-df-convert');\n",
              "        buttonEl.style.display =\n",
              "          google.colab.kernel.accessAllowed ? 'block' : 'none';\n",
              "\n",
              "        async function convertToInteractive(key) {\n",
              "          const element = document.querySelector('#df-2bb5c440-dec2-4de8-ab04-b940861e78bb');\n",
              "          const dataTable =\n",
              "            await google.colab.kernel.invokeFunction('convertToInteractive',\n",
              "                                                     [key], {});\n",
              "          if (!dataTable) return;\n",
              "\n",
              "          const docLinkHtml = 'Like what you see? Visit the ' +\n",
              "            '<a target=\"_blank\" href=https://colab.research.google.com/notebooks/data_table.ipynb>data table notebook</a>'\n",
              "            + ' to learn more about interactive tables.';\n",
              "          element.innerHTML = '';\n",
              "          dataTable['output_type'] = 'display_data';\n",
              "          await google.colab.output.renderOutput(dataTable, element);\n",
              "          const docLink = document.createElement('div');\n",
              "          docLink.innerHTML = docLinkHtml;\n",
              "          element.appendChild(docLink);\n",
              "        }\n",
              "      </script>\n",
              "    </div>\n",
              "  </div>\n",
              "  "
            ]
          },
          "metadata": {},
          "execution_count": 6
        }
      ]
    },
    {
      "cell_type": "markdown",
      "metadata": {
        "id": "gW9byNAUcnre"
      },
      "source": [
        "**[1.6]** Display the last 5 rows of df"
      ]
    },
    {
      "cell_type": "code",
      "metadata": {
        "id": "eR05byl2cp_g",
        "colab": {
          "base_uri": "https://localhost:8080/",
          "height": 235
        },
        "outputId": "ab4bc4bf-a95b-45dd-a234-377710357caf"
      },
      "source": [
        "df.tail()"
      ],
      "execution_count": 7,
      "outputs": [
        {
          "output_type": "execute_result",
          "data": {
            "text/plain": [
              "      Unnamed: 0  avgAnnCount  avgDeathsPerYear  TARGET_deathRate  \\\n",
              "2433        2433   389.000000               157             185.3   \n",
              "2434        2434   286.000000               117             196.7   \n",
              "2435        2435   103.000000                42             204.1   \n",
              "2436        2436  1962.667684                23             171.1   \n",
              "2437        2437   219.000000                89             179.7   \n",
              "\n",
              "      incidenceRate  medIncome  popEst2015  povertyPercent  studyPerCap  \\\n",
              "2433     456.600000      65485       83199             7.7     0.000000   \n",
              "2434     492.400000      42477       46222            16.9   281.251352   \n",
              "2435     506.700000      40339       18201            21.3     0.000000   \n",
              "2436     453.549422      39764        8856            16.7     0.000000   \n",
              "2437     449.100000      40801       37585            17.2     0.000000   \n",
              "\n",
              "               binnedInc  ...  PctEmpPrivCoverage  PctPublicCoverage  \\\n",
              "2433   (61494.5, 125635]  ...                55.1               24.2   \n",
              "2434  (40362.7, 42724.4]  ...                46.2               34.9   \n",
              "2435  (37413.8, 40362.7]  ...                34.4               36.9   \n",
              "2436  (37413.8, 40362.7]  ...                37.3               40.0   \n",
              "2437  (40362.7, 42724.4]  ...                37.5               39.4   \n",
              "\n",
              "      PctPublicCoverageAlone   PctWhite   PctBlack  PctAsian  PctOtherRace  \\\n",
              "2433                    11.3  91.187608   4.445537  1.405213      0.858126   \n",
              "2434                    18.8  90.130702   5.943936  0.472935      0.485833   \n",
              "2435                    20.6  65.463178  30.550955  0.645909      0.104891   \n",
              "2436                    21.3  94.625317   0.154508  0.629070      0.684251   \n",
              "2437                    21.8  91.393432   3.381528  0.055305      3.149772   \n",
              "\n",
              "      PctMarriedHouseholds  BirthRate    Id  \n",
              "2433             60.095060   5.175689  3041  \n",
              "2434             51.648588   4.651829  3042  \n",
              "2435             49.758980   4.344104  3043  \n",
              "2436             49.880605   6.210826  3045  \n",
              "2437             49.892641   6.549178  3046  \n",
              "\n",
              "[5 rows x 34 columns]"
            ],
            "text/html": [
              "\n",
              "  <div id=\"df-1d592561-3f76-49e8-aa1a-dcc1145130ee\">\n",
              "    <div class=\"colab-df-container\">\n",
              "      <div>\n",
              "<style scoped>\n",
              "    .dataframe tbody tr th:only-of-type {\n",
              "        vertical-align: middle;\n",
              "    }\n",
              "\n",
              "    .dataframe tbody tr th {\n",
              "        vertical-align: top;\n",
              "    }\n",
              "\n",
              "    .dataframe thead th {\n",
              "        text-align: right;\n",
              "    }\n",
              "</style>\n",
              "<table border=\"1\" class=\"dataframe\">\n",
              "  <thead>\n",
              "    <tr style=\"text-align: right;\">\n",
              "      <th></th>\n",
              "      <th>Unnamed: 0</th>\n",
              "      <th>avgAnnCount</th>\n",
              "      <th>avgDeathsPerYear</th>\n",
              "      <th>TARGET_deathRate</th>\n",
              "      <th>incidenceRate</th>\n",
              "      <th>medIncome</th>\n",
              "      <th>popEst2015</th>\n",
              "      <th>povertyPercent</th>\n",
              "      <th>studyPerCap</th>\n",
              "      <th>binnedInc</th>\n",
              "      <th>...</th>\n",
              "      <th>PctEmpPrivCoverage</th>\n",
              "      <th>PctPublicCoverage</th>\n",
              "      <th>PctPublicCoverageAlone</th>\n",
              "      <th>PctWhite</th>\n",
              "      <th>PctBlack</th>\n",
              "      <th>PctAsian</th>\n",
              "      <th>PctOtherRace</th>\n",
              "      <th>PctMarriedHouseholds</th>\n",
              "      <th>BirthRate</th>\n",
              "      <th>Id</th>\n",
              "    </tr>\n",
              "  </thead>\n",
              "  <tbody>\n",
              "    <tr>\n",
              "      <th>2433</th>\n",
              "      <td>2433</td>\n",
              "      <td>389.000000</td>\n",
              "      <td>157</td>\n",
              "      <td>185.3</td>\n",
              "      <td>456.600000</td>\n",
              "      <td>65485</td>\n",
              "      <td>83199</td>\n",
              "      <td>7.7</td>\n",
              "      <td>0.000000</td>\n",
              "      <td>(61494.5, 125635]</td>\n",
              "      <td>...</td>\n",
              "      <td>55.1</td>\n",
              "      <td>24.2</td>\n",
              "      <td>11.3</td>\n",
              "      <td>91.187608</td>\n",
              "      <td>4.445537</td>\n",
              "      <td>1.405213</td>\n",
              "      <td>0.858126</td>\n",
              "      <td>60.095060</td>\n",
              "      <td>5.175689</td>\n",
              "      <td>3041</td>\n",
              "    </tr>\n",
              "    <tr>\n",
              "      <th>2434</th>\n",
              "      <td>2434</td>\n",
              "      <td>286.000000</td>\n",
              "      <td>117</td>\n",
              "      <td>196.7</td>\n",
              "      <td>492.400000</td>\n",
              "      <td>42477</td>\n",
              "      <td>46222</td>\n",
              "      <td>16.9</td>\n",
              "      <td>281.251352</td>\n",
              "      <td>(40362.7, 42724.4]</td>\n",
              "      <td>...</td>\n",
              "      <td>46.2</td>\n",
              "      <td>34.9</td>\n",
              "      <td>18.8</td>\n",
              "      <td>90.130702</td>\n",
              "      <td>5.943936</td>\n",
              "      <td>0.472935</td>\n",
              "      <td>0.485833</td>\n",
              "      <td>51.648588</td>\n",
              "      <td>4.651829</td>\n",
              "      <td>3042</td>\n",
              "    </tr>\n",
              "    <tr>\n",
              "      <th>2435</th>\n",
              "      <td>2435</td>\n",
              "      <td>103.000000</td>\n",
              "      <td>42</td>\n",
              "      <td>204.1</td>\n",
              "      <td>506.700000</td>\n",
              "      <td>40339</td>\n",
              "      <td>18201</td>\n",
              "      <td>21.3</td>\n",
              "      <td>0.000000</td>\n",
              "      <td>(37413.8, 40362.7]</td>\n",
              "      <td>...</td>\n",
              "      <td>34.4</td>\n",
              "      <td>36.9</td>\n",
              "      <td>20.6</td>\n",
              "      <td>65.463178</td>\n",
              "      <td>30.550955</td>\n",
              "      <td>0.645909</td>\n",
              "      <td>0.104891</td>\n",
              "      <td>49.758980</td>\n",
              "      <td>4.344104</td>\n",
              "      <td>3043</td>\n",
              "    </tr>\n",
              "    <tr>\n",
              "      <th>2436</th>\n",
              "      <td>2436</td>\n",
              "      <td>1962.667684</td>\n",
              "      <td>23</td>\n",
              "      <td>171.1</td>\n",
              "      <td>453.549422</td>\n",
              "      <td>39764</td>\n",
              "      <td>8856</td>\n",
              "      <td>16.7</td>\n",
              "      <td>0.000000</td>\n",
              "      <td>(37413.8, 40362.7]</td>\n",
              "      <td>...</td>\n",
              "      <td>37.3</td>\n",
              "      <td>40.0</td>\n",
              "      <td>21.3</td>\n",
              "      <td>94.625317</td>\n",
              "      <td>0.154508</td>\n",
              "      <td>0.629070</td>\n",
              "      <td>0.684251</td>\n",
              "      <td>49.880605</td>\n",
              "      <td>6.210826</td>\n",
              "      <td>3045</td>\n",
              "    </tr>\n",
              "    <tr>\n",
              "      <th>2437</th>\n",
              "      <td>2437</td>\n",
              "      <td>219.000000</td>\n",
              "      <td>89</td>\n",
              "      <td>179.7</td>\n",
              "      <td>449.100000</td>\n",
              "      <td>40801</td>\n",
              "      <td>37585</td>\n",
              "      <td>17.2</td>\n",
              "      <td>0.000000</td>\n",
              "      <td>(40362.7, 42724.4]</td>\n",
              "      <td>...</td>\n",
              "      <td>37.5</td>\n",
              "      <td>39.4</td>\n",
              "      <td>21.8</td>\n",
              "      <td>91.393432</td>\n",
              "      <td>3.381528</td>\n",
              "      <td>0.055305</td>\n",
              "      <td>3.149772</td>\n",
              "      <td>49.892641</td>\n",
              "      <td>6.549178</td>\n",
              "      <td>3046</td>\n",
              "    </tr>\n",
              "  </tbody>\n",
              "</table>\n",
              "<p>5 rows × 34 columns</p>\n",
              "</div>\n",
              "      <button class=\"colab-df-convert\" onclick=\"convertToInteractive('df-1d592561-3f76-49e8-aa1a-dcc1145130ee')\"\n",
              "              title=\"Convert this dataframe to an interactive table.\"\n",
              "              style=\"display:none;\">\n",
              "        \n",
              "  <svg xmlns=\"http://www.w3.org/2000/svg\" height=\"24px\"viewBox=\"0 0 24 24\"\n",
              "       width=\"24px\">\n",
              "    <path d=\"M0 0h24v24H0V0z\" fill=\"none\"/>\n",
              "    <path d=\"M18.56 5.44l.94 2.06.94-2.06 2.06-.94-2.06-.94-.94-2.06-.94 2.06-2.06.94zm-11 1L8.5 8.5l.94-2.06 2.06-.94-2.06-.94L8.5 2.5l-.94 2.06-2.06.94zm10 10l.94 2.06.94-2.06 2.06-.94-2.06-.94-.94-2.06-.94 2.06-2.06.94z\"/><path d=\"M17.41 7.96l-1.37-1.37c-.4-.4-.92-.59-1.43-.59-.52 0-1.04.2-1.43.59L10.3 9.45l-7.72 7.72c-.78.78-.78 2.05 0 2.83L4 21.41c.39.39.9.59 1.41.59.51 0 1.02-.2 1.41-.59l7.78-7.78 2.81-2.81c.8-.78.8-2.07 0-2.86zM5.41 20L4 18.59l7.72-7.72 1.47 1.35L5.41 20z\"/>\n",
              "  </svg>\n",
              "      </button>\n",
              "      \n",
              "  <style>\n",
              "    .colab-df-container {\n",
              "      display:flex;\n",
              "      flex-wrap:wrap;\n",
              "      gap: 12px;\n",
              "    }\n",
              "\n",
              "    .colab-df-convert {\n",
              "      background-color: #E8F0FE;\n",
              "      border: none;\n",
              "      border-radius: 50%;\n",
              "      cursor: pointer;\n",
              "      display: none;\n",
              "      fill: #1967D2;\n",
              "      height: 32px;\n",
              "      padding: 0 0 0 0;\n",
              "      width: 32px;\n",
              "    }\n",
              "\n",
              "    .colab-df-convert:hover {\n",
              "      background-color: #E2EBFA;\n",
              "      box-shadow: 0px 1px 2px rgba(60, 64, 67, 0.3), 0px 1px 3px 1px rgba(60, 64, 67, 0.15);\n",
              "      fill: #174EA6;\n",
              "    }\n",
              "\n",
              "    [theme=dark] .colab-df-convert {\n",
              "      background-color: #3B4455;\n",
              "      fill: #D2E3FC;\n",
              "    }\n",
              "\n",
              "    [theme=dark] .colab-df-convert:hover {\n",
              "      background-color: #434B5C;\n",
              "      box-shadow: 0px 1px 3px 1px rgba(0, 0, 0, 0.15);\n",
              "      filter: drop-shadow(0px 1px 2px rgba(0, 0, 0, 0.3));\n",
              "      fill: #FFFFFF;\n",
              "    }\n",
              "  </style>\n",
              "\n",
              "      <script>\n",
              "        const buttonEl =\n",
              "          document.querySelector('#df-1d592561-3f76-49e8-aa1a-dcc1145130ee button.colab-df-convert');\n",
              "        buttonEl.style.display =\n",
              "          google.colab.kernel.accessAllowed ? 'block' : 'none';\n",
              "\n",
              "        async function convertToInteractive(key) {\n",
              "          const element = document.querySelector('#df-1d592561-3f76-49e8-aa1a-dcc1145130ee');\n",
              "          const dataTable =\n",
              "            await google.colab.kernel.invokeFunction('convertToInteractive',\n",
              "                                                     [key], {});\n",
              "          if (!dataTable) return;\n",
              "\n",
              "          const docLinkHtml = 'Like what you see? Visit the ' +\n",
              "            '<a target=\"_blank\" href=https://colab.research.google.com/notebooks/data_table.ipynb>data table notebook</a>'\n",
              "            + ' to learn more about interactive tables.';\n",
              "          element.innerHTML = '';\n",
              "          dataTable['output_type'] = 'display_data';\n",
              "          await google.colab.output.renderOutput(dataTable, element);\n",
              "          const docLink = document.createElement('div');\n",
              "          docLink.innerHTML = docLinkHtml;\n",
              "          element.appendChild(docLink);\n",
              "        }\n",
              "      </script>\n",
              "    </div>\n",
              "  </div>\n",
              "  "
            ]
          },
          "metadata": {},
          "execution_count": 7
        }
      ]
    },
    {
      "cell_type": "markdown",
      "metadata": {
        "id": "C3BsOcDfcstu"
      },
      "source": [
        "**[1.7]** Display the dimensions (shape) of df"
      ]
    },
    {
      "cell_type": "code",
      "metadata": {
        "id": "brOC6k06cszh",
        "colab": {
          "base_uri": "https://localhost:8080/"
        },
        "outputId": "b44fa587-e053-4ad0-ed4c-7411e38b38b7"
      },
      "source": [
        "df.shape"
      ],
      "execution_count": 8,
      "outputs": [
        {
          "output_type": "execute_result",
          "data": {
            "text/plain": [
              "(2438, 34)"
            ]
          },
          "metadata": {},
          "execution_count": 8
        }
      ]
    },
    {
      "cell_type": "markdown",
      "metadata": {
        "id": "gsY-6ExwcyAs"
      },
      "source": [
        "**[1.8]** Display the list of columns of df"
      ]
    },
    {
      "cell_type": "code",
      "metadata": {
        "id": "Ly8LCvlycyE4",
        "colab": {
          "base_uri": "https://localhost:8080/"
        },
        "outputId": "82e08c26-45d5-4a35-d562-e6849d420430"
      },
      "source": [
        "df.columns\n"
      ],
      "execution_count": 9,
      "outputs": [
        {
          "output_type": "execute_result",
          "data": {
            "text/plain": [
              "Index(['Unnamed: 0', 'avgAnnCount', 'avgDeathsPerYear', 'TARGET_deathRate',\n",
              "       'incidenceRate', 'medIncome', 'popEst2015', 'povertyPercent',\n",
              "       'studyPerCap', 'binnedInc', 'MedianAge', 'MedianAgeMale',\n",
              "       'MedianAgeFemale', 'Geography', 'AvgHouseholdSize', 'PercentMarried',\n",
              "       'PctNoHS18_24', 'PctHS18_24', 'PctBachDeg18_24', 'PctHS25_Over',\n",
              "       'PctBachDeg25_Over', 'PctEmployed16_Over', 'PctUnemployed16_Over',\n",
              "       'PctPrivateCoverage', 'PctEmpPrivCoverage', 'PctPublicCoverage',\n",
              "       'PctPublicCoverageAlone', 'PctWhite', 'PctBlack', 'PctAsian',\n",
              "       'PctOtherRace', 'PctMarriedHouseholds', 'BirthRate', 'Id'],\n",
              "      dtype='object')"
            ]
          },
          "metadata": {},
          "execution_count": 9
        }
      ]
    },
    {
      "cell_type": "markdown",
      "metadata": {
        "id": "pb9jWM2qdCg_"
      },
      "source": [
        "**[1.9]** Display the descriptive statistics of df\n"
      ]
    },
    {
      "cell_type": "code",
      "metadata": {
        "id": "ZvtO0tx0dClo",
        "colab": {
          "base_uri": "https://localhost:8080/",
          "height": 393
        },
        "outputId": "788c5237-18ec-4593-f821-dd09c34d7b17"
      },
      "source": [
        "df.describe()"
      ],
      "execution_count": 10,
      "outputs": [
        {
          "output_type": "execute_result",
          "data": {
            "text/plain": [
              "        Unnamed: 0   avgAnnCount  avgDeathsPerYear  TARGET_deathRate  \\\n",
              "count  2438.000000   2438.000000       2438.000000       2438.000000   \n",
              "mean   1218.500000    587.171930        180.592699        178.848482   \n",
              "std     703.934301   1236.447895        438.473144         27.538452   \n",
              "min       0.000000      6.000000          3.000000         66.300000   \n",
              "25%     609.250000     76.000000         28.000000        161.400000   \n",
              "50%    1218.500000    172.500000         62.000000        178.100000   \n",
              "75%    1827.750000    521.500000        151.000000        195.300000   \n",
              "max    2437.000000  24965.000000       9445.000000        293.900000   \n",
              "\n",
              "       incidenceRate      medIncome    popEst2015  povertyPercent  \\\n",
              "count    2438.000000    2438.000000  2.438000e+03     2438.000000   \n",
              "mean      448.308247   47028.427810  9.851579e+04       16.854348   \n",
              "std        53.247868   11919.386622  2.745272e+05        6.388398   \n",
              "min       201.300000   22640.000000  8.270000e+02        3.200000   \n",
              "25%       420.300000   38872.750000  1.154575e+04       12.100000   \n",
              "50%       453.549422   45186.500000  2.694250e+04       15.900000   \n",
              "75%       481.975000   52492.500000  6.952450e+04       20.400000   \n",
              "max      1014.200000  125635.000000  5.238216e+06       47.400000   \n",
              "\n",
              "       studyPerCap    MedianAge  ...  PctEmpPrivCoverage  PctPublicCoverage  \\\n",
              "count  2438.000000  2438.000000  ...         2438.000000        2438.000000   \n",
              "mean    166.019192    40.937707  ...           41.242453          36.275718   \n",
              "std     563.813830     5.190141  ...            9.366433           7.823347   \n",
              "min       0.000000    22.300000  ...           13.500000          11.200000   \n",
              "25%       0.000000    37.800000  ...           34.600000          30.925000   \n",
              "50%       0.000000    41.000000  ...           41.300000          36.400000   \n",
              "75%      92.562203    44.075000  ...           47.600000          41.500000   \n",
              "max    9762.308998    65.300000  ...           70.700000          65.100000   \n",
              "\n",
              "       PctPublicCoverageAlone     PctWhite     PctBlack     PctAsian  \\\n",
              "count             2438.000000  2438.000000  2438.000000  2438.000000   \n",
              "mean                19.234824    83.776008     9.043586     1.230949   \n",
              "std                  6.094083    16.275962    14.361902     2.558111   \n",
              "min                  2.600000    10.199155     0.000000     0.000000   \n",
              "25%                 15.000000    77.341176     0.634412     0.247022   \n",
              "50%                 18.800000    90.121405     2.302054     0.550713   \n",
              "75%                 23.100000    95.464864    10.452697     1.207158   \n",
              "max                 46.600000   100.000000    84.866024    42.619425   \n",
              "\n",
              "       PctOtherRace  PctMarriedHouseholds    BirthRate           Id  \n",
              "count   2438.000000           2438.000000  2438.000000  2438.000000  \n",
              "mean       1.947961             51.216669     5.627447  1523.789171  \n",
              "std        3.541698              6.501254     1.966257   874.905673  \n",
              "min        0.000000             22.992490     0.000000     0.000000  \n",
              "25%        0.288937             47.826087     4.516355   775.250000  \n",
              "50%        0.798971             51.662077     5.366485  1512.500000  \n",
              "75%        2.106155             55.331622     6.458322  2279.750000  \n",
              "max       41.930251             78.075397    18.556701  3046.000000  \n",
              "\n",
              "[8 rows x 32 columns]"
            ],
            "text/html": [
              "\n",
              "  <div id=\"df-f2e5dd6d-19f4-4716-b0d9-0110c6b7feb7\">\n",
              "    <div class=\"colab-df-container\">\n",
              "      <div>\n",
              "<style scoped>\n",
              "    .dataframe tbody tr th:only-of-type {\n",
              "        vertical-align: middle;\n",
              "    }\n",
              "\n",
              "    .dataframe tbody tr th {\n",
              "        vertical-align: top;\n",
              "    }\n",
              "\n",
              "    .dataframe thead th {\n",
              "        text-align: right;\n",
              "    }\n",
              "</style>\n",
              "<table border=\"1\" class=\"dataframe\">\n",
              "  <thead>\n",
              "    <tr style=\"text-align: right;\">\n",
              "      <th></th>\n",
              "      <th>Unnamed: 0</th>\n",
              "      <th>avgAnnCount</th>\n",
              "      <th>avgDeathsPerYear</th>\n",
              "      <th>TARGET_deathRate</th>\n",
              "      <th>incidenceRate</th>\n",
              "      <th>medIncome</th>\n",
              "      <th>popEst2015</th>\n",
              "      <th>povertyPercent</th>\n",
              "      <th>studyPerCap</th>\n",
              "      <th>MedianAge</th>\n",
              "      <th>...</th>\n",
              "      <th>PctEmpPrivCoverage</th>\n",
              "      <th>PctPublicCoverage</th>\n",
              "      <th>PctPublicCoverageAlone</th>\n",
              "      <th>PctWhite</th>\n",
              "      <th>PctBlack</th>\n",
              "      <th>PctAsian</th>\n",
              "      <th>PctOtherRace</th>\n",
              "      <th>PctMarriedHouseholds</th>\n",
              "      <th>BirthRate</th>\n",
              "      <th>Id</th>\n",
              "    </tr>\n",
              "  </thead>\n",
              "  <tbody>\n",
              "    <tr>\n",
              "      <th>count</th>\n",
              "      <td>2438.000000</td>\n",
              "      <td>2438.000000</td>\n",
              "      <td>2438.000000</td>\n",
              "      <td>2438.000000</td>\n",
              "      <td>2438.000000</td>\n",
              "      <td>2438.000000</td>\n",
              "      <td>2.438000e+03</td>\n",
              "      <td>2438.000000</td>\n",
              "      <td>2438.000000</td>\n",
              "      <td>2438.000000</td>\n",
              "      <td>...</td>\n",
              "      <td>2438.000000</td>\n",
              "      <td>2438.000000</td>\n",
              "      <td>2438.000000</td>\n",
              "      <td>2438.000000</td>\n",
              "      <td>2438.000000</td>\n",
              "      <td>2438.000000</td>\n",
              "      <td>2438.000000</td>\n",
              "      <td>2438.000000</td>\n",
              "      <td>2438.000000</td>\n",
              "      <td>2438.000000</td>\n",
              "    </tr>\n",
              "    <tr>\n",
              "      <th>mean</th>\n",
              "      <td>1218.500000</td>\n",
              "      <td>587.171930</td>\n",
              "      <td>180.592699</td>\n",
              "      <td>178.848482</td>\n",
              "      <td>448.308247</td>\n",
              "      <td>47028.427810</td>\n",
              "      <td>9.851579e+04</td>\n",
              "      <td>16.854348</td>\n",
              "      <td>166.019192</td>\n",
              "      <td>40.937707</td>\n",
              "      <td>...</td>\n",
              "      <td>41.242453</td>\n",
              "      <td>36.275718</td>\n",
              "      <td>19.234824</td>\n",
              "      <td>83.776008</td>\n",
              "      <td>9.043586</td>\n",
              "      <td>1.230949</td>\n",
              "      <td>1.947961</td>\n",
              "      <td>51.216669</td>\n",
              "      <td>5.627447</td>\n",
              "      <td>1523.789171</td>\n",
              "    </tr>\n",
              "    <tr>\n",
              "      <th>std</th>\n",
              "      <td>703.934301</td>\n",
              "      <td>1236.447895</td>\n",
              "      <td>438.473144</td>\n",
              "      <td>27.538452</td>\n",
              "      <td>53.247868</td>\n",
              "      <td>11919.386622</td>\n",
              "      <td>2.745272e+05</td>\n",
              "      <td>6.388398</td>\n",
              "      <td>563.813830</td>\n",
              "      <td>5.190141</td>\n",
              "      <td>...</td>\n",
              "      <td>9.366433</td>\n",
              "      <td>7.823347</td>\n",
              "      <td>6.094083</td>\n",
              "      <td>16.275962</td>\n",
              "      <td>14.361902</td>\n",
              "      <td>2.558111</td>\n",
              "      <td>3.541698</td>\n",
              "      <td>6.501254</td>\n",
              "      <td>1.966257</td>\n",
              "      <td>874.905673</td>\n",
              "    </tr>\n",
              "    <tr>\n",
              "      <th>min</th>\n",
              "      <td>0.000000</td>\n",
              "      <td>6.000000</td>\n",
              "      <td>3.000000</td>\n",
              "      <td>66.300000</td>\n",
              "      <td>201.300000</td>\n",
              "      <td>22640.000000</td>\n",
              "      <td>8.270000e+02</td>\n",
              "      <td>3.200000</td>\n",
              "      <td>0.000000</td>\n",
              "      <td>22.300000</td>\n",
              "      <td>...</td>\n",
              "      <td>13.500000</td>\n",
              "      <td>11.200000</td>\n",
              "      <td>2.600000</td>\n",
              "      <td>10.199155</td>\n",
              "      <td>0.000000</td>\n",
              "      <td>0.000000</td>\n",
              "      <td>0.000000</td>\n",
              "      <td>22.992490</td>\n",
              "      <td>0.000000</td>\n",
              "      <td>0.000000</td>\n",
              "    </tr>\n",
              "    <tr>\n",
              "      <th>25%</th>\n",
              "      <td>609.250000</td>\n",
              "      <td>76.000000</td>\n",
              "      <td>28.000000</td>\n",
              "      <td>161.400000</td>\n",
              "      <td>420.300000</td>\n",
              "      <td>38872.750000</td>\n",
              "      <td>1.154575e+04</td>\n",
              "      <td>12.100000</td>\n",
              "      <td>0.000000</td>\n",
              "      <td>37.800000</td>\n",
              "      <td>...</td>\n",
              "      <td>34.600000</td>\n",
              "      <td>30.925000</td>\n",
              "      <td>15.000000</td>\n",
              "      <td>77.341176</td>\n",
              "      <td>0.634412</td>\n",
              "      <td>0.247022</td>\n",
              "      <td>0.288937</td>\n",
              "      <td>47.826087</td>\n",
              "      <td>4.516355</td>\n",
              "      <td>775.250000</td>\n",
              "    </tr>\n",
              "    <tr>\n",
              "      <th>50%</th>\n",
              "      <td>1218.500000</td>\n",
              "      <td>172.500000</td>\n",
              "      <td>62.000000</td>\n",
              "      <td>178.100000</td>\n",
              "      <td>453.549422</td>\n",
              "      <td>45186.500000</td>\n",
              "      <td>2.694250e+04</td>\n",
              "      <td>15.900000</td>\n",
              "      <td>0.000000</td>\n",
              "      <td>41.000000</td>\n",
              "      <td>...</td>\n",
              "      <td>41.300000</td>\n",
              "      <td>36.400000</td>\n",
              "      <td>18.800000</td>\n",
              "      <td>90.121405</td>\n",
              "      <td>2.302054</td>\n",
              "      <td>0.550713</td>\n",
              "      <td>0.798971</td>\n",
              "      <td>51.662077</td>\n",
              "      <td>5.366485</td>\n",
              "      <td>1512.500000</td>\n",
              "    </tr>\n",
              "    <tr>\n",
              "      <th>75%</th>\n",
              "      <td>1827.750000</td>\n",
              "      <td>521.500000</td>\n",
              "      <td>151.000000</td>\n",
              "      <td>195.300000</td>\n",
              "      <td>481.975000</td>\n",
              "      <td>52492.500000</td>\n",
              "      <td>6.952450e+04</td>\n",
              "      <td>20.400000</td>\n",
              "      <td>92.562203</td>\n",
              "      <td>44.075000</td>\n",
              "      <td>...</td>\n",
              "      <td>47.600000</td>\n",
              "      <td>41.500000</td>\n",
              "      <td>23.100000</td>\n",
              "      <td>95.464864</td>\n",
              "      <td>10.452697</td>\n",
              "      <td>1.207158</td>\n",
              "      <td>2.106155</td>\n",
              "      <td>55.331622</td>\n",
              "      <td>6.458322</td>\n",
              "      <td>2279.750000</td>\n",
              "    </tr>\n",
              "    <tr>\n",
              "      <th>max</th>\n",
              "      <td>2437.000000</td>\n",
              "      <td>24965.000000</td>\n",
              "      <td>9445.000000</td>\n",
              "      <td>293.900000</td>\n",
              "      <td>1014.200000</td>\n",
              "      <td>125635.000000</td>\n",
              "      <td>5.238216e+06</td>\n",
              "      <td>47.400000</td>\n",
              "      <td>9762.308998</td>\n",
              "      <td>65.300000</td>\n",
              "      <td>...</td>\n",
              "      <td>70.700000</td>\n",
              "      <td>65.100000</td>\n",
              "      <td>46.600000</td>\n",
              "      <td>100.000000</td>\n",
              "      <td>84.866024</td>\n",
              "      <td>42.619425</td>\n",
              "      <td>41.930251</td>\n",
              "      <td>78.075397</td>\n",
              "      <td>18.556701</td>\n",
              "      <td>3046.000000</td>\n",
              "    </tr>\n",
              "  </tbody>\n",
              "</table>\n",
              "<p>8 rows × 32 columns</p>\n",
              "</div>\n",
              "      <button class=\"colab-df-convert\" onclick=\"convertToInteractive('df-f2e5dd6d-19f4-4716-b0d9-0110c6b7feb7')\"\n",
              "              title=\"Convert this dataframe to an interactive table.\"\n",
              "              style=\"display:none;\">\n",
              "        \n",
              "  <svg xmlns=\"http://www.w3.org/2000/svg\" height=\"24px\"viewBox=\"0 0 24 24\"\n",
              "       width=\"24px\">\n",
              "    <path d=\"M0 0h24v24H0V0z\" fill=\"none\"/>\n",
              "    <path d=\"M18.56 5.44l.94 2.06.94-2.06 2.06-.94-2.06-.94-.94-2.06-.94 2.06-2.06.94zm-11 1L8.5 8.5l.94-2.06 2.06-.94-2.06-.94L8.5 2.5l-.94 2.06-2.06.94zm10 10l.94 2.06.94-2.06 2.06-.94-2.06-.94-.94-2.06-.94 2.06-2.06.94z\"/><path d=\"M17.41 7.96l-1.37-1.37c-.4-.4-.92-.59-1.43-.59-.52 0-1.04.2-1.43.59L10.3 9.45l-7.72 7.72c-.78.78-.78 2.05 0 2.83L4 21.41c.39.39.9.59 1.41.59.51 0 1.02-.2 1.41-.59l7.78-7.78 2.81-2.81c.8-.78.8-2.07 0-2.86zM5.41 20L4 18.59l7.72-7.72 1.47 1.35L5.41 20z\"/>\n",
              "  </svg>\n",
              "      </button>\n",
              "      \n",
              "  <style>\n",
              "    .colab-df-container {\n",
              "      display:flex;\n",
              "      flex-wrap:wrap;\n",
              "      gap: 12px;\n",
              "    }\n",
              "\n",
              "    .colab-df-convert {\n",
              "      background-color: #E8F0FE;\n",
              "      border: none;\n",
              "      border-radius: 50%;\n",
              "      cursor: pointer;\n",
              "      display: none;\n",
              "      fill: #1967D2;\n",
              "      height: 32px;\n",
              "      padding: 0 0 0 0;\n",
              "      width: 32px;\n",
              "    }\n",
              "\n",
              "    .colab-df-convert:hover {\n",
              "      background-color: #E2EBFA;\n",
              "      box-shadow: 0px 1px 2px rgba(60, 64, 67, 0.3), 0px 1px 3px 1px rgba(60, 64, 67, 0.15);\n",
              "      fill: #174EA6;\n",
              "    }\n",
              "\n",
              "    [theme=dark] .colab-df-convert {\n",
              "      background-color: #3B4455;\n",
              "      fill: #D2E3FC;\n",
              "    }\n",
              "\n",
              "    [theme=dark] .colab-df-convert:hover {\n",
              "      background-color: #434B5C;\n",
              "      box-shadow: 0px 1px 3px 1px rgba(0, 0, 0, 0.15);\n",
              "      filter: drop-shadow(0px 1px 2px rgba(0, 0, 0, 0.3));\n",
              "      fill: #FFFFFF;\n",
              "    }\n",
              "  </style>\n",
              "\n",
              "      <script>\n",
              "        const buttonEl =\n",
              "          document.querySelector('#df-f2e5dd6d-19f4-4716-b0d9-0110c6b7feb7 button.colab-df-convert');\n",
              "        buttonEl.style.display =\n",
              "          google.colab.kernel.accessAllowed ? 'block' : 'none';\n",
              "\n",
              "        async function convertToInteractive(key) {\n",
              "          const element = document.querySelector('#df-f2e5dd6d-19f4-4716-b0d9-0110c6b7feb7');\n",
              "          const dataTable =\n",
              "            await google.colab.kernel.invokeFunction('convertToInteractive',\n",
              "                                                     [key], {});\n",
              "          if (!dataTable) return;\n",
              "\n",
              "          const docLinkHtml = 'Like what you see? Visit the ' +\n",
              "            '<a target=\"_blank\" href=https://colab.research.google.com/notebooks/data_table.ipynb>data table notebook</a>'\n",
              "            + ' to learn more about interactive tables.';\n",
              "          element.innerHTML = '';\n",
              "          dataTable['output_type'] = 'display_data';\n",
              "          await google.colab.output.renderOutput(dataTable, element);\n",
              "          const docLink = document.createElement('div');\n",
              "          docLink.innerHTML = docLinkHtml;\n",
              "          element.appendChild(docLink);\n",
              "        }\n",
              "      </script>\n",
              "    </div>\n",
              "  </div>\n",
              "  "
            ]
          },
          "metadata": {},
          "execution_count": 10
        }
      ]
    },
    {
      "cell_type": "markdown",
      "metadata": {
        "id": "79aloQckd4HX"
      },
      "source": [
        "**[1.10]** Display the summary (info) of df"
      ]
    },
    {
      "cell_type": "code",
      "metadata": {
        "id": "hYRFbsxed-9m",
        "colab": {
          "base_uri": "https://localhost:8080/"
        },
        "outputId": "ffc3d47e-47da-488f-8361-66cb4905776a"
      },
      "source": [
        "df.info()"
      ],
      "execution_count": 11,
      "outputs": [
        {
          "output_type": "stream",
          "name": "stdout",
          "text": [
            "<class 'pandas.core.frame.DataFrame'>\n",
            "RangeIndex: 2438 entries, 0 to 2437\n",
            "Data columns (total 34 columns):\n",
            " #   Column                  Non-Null Count  Dtype  \n",
            "---  ------                  --------------  -----  \n",
            " 0   Unnamed: 0              2438 non-null   int64  \n",
            " 1   avgAnnCount             2438 non-null   float64\n",
            " 2   avgDeathsPerYear        2438 non-null   int64  \n",
            " 3   TARGET_deathRate        2438 non-null   float64\n",
            " 4   incidenceRate           2438 non-null   float64\n",
            " 5   medIncome               2438 non-null   int64  \n",
            " 6   popEst2015              2438 non-null   int64  \n",
            " 7   povertyPercent          2438 non-null   float64\n",
            " 8   studyPerCap             2438 non-null   float64\n",
            " 9   binnedInc               2438 non-null   object \n",
            " 10  MedianAge               2438 non-null   float64\n",
            " 11  MedianAgeMale           2438 non-null   float64\n",
            " 12  MedianAgeFemale         2438 non-null   float64\n",
            " 13  Geography               2438 non-null   object \n",
            " 14  AvgHouseholdSize        2438 non-null   float64\n",
            " 15  PercentMarried          2438 non-null   float64\n",
            " 16  PctNoHS18_24            2438 non-null   float64\n",
            " 17  PctHS18_24              2438 non-null   float64\n",
            " 18  PctBachDeg18_24         2438 non-null   float64\n",
            " 19  PctHS25_Over            2438 non-null   float64\n",
            " 20  PctBachDeg25_Over       2438 non-null   float64\n",
            " 21  PctEmployed16_Over      2438 non-null   float64\n",
            " 22  PctUnemployed16_Over    2438 non-null   float64\n",
            " 23  PctPrivateCoverage      2438 non-null   float64\n",
            " 24  PctEmpPrivCoverage      2438 non-null   float64\n",
            " 25  PctPublicCoverage       2438 non-null   float64\n",
            " 26  PctPublicCoverageAlone  2438 non-null   float64\n",
            " 27  PctWhite                2438 non-null   float64\n",
            " 28  PctBlack                2438 non-null   float64\n",
            " 29  PctAsian                2438 non-null   float64\n",
            " 30  PctOtherRace            2438 non-null   float64\n",
            " 31  PctMarriedHouseholds    2438 non-null   float64\n",
            " 32  BirthRate               2438 non-null   float64\n",
            " 33  Id                      2438 non-null   int64  \n",
            "dtypes: float64(27), int64(5), object(2)\n",
            "memory usage: 647.7+ KB\n"
          ]
        }
      ]
    },
    {
      "cell_type": "markdown",
      "source": [
        "**[1.11]** Create a variable called file_url_test containing the link to the CSV file for testing data"
      ],
      "metadata": {
        "id": "Yp6mxrEd4F4A"
      }
    },
    {
      "cell_type": "code",
      "source": [
        "file_url_test = pd.read_csv('/content/drive/My Drive/data/testing_cleaned2.csv')"
      ],
      "metadata": {
        "id": "AhPvbKdR4Kd2"
      },
      "execution_count": 12,
      "outputs": []
    },
    {
      "cell_type": "markdown",
      "source": [
        "**[1.12]** Load the testing dataset into dataframe called df_test"
      ],
      "metadata": {
        "id": "Zip3rhOF4WXi"
      }
    },
    {
      "cell_type": "code",
      "source": [
        "df_test = pd.DataFrame(file_url_test)"
      ],
      "metadata": {
        "id": "_BeOuzKS4jCm"
      },
      "execution_count": 13,
      "outputs": []
    },
    {
      "cell_type": "markdown",
      "source": [
        "**[1.13]** Display the first 5 rows of df_test"
      ],
      "metadata": {
        "id": "LQBntyqW5FgO"
      }
    },
    {
      "cell_type": "code",
      "source": [
        "df_test.head()"
      ],
      "metadata": {
        "id": "eRPaUYiz5M0g",
        "colab": {
          "base_uri": "https://localhost:8080/",
          "height": 235
        },
        "outputId": "ee345602-1aa9-458f-f9fd-ac3f3583ffd6"
      },
      "execution_count": 14,
      "outputs": [
        {
          "output_type": "execute_result",
          "data": {
            "text/plain": [
              "   Unnamed: 0  avgAnnCount  avgDeathsPerYear  TARGET_deathRate  incidenceRate  \\\n",
              "0           0        449.0               154             159.5          479.8   \n",
              "1           1        340.0               140             167.2          438.5   \n",
              "2           2         54.0                18             131.6          410.8   \n",
              "3           3         94.0                46             189.4          403.8   \n",
              "4           4       2718.0              1065             168.9          432.1   \n",
              "\n",
              "   medIncome  popEst2015  povertyPercent  studyPerCap           binnedInc  \\\n",
              "0      51880      104926            18.7    57.183158  (51046.4, 54545.6]   \n",
              "1      55472       55423            12.4     0.000000  (54545.6, 61494.5]   \n",
              "2      49380       10103            11.7     0.000000  (48021.6, 51046.4]   \n",
              "3      45979       16708            13.5   598.515681    (45201, 48021.6]   \n",
              "4      51527      726106            20.7    60.597213  (51046.4, 54545.6]   \n",
              "\n",
              "   ...  PctEmpPrivCoverage  PctPublicCoverage  PctPublicCoverageAlone  \\\n",
              "0  ...                51.0               24.9                    13.1   \n",
              "1  ...                37.6               36.3                    16.0   \n",
              "2  ...                32.6               40.3                    19.4   \n",
              "3  ...                45.1               33.1                    13.3   \n",
              "4  ...                41.7               37.7                    25.8   \n",
              "\n",
              "    PctWhite  PctBlack   PctAsian  PctOtherRace  PctMarriedHouseholds  \\\n",
              "0  81.260411  4.154831  10.045737      0.876222             41.071243   \n",
              "1  93.660078  0.818115   0.626281      3.116360             57.529142   \n",
              "2  98.292181  0.041152   0.164609      0.051440             55.928482   \n",
              "3  96.090377  1.555569   0.715680      0.378541             48.409405   \n",
              "4  57.002148  7.093743  14.785464     11.692122             51.852122   \n",
              "\n",
              "   BirthRate    Id  \n",
              "0   4.367123  2553  \n",
              "1   6.844366   904  \n",
              "2   1.604585  2192  \n",
              "3   8.255410  1326  \n",
              "4   6.148433  2394  \n",
              "\n",
              "[5 rows x 34 columns]"
            ],
            "text/html": [
              "\n",
              "  <div id=\"df-ce1aaa0e-8db6-40aa-8e5e-7219a40f0421\">\n",
              "    <div class=\"colab-df-container\">\n",
              "      <div>\n",
              "<style scoped>\n",
              "    .dataframe tbody tr th:only-of-type {\n",
              "        vertical-align: middle;\n",
              "    }\n",
              "\n",
              "    .dataframe tbody tr th {\n",
              "        vertical-align: top;\n",
              "    }\n",
              "\n",
              "    .dataframe thead th {\n",
              "        text-align: right;\n",
              "    }\n",
              "</style>\n",
              "<table border=\"1\" class=\"dataframe\">\n",
              "  <thead>\n",
              "    <tr style=\"text-align: right;\">\n",
              "      <th></th>\n",
              "      <th>Unnamed: 0</th>\n",
              "      <th>avgAnnCount</th>\n",
              "      <th>avgDeathsPerYear</th>\n",
              "      <th>TARGET_deathRate</th>\n",
              "      <th>incidenceRate</th>\n",
              "      <th>medIncome</th>\n",
              "      <th>popEst2015</th>\n",
              "      <th>povertyPercent</th>\n",
              "      <th>studyPerCap</th>\n",
              "      <th>binnedInc</th>\n",
              "      <th>...</th>\n",
              "      <th>PctEmpPrivCoverage</th>\n",
              "      <th>PctPublicCoverage</th>\n",
              "      <th>PctPublicCoverageAlone</th>\n",
              "      <th>PctWhite</th>\n",
              "      <th>PctBlack</th>\n",
              "      <th>PctAsian</th>\n",
              "      <th>PctOtherRace</th>\n",
              "      <th>PctMarriedHouseholds</th>\n",
              "      <th>BirthRate</th>\n",
              "      <th>Id</th>\n",
              "    </tr>\n",
              "  </thead>\n",
              "  <tbody>\n",
              "    <tr>\n",
              "      <th>0</th>\n",
              "      <td>0</td>\n",
              "      <td>449.0</td>\n",
              "      <td>154</td>\n",
              "      <td>159.5</td>\n",
              "      <td>479.8</td>\n",
              "      <td>51880</td>\n",
              "      <td>104926</td>\n",
              "      <td>18.7</td>\n",
              "      <td>57.183158</td>\n",
              "      <td>(51046.4, 54545.6]</td>\n",
              "      <td>...</td>\n",
              "      <td>51.0</td>\n",
              "      <td>24.9</td>\n",
              "      <td>13.1</td>\n",
              "      <td>81.260411</td>\n",
              "      <td>4.154831</td>\n",
              "      <td>10.045737</td>\n",
              "      <td>0.876222</td>\n",
              "      <td>41.071243</td>\n",
              "      <td>4.367123</td>\n",
              "      <td>2553</td>\n",
              "    </tr>\n",
              "    <tr>\n",
              "      <th>1</th>\n",
              "      <td>1</td>\n",
              "      <td>340.0</td>\n",
              "      <td>140</td>\n",
              "      <td>167.2</td>\n",
              "      <td>438.5</td>\n",
              "      <td>55472</td>\n",
              "      <td>55423</td>\n",
              "      <td>12.4</td>\n",
              "      <td>0.000000</td>\n",
              "      <td>(54545.6, 61494.5]</td>\n",
              "      <td>...</td>\n",
              "      <td>37.6</td>\n",
              "      <td>36.3</td>\n",
              "      <td>16.0</td>\n",
              "      <td>93.660078</td>\n",
              "      <td>0.818115</td>\n",
              "      <td>0.626281</td>\n",
              "      <td>3.116360</td>\n",
              "      <td>57.529142</td>\n",
              "      <td>6.844366</td>\n",
              "      <td>904</td>\n",
              "    </tr>\n",
              "    <tr>\n",
              "      <th>2</th>\n",
              "      <td>2</td>\n",
              "      <td>54.0</td>\n",
              "      <td>18</td>\n",
              "      <td>131.6</td>\n",
              "      <td>410.8</td>\n",
              "      <td>49380</td>\n",
              "      <td>10103</td>\n",
              "      <td>11.7</td>\n",
              "      <td>0.000000</td>\n",
              "      <td>(48021.6, 51046.4]</td>\n",
              "      <td>...</td>\n",
              "      <td>32.6</td>\n",
              "      <td>40.3</td>\n",
              "      <td>19.4</td>\n",
              "      <td>98.292181</td>\n",
              "      <td>0.041152</td>\n",
              "      <td>0.164609</td>\n",
              "      <td>0.051440</td>\n",
              "      <td>55.928482</td>\n",
              "      <td>1.604585</td>\n",
              "      <td>2192</td>\n",
              "    </tr>\n",
              "    <tr>\n",
              "      <th>3</th>\n",
              "      <td>3</td>\n",
              "      <td>94.0</td>\n",
              "      <td>46</td>\n",
              "      <td>189.4</td>\n",
              "      <td>403.8</td>\n",
              "      <td>45979</td>\n",
              "      <td>16708</td>\n",
              "      <td>13.5</td>\n",
              "      <td>598.515681</td>\n",
              "      <td>(45201, 48021.6]</td>\n",
              "      <td>...</td>\n",
              "      <td>45.1</td>\n",
              "      <td>33.1</td>\n",
              "      <td>13.3</td>\n",
              "      <td>96.090377</td>\n",
              "      <td>1.555569</td>\n",
              "      <td>0.715680</td>\n",
              "      <td>0.378541</td>\n",
              "      <td>48.409405</td>\n",
              "      <td>8.255410</td>\n",
              "      <td>1326</td>\n",
              "    </tr>\n",
              "    <tr>\n",
              "      <th>4</th>\n",
              "      <td>4</td>\n",
              "      <td>2718.0</td>\n",
              "      <td>1065</td>\n",
              "      <td>168.9</td>\n",
              "      <td>432.1</td>\n",
              "      <td>51527</td>\n",
              "      <td>726106</td>\n",
              "      <td>20.7</td>\n",
              "      <td>60.597213</td>\n",
              "      <td>(51046.4, 54545.6]</td>\n",
              "      <td>...</td>\n",
              "      <td>41.7</td>\n",
              "      <td>37.7</td>\n",
              "      <td>25.8</td>\n",
              "      <td>57.002148</td>\n",
              "      <td>7.093743</td>\n",
              "      <td>14.785464</td>\n",
              "      <td>11.692122</td>\n",
              "      <td>51.852122</td>\n",
              "      <td>6.148433</td>\n",
              "      <td>2394</td>\n",
              "    </tr>\n",
              "  </tbody>\n",
              "</table>\n",
              "<p>5 rows × 34 columns</p>\n",
              "</div>\n",
              "      <button class=\"colab-df-convert\" onclick=\"convertToInteractive('df-ce1aaa0e-8db6-40aa-8e5e-7219a40f0421')\"\n",
              "              title=\"Convert this dataframe to an interactive table.\"\n",
              "              style=\"display:none;\">\n",
              "        \n",
              "  <svg xmlns=\"http://www.w3.org/2000/svg\" height=\"24px\"viewBox=\"0 0 24 24\"\n",
              "       width=\"24px\">\n",
              "    <path d=\"M0 0h24v24H0V0z\" fill=\"none\"/>\n",
              "    <path d=\"M18.56 5.44l.94 2.06.94-2.06 2.06-.94-2.06-.94-.94-2.06-.94 2.06-2.06.94zm-11 1L8.5 8.5l.94-2.06 2.06-.94-2.06-.94L8.5 2.5l-.94 2.06-2.06.94zm10 10l.94 2.06.94-2.06 2.06-.94-2.06-.94-.94-2.06-.94 2.06-2.06.94z\"/><path d=\"M17.41 7.96l-1.37-1.37c-.4-.4-.92-.59-1.43-.59-.52 0-1.04.2-1.43.59L10.3 9.45l-7.72 7.72c-.78.78-.78 2.05 0 2.83L4 21.41c.39.39.9.59 1.41.59.51 0 1.02-.2 1.41-.59l7.78-7.78 2.81-2.81c.8-.78.8-2.07 0-2.86zM5.41 20L4 18.59l7.72-7.72 1.47 1.35L5.41 20z\"/>\n",
              "  </svg>\n",
              "      </button>\n",
              "      \n",
              "  <style>\n",
              "    .colab-df-container {\n",
              "      display:flex;\n",
              "      flex-wrap:wrap;\n",
              "      gap: 12px;\n",
              "    }\n",
              "\n",
              "    .colab-df-convert {\n",
              "      background-color: #E8F0FE;\n",
              "      border: none;\n",
              "      border-radius: 50%;\n",
              "      cursor: pointer;\n",
              "      display: none;\n",
              "      fill: #1967D2;\n",
              "      height: 32px;\n",
              "      padding: 0 0 0 0;\n",
              "      width: 32px;\n",
              "    }\n",
              "\n",
              "    .colab-df-convert:hover {\n",
              "      background-color: #E2EBFA;\n",
              "      box-shadow: 0px 1px 2px rgba(60, 64, 67, 0.3), 0px 1px 3px 1px rgba(60, 64, 67, 0.15);\n",
              "      fill: #174EA6;\n",
              "    }\n",
              "\n",
              "    [theme=dark] .colab-df-convert {\n",
              "      background-color: #3B4455;\n",
              "      fill: #D2E3FC;\n",
              "    }\n",
              "\n",
              "    [theme=dark] .colab-df-convert:hover {\n",
              "      background-color: #434B5C;\n",
              "      box-shadow: 0px 1px 3px 1px rgba(0, 0, 0, 0.15);\n",
              "      filter: drop-shadow(0px 1px 2px rgba(0, 0, 0, 0.3));\n",
              "      fill: #FFFFFF;\n",
              "    }\n",
              "  </style>\n",
              "\n",
              "      <script>\n",
              "        const buttonEl =\n",
              "          document.querySelector('#df-ce1aaa0e-8db6-40aa-8e5e-7219a40f0421 button.colab-df-convert');\n",
              "        buttonEl.style.display =\n",
              "          google.colab.kernel.accessAllowed ? 'block' : 'none';\n",
              "\n",
              "        async function convertToInteractive(key) {\n",
              "          const element = document.querySelector('#df-ce1aaa0e-8db6-40aa-8e5e-7219a40f0421');\n",
              "          const dataTable =\n",
              "            await google.colab.kernel.invokeFunction('convertToInteractive',\n",
              "                                                     [key], {});\n",
              "          if (!dataTable) return;\n",
              "\n",
              "          const docLinkHtml = 'Like what you see? Visit the ' +\n",
              "            '<a target=\"_blank\" href=https://colab.research.google.com/notebooks/data_table.ipynb>data table notebook</a>'\n",
              "            + ' to learn more about interactive tables.';\n",
              "          element.innerHTML = '';\n",
              "          dataTable['output_type'] = 'display_data';\n",
              "          await google.colab.output.renderOutput(dataTable, element);\n",
              "          const docLink = document.createElement('div');\n",
              "          docLink.innerHTML = docLinkHtml;\n",
              "          element.appendChild(docLink);\n",
              "        }\n",
              "      </script>\n",
              "    </div>\n",
              "  </div>\n",
              "  "
            ]
          },
          "metadata": {},
          "execution_count": 14
        }
      ]
    },
    {
      "cell_type": "markdown",
      "source": [
        "**[1.14]** Display the last 5 rows of df_test"
      ],
      "metadata": {
        "id": "O_9RTzvJ5TTd"
      }
    },
    {
      "cell_type": "code",
      "source": [
        "df_test.tail()"
      ],
      "metadata": {
        "id": "0myI47695eRy",
        "colab": {
          "base_uri": "https://localhost:8080/",
          "height": 235
        },
        "outputId": "0364bc86-c0a1-4bb9-b002-0c4bb8db543d"
      },
      "execution_count": 15,
      "outputs": [
        {
          "output_type": "execute_result",
          "data": {
            "text/plain": [
              "     Unnamed: 0  avgAnnCount  avgDeathsPerYear  TARGET_deathRate  \\\n",
              "604         604    27.000000                14             187.6   \n",
              "605         605    30.000000                 9             131.6   \n",
              "606         606   583.000000               258             187.5   \n",
              "607         607  1962.667684                31             174.2   \n",
              "608         608    42.000000                17             199.1   \n",
              "\n",
              "     incidenceRate  medIncome  popEst2015  povertyPercent  studyPerCap  \\\n",
              "604     415.700000      50155        4769            12.0     0.000000   \n",
              "605     444.600000      46961        4854            14.0     0.000000   \n",
              "606     429.400000      39907      127780            22.1    62.607607   \n",
              "607     453.549422      50905       14219             9.3     0.000000   \n",
              "608     491.800000      26408        7507            38.5     0.000000   \n",
              "\n",
              "              binnedInc  ...  PctEmpPrivCoverage  PctPublicCoverage  \\\n",
              "604  (48021.6, 51046.4]  ...                42.0               27.4   \n",
              "605    (45201, 48021.6]  ...                40.7               30.9   \n",
              "606  (37413.8, 40362.7]  ...                39.8               37.9   \n",
              "607  (48021.6, 51046.4]  ...                52.1               33.9   \n",
              "608    [22640, 34218.1]  ...                28.0               52.2   \n",
              "\n",
              "     PctPublicCoverageAlone   PctWhite   PctBlack  PctAsian  PctOtherRace  \\\n",
              "604                    12.1  85.768985   0.616890  0.042544      2.105935   \n",
              "605                    15.8  96.122281   0.800164  0.307755      1.292573   \n",
              "606                    22.7  81.407683   6.285701  4.388991      2.247924   \n",
              "607                    17.6  93.756201   1.658398  0.836286      0.290574   \n",
              "608                    33.4  13.933562  85.947799  0.118640      0.000000   \n",
              "\n",
              "     PctMarriedHouseholds  BirthRate    Id  \n",
              "604             51.104816   6.659013  2247  \n",
              "605             49.671883   5.760870  2947  \n",
              "606             47.875108   6.387886  1746  \n",
              "607             45.219595   5.893846  1822  \n",
              "608             25.540275   4.610131    92  \n",
              "\n",
              "[5 rows x 34 columns]"
            ],
            "text/html": [
              "\n",
              "  <div id=\"df-5cea21de-3d83-4145-a4e0-a58a721758af\">\n",
              "    <div class=\"colab-df-container\">\n",
              "      <div>\n",
              "<style scoped>\n",
              "    .dataframe tbody tr th:only-of-type {\n",
              "        vertical-align: middle;\n",
              "    }\n",
              "\n",
              "    .dataframe tbody tr th {\n",
              "        vertical-align: top;\n",
              "    }\n",
              "\n",
              "    .dataframe thead th {\n",
              "        text-align: right;\n",
              "    }\n",
              "</style>\n",
              "<table border=\"1\" class=\"dataframe\">\n",
              "  <thead>\n",
              "    <tr style=\"text-align: right;\">\n",
              "      <th></th>\n",
              "      <th>Unnamed: 0</th>\n",
              "      <th>avgAnnCount</th>\n",
              "      <th>avgDeathsPerYear</th>\n",
              "      <th>TARGET_deathRate</th>\n",
              "      <th>incidenceRate</th>\n",
              "      <th>medIncome</th>\n",
              "      <th>popEst2015</th>\n",
              "      <th>povertyPercent</th>\n",
              "      <th>studyPerCap</th>\n",
              "      <th>binnedInc</th>\n",
              "      <th>...</th>\n",
              "      <th>PctEmpPrivCoverage</th>\n",
              "      <th>PctPublicCoverage</th>\n",
              "      <th>PctPublicCoverageAlone</th>\n",
              "      <th>PctWhite</th>\n",
              "      <th>PctBlack</th>\n",
              "      <th>PctAsian</th>\n",
              "      <th>PctOtherRace</th>\n",
              "      <th>PctMarriedHouseholds</th>\n",
              "      <th>BirthRate</th>\n",
              "      <th>Id</th>\n",
              "    </tr>\n",
              "  </thead>\n",
              "  <tbody>\n",
              "    <tr>\n",
              "      <th>604</th>\n",
              "      <td>604</td>\n",
              "      <td>27.000000</td>\n",
              "      <td>14</td>\n",
              "      <td>187.6</td>\n",
              "      <td>415.700000</td>\n",
              "      <td>50155</td>\n",
              "      <td>4769</td>\n",
              "      <td>12.0</td>\n",
              "      <td>0.000000</td>\n",
              "      <td>(48021.6, 51046.4]</td>\n",
              "      <td>...</td>\n",
              "      <td>42.0</td>\n",
              "      <td>27.4</td>\n",
              "      <td>12.1</td>\n",
              "      <td>85.768985</td>\n",
              "      <td>0.616890</td>\n",
              "      <td>0.042544</td>\n",
              "      <td>2.105935</td>\n",
              "      <td>51.104816</td>\n",
              "      <td>6.659013</td>\n",
              "      <td>2247</td>\n",
              "    </tr>\n",
              "    <tr>\n",
              "      <th>605</th>\n",
              "      <td>605</td>\n",
              "      <td>30.000000</td>\n",
              "      <td>9</td>\n",
              "      <td>131.6</td>\n",
              "      <td>444.600000</td>\n",
              "      <td>46961</td>\n",
              "      <td>4854</td>\n",
              "      <td>14.0</td>\n",
              "      <td>0.000000</td>\n",
              "      <td>(45201, 48021.6]</td>\n",
              "      <td>...</td>\n",
              "      <td>40.7</td>\n",
              "      <td>30.9</td>\n",
              "      <td>15.8</td>\n",
              "      <td>96.122281</td>\n",
              "      <td>0.800164</td>\n",
              "      <td>0.307755</td>\n",
              "      <td>1.292573</td>\n",
              "      <td>49.671883</td>\n",
              "      <td>5.760870</td>\n",
              "      <td>2947</td>\n",
              "    </tr>\n",
              "    <tr>\n",
              "      <th>606</th>\n",
              "      <td>606</td>\n",
              "      <td>583.000000</td>\n",
              "      <td>258</td>\n",
              "      <td>187.5</td>\n",
              "      <td>429.400000</td>\n",
              "      <td>39907</td>\n",
              "      <td>127780</td>\n",
              "      <td>22.1</td>\n",
              "      <td>62.607607</td>\n",
              "      <td>(37413.8, 40362.7]</td>\n",
              "      <td>...</td>\n",
              "      <td>39.8</td>\n",
              "      <td>37.9</td>\n",
              "      <td>22.7</td>\n",
              "      <td>81.407683</td>\n",
              "      <td>6.285701</td>\n",
              "      <td>4.388991</td>\n",
              "      <td>2.247924</td>\n",
              "      <td>47.875108</td>\n",
              "      <td>6.387886</td>\n",
              "      <td>1746</td>\n",
              "    </tr>\n",
              "    <tr>\n",
              "      <th>607</th>\n",
              "      <td>607</td>\n",
              "      <td>1962.667684</td>\n",
              "      <td>31</td>\n",
              "      <td>174.2</td>\n",
              "      <td>453.549422</td>\n",
              "      <td>50905</td>\n",
              "      <td>14219</td>\n",
              "      <td>9.3</td>\n",
              "      <td>0.000000</td>\n",
              "      <td>(48021.6, 51046.4]</td>\n",
              "      <td>...</td>\n",
              "      <td>52.1</td>\n",
              "      <td>33.9</td>\n",
              "      <td>17.6</td>\n",
              "      <td>93.756201</td>\n",
              "      <td>1.658398</td>\n",
              "      <td>0.836286</td>\n",
              "      <td>0.290574</td>\n",
              "      <td>45.219595</td>\n",
              "      <td>5.893846</td>\n",
              "      <td>1822</td>\n",
              "    </tr>\n",
              "    <tr>\n",
              "      <th>608</th>\n",
              "      <td>608</td>\n",
              "      <td>42.000000</td>\n",
              "      <td>17</td>\n",
              "      <td>199.1</td>\n",
              "      <td>491.800000</td>\n",
              "      <td>26408</td>\n",
              "      <td>7507</td>\n",
              "      <td>38.5</td>\n",
              "      <td>0.000000</td>\n",
              "      <td>[22640, 34218.1]</td>\n",
              "      <td>...</td>\n",
              "      <td>28.0</td>\n",
              "      <td>52.2</td>\n",
              "      <td>33.4</td>\n",
              "      <td>13.933562</td>\n",
              "      <td>85.947799</td>\n",
              "      <td>0.118640</td>\n",
              "      <td>0.000000</td>\n",
              "      <td>25.540275</td>\n",
              "      <td>4.610131</td>\n",
              "      <td>92</td>\n",
              "    </tr>\n",
              "  </tbody>\n",
              "</table>\n",
              "<p>5 rows × 34 columns</p>\n",
              "</div>\n",
              "      <button class=\"colab-df-convert\" onclick=\"convertToInteractive('df-5cea21de-3d83-4145-a4e0-a58a721758af')\"\n",
              "              title=\"Convert this dataframe to an interactive table.\"\n",
              "              style=\"display:none;\">\n",
              "        \n",
              "  <svg xmlns=\"http://www.w3.org/2000/svg\" height=\"24px\"viewBox=\"0 0 24 24\"\n",
              "       width=\"24px\">\n",
              "    <path d=\"M0 0h24v24H0V0z\" fill=\"none\"/>\n",
              "    <path d=\"M18.56 5.44l.94 2.06.94-2.06 2.06-.94-2.06-.94-.94-2.06-.94 2.06-2.06.94zm-11 1L8.5 8.5l.94-2.06 2.06-.94-2.06-.94L8.5 2.5l-.94 2.06-2.06.94zm10 10l.94 2.06.94-2.06 2.06-.94-2.06-.94-.94-2.06-.94 2.06-2.06.94z\"/><path d=\"M17.41 7.96l-1.37-1.37c-.4-.4-.92-.59-1.43-.59-.52 0-1.04.2-1.43.59L10.3 9.45l-7.72 7.72c-.78.78-.78 2.05 0 2.83L4 21.41c.39.39.9.59 1.41.59.51 0 1.02-.2 1.41-.59l7.78-7.78 2.81-2.81c.8-.78.8-2.07 0-2.86zM5.41 20L4 18.59l7.72-7.72 1.47 1.35L5.41 20z\"/>\n",
              "  </svg>\n",
              "      </button>\n",
              "      \n",
              "  <style>\n",
              "    .colab-df-container {\n",
              "      display:flex;\n",
              "      flex-wrap:wrap;\n",
              "      gap: 12px;\n",
              "    }\n",
              "\n",
              "    .colab-df-convert {\n",
              "      background-color: #E8F0FE;\n",
              "      border: none;\n",
              "      border-radius: 50%;\n",
              "      cursor: pointer;\n",
              "      display: none;\n",
              "      fill: #1967D2;\n",
              "      height: 32px;\n",
              "      padding: 0 0 0 0;\n",
              "      width: 32px;\n",
              "    }\n",
              "\n",
              "    .colab-df-convert:hover {\n",
              "      background-color: #E2EBFA;\n",
              "      box-shadow: 0px 1px 2px rgba(60, 64, 67, 0.3), 0px 1px 3px 1px rgba(60, 64, 67, 0.15);\n",
              "      fill: #174EA6;\n",
              "    }\n",
              "\n",
              "    [theme=dark] .colab-df-convert {\n",
              "      background-color: #3B4455;\n",
              "      fill: #D2E3FC;\n",
              "    }\n",
              "\n",
              "    [theme=dark] .colab-df-convert:hover {\n",
              "      background-color: #434B5C;\n",
              "      box-shadow: 0px 1px 3px 1px rgba(0, 0, 0, 0.15);\n",
              "      filter: drop-shadow(0px 1px 2px rgba(0, 0, 0, 0.3));\n",
              "      fill: #FFFFFF;\n",
              "    }\n",
              "  </style>\n",
              "\n",
              "      <script>\n",
              "        const buttonEl =\n",
              "          document.querySelector('#df-5cea21de-3d83-4145-a4e0-a58a721758af button.colab-df-convert');\n",
              "        buttonEl.style.display =\n",
              "          google.colab.kernel.accessAllowed ? 'block' : 'none';\n",
              "\n",
              "        async function convertToInteractive(key) {\n",
              "          const element = document.querySelector('#df-5cea21de-3d83-4145-a4e0-a58a721758af');\n",
              "          const dataTable =\n",
              "            await google.colab.kernel.invokeFunction('convertToInteractive',\n",
              "                                                     [key], {});\n",
              "          if (!dataTable) return;\n",
              "\n",
              "          const docLinkHtml = 'Like what you see? Visit the ' +\n",
              "            '<a target=\"_blank\" href=https://colab.research.google.com/notebooks/data_table.ipynb>data table notebook</a>'\n",
              "            + ' to learn more about interactive tables.';\n",
              "          element.innerHTML = '';\n",
              "          dataTable['output_type'] = 'display_data';\n",
              "          await google.colab.output.renderOutput(dataTable, element);\n",
              "          const docLink = document.createElement('div');\n",
              "          docLink.innerHTML = docLinkHtml;\n",
              "          element.appendChild(docLink);\n",
              "        }\n",
              "      </script>\n",
              "    </div>\n",
              "  </div>\n",
              "  "
            ]
          },
          "metadata": {},
          "execution_count": 15
        }
      ]
    },
    {
      "cell_type": "markdown",
      "source": [
        "**[1.15]** Display the dimensions (shape) of df_test\n"
      ],
      "metadata": {
        "id": "v6jKjhCY5m9Y"
      }
    },
    {
      "cell_type": "code",
      "source": [
        "df_test.shape"
      ],
      "metadata": {
        "id": "_e5ukOiI6Phr",
        "colab": {
          "base_uri": "https://localhost:8080/"
        },
        "outputId": "0212e99f-a560-423e-e4e0-cfde70f4bdc2"
      },
      "execution_count": 16,
      "outputs": [
        {
          "output_type": "execute_result",
          "data": {
            "text/plain": [
              "(609, 34)"
            ]
          },
          "metadata": {},
          "execution_count": 16
        }
      ]
    },
    {
      "cell_type": "markdown",
      "source": [
        "**[1.16]** Display the list of columns of df_test"
      ],
      "metadata": {
        "id": "YaOSKbD45yV0"
      }
    },
    {
      "cell_type": "code",
      "source": [
        "df_test.columns"
      ],
      "metadata": {
        "id": "MG7gVI9L6Tal",
        "colab": {
          "base_uri": "https://localhost:8080/"
        },
        "outputId": "6fe57fd3-0bfe-4e73-d4d9-17800c7d814a"
      },
      "execution_count": 17,
      "outputs": [
        {
          "output_type": "execute_result",
          "data": {
            "text/plain": [
              "Index(['Unnamed: 0', 'avgAnnCount', 'avgDeathsPerYear', 'TARGET_deathRate',\n",
              "       'incidenceRate', 'medIncome', 'popEst2015', 'povertyPercent',\n",
              "       'studyPerCap', 'binnedInc', 'MedianAge', 'MedianAgeMale',\n",
              "       'MedianAgeFemale', 'Geography', 'AvgHouseholdSize', 'PercentMarried',\n",
              "       'PctNoHS18_24', 'PctHS18_24', 'PctBachDeg18_24', 'PctHS25_Over',\n",
              "       'PctBachDeg25_Over', 'PctEmployed16_Over', 'PctUnemployed16_Over',\n",
              "       'PctPrivateCoverage', 'PctEmpPrivCoverage', 'PctPublicCoverage',\n",
              "       'PctPublicCoverageAlone', 'PctWhite', 'PctBlack', 'PctAsian',\n",
              "       'PctOtherRace', 'PctMarriedHouseholds', 'BirthRate', 'Id'],\n",
              "      dtype='object')"
            ]
          },
          "metadata": {},
          "execution_count": 17
        }
      ]
    },
    {
      "cell_type": "markdown",
      "source": [
        "**[1.17]** Display the descriptive statistics of df_test"
      ],
      "metadata": {
        "id": "H-DB7mgs5_96"
      }
    },
    {
      "cell_type": "code",
      "source": [
        "df_test.describe()"
      ],
      "metadata": {
        "id": "0iAvV5sr6cbo",
        "colab": {
          "base_uri": "https://localhost:8080/",
          "height": 373
        },
        "outputId": "9be3c56e-4f45-4aee-fbc6-417dd6a5838b"
      },
      "execution_count": 18,
      "outputs": [
        {
          "output_type": "execute_result",
          "data": {
            "text/plain": [
              "       Unnamed: 0   avgAnnCount  avgDeathsPerYear  TARGET_deathRate  \\\n",
              "count  609.000000    609.000000        609.000000        609.000000   \n",
              "mean   304.000000    683.067944        207.476190        177.925780   \n",
              "std    175.947435   1978.627131        708.568892         28.599788   \n",
              "min      0.000000      9.000000          3.000000         59.700000   \n",
              "25%    152.000000     75.000000         28.000000        160.200000   \n",
              "50%    304.000000    169.000000         61.000000        178.200000   \n",
              "75%    456.000000    513.000000        138.000000        194.100000   \n",
              "max    608.000000  38150.000000      14010.000000        362.800000   \n",
              "\n",
              "       incidenceRate      medIncome    popEst2015  povertyPercent  \\\n",
              "count     609.000000     609.000000  6.090000e+02      609.000000   \n",
              "mean      448.109810   47202.812808  1.191372e+05       16.973563   \n",
              "std        59.573942   12520.769346  4.899460e+05        6.495675   \n",
              "min       269.900000   24035.000000  1.358000e+03        4.700000   \n",
              "25%       420.500000   39025.000000  1.218100e+04       12.400000   \n",
              "50%       453.549422   45292.000000  2.558600e+04       15.500000   \n",
              "75%       476.700000   52476.000000  6.783700e+04       20.400000   \n",
              "max      1206.900000  106871.000000  1.017029e+07       41.900000   \n",
              "\n",
              "       studyPerCap   MedianAge  ...  PctEmpPrivCoverage  PctPublicCoverage  \\\n",
              "count   609.000000  609.000000  ...          609.000000         609.000000   \n",
              "mean    112.885432   40.587255  ...           41.011658          36.160263   \n",
              "std     358.996110    5.183762  ...            9.771919           7.920750   \n",
              "min       0.000000   23.200000  ...           16.300000          14.800000   \n",
              "25%       0.000000   37.400000  ...           33.600000          30.600000   \n",
              "50%       0.000000   40.800000  ...           40.700000          36.300000   \n",
              "75%      58.267135   43.900000  ...           47.800000          41.800000   \n",
              "max    4260.367794   56.500000  ...           70.200000          57.500000   \n",
              "\n",
              "       PctPublicCoverageAlone    PctWhite    PctBlack    PctAsian  \\\n",
              "count              609.000000  609.000000  609.000000  609.000000   \n",
              "mean                19.261084   83.121969    9.365754    1.346103   \n",
              "std                  6.193365   16.793593   15.215528    2.809767   \n",
              "min                  6.200000   13.933562    0.000000    0.000000   \n",
              "25%                 14.300000   77.048638    0.607010    0.278340   \n",
              "50%                 18.900000   89.606996    2.004479    0.547264   \n",
              "75%                 23.100000   95.363876   11.063967    1.245240   \n",
              "max                 38.800000   99.498433   85.947799   33.760905   \n",
              "\n",
              "       PctOtherRace  PctMarriedHouseholds   BirthRate           Id  \n",
              "count    609.000000            609.000000  609.000000   609.000000  \n",
              "mean       2.125887             51.352773    5.691785  1519.840722  \n",
              "std        3.419138              6.856244    2.063121   899.544555  \n",
              "min        0.000000             23.885628    0.284091    10.000000  \n",
              "25%        0.318345             47.399630    4.585307   704.000000  \n",
              "50%        0.943696             51.708723    5.475268  1597.000000  \n",
              "75%        2.356943             55.590179    6.593969  2298.000000  \n",
              "max       25.504910             71.703057   21.326165  3044.000000  \n",
              "\n",
              "[8 rows x 32 columns]"
            ],
            "text/html": [
              "\n",
              "  <div id=\"df-685ee4cb-110e-47ba-93dd-bb12b7c0f698\">\n",
              "    <div class=\"colab-df-container\">\n",
              "      <div>\n",
              "<style scoped>\n",
              "    .dataframe tbody tr th:only-of-type {\n",
              "        vertical-align: middle;\n",
              "    }\n",
              "\n",
              "    .dataframe tbody tr th {\n",
              "        vertical-align: top;\n",
              "    }\n",
              "\n",
              "    .dataframe thead th {\n",
              "        text-align: right;\n",
              "    }\n",
              "</style>\n",
              "<table border=\"1\" class=\"dataframe\">\n",
              "  <thead>\n",
              "    <tr style=\"text-align: right;\">\n",
              "      <th></th>\n",
              "      <th>Unnamed: 0</th>\n",
              "      <th>avgAnnCount</th>\n",
              "      <th>avgDeathsPerYear</th>\n",
              "      <th>TARGET_deathRate</th>\n",
              "      <th>incidenceRate</th>\n",
              "      <th>medIncome</th>\n",
              "      <th>popEst2015</th>\n",
              "      <th>povertyPercent</th>\n",
              "      <th>studyPerCap</th>\n",
              "      <th>MedianAge</th>\n",
              "      <th>...</th>\n",
              "      <th>PctEmpPrivCoverage</th>\n",
              "      <th>PctPublicCoverage</th>\n",
              "      <th>PctPublicCoverageAlone</th>\n",
              "      <th>PctWhite</th>\n",
              "      <th>PctBlack</th>\n",
              "      <th>PctAsian</th>\n",
              "      <th>PctOtherRace</th>\n",
              "      <th>PctMarriedHouseholds</th>\n",
              "      <th>BirthRate</th>\n",
              "      <th>Id</th>\n",
              "    </tr>\n",
              "  </thead>\n",
              "  <tbody>\n",
              "    <tr>\n",
              "      <th>count</th>\n",
              "      <td>609.000000</td>\n",
              "      <td>609.000000</td>\n",
              "      <td>609.000000</td>\n",
              "      <td>609.000000</td>\n",
              "      <td>609.000000</td>\n",
              "      <td>609.000000</td>\n",
              "      <td>6.090000e+02</td>\n",
              "      <td>609.000000</td>\n",
              "      <td>609.000000</td>\n",
              "      <td>609.000000</td>\n",
              "      <td>...</td>\n",
              "      <td>609.000000</td>\n",
              "      <td>609.000000</td>\n",
              "      <td>609.000000</td>\n",
              "      <td>609.000000</td>\n",
              "      <td>609.000000</td>\n",
              "      <td>609.000000</td>\n",
              "      <td>609.000000</td>\n",
              "      <td>609.000000</td>\n",
              "      <td>609.000000</td>\n",
              "      <td>609.000000</td>\n",
              "    </tr>\n",
              "    <tr>\n",
              "      <th>mean</th>\n",
              "      <td>304.000000</td>\n",
              "      <td>683.067944</td>\n",
              "      <td>207.476190</td>\n",
              "      <td>177.925780</td>\n",
              "      <td>448.109810</td>\n",
              "      <td>47202.812808</td>\n",
              "      <td>1.191372e+05</td>\n",
              "      <td>16.973563</td>\n",
              "      <td>112.885432</td>\n",
              "      <td>40.587255</td>\n",
              "      <td>...</td>\n",
              "      <td>41.011658</td>\n",
              "      <td>36.160263</td>\n",
              "      <td>19.261084</td>\n",
              "      <td>83.121969</td>\n",
              "      <td>9.365754</td>\n",
              "      <td>1.346103</td>\n",
              "      <td>2.125887</td>\n",
              "      <td>51.352773</td>\n",
              "      <td>5.691785</td>\n",
              "      <td>1519.840722</td>\n",
              "    </tr>\n",
              "    <tr>\n",
              "      <th>std</th>\n",
              "      <td>175.947435</td>\n",
              "      <td>1978.627131</td>\n",
              "      <td>708.568892</td>\n",
              "      <td>28.599788</td>\n",
              "      <td>59.573942</td>\n",
              "      <td>12520.769346</td>\n",
              "      <td>4.899460e+05</td>\n",
              "      <td>6.495675</td>\n",
              "      <td>358.996110</td>\n",
              "      <td>5.183762</td>\n",
              "      <td>...</td>\n",
              "      <td>9.771919</td>\n",
              "      <td>7.920750</td>\n",
              "      <td>6.193365</td>\n",
              "      <td>16.793593</td>\n",
              "      <td>15.215528</td>\n",
              "      <td>2.809767</td>\n",
              "      <td>3.419138</td>\n",
              "      <td>6.856244</td>\n",
              "      <td>2.063121</td>\n",
              "      <td>899.544555</td>\n",
              "    </tr>\n",
              "    <tr>\n",
              "      <th>min</th>\n",
              "      <td>0.000000</td>\n",
              "      <td>9.000000</td>\n",
              "      <td>3.000000</td>\n",
              "      <td>59.700000</td>\n",
              "      <td>269.900000</td>\n",
              "      <td>24035.000000</td>\n",
              "      <td>1.358000e+03</td>\n",
              "      <td>4.700000</td>\n",
              "      <td>0.000000</td>\n",
              "      <td>23.200000</td>\n",
              "      <td>...</td>\n",
              "      <td>16.300000</td>\n",
              "      <td>14.800000</td>\n",
              "      <td>6.200000</td>\n",
              "      <td>13.933562</td>\n",
              "      <td>0.000000</td>\n",
              "      <td>0.000000</td>\n",
              "      <td>0.000000</td>\n",
              "      <td>23.885628</td>\n",
              "      <td>0.284091</td>\n",
              "      <td>10.000000</td>\n",
              "    </tr>\n",
              "    <tr>\n",
              "      <th>25%</th>\n",
              "      <td>152.000000</td>\n",
              "      <td>75.000000</td>\n",
              "      <td>28.000000</td>\n",
              "      <td>160.200000</td>\n",
              "      <td>420.500000</td>\n",
              "      <td>39025.000000</td>\n",
              "      <td>1.218100e+04</td>\n",
              "      <td>12.400000</td>\n",
              "      <td>0.000000</td>\n",
              "      <td>37.400000</td>\n",
              "      <td>...</td>\n",
              "      <td>33.600000</td>\n",
              "      <td>30.600000</td>\n",
              "      <td>14.300000</td>\n",
              "      <td>77.048638</td>\n",
              "      <td>0.607010</td>\n",
              "      <td>0.278340</td>\n",
              "      <td>0.318345</td>\n",
              "      <td>47.399630</td>\n",
              "      <td>4.585307</td>\n",
              "      <td>704.000000</td>\n",
              "    </tr>\n",
              "    <tr>\n",
              "      <th>50%</th>\n",
              "      <td>304.000000</td>\n",
              "      <td>169.000000</td>\n",
              "      <td>61.000000</td>\n",
              "      <td>178.200000</td>\n",
              "      <td>453.549422</td>\n",
              "      <td>45292.000000</td>\n",
              "      <td>2.558600e+04</td>\n",
              "      <td>15.500000</td>\n",
              "      <td>0.000000</td>\n",
              "      <td>40.800000</td>\n",
              "      <td>...</td>\n",
              "      <td>40.700000</td>\n",
              "      <td>36.300000</td>\n",
              "      <td>18.900000</td>\n",
              "      <td>89.606996</td>\n",
              "      <td>2.004479</td>\n",
              "      <td>0.547264</td>\n",
              "      <td>0.943696</td>\n",
              "      <td>51.708723</td>\n",
              "      <td>5.475268</td>\n",
              "      <td>1597.000000</td>\n",
              "    </tr>\n",
              "    <tr>\n",
              "      <th>75%</th>\n",
              "      <td>456.000000</td>\n",
              "      <td>513.000000</td>\n",
              "      <td>138.000000</td>\n",
              "      <td>194.100000</td>\n",
              "      <td>476.700000</td>\n",
              "      <td>52476.000000</td>\n",
              "      <td>6.783700e+04</td>\n",
              "      <td>20.400000</td>\n",
              "      <td>58.267135</td>\n",
              "      <td>43.900000</td>\n",
              "      <td>...</td>\n",
              "      <td>47.800000</td>\n",
              "      <td>41.800000</td>\n",
              "      <td>23.100000</td>\n",
              "      <td>95.363876</td>\n",
              "      <td>11.063967</td>\n",
              "      <td>1.245240</td>\n",
              "      <td>2.356943</td>\n",
              "      <td>55.590179</td>\n",
              "      <td>6.593969</td>\n",
              "      <td>2298.000000</td>\n",
              "    </tr>\n",
              "    <tr>\n",
              "      <th>max</th>\n",
              "      <td>608.000000</td>\n",
              "      <td>38150.000000</td>\n",
              "      <td>14010.000000</td>\n",
              "      <td>362.800000</td>\n",
              "      <td>1206.900000</td>\n",
              "      <td>106871.000000</td>\n",
              "      <td>1.017029e+07</td>\n",
              "      <td>41.900000</td>\n",
              "      <td>4260.367794</td>\n",
              "      <td>56.500000</td>\n",
              "      <td>...</td>\n",
              "      <td>70.200000</td>\n",
              "      <td>57.500000</td>\n",
              "      <td>38.800000</td>\n",
              "      <td>99.498433</td>\n",
              "      <td>85.947799</td>\n",
              "      <td>33.760905</td>\n",
              "      <td>25.504910</td>\n",
              "      <td>71.703057</td>\n",
              "      <td>21.326165</td>\n",
              "      <td>3044.000000</td>\n",
              "    </tr>\n",
              "  </tbody>\n",
              "</table>\n",
              "<p>8 rows × 32 columns</p>\n",
              "</div>\n",
              "      <button class=\"colab-df-convert\" onclick=\"convertToInteractive('df-685ee4cb-110e-47ba-93dd-bb12b7c0f698')\"\n",
              "              title=\"Convert this dataframe to an interactive table.\"\n",
              "              style=\"display:none;\">\n",
              "        \n",
              "  <svg xmlns=\"http://www.w3.org/2000/svg\" height=\"24px\"viewBox=\"0 0 24 24\"\n",
              "       width=\"24px\">\n",
              "    <path d=\"M0 0h24v24H0V0z\" fill=\"none\"/>\n",
              "    <path d=\"M18.56 5.44l.94 2.06.94-2.06 2.06-.94-2.06-.94-.94-2.06-.94 2.06-2.06.94zm-11 1L8.5 8.5l.94-2.06 2.06-.94-2.06-.94L8.5 2.5l-.94 2.06-2.06.94zm10 10l.94 2.06.94-2.06 2.06-.94-2.06-.94-.94-2.06-.94 2.06-2.06.94z\"/><path d=\"M17.41 7.96l-1.37-1.37c-.4-.4-.92-.59-1.43-.59-.52 0-1.04.2-1.43.59L10.3 9.45l-7.72 7.72c-.78.78-.78 2.05 0 2.83L4 21.41c.39.39.9.59 1.41.59.51 0 1.02-.2 1.41-.59l7.78-7.78 2.81-2.81c.8-.78.8-2.07 0-2.86zM5.41 20L4 18.59l7.72-7.72 1.47 1.35L5.41 20z\"/>\n",
              "  </svg>\n",
              "      </button>\n",
              "      \n",
              "  <style>\n",
              "    .colab-df-container {\n",
              "      display:flex;\n",
              "      flex-wrap:wrap;\n",
              "      gap: 12px;\n",
              "    }\n",
              "\n",
              "    .colab-df-convert {\n",
              "      background-color: #E8F0FE;\n",
              "      border: none;\n",
              "      border-radius: 50%;\n",
              "      cursor: pointer;\n",
              "      display: none;\n",
              "      fill: #1967D2;\n",
              "      height: 32px;\n",
              "      padding: 0 0 0 0;\n",
              "      width: 32px;\n",
              "    }\n",
              "\n",
              "    .colab-df-convert:hover {\n",
              "      background-color: #E2EBFA;\n",
              "      box-shadow: 0px 1px 2px rgba(60, 64, 67, 0.3), 0px 1px 3px 1px rgba(60, 64, 67, 0.15);\n",
              "      fill: #174EA6;\n",
              "    }\n",
              "\n",
              "    [theme=dark] .colab-df-convert {\n",
              "      background-color: #3B4455;\n",
              "      fill: #D2E3FC;\n",
              "    }\n",
              "\n",
              "    [theme=dark] .colab-df-convert:hover {\n",
              "      background-color: #434B5C;\n",
              "      box-shadow: 0px 1px 3px 1px rgba(0, 0, 0, 0.15);\n",
              "      filter: drop-shadow(0px 1px 2px rgba(0, 0, 0, 0.3));\n",
              "      fill: #FFFFFF;\n",
              "    }\n",
              "  </style>\n",
              "\n",
              "      <script>\n",
              "        const buttonEl =\n",
              "          document.querySelector('#df-685ee4cb-110e-47ba-93dd-bb12b7c0f698 button.colab-df-convert');\n",
              "        buttonEl.style.display =\n",
              "          google.colab.kernel.accessAllowed ? 'block' : 'none';\n",
              "\n",
              "        async function convertToInteractive(key) {\n",
              "          const element = document.querySelector('#df-685ee4cb-110e-47ba-93dd-bb12b7c0f698');\n",
              "          const dataTable =\n",
              "            await google.colab.kernel.invokeFunction('convertToInteractive',\n",
              "                                                     [key], {});\n",
              "          if (!dataTable) return;\n",
              "\n",
              "          const docLinkHtml = 'Like what you see? Visit the ' +\n",
              "            '<a target=\"_blank\" href=https://colab.research.google.com/notebooks/data_table.ipynb>data table notebook</a>'\n",
              "            + ' to learn more about interactive tables.';\n",
              "          element.innerHTML = '';\n",
              "          dataTable['output_type'] = 'display_data';\n",
              "          await google.colab.output.renderOutput(dataTable, element);\n",
              "          const docLink = document.createElement('div');\n",
              "          docLink.innerHTML = docLinkHtml;\n",
              "          element.appendChild(docLink);\n",
              "        }\n",
              "      </script>\n",
              "    </div>\n",
              "  </div>\n",
              "  "
            ]
          },
          "metadata": {},
          "execution_count": 18
        }
      ]
    },
    {
      "cell_type": "markdown",
      "source": [
        "**[1.18]** Display the summary (info) of df_test"
      ],
      "metadata": {
        "id": "c7GJ8apY6C9p"
      }
    },
    {
      "cell_type": "code",
      "source": [
        "df_test.info()"
      ],
      "metadata": {
        "id": "SnXdOT1V6gBl",
        "colab": {
          "base_uri": "https://localhost:8080/"
        },
        "outputId": "06586170-2d1f-4e2c-86a8-3c67e8424cc5"
      },
      "execution_count": 19,
      "outputs": [
        {
          "output_type": "stream",
          "name": "stdout",
          "text": [
            "<class 'pandas.core.frame.DataFrame'>\n",
            "RangeIndex: 609 entries, 0 to 608\n",
            "Data columns (total 34 columns):\n",
            " #   Column                  Non-Null Count  Dtype  \n",
            "---  ------                  --------------  -----  \n",
            " 0   Unnamed: 0              609 non-null    int64  \n",
            " 1   avgAnnCount             609 non-null    float64\n",
            " 2   avgDeathsPerYear        609 non-null    int64  \n",
            " 3   TARGET_deathRate        609 non-null    float64\n",
            " 4   incidenceRate           609 non-null    float64\n",
            " 5   medIncome               609 non-null    int64  \n",
            " 6   popEst2015              609 non-null    int64  \n",
            " 7   povertyPercent          609 non-null    float64\n",
            " 8   studyPerCap             609 non-null    float64\n",
            " 9   binnedInc               609 non-null    object \n",
            " 10  MedianAge               609 non-null    float64\n",
            " 11  MedianAgeMale           609 non-null    float64\n",
            " 12  MedianAgeFemale         609 non-null    float64\n",
            " 13  Geography               609 non-null    object \n",
            " 14  AvgHouseholdSize        609 non-null    float64\n",
            " 15  PercentMarried          609 non-null    float64\n",
            " 16  PctNoHS18_24            609 non-null    float64\n",
            " 17  PctHS18_24              609 non-null    float64\n",
            " 18  PctBachDeg18_24         609 non-null    float64\n",
            " 19  PctHS25_Over            609 non-null    float64\n",
            " 20  PctBachDeg25_Over       609 non-null    float64\n",
            " 21  PctEmployed16_Over      609 non-null    float64\n",
            " 22  PctUnemployed16_Over    609 non-null    float64\n",
            " 23  PctPrivateCoverage      609 non-null    float64\n",
            " 24  PctEmpPrivCoverage      609 non-null    float64\n",
            " 25  PctPublicCoverage       609 non-null    float64\n",
            " 26  PctPublicCoverageAlone  609 non-null    float64\n",
            " 27  PctWhite                609 non-null    float64\n",
            " 28  PctBlack                609 non-null    float64\n",
            " 29  PctAsian                609 non-null    float64\n",
            " 30  PctOtherRace            609 non-null    float64\n",
            " 31  PctMarriedHouseholds    609 non-null    float64\n",
            " 32  BirthRate               609 non-null    float64\n",
            " 33  Id                      609 non-null    int64  \n",
            "dtypes: float64(27), int64(5), object(2)\n",
            "memory usage: 161.9+ KB\n"
          ]
        }
      ]
    },
    {
      "cell_type": "markdown",
      "metadata": {
        "id": "_yODKMflCVml"
      },
      "source": [
        "### 2. Data Preparation"
      ]
    },
    {
      "cell_type": "markdown",
      "metadata": {
        "id": "Cjb0A0IQwOS3"
      },
      "source": [
        "**[2.1]** Let's create a copy of our training dataframe"
      ]
    },
    {
      "cell_type": "code",
      "metadata": {
        "id": "1y9EbJSMwOZ9"
      },
      "source": [
        "df_cleaned = df.copy()"
      ],
      "execution_count": 20,
      "outputs": []
    },
    {
      "cell_type": "markdown",
      "source": [
        "**[2.2]** Let's create a copy of our testing dataframe"
      ],
      "metadata": {
        "id": "8EP08IRc99x6"
      }
    },
    {
      "cell_type": "code",
      "source": [
        "df_test_cleaned = df_test.copy()"
      ],
      "metadata": {
        "id": "ywlxX36r-Daj"
      },
      "execution_count": 21,
      "outputs": []
    },
    {
      "cell_type": "markdown",
      "source": [
        "**[2.3]** Remove the following columns from the training and testing dataframes: \"Unnamed: 0\", \"Geography\", \"Id\" "
      ],
      "metadata": {
        "id": "vErUPULeUeF1"
      }
    },
    {
      "cell_type": "code",
      "source": [
        "# For training dataframes\n",
        "df_cleaned = df_cleaned.drop(columns=[\"Unnamed: 0\",\"binnedInc\", \"Geography\", \"Id\"])"
      ],
      "metadata": {
        "id": "wD5rBgCuU_G0"
      },
      "execution_count": 22,
      "outputs": []
    },
    {
      "cell_type": "code",
      "source": [
        "# For testing dataframes\n",
        "df_test_cleaned = df_test_cleaned.drop(columns=[\"Unnamed: 0\", \"binnedInc\", \"Geography\", \"Id\"])"
      ],
      "metadata": {
        "id": "9omxHWTGVvI2"
      },
      "execution_count": 23,
      "outputs": []
    },
    {
      "cell_type": "markdown",
      "source": [
        "**[2.4]** Double checking the list of columns for training and testing dataframes"
      ],
      "metadata": {
        "id": "g1dyUIVlm-DZ"
      }
    },
    {
      "cell_type": "code",
      "source": [
        "# For training dataframes\n",
        "df_cleaned.columns"
      ],
      "metadata": {
        "id": "2MemuJFBWMYw",
        "colab": {
          "base_uri": "https://localhost:8080/"
        },
        "outputId": "466ca355-f7bb-4c7e-efac-fde37238bfee"
      },
      "execution_count": 24,
      "outputs": [
        {
          "output_type": "execute_result",
          "data": {
            "text/plain": [
              "Index(['avgAnnCount', 'avgDeathsPerYear', 'TARGET_deathRate', 'incidenceRate',\n",
              "       'medIncome', 'popEst2015', 'povertyPercent', 'studyPerCap', 'MedianAge',\n",
              "       'MedianAgeMale', 'MedianAgeFemale', 'AvgHouseholdSize',\n",
              "       'PercentMarried', 'PctNoHS18_24', 'PctHS18_24', 'PctBachDeg18_24',\n",
              "       'PctHS25_Over', 'PctBachDeg25_Over', 'PctEmployed16_Over',\n",
              "       'PctUnemployed16_Over', 'PctPrivateCoverage', 'PctEmpPrivCoverage',\n",
              "       'PctPublicCoverage', 'PctPublicCoverageAlone', 'PctWhite', 'PctBlack',\n",
              "       'PctAsian', 'PctOtherRace', 'PctMarriedHouseholds', 'BirthRate'],\n",
              "      dtype='object')"
            ]
          },
          "metadata": {},
          "execution_count": 24
        }
      ]
    },
    {
      "cell_type": "code",
      "source": [
        "# For testing dataframes\n",
        "df_test_cleaned.columns"
      ],
      "metadata": {
        "id": "y_rDDISRWeWz",
        "colab": {
          "base_uri": "https://localhost:8080/"
        },
        "outputId": "597fb812-61f9-4336-dab4-1ceff66c6803"
      },
      "execution_count": 25,
      "outputs": [
        {
          "output_type": "execute_result",
          "data": {
            "text/plain": [
              "Index(['avgAnnCount', 'avgDeathsPerYear', 'TARGET_deathRate', 'incidenceRate',\n",
              "       'medIncome', 'popEst2015', 'povertyPercent', 'studyPerCap', 'MedianAge',\n",
              "       'MedianAgeMale', 'MedianAgeFemale', 'AvgHouseholdSize',\n",
              "       'PercentMarried', 'PctNoHS18_24', 'PctHS18_24', 'PctBachDeg18_24',\n",
              "       'PctHS25_Over', 'PctBachDeg25_Over', 'PctEmployed16_Over',\n",
              "       'PctUnemployed16_Over', 'PctPrivateCoverage', 'PctEmpPrivCoverage',\n",
              "       'PctPublicCoverage', 'PctPublicCoverageAlone', 'PctWhite', 'PctBlack',\n",
              "       'PctAsian', 'PctOtherRace', 'PctMarriedHouseholds', 'BirthRate'],\n",
              "      dtype='object')"
            ]
          },
          "metadata": {},
          "execution_count": 25
        }
      ]
    },
    {
      "cell_type": "markdown",
      "source": [
        "**[2.5]** Extract the target variable into a variable called y_train and remove it from the training dataframe"
      ],
      "metadata": {
        "id": "EkvmilYhnRNK"
      }
    },
    {
      "cell_type": "code",
      "source": [
        "y_train = df_cleaned.pop('TARGET_deathRate')"
      ],
      "metadata": {
        "id": "6bALMi4UnWJ0"
      },
      "execution_count": 26,
      "outputs": []
    },
    {
      "cell_type": "markdown",
      "source": [
        "**[2.6]** Extract the target variable into a variable called y_test and remove it from the testing dataframe"
      ],
      "metadata": {
        "id": "T9Dgidg5naGu"
      }
    },
    {
      "cell_type": "code",
      "source": [
        "y_test = df_test_cleaned.pop('TARGET_deathRate')"
      ],
      "metadata": {
        "id": "_tumFxfNnebR"
      },
      "execution_count": 27,
      "outputs": []
    },
    {
      "cell_type": "markdown",
      "source": [
        "**[2.15]** Save all features from the training dataset into a variable called X_train\n"
      ],
      "metadata": {
        "id": "0EruTwf0tziG"
      }
    },
    {
      "cell_type": "code",
      "source": [
        "X_train = df_cleaned"
      ],
      "metadata": {
        "id": "pXH3U1xlt0BG"
      },
      "execution_count": 28,
      "outputs": []
    },
    {
      "cell_type": "markdown",
      "source": [
        "**[2.16]** Save the all features from the testing dataset into a variable called X_test\n"
      ],
      "metadata": {
        "id": "egtfPtZhDjkE"
      }
    },
    {
      "cell_type": "code",
      "source": [
        "X_test = df_test_cleaned"
      ],
      "metadata": {
        "id": "FD9Z7EEiEN06"
      },
      "execution_count": 29,
      "outputs": []
    },
    {
      "cell_type": "markdown",
      "metadata": {
        "id": "3a83eGnoROLd"
      },
      "source": [
        "### 3. Assess Baseline Model"
      ]
    },
    {
      "cell_type": "markdown",
      "metadata": {
        "id": "WBPdF5VvRVs5"
      },
      "source": [
        "**[3.1]** Find the average of the target variable"
      ]
    },
    {
      "cell_type": "code",
      "metadata": {
        "id": "_zzaiRj6ROSY",
        "colab": {
          "base_uri": "https://localhost:8080/"
        },
        "outputId": "2c44dac6-5ec2-498d-f8be-426c03495f2a"
      },
      "source": [
        "y_train_mean = y_train.mean()\n",
        "y_train_mean"
      ],
      "execution_count": 30,
      "outputs": [
        {
          "output_type": "execute_result",
          "data": {
            "text/plain": [
              "178.84848236259228"
            ]
          },
          "metadata": {},
          "execution_count": 30
        }
      ]
    },
    {
      "cell_type": "markdown",
      "metadata": {
        "id": "9VV-m6E5Rg88"
      },
      "source": [
        "**[3.2]** Create a numpy array called y_base filled with this value"
      ]
    },
    {
      "cell_type": "code",
      "metadata": {
        "id": "GbfgKmVzRhED",
        "colab": {
          "base_uri": "https://localhost:8080/"
        },
        "outputId": "5be3c8b6-746a-4ce2-a607-3e57837c1ef7"
      },
      "source": [
        "y_train_base = np.full(y_train.shape, y_train_mean)\n",
        "y_train_base"
      ],
      "execution_count": 31,
      "outputs": [
        {
          "output_type": "execute_result",
          "data": {
            "text/plain": [
              "array([178.84848236, 178.84848236, 178.84848236, ..., 178.84848236,\n",
              "       178.84848236, 178.84848236])"
            ]
          },
          "metadata": {},
          "execution_count": 31
        }
      ]
    },
    {
      "cell_type": "markdown",
      "metadata": {
        "id": "q5U4hHH_KjOC"
      },
      "source": [
        "**[3.3]** Import the MSE and MAE from sklearn"
      ]
    },
    {
      "cell_type": "code",
      "metadata": {
        "id": "kMarPqp0KrNX"
      },
      "source": [
        "from sklearn.metrics import mean_squared_error as mse\n",
        "from sklearn.metrics import mean_absolute_error as mae"
      ],
      "execution_count": 32,
      "outputs": []
    },
    {
      "cell_type": "markdown",
      "metadata": {
        "id": "UCVfsksbSAHO"
      },
      "source": [
        "**[3.4]** Display the RMSE and MAE scores of this baseline model"
      ]
    },
    {
      "cell_type": "code",
      "metadata": {
        "id": "Wy_WWtWlSCgJ",
        "colab": {
          "base_uri": "https://localhost:8080/"
        },
        "outputId": "e20800d2-a044-4c3a-9102-9b8419f122b2"
      },
      "source": [
        "print(mse(y_train, y_train_base, squared = False))\n",
        "print(mae(y_train,y_train_base))"
      ],
      "execution_count": 33,
      "outputs": [
        {
          "output_type": "stream",
          "name": "stdout",
          "text": [
            "27.532803236402337\n",
            "21.31608117575091\n"
          ]
        }
      ]
    },
    {
      "cell_type": "markdown",
      "metadata": {
        "id": "L2SUhKukEu3p"
      },
      "source": [
        "### 4. Train Initial Model with the all features"
      ]
    },
    {
      "cell_type": "markdown",
      "metadata": {
        "id": "CL0cKC3aI4Nk"
      },
      "source": [
        "**[4.1]** Import the linear regression module from sklearn"
      ]
    },
    {
      "cell_type": "code",
      "metadata": {
        "id": "obQTgYsQJEev"
      },
      "source": [
        "from sklearn.linear_model import LinearRegression "
      ],
      "execution_count": 34,
      "outputs": []
    },
    {
      "cell_type": "markdown",
      "metadata": {
        "id": "ewVmzWGlJSmd"
      },
      "source": [
        "**[4.2]** instantiate the LinearRegression class into a variable called reg1"
      ]
    },
    {
      "cell_type": "code",
      "metadata": {
        "id": "jf7epJFPJQc3"
      },
      "source": [
        "reg = LinearRegression()"
      ],
      "execution_count": 35,
      "outputs": []
    },
    {
      "cell_type": "markdown",
      "metadata": {
        "id": "EMyXMeEYJa3d"
      },
      "source": [
        "**[4.3]** Task: Fit the model with the prepared data"
      ]
    },
    {
      "cell_type": "code",
      "metadata": {
        "id": "j7qD7dBIJnwQ"
      },
      "source": [
        "reg = reg.fit(X_train,y_train)"
      ],
      "execution_count": 36,
      "outputs": []
    },
    {
      "cell_type": "markdown",
      "metadata": {
        "id": "bGcphha9Jsnk"
      },
      "source": [
        "**[4.4]** Use the trained model to predict the outcome on X_train and save them into y_preds"
      ]
    },
    {
      "cell_type": "code",
      "metadata": {
        "id": "YHRFtZoqJ9dt",
        "colab": {
          "base_uri": "https://localhost:8080/"
        },
        "outputId": "e6158856-9218-4f64-c3f9-96f8d483ab0e"
      },
      "source": [
        "y_train_preds = reg.predict(X_train)\n",
        "y_train_preds"
      ],
      "execution_count": 37,
      "outputs": [
        {
          "output_type": "execute_result",
          "data": {
            "text/plain": [
              "array([237.29025421, 194.53929295, 189.33398118, ..., 199.12317821,\n",
              "       178.01698082, 190.66395676])"
            ]
          },
          "metadata": {},
          "execution_count": 37
        }
      ]
    },
    {
      "cell_type": "markdown",
      "metadata": {
        "id": "ilbUUPqeKK31"
      },
      "source": [
        "**[4.5]** Display the RMSE and MAE scores on the training set"
      ]
    },
    {
      "cell_type": "code",
      "metadata": {
        "id": "lgXYJauVK_FH",
        "colab": {
          "base_uri": "https://localhost:8080/"
        },
        "outputId": "0be38f2b-5037-47b7-a31e-6c4d4e070c81"
      },
      "source": [
        "print(mse(y_train, y_train_preds, squared = False))\n",
        "print(mae(y_train,y_train_preds))"
      ],
      "execution_count": 38,
      "outputs": [
        {
          "output_type": "stream",
          "name": "stdout",
          "text": [
            "18.867244486411533\n",
            "14.02101177776914\n"
          ]
        }
      ]
    },
    {
      "cell_type": "markdown",
      "source": [
        "**[4.6]** Display the RMSE and MAE scores on the testing set"
      ],
      "metadata": {
        "id": "hJYl0sBNv74Y"
      }
    },
    {
      "cell_type": "code",
      "source": [
        "reg_test = LinearRegression()\n",
        "reg_test = reg_test.fit(X_test,y_test)\n",
        "y_test_preds = reg_test.predict(X_test)\n",
        "y_test_preds\n",
        "print(mse(y_test, y_test_preds, squared = False))\n",
        "print(mae(y_test,y_test_preds))"
      ],
      "metadata": {
        "id": "g6kej_xnv8AJ",
        "colab": {
          "base_uri": "https://localhost:8080/"
        },
        "outputId": "a31d9863-e271-4243-c22e-bf0ea5a51d7c"
      },
      "execution_count": 39,
      "outputs": [
        {
          "output_type": "stream",
          "name": "stdout",
          "text": [
            "19.56859655683965\n",
            "14.456492673735704\n"
          ]
        }
      ]
    },
    {
      "cell_type": "markdown",
      "source": [
        "**[4.7]** Display the predictions versus the target line charts on the training set"
      ],
      "metadata": {
        "id": "WU2uq5cXOOFU"
      }
    },
    {
      "cell_type": "code",
      "source": [
        "perfect_line_chart_training = alt.Chart(pd.DataFrame({'y_target': y_train, 'y_predict': y_train})).mark_line(color='green').encode(\n",
        "    x='y_target',\n",
        "    y='y_predict'\n",
        "  )\n",
        "perfect_line_chart_training\n",
        "predict_line_chart_training = alt.Chart(pd.DataFrame({'y_target': y_train, 'y_predict': y_train_preds})).mark_line().encode(\n",
        "    x='y_target',\n",
        "    y='y_predict'\n",
        "  )\n",
        "predict_line_chart_training\n",
        "perfect_line_chart_training + predict_line_chart_training"
      ],
      "metadata": {
        "id": "CYiUwhBUOOKQ",
        "colab": {
          "base_uri": "https://localhost:8080/",
          "height": 368
        },
        "outputId": "efa5ac9a-b94c-428a-f0ae-53a03152368e"
      },
      "execution_count": 40,
      "outputs": [
        {
          "output_type": "execute_result",
          "data": {
            "text/html": [
              "\n",
              "<div id=\"altair-viz-d7c0706fa21245b18be67692c2437303\"></div>\n",
              "<script type=\"text/javascript\">\n",
              "  var VEGA_DEBUG = (typeof VEGA_DEBUG == \"undefined\") ? {} : VEGA_DEBUG;\n",
              "  (function(spec, embedOpt){\n",
              "    let outputDiv = document.currentScript.previousElementSibling;\n",
              "    if (outputDiv.id !== \"altair-viz-d7c0706fa21245b18be67692c2437303\") {\n",
              "      outputDiv = document.getElementById(\"altair-viz-d7c0706fa21245b18be67692c2437303\");\n",
              "    }\n",
              "    const paths = {\n",
              "      \"vega\": \"https://cdn.jsdelivr.net/npm//vega@5?noext\",\n",
              "      \"vega-lib\": \"https://cdn.jsdelivr.net/npm//vega-lib?noext\",\n",
              "      \"vega-lite\": \"https://cdn.jsdelivr.net/npm//vega-lite@4.17.0?noext\",\n",
              "      \"vega-embed\": \"https://cdn.jsdelivr.net/npm//vega-embed@6?noext\",\n",
              "    };\n",
              "\n",
              "    function maybeLoadScript(lib, version) {\n",
              "      var key = `${lib.replace(\"-\", \"\")}_version`;\n",
              "      return (VEGA_DEBUG[key] == version) ?\n",
              "        Promise.resolve(paths[lib]) :\n",
              "        new Promise(function(resolve, reject) {\n",
              "          var s = document.createElement('script');\n",
              "          document.getElementsByTagName(\"head\")[0].appendChild(s);\n",
              "          s.async = true;\n",
              "          s.onload = () => {\n",
              "            VEGA_DEBUG[key] = version;\n",
              "            return resolve(paths[lib]);\n",
              "          };\n",
              "          s.onerror = () => reject(`Error loading script: ${paths[lib]}`);\n",
              "          s.src = paths[lib];\n",
              "        });\n",
              "    }\n",
              "\n",
              "    function showError(err) {\n",
              "      outputDiv.innerHTML = `<div class=\"error\" style=\"color:red;\">${err}</div>`;\n",
              "      throw err;\n",
              "    }\n",
              "\n",
              "    function displayChart(vegaEmbed) {\n",
              "      vegaEmbed(outputDiv, spec, embedOpt)\n",
              "        .catch(err => showError(`Javascript Error: ${err.message}<br>This usually means there's a typo in your chart specification. See the javascript console for the full traceback.`));\n",
              "    }\n",
              "\n",
              "    if(typeof define === \"function\" && define.amd) {\n",
              "      requirejs.config({paths});\n",
              "      require([\"vega-embed\"], displayChart, err => showError(`Error loading script: ${err.message}`));\n",
              "    } else {\n",
              "      maybeLoadScript(\"vega\", \"5\")\n",
              "        .then(() => maybeLoadScript(\"vega-lite\", \"4.17.0\"))\n",
              "        .then(() => maybeLoadScript(\"vega-embed\", \"6\"))\n",
              "        .catch(showError)\n",
              "        .then(() => displayChart(vegaEmbed));\n",
              "    }\n",
              "  })({\"config\": {\"view\": {\"continuousWidth\": 400, \"continuousHeight\": 300}}, \"layer\": [{\"data\": {\"name\": \"data-87f54277bdc85e2779884dfb3a941092\"}, \"mark\": {\"type\": \"line\", \"color\": \"green\"}, \"encoding\": {\"x\": {\"field\": \"y_target\", \"type\": \"quantitative\"}, \"y\": {\"field\": \"y_predict\", \"type\": \"quantitative\"}}}, {\"data\": {\"name\": \"data-1f78dae4f07aba83b138267452415207\"}, \"mark\": \"line\", \"encoding\": {\"x\": {\"field\": \"y_target\", \"type\": \"quantitative\"}, \"y\": {\"field\": \"y_predict\", \"type\": \"quantitative\"}}}], \"$schema\": \"https://vega.github.io/schema/vega-lite/v4.17.0.json\", \"datasets\": {\"data-87f54277bdc85e2779884dfb3a941092\": [{\"y_target\": 261.0, \"y_predict\": 261.0}, {\"y_target\": 167.3, \"y_predict\": 167.3}, {\"y_target\": 191.0, \"y_predict\": 191.0}, {\"y_target\": 165.4, \"y_predict\": 165.4}, {\"y_target\": 160.6, \"y_predict\": 160.6}, {\"y_target\": 120.1, \"y_predict\": 120.1}, {\"y_target\": 153.9, \"y_predict\": 153.9}, {\"y_target\": 174.1, \"y_predict\": 174.1}, {\"y_target\": 213.2, \"y_predict\": 213.2}, {\"y_target\": 150.9, \"y_predict\": 150.9}, {\"y_target\": 187.3, \"y_predict\": 187.3}, {\"y_target\": 204.5, \"y_predict\": 204.5}, {\"y_target\": 151.4, \"y_predict\": 151.4}, {\"y_target\": 169.1, \"y_predict\": 169.1}, {\"y_target\": 136.7, \"y_predict\": 136.7}, {\"y_target\": 205.0, \"y_predict\": 205.0}, {\"y_target\": 156.2, \"y_predict\": 156.2}, {\"y_target\": 169.1, \"y_predict\": 169.1}, {\"y_target\": 158.4, \"y_predict\": 158.4}, {\"y_target\": 195.9, \"y_predict\": 195.9}, {\"y_target\": 166.8, \"y_predict\": 166.8}, {\"y_target\": 183.4, \"y_predict\": 183.4}, {\"y_target\": 154.6, \"y_predict\": 154.6}, {\"y_target\": 106.5, \"y_predict\": 106.5}, {\"y_target\": 150.7, \"y_predict\": 150.7}, {\"y_target\": 165.0, \"y_predict\": 165.0}, {\"y_target\": 175.2, \"y_predict\": 175.2}, {\"y_target\": 178.0, \"y_predict\": 178.0}, {\"y_target\": 227.4, \"y_predict\": 227.4}, {\"y_target\": 188.4, \"y_predict\": 188.4}, {\"y_target\": 187.5, \"y_predict\": 187.5}, {\"y_target\": 228.0, \"y_predict\": 228.0}, {\"y_target\": 191.5, \"y_predict\": 191.5}, {\"y_target\": 113.5, \"y_predict\": 113.5}, {\"y_target\": 149.6, \"y_predict\": 149.6}, {\"y_target\": 186.0, \"y_predict\": 186.0}, {\"y_target\": 106.1, \"y_predict\": 106.1}, {\"y_target\": 181.9, \"y_predict\": 181.9}, {\"y_target\": 201.4, \"y_predict\": 201.4}, {\"y_target\": 171.0, \"y_predict\": 171.0}, {\"y_target\": 186.6, \"y_predict\": 186.6}, {\"y_target\": 178.9, \"y_predict\": 178.9}, {\"y_target\": 154.3, \"y_predict\": 154.3}, {\"y_target\": 176.9, \"y_predict\": 176.9}, {\"y_target\": 158.0, \"y_predict\": 158.0}, {\"y_target\": 133.7, \"y_predict\": 133.7}, {\"y_target\": 165.3, \"y_predict\": 165.3}, {\"y_target\": 175.5, \"y_predict\": 175.5}, {\"y_target\": 181.7, \"y_predict\": 181.7}, {\"y_target\": 163.2, \"y_predict\": 163.2}, {\"y_target\": 142.5, \"y_predict\": 142.5}, {\"y_target\": 178.0, \"y_predict\": 178.0}, {\"y_target\": 168.0, \"y_predict\": 168.0}, {\"y_target\": 142.4, \"y_predict\": 142.4}, {\"y_target\": 164.4, \"y_predict\": 164.4}, {\"y_target\": 124.3, \"y_predict\": 124.3}, {\"y_target\": 157.6, \"y_predict\": 157.6}, {\"y_target\": 188.1, \"y_predict\": 188.1}, {\"y_target\": 184.3, \"y_predict\": 184.3}, {\"y_target\": 137.0, \"y_predict\": 137.0}, {\"y_target\": 163.5, \"y_predict\": 163.5}, {\"y_target\": 182.8, \"y_predict\": 182.8}, {\"y_target\": 183.0, \"y_predict\": 183.0}, {\"y_target\": 182.2, \"y_predict\": 182.2}, {\"y_target\": 192.2, \"y_predict\": 192.2}, {\"y_target\": 184.5, \"y_predict\": 184.5}, {\"y_target\": 168.7, \"y_predict\": 168.7}, {\"y_target\": 137.6, \"y_predict\": 137.6}, {\"y_target\": 238.4, \"y_predict\": 238.4}, {\"y_target\": 150.9, \"y_predict\": 150.9}, {\"y_target\": 117.6, \"y_predict\": 117.6}, {\"y_target\": 191.5, \"y_predict\": 191.5}, {\"y_target\": 190.9, \"y_predict\": 190.9}, {\"y_target\": 174.0, \"y_predict\": 174.0}, {\"y_target\": 275.9, \"y_predict\": 275.9}, {\"y_target\": 186.1, \"y_predict\": 186.1}, {\"y_target\": 193.7, \"y_predict\": 193.7}, {\"y_target\": 176.8, \"y_predict\": 176.8}, {\"y_target\": 169.5, \"y_predict\": 169.5}, {\"y_target\": 209.5, \"y_predict\": 209.5}, {\"y_target\": 184.2, \"y_predict\": 184.2}, {\"y_target\": 145.4, \"y_predict\": 145.4}, {\"y_target\": 198.6, \"y_predict\": 198.6}, {\"y_target\": 222.2, \"y_predict\": 222.2}, {\"y_target\": 162.3, \"y_predict\": 162.3}, {\"y_target\": 176.4, \"y_predict\": 176.4}, {\"y_target\": 169.1, \"y_predict\": 169.1}, {\"y_target\": 161.7, \"y_predict\": 161.7}, {\"y_target\": 141.4, \"y_predict\": 141.4}, {\"y_target\": 159.2, \"y_predict\": 159.2}, {\"y_target\": 173.6, \"y_predict\": 173.6}, {\"y_target\": 204.1, \"y_predict\": 204.1}, {\"y_target\": 236.0, \"y_predict\": 236.0}, {\"y_target\": 215.7, \"y_predict\": 215.7}, {\"y_target\": 166.3, \"y_predict\": 166.3}, {\"y_target\": 167.4, \"y_predict\": 167.4}, {\"y_target\": 156.1, \"y_predict\": 156.1}, {\"y_target\": 140.3, \"y_predict\": 140.3}, {\"y_target\": 138.7, \"y_predict\": 138.7}, {\"y_target\": 199.2, \"y_predict\": 199.2}, {\"y_target\": 156.9, \"y_predict\": 156.9}, {\"y_target\": 169.8, \"y_predict\": 169.8}, {\"y_target\": 140.0, \"y_predict\": 140.0}, {\"y_target\": 209.6, \"y_predict\": 209.6}, {\"y_target\": 208.9, \"y_predict\": 208.9}, {\"y_target\": 194.5, \"y_predict\": 194.5}, {\"y_target\": 152.6, \"y_predict\": 152.6}, {\"y_target\": 198.5, \"y_predict\": 198.5}, {\"y_target\": 192.1, \"y_predict\": 192.1}, {\"y_target\": 151.2, \"y_predict\": 151.2}, {\"y_target\": 181.9, \"y_predict\": 181.9}, {\"y_target\": 163.5, \"y_predict\": 163.5}, {\"y_target\": 176.9, \"y_predict\": 176.9}, {\"y_target\": 222.4, \"y_predict\": 222.4}, {\"y_target\": 234.9, \"y_predict\": 234.9}, {\"y_target\": 189.5, \"y_predict\": 189.5}, {\"y_target\": 142.6, \"y_predict\": 142.6}, {\"y_target\": 224.4, \"y_predict\": 224.4}, {\"y_target\": 172.7, \"y_predict\": 172.7}, {\"y_target\": 172.1, \"y_predict\": 172.1}, {\"y_target\": 174.2, \"y_predict\": 174.2}, {\"y_target\": 162.8, \"y_predict\": 162.8}, {\"y_target\": 190.7, \"y_predict\": 190.7}, {\"y_target\": 149.0, \"y_predict\": 149.0}, {\"y_target\": 163.8, \"y_predict\": 163.8}, {\"y_target\": 190.8, \"y_predict\": 190.8}, {\"y_target\": 181.3, \"y_predict\": 181.3}, {\"y_target\": 206.9, \"y_predict\": 206.9}, {\"y_target\": 170.9, \"y_predict\": 170.9}, {\"y_target\": 192.1, \"y_predict\": 192.1}, {\"y_target\": 182.6, \"y_predict\": 182.6}, {\"y_target\": 176.3, \"y_predict\": 176.3}, {\"y_target\": 171.7, \"y_predict\": 171.7}, {\"y_target\": 161.1, \"y_predict\": 161.1}, {\"y_target\": 240.8, \"y_predict\": 240.8}, {\"y_target\": 172.5, \"y_predict\": 172.5}, {\"y_target\": 188.5, \"y_predict\": 188.5}, {\"y_target\": 151.2, \"y_predict\": 151.2}, {\"y_target\": 174.1, \"y_predict\": 174.1}, {\"y_target\": 143.9, \"y_predict\": 143.9}, {\"y_target\": 126.9, \"y_predict\": 126.9}, {\"y_target\": 225.7, \"y_predict\": 225.7}, {\"y_target\": 159.3, \"y_predict\": 159.3}, {\"y_target\": 169.1, \"y_predict\": 169.1}, {\"y_target\": 181.8, \"y_predict\": 181.8}, {\"y_target\": 215.5, \"y_predict\": 215.5}, {\"y_target\": 163.3, \"y_predict\": 163.3}, {\"y_target\": 204.9, \"y_predict\": 204.9}, {\"y_target\": 229.6, \"y_predict\": 229.6}, {\"y_target\": 222.9, \"y_predict\": 222.9}, {\"y_target\": 205.8, \"y_predict\": 205.8}, {\"y_target\": 179.0, \"y_predict\": 179.0}, {\"y_target\": 174.2, \"y_predict\": 174.2}, {\"y_target\": 178.8, \"y_predict\": 178.8}, {\"y_target\": 208.1, \"y_predict\": 208.1}, {\"y_target\": 137.6, \"y_predict\": 137.6}, {\"y_target\": 185.9, \"y_predict\": 185.9}, {\"y_target\": 179.1, \"y_predict\": 179.1}, {\"y_target\": 179.0, \"y_predict\": 179.0}, {\"y_target\": 224.3, \"y_predict\": 224.3}, {\"y_target\": 138.1, \"y_predict\": 138.1}, {\"y_target\": 153.9, \"y_predict\": 153.9}, {\"y_target\": 159.2, \"y_predict\": 159.2}, {\"y_target\": 138.1, \"y_predict\": 138.1}, {\"y_target\": 178.6, \"y_predict\": 178.6}, {\"y_target\": 238.4, \"y_predict\": 238.4}, {\"y_target\": 183.4, \"y_predict\": 183.4}, {\"y_target\": 200.2, \"y_predict\": 200.2}, {\"y_target\": 162.0, \"y_predict\": 162.0}, {\"y_target\": 200.6, \"y_predict\": 200.6}, {\"y_target\": 208.1, \"y_predict\": 208.1}, {\"y_target\": 171.7, \"y_predict\": 171.7}, {\"y_target\": 209.9, \"y_predict\": 209.9}, {\"y_target\": 182.4, \"y_predict\": 182.4}, {\"y_target\": 274.0, \"y_predict\": 274.0}, {\"y_target\": 162.6, \"y_predict\": 162.6}, {\"y_target\": 165.8, \"y_predict\": 165.8}, {\"y_target\": 240.8, \"y_predict\": 240.8}, {\"y_target\": 148.2, \"y_predict\": 148.2}, {\"y_target\": 167.5, \"y_predict\": 167.5}, {\"y_target\": 184.9, \"y_predict\": 184.9}, {\"y_target\": 185.2, \"y_predict\": 185.2}, {\"y_target\": 177.6, \"y_predict\": 177.6}, {\"y_target\": 155.6, \"y_predict\": 155.6}, {\"y_target\": 203.3, \"y_predict\": 203.3}, {\"y_target\": 199.1, \"y_predict\": 199.1}, {\"y_target\": 188.5, \"y_predict\": 188.5}, {\"y_target\": 165.7, \"y_predict\": 165.7}, {\"y_target\": 194.0, \"y_predict\": 194.0}, {\"y_target\": 151.9, \"y_predict\": 151.9}, {\"y_target\": 206.6, \"y_predict\": 206.6}, {\"y_target\": 213.5, \"y_predict\": 213.5}, {\"y_target\": 180.2, \"y_predict\": 180.2}, {\"y_target\": 212.7, \"y_predict\": 212.7}, {\"y_target\": 180.7, \"y_predict\": 180.7}, {\"y_target\": 184.8, \"y_predict\": 184.8}, {\"y_target\": 171.1, \"y_predict\": 171.1}, {\"y_target\": 201.4, \"y_predict\": 201.4}, {\"y_target\": 165.4, \"y_predict\": 165.4}, {\"y_target\": 182.2, \"y_predict\": 182.2}, {\"y_target\": 121.0, \"y_predict\": 121.0}, {\"y_target\": 175.3, \"y_predict\": 175.3}, {\"y_target\": 173.3, \"y_predict\": 173.3}, {\"y_target\": 160.1, \"y_predict\": 160.1}, {\"y_target\": 142.8, \"y_predict\": 142.8}, {\"y_target\": 240.2, \"y_predict\": 240.2}, {\"y_target\": 246.4, \"y_predict\": 246.4}, {\"y_target\": 179.4, \"y_predict\": 179.4}, {\"y_target\": 186.2, \"y_predict\": 186.2}, {\"y_target\": 155.9, \"y_predict\": 155.9}, {\"y_target\": 153.9, \"y_predict\": 153.9}, {\"y_target\": 157.4, \"y_predict\": 157.4}, {\"y_target\": 202.6, \"y_predict\": 202.6}, {\"y_target\": 129.3, \"y_predict\": 129.3}, {\"y_target\": 160.0, \"y_predict\": 160.0}, {\"y_target\": 179.7, \"y_predict\": 179.7}, {\"y_target\": 146.7, \"y_predict\": 146.7}, {\"y_target\": 209.7, \"y_predict\": 209.7}, {\"y_target\": 151.3, \"y_predict\": 151.3}, {\"y_target\": 191.8, \"y_predict\": 191.8}, {\"y_target\": 146.5, \"y_predict\": 146.5}, {\"y_target\": 208.6, \"y_predict\": 208.6}, {\"y_target\": 183.2, \"y_predict\": 183.2}, {\"y_target\": 195.5, \"y_predict\": 195.5}, {\"y_target\": 162.2, \"y_predict\": 162.2}, {\"y_target\": 136.8, \"y_predict\": 136.8}, {\"y_target\": 150.6, \"y_predict\": 150.6}, {\"y_target\": 210.9, \"y_predict\": 210.9}, {\"y_target\": 175.1, \"y_predict\": 175.1}, {\"y_target\": 213.7, \"y_predict\": 213.7}, {\"y_target\": 162.9, \"y_predict\": 162.9}, {\"y_target\": 185.0, \"y_predict\": 185.0}, {\"y_target\": 150.3, \"y_predict\": 150.3}, {\"y_target\": 185.3, \"y_predict\": 185.3}, {\"y_target\": 119.3, \"y_predict\": 119.3}, {\"y_target\": 129.1, \"y_predict\": 129.1}, {\"y_target\": 194.4, \"y_predict\": 194.4}, {\"y_target\": 143.2, \"y_predict\": 143.2}, {\"y_target\": 159.1, \"y_predict\": 159.1}, {\"y_target\": 155.5, \"y_predict\": 155.5}, {\"y_target\": 178.8, \"y_predict\": 178.8}, {\"y_target\": 168.2, \"y_predict\": 168.2}, {\"y_target\": 230.3, \"y_predict\": 230.3}, {\"y_target\": 183.8, \"y_predict\": 183.8}, {\"y_target\": 180.5, \"y_predict\": 180.5}, {\"y_target\": 225.5, \"y_predict\": 225.5}, {\"y_target\": 177.0, \"y_predict\": 177.0}, {\"y_target\": 156.6, \"y_predict\": 156.6}, {\"y_target\": 185.0, \"y_predict\": 185.0}, {\"y_target\": 160.1, \"y_predict\": 160.1}, {\"y_target\": 153.9, \"y_predict\": 153.9}, {\"y_target\": 146.9, \"y_predict\": 146.9}, {\"y_target\": 147.5, \"y_predict\": 147.5}, {\"y_target\": 186.9, \"y_predict\": 186.9}, {\"y_target\": 190.6, \"y_predict\": 190.6}, {\"y_target\": 170.0, \"y_predict\": 170.0}, {\"y_target\": 179.9, \"y_predict\": 179.9}, {\"y_target\": 162.7, \"y_predict\": 162.7}, {\"y_target\": 217.0, \"y_predict\": 217.0}, {\"y_target\": 178.2, \"y_predict\": 178.2}, {\"y_target\": 192.7, \"y_predict\": 192.7}, {\"y_target\": 232.3, \"y_predict\": 232.3}, {\"y_target\": 178.3, \"y_predict\": 178.3}, {\"y_target\": 165.3, \"y_predict\": 165.3}, {\"y_target\": 170.4, \"y_predict\": 170.4}, {\"y_target\": 169.9, \"y_predict\": 169.9}, {\"y_target\": 189.2, \"y_predict\": 189.2}, {\"y_target\": 164.3, \"y_predict\": 164.3}, {\"y_target\": 213.6, \"y_predict\": 213.6}, {\"y_target\": 188.6, \"y_predict\": 188.6}, {\"y_target\": 172.8, \"y_predict\": 172.8}, {\"y_target\": 156.0, \"y_predict\": 156.0}, {\"y_target\": 196.7, \"y_predict\": 196.7}, {\"y_target\": 165.0, \"y_predict\": 165.0}, {\"y_target\": 164.3, \"y_predict\": 164.3}, {\"y_target\": 187.1, \"y_predict\": 187.1}, {\"y_target\": 185.3, \"y_predict\": 185.3}, {\"y_target\": 186.1, \"y_predict\": 186.1}, {\"y_target\": 164.9, \"y_predict\": 164.9}, {\"y_target\": 155.1, \"y_predict\": 155.1}, {\"y_target\": 210.7, \"y_predict\": 210.7}, {\"y_target\": 205.0, \"y_predict\": 205.0}, {\"y_target\": 202.7, \"y_predict\": 202.7}, {\"y_target\": 194.1, \"y_predict\": 194.1}, {\"y_target\": 188.9, \"y_predict\": 188.9}, {\"y_target\": 209.1, \"y_predict\": 209.1}, {\"y_target\": 160.8, \"y_predict\": 160.8}, {\"y_target\": 182.2, \"y_predict\": 182.2}, {\"y_target\": 150.8, \"y_predict\": 150.8}, {\"y_target\": 161.2, \"y_predict\": 161.2}, {\"y_target\": 157.6, \"y_predict\": 157.6}, {\"y_target\": 151.9, \"y_predict\": 151.9}, {\"y_target\": 150.1, \"y_predict\": 150.1}, {\"y_target\": 189.1, \"y_predict\": 189.1}, {\"y_target\": 146.7, \"y_predict\": 146.7}, {\"y_target\": 195.9, \"y_predict\": 195.9}, {\"y_target\": 212.0, \"y_predict\": 212.0}, {\"y_target\": 203.3, \"y_predict\": 203.3}, {\"y_target\": 238.8, \"y_predict\": 238.8}, {\"y_target\": 177.2, \"y_predict\": 177.2}, {\"y_target\": 165.1, \"y_predict\": 165.1}, {\"y_target\": 189.2, \"y_predict\": 189.2}, {\"y_target\": 196.9, \"y_predict\": 196.9}, {\"y_target\": 157.3, \"y_predict\": 157.3}, {\"y_target\": 146.6, \"y_predict\": 146.6}, {\"y_target\": 166.7, \"y_predict\": 166.7}, {\"y_target\": 185.0, \"y_predict\": 185.0}, {\"y_target\": 153.3, \"y_predict\": 153.3}, {\"y_target\": 156.8, \"y_predict\": 156.8}, {\"y_target\": 179.2, \"y_predict\": 179.2}, {\"y_target\": 136.9, \"y_predict\": 136.9}, {\"y_target\": 189.6, \"y_predict\": 189.6}, {\"y_target\": 189.0, \"y_predict\": 189.0}, {\"y_target\": 159.1, \"y_predict\": 159.1}, {\"y_target\": 163.3, \"y_predict\": 163.3}, {\"y_target\": 215.0, \"y_predict\": 215.0}, {\"y_target\": 201.4, \"y_predict\": 201.4}, {\"y_target\": 171.8, \"y_predict\": 171.8}, {\"y_target\": 156.7, \"y_predict\": 156.7}, {\"y_target\": 186.3, \"y_predict\": 186.3}, {\"y_target\": 181.0, \"y_predict\": 181.0}, {\"y_target\": 160.2, \"y_predict\": 160.2}, {\"y_target\": 123.6, \"y_predict\": 123.6}, {\"y_target\": 209.6, \"y_predict\": 209.6}, {\"y_target\": 191.1, \"y_predict\": 191.1}, {\"y_target\": 179.6, \"y_predict\": 179.6}, {\"y_target\": 171.0, \"y_predict\": 171.0}, {\"y_target\": 167.5, \"y_predict\": 167.5}, {\"y_target\": 192.0, \"y_predict\": 192.0}, {\"y_target\": 168.6, \"y_predict\": 168.6}, {\"y_target\": 150.7, \"y_predict\": 150.7}, {\"y_target\": 157.6, \"y_predict\": 157.6}, {\"y_target\": 154.0, \"y_predict\": 154.0}, {\"y_target\": 178.6, \"y_predict\": 178.6}, {\"y_target\": 155.8, \"y_predict\": 155.8}, {\"y_target\": 185.3, \"y_predict\": 185.3}, {\"y_target\": 189.5, \"y_predict\": 189.5}, {\"y_target\": 121.4, \"y_predict\": 121.4}, {\"y_target\": 154.5, \"y_predict\": 154.5}, {\"y_target\": 201.0, \"y_predict\": 201.0}, {\"y_target\": 182.8, \"y_predict\": 182.8}, {\"y_target\": 165.2, \"y_predict\": 165.2}, {\"y_target\": 176.4, \"y_predict\": 176.4}, {\"y_target\": 148.7, \"y_predict\": 148.7}, {\"y_target\": 280.8, \"y_predict\": 280.8}, {\"y_target\": 168.9, \"y_predict\": 168.9}, {\"y_target\": 138.5, \"y_predict\": 138.5}, {\"y_target\": 153.5, \"y_predict\": 153.5}, {\"y_target\": 185.5, \"y_predict\": 185.5}, {\"y_target\": 159.3, \"y_predict\": 159.3}, {\"y_target\": 198.2, \"y_predict\": 198.2}, {\"y_target\": 228.6, \"y_predict\": 228.6}, {\"y_target\": 204.6, \"y_predict\": 204.6}, {\"y_target\": 175.4, \"y_predict\": 175.4}, {\"y_target\": 184.1, \"y_predict\": 184.1}, {\"y_target\": 155.6, \"y_predict\": 155.6}, {\"y_target\": 214.1, \"y_predict\": 214.1}, {\"y_target\": 211.2, \"y_predict\": 211.2}, {\"y_target\": 206.8, \"y_predict\": 206.8}, {\"y_target\": 184.4, \"y_predict\": 184.4}, {\"y_target\": 129.1, \"y_predict\": 129.1}, {\"y_target\": 243.5, \"y_predict\": 243.5}, {\"y_target\": 194.3, \"y_predict\": 194.3}, {\"y_target\": 190.1, \"y_predict\": 190.1}, {\"y_target\": 193.9, \"y_predict\": 193.9}, {\"y_target\": 213.7, \"y_predict\": 213.7}, {\"y_target\": 166.1, \"y_predict\": 166.1}, {\"y_target\": 137.4, \"y_predict\": 137.4}, {\"y_target\": 192.8, \"y_predict\": 192.8}, {\"y_target\": 225.1, \"y_predict\": 225.1}, {\"y_target\": 173.5, \"y_predict\": 173.5}, {\"y_target\": 176.0, \"y_predict\": 176.0}, {\"y_target\": 206.3, \"y_predict\": 206.3}, {\"y_target\": 190.1, \"y_predict\": 190.1}, {\"y_target\": 143.0, \"y_predict\": 143.0}, {\"y_target\": 182.4, \"y_predict\": 182.4}, {\"y_target\": 198.7, \"y_predict\": 198.7}, {\"y_target\": 172.2, \"y_predict\": 172.2}, {\"y_target\": 200.2, \"y_predict\": 200.2}, {\"y_target\": 194.2, \"y_predict\": 194.2}, {\"y_target\": 181.9, \"y_predict\": 181.9}, {\"y_target\": 224.8, \"y_predict\": 224.8}, {\"y_target\": 150.9, \"y_predict\": 150.9}, {\"y_target\": 182.1, \"y_predict\": 182.1}, {\"y_target\": 114.2, \"y_predict\": 114.2}, {\"y_target\": 200.1, \"y_predict\": 200.1}, {\"y_target\": 194.6, \"y_predict\": 194.6}, {\"y_target\": 170.7, \"y_predict\": 170.7}, {\"y_target\": 123.0, \"y_predict\": 123.0}, {\"y_target\": 173.0, \"y_predict\": 173.0}, {\"y_target\": 151.7, \"y_predict\": 151.7}, {\"y_target\": 161.8, \"y_predict\": 161.8}, {\"y_target\": 153.7, \"y_predict\": 153.7}, {\"y_target\": 172.2, \"y_predict\": 172.2}, {\"y_target\": 168.0, \"y_predict\": 168.0}, {\"y_target\": 163.9, \"y_predict\": 163.9}, {\"y_target\": 191.5, \"y_predict\": 191.5}, {\"y_target\": 164.6, \"y_predict\": 164.6}, {\"y_target\": 202.2, \"y_predict\": 202.2}, {\"y_target\": 225.1, \"y_predict\": 225.1}, {\"y_target\": 161.9, \"y_predict\": 161.9}, {\"y_target\": 180.3, \"y_predict\": 180.3}, {\"y_target\": 142.9, \"y_predict\": 142.9}, {\"y_target\": 195.2, \"y_predict\": 195.2}, {\"y_target\": 161.0, \"y_predict\": 161.0}, {\"y_target\": 189.0, \"y_predict\": 189.0}, {\"y_target\": 200.3, \"y_predict\": 200.3}, {\"y_target\": 155.9, \"y_predict\": 155.9}, {\"y_target\": 194.0, \"y_predict\": 194.0}, {\"y_target\": 177.2, \"y_predict\": 177.2}, {\"y_target\": 179.3, \"y_predict\": 179.3}, {\"y_target\": 153.0, \"y_predict\": 153.0}, {\"y_target\": 191.7, \"y_predict\": 191.7}, {\"y_target\": 190.2, \"y_predict\": 190.2}, {\"y_target\": 166.5, \"y_predict\": 166.5}, {\"y_target\": 175.9, \"y_predict\": 175.9}, {\"y_target\": 207.4, \"y_predict\": 207.4}, {\"y_target\": 161.7, \"y_predict\": 161.7}, {\"y_target\": 183.9, \"y_predict\": 183.9}, {\"y_target\": 138.4, \"y_predict\": 138.4}, {\"y_target\": 218.8, \"y_predict\": 218.8}, {\"y_target\": 161.7, \"y_predict\": 161.7}, {\"y_target\": 205.0, \"y_predict\": 205.0}, {\"y_target\": 199.8, \"y_predict\": 199.8}, {\"y_target\": 203.2, \"y_predict\": 203.2}, {\"y_target\": 213.3, \"y_predict\": 213.3}, {\"y_target\": 182.5, \"y_predict\": 182.5}, {\"y_target\": 128.2, \"y_predict\": 128.2}, {\"y_target\": 178.6, \"y_predict\": 178.6}, {\"y_target\": 194.7, \"y_predict\": 194.7}, {\"y_target\": 163.0, \"y_predict\": 163.0}, {\"y_target\": 192.5, \"y_predict\": 192.5}, {\"y_target\": 206.3, \"y_predict\": 206.3}, {\"y_target\": 142.3, \"y_predict\": 142.3}, {\"y_target\": 211.4, \"y_predict\": 211.4}, {\"y_target\": 199.9, \"y_predict\": 199.9}, {\"y_target\": 192.7, \"y_predict\": 192.7}, {\"y_target\": 209.2, \"y_predict\": 209.2}, {\"y_target\": 212.3, \"y_predict\": 212.3}, {\"y_target\": 180.2, \"y_predict\": 180.2}, {\"y_target\": 176.8, \"y_predict\": 176.8}, {\"y_target\": 235.0, \"y_predict\": 235.0}, {\"y_target\": 189.8, \"y_predict\": 189.8}, {\"y_target\": 129.5, \"y_predict\": 129.5}, {\"y_target\": 169.9, \"y_predict\": 169.9}, {\"y_target\": 166.6, \"y_predict\": 166.6}, {\"y_target\": 178.0, \"y_predict\": 178.0}, {\"y_target\": 239.7, \"y_predict\": 239.7}, {\"y_target\": 220.6, \"y_predict\": 220.6}, {\"y_target\": 181.4, \"y_predict\": 181.4}, {\"y_target\": 170.6, \"y_predict\": 170.6}, {\"y_target\": 219.5, \"y_predict\": 219.5}, {\"y_target\": 130.4, \"y_predict\": 130.4}, {\"y_target\": 159.7, \"y_predict\": 159.7}, {\"y_target\": 136.5, \"y_predict\": 136.5}, {\"y_target\": 150.5, \"y_predict\": 150.5}, {\"y_target\": 172.8, \"y_predict\": 172.8}, {\"y_target\": 185.1, \"y_predict\": 185.1}, {\"y_target\": 154.8, \"y_predict\": 154.8}, {\"y_target\": 125.2, \"y_predict\": 125.2}, {\"y_target\": 170.0, \"y_predict\": 170.0}, {\"y_target\": 163.6, \"y_predict\": 163.6}, {\"y_target\": 170.4, \"y_predict\": 170.4}, {\"y_target\": 175.8, \"y_predict\": 175.8}, {\"y_target\": 213.1, \"y_predict\": 213.1}, {\"y_target\": 145.7, \"y_predict\": 145.7}, {\"y_target\": 196.0, \"y_predict\": 196.0}, {\"y_target\": 143.1, \"y_predict\": 143.1}, {\"y_target\": 113.2, \"y_predict\": 113.2}, {\"y_target\": 130.6, \"y_predict\": 130.6}, {\"y_target\": 197.9, \"y_predict\": 197.9}, {\"y_target\": 187.4, \"y_predict\": 187.4}, {\"y_target\": 205.3, \"y_predict\": 205.3}, {\"y_target\": 211.7, \"y_predict\": 211.7}, {\"y_target\": 184.1, \"y_predict\": 184.1}, {\"y_target\": 192.8, \"y_predict\": 192.8}, {\"y_target\": 179.3, \"y_predict\": 179.3}, {\"y_target\": 172.6, \"y_predict\": 172.6}, {\"y_target\": 161.3, \"y_predict\": 161.3}, {\"y_target\": 183.0, \"y_predict\": 183.0}, {\"y_target\": 158.4, \"y_predict\": 158.4}, {\"y_target\": 171.0, \"y_predict\": 171.0}, {\"y_target\": 181.5, \"y_predict\": 181.5}, {\"y_target\": 135.2, \"y_predict\": 135.2}, {\"y_target\": 151.8, \"y_predict\": 151.8}, {\"y_target\": 207.4, \"y_predict\": 207.4}, {\"y_target\": 145.9, \"y_predict\": 145.9}, {\"y_target\": 169.3, \"y_predict\": 169.3}, {\"y_target\": 136.0, \"y_predict\": 136.0}, {\"y_target\": 159.5, \"y_predict\": 159.5}, {\"y_target\": 188.1, \"y_predict\": 188.1}, {\"y_target\": 200.2, \"y_predict\": 200.2}, {\"y_target\": 174.7, \"y_predict\": 174.7}, {\"y_target\": 177.8, \"y_predict\": 177.8}, {\"y_target\": 202.8, \"y_predict\": 202.8}, {\"y_target\": 197.8, \"y_predict\": 197.8}, {\"y_target\": 165.9, \"y_predict\": 165.9}, {\"y_target\": 214.9, \"y_predict\": 214.9}, {\"y_target\": 171.9, \"y_predict\": 171.9}, {\"y_target\": 166.2, \"y_predict\": 166.2}, {\"y_target\": 159.8, \"y_predict\": 159.8}, {\"y_target\": 219.0, \"y_predict\": 219.0}, {\"y_target\": 231.3, \"y_predict\": 231.3}, {\"y_target\": 208.4, \"y_predict\": 208.4}, {\"y_target\": 219.7, \"y_predict\": 219.7}, {\"y_target\": 141.0, \"y_predict\": 141.0}, {\"y_target\": 177.7, \"y_predict\": 177.7}, {\"y_target\": 166.0, \"y_predict\": 166.0}, {\"y_target\": 157.4, \"y_predict\": 157.4}, {\"y_target\": 238.1, \"y_predict\": 238.1}, {\"y_target\": 259.1, \"y_predict\": 259.1}, {\"y_target\": 191.8, \"y_predict\": 191.8}, {\"y_target\": 164.8, \"y_predict\": 164.8}, {\"y_target\": 161.2, \"y_predict\": 161.2}, {\"y_target\": 194.4, \"y_predict\": 194.4}, {\"y_target\": 126.1, \"y_predict\": 126.1}, {\"y_target\": 167.6, \"y_predict\": 167.6}, {\"y_target\": 154.1, \"y_predict\": 154.1}, {\"y_target\": 226.9, \"y_predict\": 226.9}, {\"y_target\": 171.1, \"y_predict\": 171.1}, {\"y_target\": 169.4, \"y_predict\": 169.4}, {\"y_target\": 249.7, \"y_predict\": 249.7}, {\"y_target\": 166.5, \"y_predict\": 166.5}, {\"y_target\": 183.6, \"y_predict\": 183.6}, {\"y_target\": 224.3, \"y_predict\": 224.3}, {\"y_target\": 179.5, \"y_predict\": 179.5}, {\"y_target\": 197.8, \"y_predict\": 197.8}, {\"y_target\": 194.9, \"y_predict\": 194.9}, {\"y_target\": 189.8, \"y_predict\": 189.8}, {\"y_target\": 173.0, \"y_predict\": 173.0}, {\"y_target\": 206.8, \"y_predict\": 206.8}, {\"y_target\": 195.8, \"y_predict\": 195.8}, {\"y_target\": 177.2, \"y_predict\": 177.2}, {\"y_target\": 161.9, \"y_predict\": 161.9}, {\"y_target\": 189.8, \"y_predict\": 189.8}, {\"y_target\": 93.8, \"y_predict\": 93.8}, {\"y_target\": 184.3, \"y_predict\": 184.3}, {\"y_target\": 177.6, \"y_predict\": 177.6}, {\"y_target\": 161.2, \"y_predict\": 161.2}, {\"y_target\": 166.4, \"y_predict\": 166.4}, {\"y_target\": 172.7, \"y_predict\": 172.7}, {\"y_target\": 181.1, \"y_predict\": 181.1}, {\"y_target\": 204.4, \"y_predict\": 204.4}, {\"y_target\": 152.7, \"y_predict\": 152.7}, {\"y_target\": 174.0, \"y_predict\": 174.0}, {\"y_target\": 172.4, \"y_predict\": 172.4}, {\"y_target\": 220.2, \"y_predict\": 220.2}, {\"y_target\": 177.5, \"y_predict\": 177.5}, {\"y_target\": 182.6, \"y_predict\": 182.6}, {\"y_target\": 202.9, \"y_predict\": 202.9}, {\"y_target\": 200.4, \"y_predict\": 200.4}, {\"y_target\": 214.9, \"y_predict\": 214.9}, {\"y_target\": 199.9, \"y_predict\": 199.9}, {\"y_target\": 206.2, \"y_predict\": 206.2}, {\"y_target\": 134.3, \"y_predict\": 134.3}, {\"y_target\": 169.8, \"y_predict\": 169.8}, {\"y_target\": 132.8, \"y_predict\": 132.8}, {\"y_target\": 201.0, \"y_predict\": 201.0}, {\"y_target\": 222.3, \"y_predict\": 222.3}, {\"y_target\": 189.5, \"y_predict\": 189.5}, {\"y_target\": 146.1, \"y_predict\": 146.1}, {\"y_target\": 192.2, \"y_predict\": 192.2}, {\"y_target\": 215.4, \"y_predict\": 215.4}, {\"y_target\": 211.9, \"y_predict\": 211.9}, {\"y_target\": 168.1, \"y_predict\": 168.1}, {\"y_target\": 194.4, \"y_predict\": 194.4}, {\"y_target\": 267.6, \"y_predict\": 267.6}, {\"y_target\": 120.4, \"y_predict\": 120.4}, {\"y_target\": 178.4, \"y_predict\": 178.4}, {\"y_target\": 266.7, \"y_predict\": 266.7}, {\"y_target\": 181.6, \"y_predict\": 181.6}, {\"y_target\": 192.3, \"y_predict\": 192.3}, {\"y_target\": 167.3, \"y_predict\": 167.3}, {\"y_target\": 142.5, \"y_predict\": 142.5}, {\"y_target\": 151.3, \"y_predict\": 151.3}, {\"y_target\": 164.9, \"y_predict\": 164.9}, {\"y_target\": 199.5, \"y_predict\": 199.5}, {\"y_target\": 157.5, \"y_predict\": 157.5}, {\"y_target\": 187.2, \"y_predict\": 187.2}, {\"y_target\": 212.3, \"y_predict\": 212.3}, {\"y_target\": 150.4, \"y_predict\": 150.4}, {\"y_target\": 133.2, \"y_predict\": 133.2}, {\"y_target\": 209.6, \"y_predict\": 209.6}, {\"y_target\": 213.5, \"y_predict\": 213.5}, {\"y_target\": 184.3, \"y_predict\": 184.3}, {\"y_target\": 201.1, \"y_predict\": 201.1}, {\"y_target\": 187.8, \"y_predict\": 187.8}, {\"y_target\": 158.3, \"y_predict\": 158.3}, {\"y_target\": 174.1, \"y_predict\": 174.1}, {\"y_target\": 195.3, \"y_predict\": 195.3}, {\"y_target\": 167.8, \"y_predict\": 167.8}, {\"y_target\": 185.6, \"y_predict\": 185.6}, {\"y_target\": 211.7, \"y_predict\": 211.7}, {\"y_target\": 220.2, \"y_predict\": 220.2}, {\"y_target\": 166.9, \"y_predict\": 166.9}, {\"y_target\": 168.4, \"y_predict\": 168.4}, {\"y_target\": 201.7, \"y_predict\": 201.7}, {\"y_target\": 213.7, \"y_predict\": 213.7}, {\"y_target\": 141.8, \"y_predict\": 141.8}, {\"y_target\": 181.0, \"y_predict\": 181.0}, {\"y_target\": 168.5, \"y_predict\": 168.5}, {\"y_target\": 158.7, \"y_predict\": 158.7}, {\"y_target\": 165.8, \"y_predict\": 165.8}, {\"y_target\": 105.4, \"y_predict\": 105.4}, {\"y_target\": 220.4, \"y_predict\": 220.4}, {\"y_target\": 158.1, \"y_predict\": 158.1}, {\"y_target\": 166.4, \"y_predict\": 166.4}, {\"y_target\": 177.9, \"y_predict\": 177.9}, {\"y_target\": 172.9, \"y_predict\": 172.9}, {\"y_target\": 142.3, \"y_predict\": 142.3}, {\"y_target\": 193.5, \"y_predict\": 193.5}, {\"y_target\": 171.5, \"y_predict\": 171.5}, {\"y_target\": 185.3, \"y_predict\": 185.3}, {\"y_target\": 143.3, \"y_predict\": 143.3}, {\"y_target\": 128.7, \"y_predict\": 128.7}, {\"y_target\": 192.8, \"y_predict\": 192.8}, {\"y_target\": 167.3, \"y_predict\": 167.3}, {\"y_target\": 218.3, \"y_predict\": 218.3}, {\"y_target\": 157.8, \"y_predict\": 157.8}, {\"y_target\": 173.3, \"y_predict\": 173.3}, {\"y_target\": 128.3, \"y_predict\": 128.3}, {\"y_target\": 215.1, \"y_predict\": 215.1}, {\"y_target\": 164.9, \"y_predict\": 164.9}, {\"y_target\": 203.8, \"y_predict\": 203.8}, {\"y_target\": 179.9, \"y_predict\": 179.9}, {\"y_target\": 191.4, \"y_predict\": 191.4}, {\"y_target\": 175.1, \"y_predict\": 175.1}, {\"y_target\": 167.2, \"y_predict\": 167.2}, {\"y_target\": 152.6, \"y_predict\": 152.6}, {\"y_target\": 153.3, \"y_predict\": 153.3}, {\"y_target\": 176.5, \"y_predict\": 176.5}, {\"y_target\": 185.6, \"y_predict\": 185.6}, {\"y_target\": 149.4, \"y_predict\": 149.4}, {\"y_target\": 197.0, \"y_predict\": 197.0}, {\"y_target\": 201.7, \"y_predict\": 201.7}, {\"y_target\": 195.8, \"y_predict\": 195.8}, {\"y_target\": 189.0, \"y_predict\": 189.0}, {\"y_target\": 167.9, \"y_predict\": 167.9}, {\"y_target\": 189.4, \"y_predict\": 189.4}, {\"y_target\": 164.1, \"y_predict\": 164.1}, {\"y_target\": 178.9, \"y_predict\": 178.9}, {\"y_target\": 179.9, \"y_predict\": 179.9}, {\"y_target\": 181.6, \"y_predict\": 181.6}, {\"y_target\": 211.1, \"y_predict\": 211.1}, {\"y_target\": 170.1, \"y_predict\": 170.1}, {\"y_target\": 159.5, \"y_predict\": 159.5}, {\"y_target\": 126.9, \"y_predict\": 126.9}, {\"y_target\": 160.4, \"y_predict\": 160.4}, {\"y_target\": 179.4, \"y_predict\": 179.4}, {\"y_target\": 135.0, \"y_predict\": 135.0}, {\"y_target\": 166.0, \"y_predict\": 166.0}, {\"y_target\": 159.4, \"y_predict\": 159.4}, {\"y_target\": 129.4, \"y_predict\": 129.4}, {\"y_target\": 186.9, \"y_predict\": 186.9}, {\"y_target\": 202.5, \"y_predict\": 202.5}, {\"y_target\": 179.9, \"y_predict\": 179.9}, {\"y_target\": 141.5, \"y_predict\": 141.5}, {\"y_target\": 182.9, \"y_predict\": 182.9}, {\"y_target\": 141.6, \"y_predict\": 141.6}, {\"y_target\": 210.7, \"y_predict\": 210.7}, {\"y_target\": 150.1, \"y_predict\": 150.1}, {\"y_target\": 110.4, \"y_predict\": 110.4}, {\"y_target\": 114.5, \"y_predict\": 114.5}, {\"y_target\": 177.1, \"y_predict\": 177.1}, {\"y_target\": 198.7, \"y_predict\": 198.7}, {\"y_target\": 185.0, \"y_predict\": 185.0}, {\"y_target\": 185.4, \"y_predict\": 185.4}, {\"y_target\": 207.6, \"y_predict\": 207.6}, {\"y_target\": 204.0, \"y_predict\": 204.0}, {\"y_target\": 172.7, \"y_predict\": 172.7}, {\"y_target\": 242.9, \"y_predict\": 242.9}, {\"y_target\": 215.0, \"y_predict\": 215.0}, {\"y_target\": 177.0, \"y_predict\": 177.0}, {\"y_target\": 206.1, \"y_predict\": 206.1}, {\"y_target\": 147.9, \"y_predict\": 147.9}, {\"y_target\": 184.8, \"y_predict\": 184.8}, {\"y_target\": 170.5, \"y_predict\": 170.5}, {\"y_target\": 205.5, \"y_predict\": 205.5}, {\"y_target\": 262.7, \"y_predict\": 262.7}, {\"y_target\": 188.8, \"y_predict\": 188.8}, {\"y_target\": 145.4, \"y_predict\": 145.4}, {\"y_target\": 218.9, \"y_predict\": 218.9}, {\"y_target\": 174.2, \"y_predict\": 174.2}, {\"y_target\": 177.8, \"y_predict\": 177.8}, {\"y_target\": 150.3, \"y_predict\": 150.3}, {\"y_target\": 220.7, \"y_predict\": 220.7}, {\"y_target\": 150.3, \"y_predict\": 150.3}, {\"y_target\": 182.3, \"y_predict\": 182.3}, {\"y_target\": 164.9, \"y_predict\": 164.9}, {\"y_target\": 159.7, \"y_predict\": 159.7}, {\"y_target\": 164.9, \"y_predict\": 164.9}, {\"y_target\": 183.3, \"y_predict\": 183.3}, {\"y_target\": 205.3, \"y_predict\": 205.3}, {\"y_target\": 149.4, \"y_predict\": 149.4}, {\"y_target\": 169.0, \"y_predict\": 169.0}, {\"y_target\": 179.9, \"y_predict\": 179.9}, {\"y_target\": 178.3, \"y_predict\": 178.3}, {\"y_target\": 186.5, \"y_predict\": 186.5}, {\"y_target\": 236.4, \"y_predict\": 236.4}, {\"y_target\": 158.8, \"y_predict\": 158.8}, {\"y_target\": 192.8, \"y_predict\": 192.8}, {\"y_target\": 185.2, \"y_predict\": 185.2}, {\"y_target\": 190.7, \"y_predict\": 190.7}, {\"y_target\": 170.1, \"y_predict\": 170.1}, {\"y_target\": 170.7, \"y_predict\": 170.7}, {\"y_target\": 147.0, \"y_predict\": 147.0}, {\"y_target\": 147.9, \"y_predict\": 147.9}, {\"y_target\": 196.9, \"y_predict\": 196.9}, {\"y_target\": 196.5, \"y_predict\": 196.5}, {\"y_target\": 191.8, \"y_predict\": 191.8}, {\"y_target\": 164.8, \"y_predict\": 164.8}, {\"y_target\": 160.4, \"y_predict\": 160.4}, {\"y_target\": 199.5, \"y_predict\": 199.5}, {\"y_target\": 196.7, \"y_predict\": 196.7}, {\"y_target\": 146.8, \"y_predict\": 146.8}, {\"y_target\": 196.5, \"y_predict\": 196.5}, {\"y_target\": 154.6, \"y_predict\": 154.6}, {\"y_target\": 138.8, \"y_predict\": 138.8}, {\"y_target\": 162.2, \"y_predict\": 162.2}, {\"y_target\": 177.2, \"y_predict\": 177.2}, {\"y_target\": 182.8, \"y_predict\": 182.8}, {\"y_target\": 146.8, \"y_predict\": 146.8}, {\"y_target\": 136.0, \"y_predict\": 136.0}, {\"y_target\": 189.7, \"y_predict\": 189.7}, {\"y_target\": 182.0, \"y_predict\": 182.0}, {\"y_target\": 160.5, \"y_predict\": 160.5}, {\"y_target\": 179.1, \"y_predict\": 179.1}, {\"y_target\": 171.3, \"y_predict\": 171.3}, {\"y_target\": 192.2, \"y_predict\": 192.2}, {\"y_target\": 189.5, \"y_predict\": 189.5}, {\"y_target\": 180.0, \"y_predict\": 180.0}, {\"y_target\": 161.7, \"y_predict\": 161.7}, {\"y_target\": 175.7, \"y_predict\": 175.7}, {\"y_target\": 170.1, \"y_predict\": 170.1}, {\"y_target\": 193.2, \"y_predict\": 193.2}, {\"y_target\": 166.2, \"y_predict\": 166.2}, {\"y_target\": 187.4, \"y_predict\": 187.4}, {\"y_target\": 167.3, \"y_predict\": 167.3}, {\"y_target\": 180.6, \"y_predict\": 180.6}, {\"y_target\": 217.8, \"y_predict\": 217.8}, {\"y_target\": 152.5, \"y_predict\": 152.5}, {\"y_target\": 136.4, \"y_predict\": 136.4}, {\"y_target\": 208.4, \"y_predict\": 208.4}, {\"y_target\": 157.6, \"y_predict\": 157.6}, {\"y_target\": 195.6, \"y_predict\": 195.6}, {\"y_target\": 166.7, \"y_predict\": 166.7}, {\"y_target\": 167.0, \"y_predict\": 167.0}, {\"y_target\": 179.1, \"y_predict\": 179.1}, {\"y_target\": 157.9, \"y_predict\": 157.9}, {\"y_target\": 211.1, \"y_predict\": 211.1}, {\"y_target\": 184.3, \"y_predict\": 184.3}, {\"y_target\": 184.5, \"y_predict\": 184.5}, {\"y_target\": 265.8, \"y_predict\": 265.8}, {\"y_target\": 236.9, \"y_predict\": 236.9}, {\"y_target\": 186.2, \"y_predict\": 186.2}, {\"y_target\": 169.2, \"y_predict\": 169.2}, {\"y_target\": 182.2, \"y_predict\": 182.2}, {\"y_target\": 210.6, \"y_predict\": 210.6}, {\"y_target\": 180.0, \"y_predict\": 180.0}, {\"y_target\": 167.9, \"y_predict\": 167.9}, {\"y_target\": 167.1, \"y_predict\": 167.1}, {\"y_target\": 164.4, \"y_predict\": 164.4}, {\"y_target\": 170.9, \"y_predict\": 170.9}, {\"y_target\": 153.9, \"y_predict\": 153.9}, {\"y_target\": 190.2, \"y_predict\": 190.2}, {\"y_target\": 143.8, \"y_predict\": 143.8}, {\"y_target\": 202.4, \"y_predict\": 202.4}, {\"y_target\": 209.2, \"y_predict\": 209.2}, {\"y_target\": 165.3, \"y_predict\": 165.3}, {\"y_target\": 234.6, \"y_predict\": 234.6}, {\"y_target\": 149.9, \"y_predict\": 149.9}, {\"y_target\": 94.4, \"y_predict\": 94.4}, {\"y_target\": 159.6, \"y_predict\": 159.6}, {\"y_target\": 178.9, \"y_predict\": 178.9}, {\"y_target\": 177.4, \"y_predict\": 177.4}, {\"y_target\": 170.3, \"y_predict\": 170.3}, {\"y_target\": 169.4, \"y_predict\": 169.4}, {\"y_target\": 137.9, \"y_predict\": 137.9}, {\"y_target\": 135.7, \"y_predict\": 135.7}, {\"y_target\": 181.7, \"y_predict\": 181.7}, {\"y_target\": 107.2, \"y_predict\": 107.2}, {\"y_target\": 180.9, \"y_predict\": 180.9}, {\"y_target\": 184.5, \"y_predict\": 184.5}, {\"y_target\": 126.3, \"y_predict\": 126.3}, {\"y_target\": 161.6, \"y_predict\": 161.6}, {\"y_target\": 153.2, \"y_predict\": 153.2}, {\"y_target\": 176.2, \"y_predict\": 176.2}, {\"y_target\": 165.3, \"y_predict\": 165.3}, {\"y_target\": 152.8, \"y_predict\": 152.8}, {\"y_target\": 225.4, \"y_predict\": 225.4}, {\"y_target\": 188.2, \"y_predict\": 188.2}, {\"y_target\": 194.6, \"y_predict\": 194.6}, {\"y_target\": 240.8, \"y_predict\": 240.8}, {\"y_target\": 219.1, \"y_predict\": 219.1}, {\"y_target\": 145.2, \"y_predict\": 145.2}, {\"y_target\": 178.6, \"y_predict\": 178.6}, {\"y_target\": 176.4, \"y_predict\": 176.4}, {\"y_target\": 182.3, \"y_predict\": 182.3}, {\"y_target\": 159.8, \"y_predict\": 159.8}, {\"y_target\": 160.9, \"y_predict\": 160.9}, {\"y_target\": 206.7, \"y_predict\": 206.7}, {\"y_target\": 214.2, \"y_predict\": 214.2}, {\"y_target\": 224.6, \"y_predict\": 224.6}, {\"y_target\": 204.2, \"y_predict\": 204.2}, {\"y_target\": 166.5, \"y_predict\": 166.5}, {\"y_target\": 208.7, \"y_predict\": 208.7}, {\"y_target\": 165.9, \"y_predict\": 165.9}, {\"y_target\": 188.4, \"y_predict\": 188.4}, {\"y_target\": 189.1, \"y_predict\": 189.1}, {\"y_target\": 227.2, \"y_predict\": 227.2}, {\"y_target\": 190.6, \"y_predict\": 190.6}, {\"y_target\": 171.5, \"y_predict\": 171.5}, {\"y_target\": 206.1, \"y_predict\": 206.1}, {\"y_target\": 221.5, \"y_predict\": 221.5}, {\"y_target\": 166.9, \"y_predict\": 166.9}, {\"y_target\": 169.5, \"y_predict\": 169.5}, {\"y_target\": 160.8, \"y_predict\": 160.8}, {\"y_target\": 161.4, \"y_predict\": 161.4}, {\"y_target\": 182.5, \"y_predict\": 182.5}, {\"y_target\": 205.4, \"y_predict\": 205.4}, {\"y_target\": 185.4, \"y_predict\": 185.4}, {\"y_target\": 183.8, \"y_predict\": 183.8}, {\"y_target\": 209.2, \"y_predict\": 209.2}, {\"y_target\": 178.3, \"y_predict\": 178.3}, {\"y_target\": 205.4, \"y_predict\": 205.4}, {\"y_target\": 194.5, \"y_predict\": 194.5}, {\"y_target\": 163.9, \"y_predict\": 163.9}, {\"y_target\": 155.2, \"y_predict\": 155.2}, {\"y_target\": 180.9, \"y_predict\": 180.9}, {\"y_target\": 157.0, \"y_predict\": 157.0}, {\"y_target\": 151.6, \"y_predict\": 151.6}, {\"y_target\": 244.9, \"y_predict\": 244.9}, {\"y_target\": 228.4, \"y_predict\": 228.4}, {\"y_target\": 245.2, \"y_predict\": 245.2}, {\"y_target\": 173.7, \"y_predict\": 173.7}, {\"y_target\": 185.1, \"y_predict\": 185.1}, {\"y_target\": 138.4, \"y_predict\": 138.4}, {\"y_target\": 180.8, \"y_predict\": 180.8}, {\"y_target\": 151.5, \"y_predict\": 151.5}, {\"y_target\": 147.1, \"y_predict\": 147.1}, {\"y_target\": 185.3, \"y_predict\": 185.3}, {\"y_target\": 148.6, \"y_predict\": 148.6}, {\"y_target\": 200.8, \"y_predict\": 200.8}, {\"y_target\": 201.6, \"y_predict\": 201.6}, {\"y_target\": 160.3, \"y_predict\": 160.3}, {\"y_target\": 203.1, \"y_predict\": 203.1}, {\"y_target\": 181.5, \"y_predict\": 181.5}, {\"y_target\": 149.8, \"y_predict\": 149.8}, {\"y_target\": 175.5, \"y_predict\": 175.5}, {\"y_target\": 202.4, \"y_predict\": 202.4}, {\"y_target\": 159.8, \"y_predict\": 159.8}, {\"y_target\": 162.1, \"y_predict\": 162.1}, {\"y_target\": 198.3, \"y_predict\": 198.3}, {\"y_target\": 181.1, \"y_predict\": 181.1}, {\"y_target\": 188.9, \"y_predict\": 188.9}, {\"y_target\": 229.8, \"y_predict\": 229.8}, {\"y_target\": 168.9, \"y_predict\": 168.9}, {\"y_target\": 149.6, \"y_predict\": 149.6}, {\"y_target\": 176.1, \"y_predict\": 176.1}, {\"y_target\": 174.0, \"y_predict\": 174.0}, {\"y_target\": 176.7, \"y_predict\": 176.7}, {\"y_target\": 195.8, \"y_predict\": 195.8}, {\"y_target\": 191.0, \"y_predict\": 191.0}, {\"y_target\": 188.1, \"y_predict\": 188.1}, {\"y_target\": 175.9, \"y_predict\": 175.9}, {\"y_target\": 167.1, \"y_predict\": 167.1}, {\"y_target\": 184.9, \"y_predict\": 184.9}, {\"y_target\": 198.7, \"y_predict\": 198.7}, {\"y_target\": 202.4, \"y_predict\": 202.4}, {\"y_target\": 176.1, \"y_predict\": 176.1}, {\"y_target\": 208.1, \"y_predict\": 208.1}, {\"y_target\": 121.4, \"y_predict\": 121.4}, {\"y_target\": 165.0, \"y_predict\": 165.0}, {\"y_target\": 133.1, \"y_predict\": 133.1}, {\"y_target\": 151.5, \"y_predict\": 151.5}, {\"y_target\": 255.8, \"y_predict\": 255.8}, {\"y_target\": 164.0, \"y_predict\": 164.0}, {\"y_target\": 105.2, \"y_predict\": 105.2}, {\"y_target\": 202.4, \"y_predict\": 202.4}, {\"y_target\": 126.8, \"y_predict\": 126.8}, {\"y_target\": 169.8, \"y_predict\": 169.8}, {\"y_target\": 213.8, \"y_predict\": 213.8}, {\"y_target\": 208.7, \"y_predict\": 208.7}, {\"y_target\": 171.7, \"y_predict\": 171.7}, {\"y_target\": 170.8, \"y_predict\": 170.8}, {\"y_target\": 141.8, \"y_predict\": 141.8}, {\"y_target\": 199.3, \"y_predict\": 199.3}, {\"y_target\": 174.8, \"y_predict\": 174.8}, {\"y_target\": 182.8, \"y_predict\": 182.8}, {\"y_target\": 169.5, \"y_predict\": 169.5}, {\"y_target\": 186.7, \"y_predict\": 186.7}, {\"y_target\": 195.3, \"y_predict\": 195.3}, {\"y_target\": 185.1, \"y_predict\": 185.1}, {\"y_target\": 182.6, \"y_predict\": 182.6}, {\"y_target\": 163.6, \"y_predict\": 163.6}, {\"y_target\": 201.2, \"y_predict\": 201.2}, {\"y_target\": 198.3, \"y_predict\": 198.3}, {\"y_target\": 201.8, \"y_predict\": 201.8}, {\"y_target\": 209.3, \"y_predict\": 209.3}, {\"y_target\": 175.0, \"y_predict\": 175.0}, {\"y_target\": 179.4, \"y_predict\": 179.4}, {\"y_target\": 216.7, \"y_predict\": 216.7}, {\"y_target\": 203.0, \"y_predict\": 203.0}, {\"y_target\": 148.2, \"y_predict\": 148.2}, {\"y_target\": 177.7, \"y_predict\": 177.7}, {\"y_target\": 170.6, \"y_predict\": 170.6}, {\"y_target\": 146.6, \"y_predict\": 146.6}, {\"y_target\": 180.0, \"y_predict\": 180.0}, {\"y_target\": 195.1, \"y_predict\": 195.1}, {\"y_target\": 159.6, \"y_predict\": 159.6}, {\"y_target\": 160.8, \"y_predict\": 160.8}, {\"y_target\": 178.2, \"y_predict\": 178.2}, {\"y_target\": 206.3, \"y_predict\": 206.3}, {\"y_target\": 183.3, \"y_predict\": 183.3}, {\"y_target\": 172.3, \"y_predict\": 172.3}, {\"y_target\": 136.6, \"y_predict\": 136.6}, {\"y_target\": 193.2, \"y_predict\": 193.2}, {\"y_target\": 189.8, \"y_predict\": 189.8}, {\"y_target\": 192.0, \"y_predict\": 192.0}, {\"y_target\": 202.6, \"y_predict\": 202.6}, {\"y_target\": 215.6, \"y_predict\": 215.6}, {\"y_target\": 173.5, \"y_predict\": 173.5}, {\"y_target\": 109.9, \"y_predict\": 109.9}, {\"y_target\": 173.1, \"y_predict\": 173.1}, {\"y_target\": 161.9, \"y_predict\": 161.9}, {\"y_target\": 163.9, \"y_predict\": 163.9}, {\"y_target\": 175.7, \"y_predict\": 175.7}, {\"y_target\": 183.8, \"y_predict\": 183.8}, {\"y_target\": 205.1, \"y_predict\": 205.1}, {\"y_target\": 139.1, \"y_predict\": 139.1}, {\"y_target\": 174.2, \"y_predict\": 174.2}, {\"y_target\": 181.2, \"y_predict\": 181.2}, {\"y_target\": 123.2, \"y_predict\": 123.2}, {\"y_target\": 191.7, \"y_predict\": 191.7}, {\"y_target\": 186.8, \"y_predict\": 186.8}, {\"y_target\": 173.0, \"y_predict\": 173.0}, {\"y_target\": 178.7, \"y_predict\": 178.7}, {\"y_target\": 185.7, \"y_predict\": 185.7}, {\"y_target\": 190.5, \"y_predict\": 190.5}, {\"y_target\": 137.7, \"y_predict\": 137.7}, {\"y_target\": 166.2, \"y_predict\": 166.2}, {\"y_target\": 169.0, \"y_predict\": 169.0}, {\"y_target\": 155.6, \"y_predict\": 155.6}, {\"y_target\": 203.2, \"y_predict\": 203.2}, {\"y_target\": 172.1, \"y_predict\": 172.1}, {\"y_target\": 193.5, \"y_predict\": 193.5}, {\"y_target\": 173.6, \"y_predict\": 173.6}, {\"y_target\": 172.9, \"y_predict\": 172.9}, {\"y_target\": 187.3, \"y_predict\": 187.3}, {\"y_target\": 205.4, \"y_predict\": 205.4}, {\"y_target\": 124.6, \"y_predict\": 124.6}, {\"y_target\": 163.5, \"y_predict\": 163.5}, {\"y_target\": 190.0, \"y_predict\": 190.0}, {\"y_target\": 153.0, \"y_predict\": 153.0}, {\"y_target\": 156.4, \"y_predict\": 156.4}, {\"y_target\": 190.7, \"y_predict\": 190.7}, {\"y_target\": 148.0, \"y_predict\": 148.0}, {\"y_target\": 210.2, \"y_predict\": 210.2}, {\"y_target\": 155.7, \"y_predict\": 155.7}, {\"y_target\": 187.7, \"y_predict\": 187.7}, {\"y_target\": 195.1, \"y_predict\": 195.1}, {\"y_target\": 160.5, \"y_predict\": 160.5}, {\"y_target\": 157.1, \"y_predict\": 157.1}, {\"y_target\": 191.3, \"y_predict\": 191.3}, {\"y_target\": 189.4, \"y_predict\": 189.4}, {\"y_target\": 182.9, \"y_predict\": 182.9}, {\"y_target\": 188.1, \"y_predict\": 188.1}, {\"y_target\": 201.0, \"y_predict\": 201.0}, {\"y_target\": 180.3, \"y_predict\": 180.3}, {\"y_target\": 178.9, \"y_predict\": 178.9}, {\"y_target\": 123.4, \"y_predict\": 123.4}, {\"y_target\": 160.0, \"y_predict\": 160.0}, {\"y_target\": 180.3, \"y_predict\": 180.3}, {\"y_target\": 189.9, \"y_predict\": 189.9}, {\"y_target\": 206.7, \"y_predict\": 206.7}, {\"y_target\": 119.2, \"y_predict\": 119.2}, {\"y_target\": 149.1, \"y_predict\": 149.1}, {\"y_target\": 210.0, \"y_predict\": 210.0}, {\"y_target\": 254.3, \"y_predict\": 254.3}, {\"y_target\": 168.0, \"y_predict\": 168.0}, {\"y_target\": 184.2, \"y_predict\": 184.2}, {\"y_target\": 213.4, \"y_predict\": 213.4}, {\"y_target\": 178.7, \"y_predict\": 178.7}, {\"y_target\": 134.2, \"y_predict\": 134.2}, {\"y_target\": 205.9, \"y_predict\": 205.9}, {\"y_target\": 208.9, \"y_predict\": 208.9}, {\"y_target\": 182.3, \"y_predict\": 182.3}, {\"y_target\": 193.9, \"y_predict\": 193.9}, {\"y_target\": 189.2, \"y_predict\": 189.2}, {\"y_target\": 152.2, \"y_predict\": 152.2}, {\"y_target\": 148.9, \"y_predict\": 148.9}, {\"y_target\": 193.4, \"y_predict\": 193.4}, {\"y_target\": 209.3, \"y_predict\": 209.3}, {\"y_target\": 198.6, \"y_predict\": 198.6}, {\"y_target\": 205.9, \"y_predict\": 205.9}, {\"y_target\": 178.8, \"y_predict\": 178.8}, {\"y_target\": 194.3, \"y_predict\": 194.3}, {\"y_target\": 172.7, \"y_predict\": 172.7}, {\"y_target\": 159.7, \"y_predict\": 159.7}, {\"y_target\": 186.9, \"y_predict\": 186.9}, {\"y_target\": 176.4, \"y_predict\": 176.4}, {\"y_target\": 181.8, \"y_predict\": 181.8}, {\"y_target\": 199.0, \"y_predict\": 199.0}, {\"y_target\": 202.9, \"y_predict\": 202.9}, {\"y_target\": 171.6, \"y_predict\": 171.6}, {\"y_target\": 185.8, \"y_predict\": 185.8}, {\"y_target\": 167.6, \"y_predict\": 167.6}, {\"y_target\": 179.8, \"y_predict\": 179.8}, {\"y_target\": 168.3, \"y_predict\": 168.3}, {\"y_target\": 193.1, \"y_predict\": 193.1}, {\"y_target\": 196.4, \"y_predict\": 196.4}, {\"y_target\": 159.6, \"y_predict\": 159.6}, {\"y_target\": 150.2, \"y_predict\": 150.2}, {\"y_target\": 189.1, \"y_predict\": 189.1}, {\"y_target\": 144.9, \"y_predict\": 144.9}, {\"y_target\": 188.8, \"y_predict\": 188.8}, {\"y_target\": 194.2, \"y_predict\": 194.2}, {\"y_target\": 205.8, \"y_predict\": 205.8}, {\"y_target\": 203.9, \"y_predict\": 203.9}, {\"y_target\": 153.9, \"y_predict\": 153.9}, {\"y_target\": 174.2, \"y_predict\": 174.2}, {\"y_target\": 206.0, \"y_predict\": 206.0}, {\"y_target\": 238.2, \"y_predict\": 238.2}, {\"y_target\": 214.7, \"y_predict\": 214.7}, {\"y_target\": 173.6, \"y_predict\": 173.6}, {\"y_target\": 165.3, \"y_predict\": 165.3}, {\"y_target\": 172.2, \"y_predict\": 172.2}, {\"y_target\": 190.5, \"y_predict\": 190.5}, {\"y_target\": 220.6, \"y_predict\": 220.6}, {\"y_target\": 172.2, \"y_predict\": 172.2}, {\"y_target\": 174.7, \"y_predict\": 174.7}, {\"y_target\": 215.3, \"y_predict\": 215.3}, {\"y_target\": 186.4, \"y_predict\": 186.4}, {\"y_target\": 196.5, \"y_predict\": 196.5}, {\"y_target\": 178.7, \"y_predict\": 178.7}, {\"y_target\": 151.7, \"y_predict\": 151.7}, {\"y_target\": 187.8, \"y_predict\": 187.8}, {\"y_target\": 172.2, \"y_predict\": 172.2}, {\"y_target\": 171.1, \"y_predict\": 171.1}, {\"y_target\": 196.4, \"y_predict\": 196.4}, {\"y_target\": 160.1, \"y_predict\": 160.1}, {\"y_target\": 200.7, \"y_predict\": 200.7}, {\"y_target\": 217.1, \"y_predict\": 217.1}, {\"y_target\": 194.1, \"y_predict\": 194.1}, {\"y_target\": 189.7, \"y_predict\": 189.7}, {\"y_target\": 173.2, \"y_predict\": 173.2}, {\"y_target\": 122.6, \"y_predict\": 122.6}, {\"y_target\": 156.1, \"y_predict\": 156.1}, {\"y_target\": 183.5, \"y_predict\": 183.5}, {\"y_target\": 180.1, \"y_predict\": 180.1}, {\"y_target\": 153.8, \"y_predict\": 153.8}, {\"y_target\": 161.4, \"y_predict\": 161.4}, {\"y_target\": 161.5, \"y_predict\": 161.5}, {\"y_target\": 194.7, \"y_predict\": 194.7}, {\"y_target\": 171.5, \"y_predict\": 171.5}, {\"y_target\": 171.6, \"y_predict\": 171.6}, {\"y_target\": 191.3, \"y_predict\": 191.3}, {\"y_target\": 153.4, \"y_predict\": 153.4}, {\"y_target\": 152.8, \"y_predict\": 152.8}, {\"y_target\": 178.1, \"y_predict\": 178.1}, {\"y_target\": 157.6, \"y_predict\": 157.6}, {\"y_target\": 171.3, \"y_predict\": 171.3}, {\"y_target\": 154.1, \"y_predict\": 154.1}, {\"y_target\": 229.7, \"y_predict\": 229.7}, {\"y_target\": 191.7, \"y_predict\": 191.7}, {\"y_target\": 150.2, \"y_predict\": 150.2}, {\"y_target\": 216.8, \"y_predict\": 216.8}, {\"y_target\": 190.3, \"y_predict\": 190.3}, {\"y_target\": 160.9, \"y_predict\": 160.9}, {\"y_target\": 195.7, \"y_predict\": 195.7}, {\"y_target\": 125.9, \"y_predict\": 125.9}, {\"y_target\": 148.6, \"y_predict\": 148.6}, {\"y_target\": 201.5, \"y_predict\": 201.5}, {\"y_target\": 164.5, \"y_predict\": 164.5}, {\"y_target\": 195.4, \"y_predict\": 195.4}, {\"y_target\": 164.7, \"y_predict\": 164.7}, {\"y_target\": 152.7, \"y_predict\": 152.7}, {\"y_target\": 193.3, \"y_predict\": 193.3}, {\"y_target\": 217.7, \"y_predict\": 217.7}, {\"y_target\": 181.2, \"y_predict\": 181.2}, {\"y_target\": 171.0, \"y_predict\": 171.0}, {\"y_target\": 129.4, \"y_predict\": 129.4}, {\"y_target\": 179.5, \"y_predict\": 179.5}, {\"y_target\": 152.3, \"y_predict\": 152.3}, {\"y_target\": 147.7, \"y_predict\": 147.7}, {\"y_target\": 147.6, \"y_predict\": 147.6}, {\"y_target\": 217.5, \"y_predict\": 217.5}, {\"y_target\": 209.9, \"y_predict\": 209.9}, {\"y_target\": 162.1, \"y_predict\": 162.1}, {\"y_target\": 154.9, \"y_predict\": 154.9}, {\"y_target\": 189.1, \"y_predict\": 189.1}, {\"y_target\": 161.6, \"y_predict\": 161.6}, {\"y_target\": 170.8, \"y_predict\": 170.8}, {\"y_target\": 162.1, \"y_predict\": 162.1}, {\"y_target\": 142.9, \"y_predict\": 142.9}, {\"y_target\": 176.2, \"y_predict\": 176.2}, {\"y_target\": 164.3, \"y_predict\": 164.3}, {\"y_target\": 187.5, \"y_predict\": 187.5}, {\"y_target\": 259.5, \"y_predict\": 259.5}, {\"y_target\": 162.9, \"y_predict\": 162.9}, {\"y_target\": 170.7, \"y_predict\": 170.7}, {\"y_target\": 212.2, \"y_predict\": 212.2}, {\"y_target\": 193.7, \"y_predict\": 193.7}, {\"y_target\": 145.0, \"y_predict\": 145.0}, {\"y_target\": 162.9, \"y_predict\": 162.9}, {\"y_target\": 198.5, \"y_predict\": 198.5}, {\"y_target\": 138.2, \"y_predict\": 138.2}, {\"y_target\": 254.5, \"y_predict\": 254.5}, {\"y_target\": 212.3, \"y_predict\": 212.3}, {\"y_target\": 211.0, \"y_predict\": 211.0}, {\"y_target\": 160.3, \"y_predict\": 160.3}, {\"y_target\": 171.6, \"y_predict\": 171.6}, {\"y_target\": 199.2, \"y_predict\": 199.2}, {\"y_target\": 160.4, \"y_predict\": 160.4}, {\"y_target\": 159.2, \"y_predict\": 159.2}, {\"y_target\": 159.3, \"y_predict\": 159.3}, {\"y_target\": 147.4, \"y_predict\": 147.4}, {\"y_target\": 126.9, \"y_predict\": 126.9}, {\"y_target\": 197.7, \"y_predict\": 197.7}, {\"y_target\": 139.4, \"y_predict\": 139.4}, {\"y_target\": 198.1, \"y_predict\": 198.1}, {\"y_target\": 216.5, \"y_predict\": 216.5}, {\"y_target\": 277.6, \"y_predict\": 277.6}, {\"y_target\": 203.3, \"y_predict\": 203.3}, {\"y_target\": 211.9, \"y_predict\": 211.9}, {\"y_target\": 178.7, \"y_predict\": 178.7}, {\"y_target\": 174.3, \"y_predict\": 174.3}, {\"y_target\": 139.9, \"y_predict\": 139.9}, {\"y_target\": 162.8, \"y_predict\": 162.8}, {\"y_target\": 184.3, \"y_predict\": 184.3}, {\"y_target\": 224.2, \"y_predict\": 224.2}, {\"y_target\": 168.6, \"y_predict\": 168.6}, {\"y_target\": 156.1, \"y_predict\": 156.1}, {\"y_target\": 122.6, \"y_predict\": 122.6}, {\"y_target\": 197.8, \"y_predict\": 197.8}, {\"y_target\": 154.3, \"y_predict\": 154.3}, {\"y_target\": 199.4, \"y_predict\": 199.4}, {\"y_target\": 172.6, \"y_predict\": 172.6}, {\"y_target\": 186.9, \"y_predict\": 186.9}, {\"y_target\": 191.7, \"y_predict\": 191.7}, {\"y_target\": 214.3, \"y_predict\": 214.3}, {\"y_target\": 194.4, \"y_predict\": 194.4}, {\"y_target\": 186.0, \"y_predict\": 186.0}, {\"y_target\": 171.8, \"y_predict\": 171.8}, {\"y_target\": 203.3, \"y_predict\": 203.3}, {\"y_target\": 177.1, \"y_predict\": 177.1}, {\"y_target\": 164.2, \"y_predict\": 164.2}, {\"y_target\": 129.3, \"y_predict\": 129.3}, {\"y_target\": 160.7, \"y_predict\": 160.7}, {\"y_target\": 177.7, \"y_predict\": 177.7}, {\"y_target\": 236.0, \"y_predict\": 236.0}, {\"y_target\": 202.0, \"y_predict\": 202.0}, {\"y_target\": 177.3, \"y_predict\": 177.3}, {\"y_target\": 174.2, \"y_predict\": 174.2}, {\"y_target\": 152.5, \"y_predict\": 152.5}, {\"y_target\": 194.3, \"y_predict\": 194.3}, {\"y_target\": 277.1, \"y_predict\": 277.1}, {\"y_target\": 161.3, \"y_predict\": 161.3}, {\"y_target\": 144.3, \"y_predict\": 144.3}, {\"y_target\": 153.9, \"y_predict\": 153.9}, {\"y_target\": 188.9, \"y_predict\": 188.9}, {\"y_target\": 186.3, \"y_predict\": 186.3}, {\"y_target\": 204.7, \"y_predict\": 204.7}, {\"y_target\": 166.4, \"y_predict\": 166.4}, {\"y_target\": 217.4, \"y_predict\": 217.4}, {\"y_target\": 197.8, \"y_predict\": 197.8}, {\"y_target\": 202.4, \"y_predict\": 202.4}, {\"y_target\": 196.2, \"y_predict\": 196.2}, {\"y_target\": 168.0, \"y_predict\": 168.0}, {\"y_target\": 145.4, \"y_predict\": 145.4}, {\"y_target\": 164.5, \"y_predict\": 164.5}, {\"y_target\": 169.8, \"y_predict\": 169.8}, {\"y_target\": 207.1, \"y_predict\": 207.1}, {\"y_target\": 164.7, \"y_predict\": 164.7}, {\"y_target\": 140.6, \"y_predict\": 140.6}, {\"y_target\": 161.9, \"y_predict\": 161.9}, {\"y_target\": 160.3, \"y_predict\": 160.3}, {\"y_target\": 142.2, \"y_predict\": 142.2}, {\"y_target\": 169.4, \"y_predict\": 169.4}, {\"y_target\": 169.4, \"y_predict\": 169.4}, {\"y_target\": 134.0, \"y_predict\": 134.0}, {\"y_target\": 125.3, \"y_predict\": 125.3}, {\"y_target\": 231.0, \"y_predict\": 231.0}, {\"y_target\": 189.9, \"y_predict\": 189.9}, {\"y_target\": 173.6, \"y_predict\": 173.6}, {\"y_target\": 211.1, \"y_predict\": 211.1}, {\"y_target\": 178.5, \"y_predict\": 178.5}, {\"y_target\": 182.5, \"y_predict\": 182.5}, {\"y_target\": 179.0, \"y_predict\": 179.0}, {\"y_target\": 154.3, \"y_predict\": 154.3}, {\"y_target\": 197.8, \"y_predict\": 197.8}, {\"y_target\": 230.6, \"y_predict\": 230.6}, {\"y_target\": 162.4, \"y_predict\": 162.4}, {\"y_target\": 200.6, \"y_predict\": 200.6}, {\"y_target\": 171.5, \"y_predict\": 171.5}, {\"y_target\": 173.6, \"y_predict\": 173.6}, {\"y_target\": 221.2, \"y_predict\": 221.2}, {\"y_target\": 186.7, \"y_predict\": 186.7}, {\"y_target\": 183.4, \"y_predict\": 183.4}, {\"y_target\": 181.2, \"y_predict\": 181.2}, {\"y_target\": 217.1, \"y_predict\": 217.1}, {\"y_target\": 186.9, \"y_predict\": 186.9}, {\"y_target\": 145.1, \"y_predict\": 145.1}, {\"y_target\": 201.6, \"y_predict\": 201.6}, {\"y_target\": 210.5, \"y_predict\": 210.5}, {\"y_target\": 126.7, \"y_predict\": 126.7}, {\"y_target\": 191.4, \"y_predict\": 191.4}, {\"y_target\": 204.5, \"y_predict\": 204.5}, {\"y_target\": 175.6, \"y_predict\": 175.6}, {\"y_target\": 189.5, \"y_predict\": 189.5}, {\"y_target\": 174.8, \"y_predict\": 174.8}, {\"y_target\": 215.9, \"y_predict\": 215.9}, {\"y_target\": 187.8, \"y_predict\": 187.8}, {\"y_target\": 128.4, \"y_predict\": 128.4}, {\"y_target\": 177.0, \"y_predict\": 177.0}, {\"y_target\": 168.6, \"y_predict\": 168.6}, {\"y_target\": 177.6, \"y_predict\": 177.6}, {\"y_target\": 123.9, \"y_predict\": 123.9}, {\"y_target\": 164.6, \"y_predict\": 164.6}, {\"y_target\": 166.4, \"y_predict\": 166.4}, {\"y_target\": 200.9, \"y_predict\": 200.9}, {\"y_target\": 139.8, \"y_predict\": 139.8}, {\"y_target\": 254.3, \"y_predict\": 254.3}, {\"y_target\": 186.1, \"y_predict\": 186.1}, {\"y_target\": 159.2, \"y_predict\": 159.2}, {\"y_target\": 232.3, \"y_predict\": 232.3}, {\"y_target\": 182.2, \"y_predict\": 182.2}, {\"y_target\": 270.4, \"y_predict\": 270.4}, {\"y_target\": 187.3, \"y_predict\": 187.3}, {\"y_target\": 214.7, \"y_predict\": 214.7}, {\"y_target\": 158.3, \"y_predict\": 158.3}, {\"y_target\": 165.1, \"y_predict\": 165.1}, {\"y_target\": 181.8, \"y_predict\": 181.8}, {\"y_target\": 174.2, \"y_predict\": 174.2}, {\"y_target\": 146.4, \"y_predict\": 146.4}, {\"y_target\": 126.0, \"y_predict\": 126.0}, {\"y_target\": 226.4, \"y_predict\": 226.4}, {\"y_target\": 179.0, \"y_predict\": 179.0}, {\"y_target\": 151.3, \"y_predict\": 151.3}, {\"y_target\": 138.0, \"y_predict\": 138.0}, {\"y_target\": 162.0, \"y_predict\": 162.0}, {\"y_target\": 163.7, \"y_predict\": 163.7}, {\"y_target\": 197.3, \"y_predict\": 197.3}, {\"y_target\": 116.7, \"y_predict\": 116.7}, {\"y_target\": 166.6, \"y_predict\": 166.6}, {\"y_target\": 198.7, \"y_predict\": 198.7}, {\"y_target\": 186.9, \"y_predict\": 186.9}, {\"y_target\": 163.2, \"y_predict\": 163.2}, {\"y_target\": 186.2, \"y_predict\": 186.2}, {\"y_target\": 127.4, \"y_predict\": 127.4}, {\"y_target\": 147.9, \"y_predict\": 147.9}, {\"y_target\": 158.6, \"y_predict\": 158.6}, {\"y_target\": 156.3, \"y_predict\": 156.3}, {\"y_target\": 148.3, \"y_predict\": 148.3}, {\"y_target\": 133.2, \"y_predict\": 133.2}, {\"y_target\": 152.5, \"y_predict\": 152.5}, {\"y_target\": 211.7, \"y_predict\": 211.7}, {\"y_target\": 190.0, \"y_predict\": 190.0}, {\"y_target\": 211.8, \"y_predict\": 211.8}, {\"y_target\": 138.2, \"y_predict\": 138.2}, {\"y_target\": 192.0, \"y_predict\": 192.0}, {\"y_target\": 202.5, \"y_predict\": 202.5}, {\"y_target\": 195.2, \"y_predict\": 195.2}, {\"y_target\": 213.5, \"y_predict\": 213.5}, {\"y_target\": 140.1, \"y_predict\": 140.1}, {\"y_target\": 222.3, \"y_predict\": 222.3}, {\"y_target\": 165.7, \"y_predict\": 165.7}, {\"y_target\": 160.4, \"y_predict\": 160.4}, {\"y_target\": 161.4, \"y_predict\": 161.4}, {\"y_target\": 152.6, \"y_predict\": 152.6}, {\"y_target\": 162.5, \"y_predict\": 162.5}, {\"y_target\": 142.2, \"y_predict\": 142.2}, {\"y_target\": 176.6, \"y_predict\": 176.6}, {\"y_target\": 198.3, \"y_predict\": 198.3}, {\"y_target\": 169.3, \"y_predict\": 169.3}, {\"y_target\": 183.7, \"y_predict\": 183.7}, {\"y_target\": 134.1, \"y_predict\": 134.1}, {\"y_target\": 204.0, \"y_predict\": 204.0}, {\"y_target\": 168.5, \"y_predict\": 168.5}, {\"y_target\": 174.5, \"y_predict\": 174.5}, {\"y_target\": 168.7, \"y_predict\": 168.7}, {\"y_target\": 138.7, \"y_predict\": 138.7}, {\"y_target\": 212.9, \"y_predict\": 212.9}, {\"y_target\": 159.2, \"y_predict\": 159.2}, {\"y_target\": 172.7, \"y_predict\": 172.7}, {\"y_target\": 195.9, \"y_predict\": 195.9}, {\"y_target\": 151.8, \"y_predict\": 151.8}, {\"y_target\": 205.6, \"y_predict\": 205.6}, {\"y_target\": 174.5, \"y_predict\": 174.5}, {\"y_target\": 154.6, \"y_predict\": 154.6}, {\"y_target\": 120.0, \"y_predict\": 120.0}, {\"y_target\": 204.2, \"y_predict\": 204.2}, {\"y_target\": 215.0, \"y_predict\": 215.0}, {\"y_target\": 145.5, \"y_predict\": 145.5}, {\"y_target\": 148.2, \"y_predict\": 148.2}, {\"y_target\": 168.8, \"y_predict\": 168.8}, {\"y_target\": 177.8, \"y_predict\": 177.8}, {\"y_target\": 147.3, \"y_predict\": 147.3}, {\"y_target\": 147.5, \"y_predict\": 147.5}, {\"y_target\": 190.5, \"y_predict\": 190.5}, {\"y_target\": 128.0, \"y_predict\": 128.0}, {\"y_target\": 163.0, \"y_predict\": 163.0}, {\"y_target\": 174.0, \"y_predict\": 174.0}, {\"y_target\": 207.9, \"y_predict\": 207.9}, {\"y_target\": 147.1, \"y_predict\": 147.1}, {\"y_target\": 180.0, \"y_predict\": 180.0}, {\"y_target\": 181.6, \"y_predict\": 181.6}, {\"y_target\": 127.6, \"y_predict\": 127.6}, {\"y_target\": 195.3, \"y_predict\": 195.3}, {\"y_target\": 188.0, \"y_predict\": 188.0}, {\"y_target\": 266.2, \"y_predict\": 266.2}, {\"y_target\": 171.5, \"y_predict\": 171.5}, {\"y_target\": 162.0, \"y_predict\": 162.0}, {\"y_target\": 227.5, \"y_predict\": 227.5}, {\"y_target\": 182.4, \"y_predict\": 182.4}, {\"y_target\": 250.7, \"y_predict\": 250.7}, {\"y_target\": 226.9, \"y_predict\": 226.9}, {\"y_target\": 151.8, \"y_predict\": 151.8}, {\"y_target\": 178.0, \"y_predict\": 178.0}, {\"y_target\": 183.5, \"y_predict\": 183.5}, {\"y_target\": 161.1, \"y_predict\": 161.1}, {\"y_target\": 213.4, \"y_predict\": 213.4}, {\"y_target\": 201.4, \"y_predict\": 201.4}, {\"y_target\": 132.8, \"y_predict\": 132.8}, {\"y_target\": 127.2, \"y_predict\": 127.2}, {\"y_target\": 180.1, \"y_predict\": 180.1}, {\"y_target\": 193.3, \"y_predict\": 193.3}, {\"y_target\": 170.1, \"y_predict\": 170.1}, {\"y_target\": 212.0, \"y_predict\": 212.0}, {\"y_target\": 168.2, \"y_predict\": 168.2}, {\"y_target\": 189.6, \"y_predict\": 189.6}, {\"y_target\": 159.0, \"y_predict\": 159.0}, {\"y_target\": 167.9, \"y_predict\": 167.9}, {\"y_target\": 173.7, \"y_predict\": 173.7}, {\"y_target\": 178.7, \"y_predict\": 178.7}, {\"y_target\": 190.5, \"y_predict\": 190.5}, {\"y_target\": 183.1, \"y_predict\": 183.1}, {\"y_target\": 182.7, \"y_predict\": 182.7}, {\"y_target\": 196.6, \"y_predict\": 196.6}, {\"y_target\": 194.4, \"y_predict\": 194.4}, {\"y_target\": 177.4, \"y_predict\": 177.4}, {\"y_target\": 163.1, \"y_predict\": 163.1}, {\"y_target\": 168.1, \"y_predict\": 168.1}, {\"y_target\": 205.3, \"y_predict\": 205.3}, {\"y_target\": 169.0, \"y_predict\": 169.0}, {\"y_target\": 173.0, \"y_predict\": 173.0}, {\"y_target\": 129.1, \"y_predict\": 129.1}, {\"y_target\": 163.7, \"y_predict\": 163.7}, {\"y_target\": 201.5, \"y_predict\": 201.5}, {\"y_target\": 234.8, \"y_predict\": 234.8}, {\"y_target\": 213.7, \"y_predict\": 213.7}, {\"y_target\": 183.7, \"y_predict\": 183.7}, {\"y_target\": 184.7, \"y_predict\": 184.7}, {\"y_target\": 153.4, \"y_predict\": 153.4}, {\"y_target\": 215.7, \"y_predict\": 215.7}, {\"y_target\": 141.0, \"y_predict\": 141.0}, {\"y_target\": 165.8, \"y_predict\": 165.8}, {\"y_target\": 154.5, \"y_predict\": 154.5}, {\"y_target\": 144.6, \"y_predict\": 144.6}, {\"y_target\": 227.6, \"y_predict\": 227.6}, {\"y_target\": 177.9, \"y_predict\": 177.9}, {\"y_target\": 216.1, \"y_predict\": 216.1}, {\"y_target\": 165.3, \"y_predict\": 165.3}, {\"y_target\": 215.8, \"y_predict\": 215.8}, {\"y_target\": 193.6, \"y_predict\": 193.6}, {\"y_target\": 169.0, \"y_predict\": 169.0}, {\"y_target\": 177.9, \"y_predict\": 177.9}, {\"y_target\": 242.8, \"y_predict\": 242.8}, {\"y_target\": 122.2, \"y_predict\": 122.2}, {\"y_target\": 179.1, \"y_predict\": 179.1}, {\"y_target\": 169.7, \"y_predict\": 169.7}, {\"y_target\": 178.7, \"y_predict\": 178.7}, {\"y_target\": 205.3, \"y_predict\": 205.3}, {\"y_target\": 219.4, \"y_predict\": 219.4}, {\"y_target\": 169.1, \"y_predict\": 169.1}, {\"y_target\": 212.1, \"y_predict\": 212.1}, {\"y_target\": 169.9, \"y_predict\": 169.9}, {\"y_target\": 151.5, \"y_predict\": 151.5}, {\"y_target\": 148.3, \"y_predict\": 148.3}, {\"y_target\": 169.3, \"y_predict\": 169.3}, {\"y_target\": 162.9, \"y_predict\": 162.9}, {\"y_target\": 155.6, \"y_predict\": 155.6}, {\"y_target\": 173.5, \"y_predict\": 173.5}, {\"y_target\": 164.7, \"y_predict\": 164.7}, {\"y_target\": 143.8, \"y_predict\": 143.8}, {\"y_target\": 226.1, \"y_predict\": 226.1}, {\"y_target\": 177.5, \"y_predict\": 177.5}, {\"y_target\": 110.7, \"y_predict\": 110.7}, {\"y_target\": 153.2, \"y_predict\": 153.2}, {\"y_target\": 173.4, \"y_predict\": 173.4}, {\"y_target\": 191.3, \"y_predict\": 191.3}, {\"y_target\": 124.5, \"y_predict\": 124.5}, {\"y_target\": 196.6, \"y_predict\": 196.6}, {\"y_target\": 190.9, \"y_predict\": 190.9}, {\"y_target\": 184.9, \"y_predict\": 184.9}, {\"y_target\": 153.1, \"y_predict\": 153.1}, {\"y_target\": 142.0, \"y_predict\": 142.0}, {\"y_target\": 199.4, \"y_predict\": 199.4}, {\"y_target\": 190.6, \"y_predict\": 190.6}, {\"y_target\": 160.0, \"y_predict\": 160.0}, {\"y_target\": 168.9, \"y_predict\": 168.9}, {\"y_target\": 215.8, \"y_predict\": 215.8}, {\"y_target\": 171.1, \"y_predict\": 171.1}, {\"y_target\": 180.9, \"y_predict\": 180.9}, {\"y_target\": 177.3, \"y_predict\": 177.3}, {\"y_target\": 163.8, \"y_predict\": 163.8}, {\"y_target\": 175.9, \"y_predict\": 175.9}, {\"y_target\": 187.9, \"y_predict\": 187.9}, {\"y_target\": 169.4, \"y_predict\": 169.4}, {\"y_target\": 178.6, \"y_predict\": 178.6}, {\"y_target\": 183.5, \"y_predict\": 183.5}, {\"y_target\": 172.0, \"y_predict\": 172.0}, {\"y_target\": 170.6, \"y_predict\": 170.6}, {\"y_target\": 211.8, \"y_predict\": 211.8}, {\"y_target\": 170.2, \"y_predict\": 170.2}, {\"y_target\": 182.3, \"y_predict\": 182.3}, {\"y_target\": 165.2, \"y_predict\": 165.2}, {\"y_target\": 159.2, \"y_predict\": 159.2}, {\"y_target\": 211.7, \"y_predict\": 211.7}, {\"y_target\": 181.9, \"y_predict\": 181.9}, {\"y_target\": 165.2, \"y_predict\": 165.2}, {\"y_target\": 169.9, \"y_predict\": 169.9}, {\"y_target\": 204.7, \"y_predict\": 204.7}, {\"y_target\": 172.5, \"y_predict\": 172.5}, {\"y_target\": 168.0, \"y_predict\": 168.0}, {\"y_target\": 211.6, \"y_predict\": 211.6}, {\"y_target\": 149.5, \"y_predict\": 149.5}, {\"y_target\": 206.9, \"y_predict\": 206.9}, {\"y_target\": 183.4, \"y_predict\": 183.4}, {\"y_target\": 170.1, \"y_predict\": 170.1}, {\"y_target\": 191.7, \"y_predict\": 191.7}, {\"y_target\": 194.1, \"y_predict\": 194.1}, {\"y_target\": 174.4, \"y_predict\": 174.4}, {\"y_target\": 184.5, \"y_predict\": 184.5}, {\"y_target\": 232.1, \"y_predict\": 232.1}, {\"y_target\": 171.2, \"y_predict\": 171.2}, {\"y_target\": 175.2, \"y_predict\": 175.2}, {\"y_target\": 150.6, \"y_predict\": 150.6}, {\"y_target\": 230.1, \"y_predict\": 230.1}, {\"y_target\": 160.2, \"y_predict\": 160.2}, {\"y_target\": 164.9, \"y_predict\": 164.9}, {\"y_target\": 191.5, \"y_predict\": 191.5}, {\"y_target\": 168.3, \"y_predict\": 168.3}, {\"y_target\": 186.7, \"y_predict\": 186.7}, {\"y_target\": 178.3, \"y_predict\": 178.3}, {\"y_target\": 158.0, \"y_predict\": 158.0}, {\"y_target\": 213.3, \"y_predict\": 213.3}, {\"y_target\": 148.3, \"y_predict\": 148.3}, {\"y_target\": 176.4, \"y_predict\": 176.4}, {\"y_target\": 150.9, \"y_predict\": 150.9}, {\"y_target\": 197.4, \"y_predict\": 197.4}, {\"y_target\": 133.3, \"y_predict\": 133.3}, {\"y_target\": 205.2, \"y_predict\": 205.2}, {\"y_target\": 170.6, \"y_predict\": 170.6}, {\"y_target\": 209.6, \"y_predict\": 209.6}, {\"y_target\": 160.7, \"y_predict\": 160.7}, {\"y_target\": 172.1, \"y_predict\": 172.1}, {\"y_target\": 167.8, \"y_predict\": 167.8}, {\"y_target\": 164.7, \"y_predict\": 164.7}, {\"y_target\": 135.7, \"y_predict\": 135.7}, {\"y_target\": 171.1, \"y_predict\": 171.1}, {\"y_target\": 194.0, \"y_predict\": 194.0}, {\"y_target\": 129.9, \"y_predict\": 129.9}, {\"y_target\": 119.8, \"y_predict\": 119.8}, {\"y_target\": 184.1, \"y_predict\": 184.1}, {\"y_target\": 150.3, \"y_predict\": 150.3}, {\"y_target\": 162.0, \"y_predict\": 162.0}, {\"y_target\": 197.4, \"y_predict\": 197.4}, {\"y_target\": 159.0, \"y_predict\": 159.0}, {\"y_target\": 193.7, \"y_predict\": 193.7}, {\"y_target\": 181.6, \"y_predict\": 181.6}, {\"y_target\": 169.5, \"y_predict\": 169.5}, {\"y_target\": 207.1, \"y_predict\": 207.1}, {\"y_target\": 196.8, \"y_predict\": 196.8}, {\"y_target\": 232.3, \"y_predict\": 232.3}, {\"y_target\": 180.9, \"y_predict\": 180.9}, {\"y_target\": 161.9, \"y_predict\": 161.9}, {\"y_target\": 193.5, \"y_predict\": 193.5}, {\"y_target\": 218.7, \"y_predict\": 218.7}, {\"y_target\": 156.0, \"y_predict\": 156.0}, {\"y_target\": 203.7, \"y_predict\": 203.7}, {\"y_target\": 213.5, \"y_predict\": 213.5}, {\"y_target\": 202.2, \"y_predict\": 202.2}, {\"y_target\": 211.7, \"y_predict\": 211.7}, {\"y_target\": 156.9, \"y_predict\": 156.9}, {\"y_target\": 201.8, \"y_predict\": 201.8}, {\"y_target\": 157.1, \"y_predict\": 157.1}, {\"y_target\": 137.1, \"y_predict\": 137.1}, {\"y_target\": 141.7, \"y_predict\": 141.7}, {\"y_target\": 188.2, \"y_predict\": 188.2}, {\"y_target\": 199.4, \"y_predict\": 199.4}, {\"y_target\": 202.5, \"y_predict\": 202.5}, {\"y_target\": 194.4, \"y_predict\": 194.4}, {\"y_target\": 293.9, \"y_predict\": 293.9}, {\"y_target\": 146.6, \"y_predict\": 146.6}, {\"y_target\": 166.8, \"y_predict\": 166.8}, {\"y_target\": 190.7, \"y_predict\": 190.7}, {\"y_target\": 211.9, \"y_predict\": 211.9}, {\"y_target\": 220.1, \"y_predict\": 220.1}, {\"y_target\": 202.0, \"y_predict\": 202.0}, {\"y_target\": 200.5, \"y_predict\": 200.5}, {\"y_target\": 198.2, \"y_predict\": 198.2}, {\"y_target\": 154.1, \"y_predict\": 154.1}, {\"y_target\": 141.1, \"y_predict\": 141.1}, {\"y_target\": 174.1, \"y_predict\": 174.1}, {\"y_target\": 191.9, \"y_predict\": 191.9}, {\"y_target\": 192.1, \"y_predict\": 192.1}, {\"y_target\": 175.9, \"y_predict\": 175.9}, {\"y_target\": 166.0, \"y_predict\": 166.0}, {\"y_target\": 176.4, \"y_predict\": 176.4}, {\"y_target\": 170.1, \"y_predict\": 170.1}, {\"y_target\": 153.2, \"y_predict\": 153.2}, {\"y_target\": 133.5, \"y_predict\": 133.5}, {\"y_target\": 199.3, \"y_predict\": 199.3}, {\"y_target\": 169.9, \"y_predict\": 169.9}, {\"y_target\": 161.0, \"y_predict\": 161.0}, {\"y_target\": 206.6, \"y_predict\": 206.6}, {\"y_target\": 247.3, \"y_predict\": 247.3}, {\"y_target\": 127.1, \"y_predict\": 127.1}, {\"y_target\": 120.0, \"y_predict\": 120.0}, {\"y_target\": 174.0, \"y_predict\": 174.0}, {\"y_target\": 165.7, \"y_predict\": 165.7}, {\"y_target\": 182.9, \"y_predict\": 182.9}, {\"y_target\": 169.0, \"y_predict\": 169.0}, {\"y_target\": 183.4, \"y_predict\": 183.4}, {\"y_target\": 176.4, \"y_predict\": 176.4}, {\"y_target\": 160.4, \"y_predict\": 160.4}, {\"y_target\": 205.2, \"y_predict\": 205.2}, {\"y_target\": 139.0, \"y_predict\": 139.0}, {\"y_target\": 187.3, \"y_predict\": 187.3}, {\"y_target\": 195.5, \"y_predict\": 195.5}, {\"y_target\": 199.8, \"y_predict\": 199.8}, {\"y_target\": 159.3, \"y_predict\": 159.3}, {\"y_target\": 170.3, \"y_predict\": 170.3}, {\"y_target\": 219.4, \"y_predict\": 219.4}, {\"y_target\": 157.0, \"y_predict\": 157.0}, {\"y_target\": 172.7, \"y_predict\": 172.7}, {\"y_target\": 164.7, \"y_predict\": 164.7}, {\"y_target\": 180.1, \"y_predict\": 180.1}, {\"y_target\": 180.1, \"y_predict\": 180.1}, {\"y_target\": 203.2, \"y_predict\": 203.2}, {\"y_target\": 189.9, \"y_predict\": 189.9}, {\"y_target\": 191.0, \"y_predict\": 191.0}, {\"y_target\": 222.7, \"y_predict\": 222.7}, {\"y_target\": 202.2, \"y_predict\": 202.2}, {\"y_target\": 197.4, \"y_predict\": 197.4}, {\"y_target\": 154.8, \"y_predict\": 154.8}, {\"y_target\": 219.8, \"y_predict\": 219.8}, {\"y_target\": 161.7, \"y_predict\": 161.7}, {\"y_target\": 139.8, \"y_predict\": 139.8}, {\"y_target\": 175.2, \"y_predict\": 175.2}, {\"y_target\": 151.3, \"y_predict\": 151.3}, {\"y_target\": 183.9, \"y_predict\": 183.9}, {\"y_target\": 193.6, \"y_predict\": 193.6}, {\"y_target\": 158.1, \"y_predict\": 158.1}, {\"y_target\": 172.2, \"y_predict\": 172.2}, {\"y_target\": 142.1, \"y_predict\": 142.1}, {\"y_target\": 114.3, \"y_predict\": 114.3}, {\"y_target\": 226.6, \"y_predict\": 226.6}, {\"y_target\": 208.3, \"y_predict\": 208.3}, {\"y_target\": 181.9, \"y_predict\": 181.9}, {\"y_target\": 198.4, \"y_predict\": 198.4}, {\"y_target\": 193.5, \"y_predict\": 193.5}, {\"y_target\": 165.4, \"y_predict\": 165.4}, {\"y_target\": 151.9, \"y_predict\": 151.9}, {\"y_target\": 164.9, \"y_predict\": 164.9}, {\"y_target\": 162.2, \"y_predict\": 162.2}, {\"y_target\": 162.4, \"y_predict\": 162.4}, {\"y_target\": 224.8, \"y_predict\": 224.8}, {\"y_target\": 184.8, \"y_predict\": 184.8}, {\"y_target\": 230.9, \"y_predict\": 230.9}, {\"y_target\": 194.4, \"y_predict\": 194.4}, {\"y_target\": 179.2, \"y_predict\": 179.2}, {\"y_target\": 219.1, \"y_predict\": 219.1}, {\"y_target\": 185.1, \"y_predict\": 185.1}, {\"y_target\": 191.8, \"y_predict\": 191.8}, {\"y_target\": 196.0, \"y_predict\": 196.0}, {\"y_target\": 166.9, \"y_predict\": 166.9}, {\"y_target\": 202.6, \"y_predict\": 202.6}, {\"y_target\": 184.8, \"y_predict\": 184.8}, {\"y_target\": 209.1, \"y_predict\": 209.1}, {\"y_target\": 203.5, \"y_predict\": 203.5}, {\"y_target\": 207.4, \"y_predict\": 207.4}, {\"y_target\": 182.4, \"y_predict\": 182.4}, {\"y_target\": 147.8, \"y_predict\": 147.8}, {\"y_target\": 193.8, \"y_predict\": 193.8}, {\"y_target\": 205.2, \"y_predict\": 205.2}, {\"y_target\": 185.8, \"y_predict\": 185.8}, {\"y_target\": 239.8, \"y_predict\": 239.8}, {\"y_target\": 159.9, \"y_predict\": 159.9}, {\"y_target\": 143.2, \"y_predict\": 143.2}, {\"y_target\": 191.5, \"y_predict\": 191.5}, {\"y_target\": 184.0, \"y_predict\": 184.0}, {\"y_target\": 162.6, \"y_predict\": 162.6}, {\"y_target\": 181.3, \"y_predict\": 181.3}, {\"y_target\": 146.2, \"y_predict\": 146.2}, {\"y_target\": 177.8, \"y_predict\": 177.8}, {\"y_target\": 173.4, \"y_predict\": 173.4}, {\"y_target\": 165.0, \"y_predict\": 165.0}, {\"y_target\": 185.3, \"y_predict\": 185.3}, {\"y_target\": 146.1, \"y_predict\": 146.1}, {\"y_target\": 179.9, \"y_predict\": 179.9}, {\"y_target\": 157.6, \"y_predict\": 157.6}, {\"y_target\": 193.9, \"y_predict\": 193.9}, {\"y_target\": 173.0, \"y_predict\": 173.0}, {\"y_target\": 163.4, \"y_predict\": 163.4}, {\"y_target\": 183.7, \"y_predict\": 183.7}, {\"y_target\": 187.7, \"y_predict\": 187.7}, {\"y_target\": 186.4, \"y_predict\": 186.4}, {\"y_target\": 172.2, \"y_predict\": 172.2}, {\"y_target\": 156.6, \"y_predict\": 156.6}, {\"y_target\": 173.1, \"y_predict\": 173.1}, {\"y_target\": 220.5, \"y_predict\": 220.5}, {\"y_target\": 221.3, \"y_predict\": 221.3}, {\"y_target\": 156.3, \"y_predict\": 156.3}, {\"y_target\": 195.2, \"y_predict\": 195.2}, {\"y_target\": 124.8, \"y_predict\": 124.8}, {\"y_target\": 143.4, \"y_predict\": 143.4}, {\"y_target\": 190.8, \"y_predict\": 190.8}, {\"y_target\": 194.0, \"y_predict\": 194.0}, {\"y_target\": 147.7, \"y_predict\": 147.7}, {\"y_target\": 196.3, \"y_predict\": 196.3}, {\"y_target\": 250.0, \"y_predict\": 250.0}, {\"y_target\": 179.0, \"y_predict\": 179.0}, {\"y_target\": 177.2, \"y_predict\": 177.2}, {\"y_target\": 194.2, \"y_predict\": 194.2}, {\"y_target\": 148.3, \"y_predict\": 148.3}, {\"y_target\": 180.0, \"y_predict\": 180.0}, {\"y_target\": 165.2, \"y_predict\": 165.2}, {\"y_target\": 136.5, \"y_predict\": 136.5}, {\"y_target\": 204.3, \"y_predict\": 204.3}, {\"y_target\": 154.3, \"y_predict\": 154.3}, {\"y_target\": 176.2, \"y_predict\": 176.2}, {\"y_target\": 129.5, \"y_predict\": 129.5}, {\"y_target\": 187.7, \"y_predict\": 187.7}, {\"y_target\": 187.8, \"y_predict\": 187.8}, {\"y_target\": 197.9, \"y_predict\": 197.9}, {\"y_target\": 191.3, \"y_predict\": 191.3}, {\"y_target\": 187.5, \"y_predict\": 187.5}, {\"y_target\": 183.2, \"y_predict\": 183.2}, {\"y_target\": 233.2, \"y_predict\": 233.2}, {\"y_target\": 185.5, \"y_predict\": 185.5}, {\"y_target\": 155.4, \"y_predict\": 155.4}, {\"y_target\": 170.1, \"y_predict\": 170.1}, {\"y_target\": 189.9, \"y_predict\": 189.9}, {\"y_target\": 202.5, \"y_predict\": 202.5}, {\"y_target\": 164.5, \"y_predict\": 164.5}, {\"y_target\": 155.2, \"y_predict\": 155.2}, {\"y_target\": 151.2, \"y_predict\": 151.2}, {\"y_target\": 207.8, \"y_predict\": 207.8}, {\"y_target\": 140.8, \"y_predict\": 140.8}, {\"y_target\": 148.2, \"y_predict\": 148.2}, {\"y_target\": 161.0, \"y_predict\": 161.0}, {\"y_target\": 140.0, \"y_predict\": 140.0}, {\"y_target\": 135.2, \"y_predict\": 135.2}, {\"y_target\": 154.8, \"y_predict\": 154.8}, {\"y_target\": 171.0, \"y_predict\": 171.0}, {\"y_target\": 154.6, \"y_predict\": 154.6}, {\"y_target\": 235.8, \"y_predict\": 235.8}, {\"y_target\": 194.3, \"y_predict\": 194.3}, {\"y_target\": 201.9, \"y_predict\": 201.9}, {\"y_target\": 177.0, \"y_predict\": 177.0}, {\"y_target\": 163.6, \"y_predict\": 163.6}, {\"y_target\": 177.8, \"y_predict\": 177.8}, {\"y_target\": 140.8, \"y_predict\": 140.8}, {\"y_target\": 216.4, \"y_predict\": 216.4}, {\"y_target\": 168.0, \"y_predict\": 168.0}, {\"y_target\": 154.7, \"y_predict\": 154.7}, {\"y_target\": 159.4, \"y_predict\": 159.4}, {\"y_target\": 205.4, \"y_predict\": 205.4}, {\"y_target\": 162.6, \"y_predict\": 162.6}, {\"y_target\": 194.4, \"y_predict\": 194.4}, {\"y_target\": 153.8, \"y_predict\": 153.8}, {\"y_target\": 159.4, \"y_predict\": 159.4}, {\"y_target\": 155.7, \"y_predict\": 155.7}, {\"y_target\": 207.1, \"y_predict\": 207.1}, {\"y_target\": 156.8, \"y_predict\": 156.8}, {\"y_target\": 147.4, \"y_predict\": 147.4}, {\"y_target\": 168.8, \"y_predict\": 168.8}, {\"y_target\": 197.6, \"y_predict\": 197.6}, {\"y_target\": 176.5, \"y_predict\": 176.5}, {\"y_target\": 175.0, \"y_predict\": 175.0}, {\"y_target\": 196.1, \"y_predict\": 196.1}, {\"y_target\": 177.5, \"y_predict\": 177.5}, {\"y_target\": 190.0, \"y_predict\": 190.0}, {\"y_target\": 173.9, \"y_predict\": 173.9}, {\"y_target\": 168.4, \"y_predict\": 168.4}, {\"y_target\": 163.2, \"y_predict\": 163.2}, {\"y_target\": 129.6, \"y_predict\": 129.6}, {\"y_target\": 175.4, \"y_predict\": 175.4}, {\"y_target\": 80.8, \"y_predict\": 80.8}, {\"y_target\": 200.8, \"y_predict\": 200.8}, {\"y_target\": 216.5, \"y_predict\": 216.5}, {\"y_target\": 173.4, \"y_predict\": 173.4}, {\"y_target\": 165.4, \"y_predict\": 165.4}, {\"y_target\": 175.0, \"y_predict\": 175.0}, {\"y_target\": 163.7, \"y_predict\": 163.7}, {\"y_target\": 193.1, \"y_predict\": 193.1}, {\"y_target\": 184.4, \"y_predict\": 184.4}, {\"y_target\": 193.6, \"y_predict\": 193.6}, {\"y_target\": 163.5, \"y_predict\": 163.5}, {\"y_target\": 184.3, \"y_predict\": 184.3}, {\"y_target\": 155.0, \"y_predict\": 155.0}, {\"y_target\": 215.9, \"y_predict\": 215.9}, {\"y_target\": 142.7, \"y_predict\": 142.7}, {\"y_target\": 114.5, \"y_predict\": 114.5}, {\"y_target\": 210.5, \"y_predict\": 210.5}, {\"y_target\": 214.4, \"y_predict\": 214.4}, {\"y_target\": 142.1, \"y_predict\": 142.1}, {\"y_target\": 133.4, \"y_predict\": 133.4}, {\"y_target\": 177.6, \"y_predict\": 177.6}, {\"y_target\": 194.5, \"y_predict\": 194.5}, {\"y_target\": 147.8, \"y_predict\": 147.8}, {\"y_target\": 167.7, \"y_predict\": 167.7}, {\"y_target\": 194.8, \"y_predict\": 194.8}, {\"y_target\": 189.3, \"y_predict\": 189.3}, {\"y_target\": 167.7, \"y_predict\": 167.7}, {\"y_target\": 177.5, \"y_predict\": 177.5}, {\"y_target\": 158.9, \"y_predict\": 158.9}, {\"y_target\": 175.5, \"y_predict\": 175.5}, {\"y_target\": 203.8, \"y_predict\": 203.8}, {\"y_target\": 198.5, \"y_predict\": 198.5}, {\"y_target\": 199.1, \"y_predict\": 199.1}, {\"y_target\": 185.7, \"y_predict\": 185.7}, {\"y_target\": 145.2, \"y_predict\": 145.2}, {\"y_target\": 163.7, \"y_predict\": 163.7}, {\"y_target\": 155.3, \"y_predict\": 155.3}, {\"y_target\": 178.5, \"y_predict\": 178.5}, {\"y_target\": 155.4, \"y_predict\": 155.4}, {\"y_target\": 172.6, \"y_predict\": 172.6}, {\"y_target\": 161.0, \"y_predict\": 161.0}, {\"y_target\": 213.6, \"y_predict\": 213.6}, {\"y_target\": 151.5, \"y_predict\": 151.5}, {\"y_target\": 181.6, \"y_predict\": 181.6}, {\"y_target\": 179.8, \"y_predict\": 179.8}, {\"y_target\": 210.7, \"y_predict\": 210.7}, {\"y_target\": 193.0, \"y_predict\": 193.0}, {\"y_target\": 183.2, \"y_predict\": 183.2}, {\"y_target\": 199.7, \"y_predict\": 199.7}, {\"y_target\": 292.5, \"y_predict\": 292.5}, {\"y_target\": 143.1, \"y_predict\": 143.1}, {\"y_target\": 200.6, \"y_predict\": 200.6}, {\"y_target\": 150.3, \"y_predict\": 150.3}, {\"y_target\": 137.3, \"y_predict\": 137.3}, {\"y_target\": 155.2, \"y_predict\": 155.2}, {\"y_target\": 168.3, \"y_predict\": 168.3}, {\"y_target\": 158.2, \"y_predict\": 158.2}, {\"y_target\": 211.3, \"y_predict\": 211.3}, {\"y_target\": 172.7, \"y_predict\": 172.7}, {\"y_target\": 152.3, \"y_predict\": 152.3}, {\"y_target\": 163.3, \"y_predict\": 163.3}, {\"y_target\": 158.6, \"y_predict\": 158.6}, {\"y_target\": 239.3, \"y_predict\": 239.3}, {\"y_target\": 159.8, \"y_predict\": 159.8}, {\"y_target\": 194.2, \"y_predict\": 194.2}, {\"y_target\": 235.4, \"y_predict\": 235.4}, {\"y_target\": 175.7, \"y_predict\": 175.7}, {\"y_target\": 203.6, \"y_predict\": 203.6}, {\"y_target\": 165.2, \"y_predict\": 165.2}, {\"y_target\": 240.6, \"y_predict\": 240.6}, {\"y_target\": 197.9, \"y_predict\": 197.9}, {\"y_target\": 157.5, \"y_predict\": 157.5}, {\"y_target\": 172.8, \"y_predict\": 172.8}, {\"y_target\": 135.8, \"y_predict\": 135.8}, {\"y_target\": 163.0, \"y_predict\": 163.0}, {\"y_target\": 113.2, \"y_predict\": 113.2}, {\"y_target\": 181.2, \"y_predict\": 181.2}, {\"y_target\": 131.8, \"y_predict\": 131.8}, {\"y_target\": 235.2, \"y_predict\": 235.2}, {\"y_target\": 225.1, \"y_predict\": 225.1}, {\"y_target\": 162.4, \"y_predict\": 162.4}, {\"y_target\": 176.6, \"y_predict\": 176.6}, {\"y_target\": 106.1, \"y_predict\": 106.1}, {\"y_target\": 189.4, \"y_predict\": 189.4}, {\"y_target\": 174.5, \"y_predict\": 174.5}, {\"y_target\": 97.3, \"y_predict\": 97.3}, {\"y_target\": 144.4, \"y_predict\": 144.4}, {\"y_target\": 190.3, \"y_predict\": 190.3}, {\"y_target\": 173.6, \"y_predict\": 173.6}, {\"y_target\": 203.6, \"y_predict\": 203.6}, {\"y_target\": 191.9, \"y_predict\": 191.9}, {\"y_target\": 166.0, \"y_predict\": 166.0}, {\"y_target\": 155.7, \"y_predict\": 155.7}, {\"y_target\": 190.4, \"y_predict\": 190.4}, {\"y_target\": 168.5, \"y_predict\": 168.5}, {\"y_target\": 156.6, \"y_predict\": 156.6}, {\"y_target\": 212.4, \"y_predict\": 212.4}, {\"y_target\": 171.7, \"y_predict\": 171.7}, {\"y_target\": 193.8, \"y_predict\": 193.8}, {\"y_target\": 169.9, \"y_predict\": 169.9}, {\"y_target\": 241.1, \"y_predict\": 241.1}, {\"y_target\": 145.6, \"y_predict\": 145.6}, {\"y_target\": 187.2, \"y_predict\": 187.2}, {\"y_target\": 104.1, \"y_predict\": 104.1}, {\"y_target\": 185.8, \"y_predict\": 185.8}, {\"y_target\": 87.6, \"y_predict\": 87.6}, {\"y_target\": 166.8, \"y_predict\": 166.8}, {\"y_target\": 215.1, \"y_predict\": 215.1}, {\"y_target\": 198.2, \"y_predict\": 198.2}, {\"y_target\": 212.1, \"y_predict\": 212.1}, {\"y_target\": 223.6, \"y_predict\": 223.6}, {\"y_target\": 217.7, \"y_predict\": 217.7}, {\"y_target\": 181.2, \"y_predict\": 181.2}, {\"y_target\": 184.8, \"y_predict\": 184.8}, {\"y_target\": 182.7, \"y_predict\": 182.7}, {\"y_target\": 185.9, \"y_predict\": 185.9}, {\"y_target\": 142.4, \"y_predict\": 142.4}, {\"y_target\": 159.7, \"y_predict\": 159.7}, {\"y_target\": 154.0, \"y_predict\": 154.0}, {\"y_target\": 175.0, \"y_predict\": 175.0}, {\"y_target\": 175.1, \"y_predict\": 175.1}, {\"y_target\": 198.5, \"y_predict\": 198.5}, {\"y_target\": 110.4, \"y_predict\": 110.4}, {\"y_target\": 154.1, \"y_predict\": 154.1}, {\"y_target\": 164.7, \"y_predict\": 164.7}, {\"y_target\": 217.0, \"y_predict\": 217.0}, {\"y_target\": 198.9, \"y_predict\": 198.9}, {\"y_target\": 155.6, \"y_predict\": 155.6}, {\"y_target\": 186.6, \"y_predict\": 186.6}, {\"y_target\": 163.6, \"y_predict\": 163.6}, {\"y_target\": 174.4, \"y_predict\": 174.4}, {\"y_target\": 223.2, \"y_predict\": 223.2}, {\"y_target\": 188.2, \"y_predict\": 188.2}, {\"y_target\": 174.7, \"y_predict\": 174.7}, {\"y_target\": 148.5, \"y_predict\": 148.5}, {\"y_target\": 195.6, \"y_predict\": 195.6}, {\"y_target\": 168.7, \"y_predict\": 168.7}, {\"y_target\": 164.1, \"y_predict\": 164.1}, {\"y_target\": 186.7, \"y_predict\": 186.7}, {\"y_target\": 167.3, \"y_predict\": 167.3}, {\"y_target\": 263.1, \"y_predict\": 263.1}, {\"y_target\": 195.2, \"y_predict\": 195.2}, {\"y_target\": 177.5, \"y_predict\": 177.5}, {\"y_target\": 168.7, \"y_predict\": 168.7}, {\"y_target\": 243.6, \"y_predict\": 243.6}, {\"y_target\": 128.7, \"y_predict\": 128.7}, {\"y_target\": 167.6, \"y_predict\": 167.6}, {\"y_target\": 168.3, \"y_predict\": 168.3}, {\"y_target\": 192.1, \"y_predict\": 192.1}, {\"y_target\": 172.8, \"y_predict\": 172.8}, {\"y_target\": 257.8, \"y_predict\": 257.8}, {\"y_target\": 182.0, \"y_predict\": 182.0}, {\"y_target\": 215.5, \"y_predict\": 215.5}, {\"y_target\": 197.0, \"y_predict\": 197.0}, {\"y_target\": 160.1, \"y_predict\": 160.1}, {\"y_target\": 171.4, \"y_predict\": 171.4}, {\"y_target\": 201.3, \"y_predict\": 201.3}, {\"y_target\": 134.7, \"y_predict\": 134.7}, {\"y_target\": 159.1, \"y_predict\": 159.1}, {\"y_target\": 212.5, \"y_predict\": 212.5}, {\"y_target\": 190.3, \"y_predict\": 190.3}, {\"y_target\": 163.1, \"y_predict\": 163.1}, {\"y_target\": 173.7, \"y_predict\": 173.7}, {\"y_target\": 192.5, \"y_predict\": 192.5}, {\"y_target\": 179.7, \"y_predict\": 179.7}, {\"y_target\": 189.0, \"y_predict\": 189.0}, {\"y_target\": 167.5, \"y_predict\": 167.5}, {\"y_target\": 163.8, \"y_predict\": 163.8}, {\"y_target\": 166.7, \"y_predict\": 166.7}, {\"y_target\": 190.7, \"y_predict\": 190.7}, {\"y_target\": 140.7, \"y_predict\": 140.7}, {\"y_target\": 191.7, \"y_predict\": 191.7}, {\"y_target\": 221.7, \"y_predict\": 221.7}, {\"y_target\": 167.2, \"y_predict\": 167.2}, {\"y_target\": 187.2, \"y_predict\": 187.2}, {\"y_target\": 182.8, \"y_predict\": 182.8}, {\"y_target\": 201.4, \"y_predict\": 201.4}, {\"y_target\": 185.1, \"y_predict\": 185.1}, {\"y_target\": 169.7, \"y_predict\": 169.7}, {\"y_target\": 174.6, \"y_predict\": 174.6}, {\"y_target\": 154.2, \"y_predict\": 154.2}, {\"y_target\": 255.9, \"y_predict\": 255.9}, {\"y_target\": 157.1, \"y_predict\": 157.1}, {\"y_target\": 179.9, \"y_predict\": 179.9}, {\"y_target\": 184.5, \"y_predict\": 184.5}, {\"y_target\": 161.8, \"y_predict\": 161.8}, {\"y_target\": 145.3, \"y_predict\": 145.3}, {\"y_target\": 178.2, \"y_predict\": 178.2}, {\"y_target\": 175.1, \"y_predict\": 175.1}, {\"y_target\": 216.2, \"y_predict\": 216.2}, {\"y_target\": 162.2, \"y_predict\": 162.2}, {\"y_target\": 217.6, \"y_predict\": 217.6}, {\"y_target\": 213.9, \"y_predict\": 213.9}, {\"y_target\": 212.5, \"y_predict\": 212.5}, {\"y_target\": 179.8, \"y_predict\": 179.8}, {\"y_target\": 154.2, \"y_predict\": 154.2}, {\"y_target\": 155.1, \"y_predict\": 155.1}, {\"y_target\": 199.9, \"y_predict\": 199.9}, {\"y_target\": 177.0, \"y_predict\": 177.0}, {\"y_target\": 222.1, \"y_predict\": 222.1}, {\"y_target\": 195.5, \"y_predict\": 195.5}, {\"y_target\": 162.7, \"y_predict\": 162.7}, {\"y_target\": 177.0, \"y_predict\": 177.0}, {\"y_target\": 173.6, \"y_predict\": 173.6}, {\"y_target\": 189.2, \"y_predict\": 189.2}, {\"y_target\": 175.3, \"y_predict\": 175.3}, {\"y_target\": 176.4, \"y_predict\": 176.4}, {\"y_target\": 177.9, \"y_predict\": 177.9}, {\"y_target\": 172.8, \"y_predict\": 172.8}, {\"y_target\": 159.7, \"y_predict\": 159.7}, {\"y_target\": 211.5, \"y_predict\": 211.5}, {\"y_target\": 218.4, \"y_predict\": 218.4}, {\"y_target\": 139.9, \"y_predict\": 139.9}, {\"y_target\": 209.2, \"y_predict\": 209.2}, {\"y_target\": 162.8, \"y_predict\": 162.8}, {\"y_target\": 194.4, \"y_predict\": 194.4}, {\"y_target\": 176.0, \"y_predict\": 176.0}, {\"y_target\": 165.6, \"y_predict\": 165.6}, {\"y_target\": 228.4, \"y_predict\": 228.4}, {\"y_target\": 194.1, \"y_predict\": 194.1}, {\"y_target\": 201.9, \"y_predict\": 201.9}, {\"y_target\": 182.2, \"y_predict\": 182.2}, {\"y_target\": 158.7, \"y_predict\": 158.7}, {\"y_target\": 156.5, \"y_predict\": 156.5}, {\"y_target\": 173.6, \"y_predict\": 173.6}, {\"y_target\": 186.5, \"y_predict\": 186.5}, {\"y_target\": 238.5, \"y_predict\": 238.5}, {\"y_target\": 179.8, \"y_predict\": 179.8}, {\"y_target\": 168.7, \"y_predict\": 168.7}, {\"y_target\": 157.1, \"y_predict\": 157.1}, {\"y_target\": 187.4, \"y_predict\": 187.4}, {\"y_target\": 162.0, \"y_predict\": 162.0}, {\"y_target\": 199.3, \"y_predict\": 199.3}, {\"y_target\": 201.2, \"y_predict\": 201.2}, {\"y_target\": 161.2, \"y_predict\": 161.2}, {\"y_target\": 200.7, \"y_predict\": 200.7}, {\"y_target\": 190.6, \"y_predict\": 190.6}, {\"y_target\": 178.3, \"y_predict\": 178.3}, {\"y_target\": 158.9, \"y_predict\": 158.9}, {\"y_target\": 166.5, \"y_predict\": 166.5}, {\"y_target\": 160.2, \"y_predict\": 160.2}, {\"y_target\": 180.7, \"y_predict\": 180.7}, {\"y_target\": 141.8, \"y_predict\": 141.8}, {\"y_target\": 131.1, \"y_predict\": 131.1}, {\"y_target\": 176.8, \"y_predict\": 176.8}, {\"y_target\": 176.7, \"y_predict\": 176.7}, {\"y_target\": 198.1, \"y_predict\": 198.1}, {\"y_target\": 178.6, \"y_predict\": 178.6}, {\"y_target\": 181.3, \"y_predict\": 181.3}, {\"y_target\": 187.0, \"y_predict\": 187.0}, {\"y_target\": 198.4, \"y_predict\": 198.4}, {\"y_target\": 195.3, \"y_predict\": 195.3}, {\"y_target\": 190.7, \"y_predict\": 190.7}, {\"y_target\": 174.7, \"y_predict\": 174.7}, {\"y_target\": 163.3, \"y_predict\": 163.3}, {\"y_target\": 162.7, \"y_predict\": 162.7}, {\"y_target\": 228.1, \"y_predict\": 228.1}, {\"y_target\": 202.8, \"y_predict\": 202.8}, {\"y_target\": 193.1, \"y_predict\": 193.1}, {\"y_target\": 168.5, \"y_predict\": 168.5}, {\"y_target\": 185.4, \"y_predict\": 185.4}, {\"y_target\": 196.5, \"y_predict\": 196.5}, {\"y_target\": 196.3, \"y_predict\": 196.3}, {\"y_target\": 205.8, \"y_predict\": 205.8}, {\"y_target\": 150.0, \"y_predict\": 150.0}, {\"y_target\": 173.9, \"y_predict\": 173.9}, {\"y_target\": 202.1, \"y_predict\": 202.1}, {\"y_target\": 188.7, \"y_predict\": 188.7}, {\"y_target\": 190.3, \"y_predict\": 190.3}, {\"y_target\": 227.1, \"y_predict\": 227.1}, {\"y_target\": 230.0, \"y_predict\": 230.0}, {\"y_target\": 175.6, \"y_predict\": 175.6}, {\"y_target\": 152.6, \"y_predict\": 152.6}, {\"y_target\": 149.0, \"y_predict\": 149.0}, {\"y_target\": 165.5, \"y_predict\": 165.5}, {\"y_target\": 183.6, \"y_predict\": 183.6}, {\"y_target\": 185.4, \"y_predict\": 185.4}, {\"y_target\": 209.9, \"y_predict\": 209.9}, {\"y_target\": 161.3, \"y_predict\": 161.3}, {\"y_target\": 176.6, \"y_predict\": 176.6}, {\"y_target\": 186.1, \"y_predict\": 186.1}, {\"y_target\": 180.6, \"y_predict\": 180.6}, {\"y_target\": 140.8, \"y_predict\": 140.8}, {\"y_target\": 151.4, \"y_predict\": 151.4}, {\"y_target\": 149.4, \"y_predict\": 149.4}, {\"y_target\": 174.0, \"y_predict\": 174.0}, {\"y_target\": 180.6, \"y_predict\": 180.6}, {\"y_target\": 185.5, \"y_predict\": 185.5}, {\"y_target\": 163.7, \"y_predict\": 163.7}, {\"y_target\": 163.5, \"y_predict\": 163.5}, {\"y_target\": 197.6, \"y_predict\": 197.6}, {\"y_target\": 256.9, \"y_predict\": 256.9}, {\"y_target\": 215.6, \"y_predict\": 215.6}, {\"y_target\": 183.5, \"y_predict\": 183.5}, {\"y_target\": 160.0, \"y_predict\": 160.0}, {\"y_target\": 212.3, \"y_predict\": 212.3}, {\"y_target\": 184.4, \"y_predict\": 184.4}, {\"y_target\": 217.0, \"y_predict\": 217.0}, {\"y_target\": 176.7, \"y_predict\": 176.7}, {\"y_target\": 151.2, \"y_predict\": 151.2}, {\"y_target\": 188.0, \"y_predict\": 188.0}, {\"y_target\": 155.4, \"y_predict\": 155.4}, {\"y_target\": 181.2, \"y_predict\": 181.2}, {\"y_target\": 178.3, \"y_predict\": 178.3}, {\"y_target\": 197.7, \"y_predict\": 197.7}, {\"y_target\": 209.9, \"y_predict\": 209.9}, {\"y_target\": 178.3, \"y_predict\": 178.3}, {\"y_target\": 155.2, \"y_predict\": 155.2}, {\"y_target\": 194.0, \"y_predict\": 194.0}, {\"y_target\": 218.1, \"y_predict\": 218.1}, {\"y_target\": 172.1, \"y_predict\": 172.1}, {\"y_target\": 155.3, \"y_predict\": 155.3}, {\"y_target\": 203.7, \"y_predict\": 203.7}, {\"y_target\": 169.4, \"y_predict\": 169.4}, {\"y_target\": 184.3, \"y_predict\": 184.3}, {\"y_target\": 184.3, \"y_predict\": 184.3}, {\"y_target\": 202.5, \"y_predict\": 202.5}, {\"y_target\": 136.5, \"y_predict\": 136.5}, {\"y_target\": 176.4, \"y_predict\": 176.4}, {\"y_target\": 183.7, \"y_predict\": 183.7}, {\"y_target\": 191.2, \"y_predict\": 191.2}, {\"y_target\": 194.7, \"y_predict\": 194.7}, {\"y_target\": 187.0, \"y_predict\": 187.0}, {\"y_target\": 201.4, \"y_predict\": 201.4}, {\"y_target\": 171.3, \"y_predict\": 171.3}, {\"y_target\": 192.0, \"y_predict\": 192.0}, {\"y_target\": 136.5, \"y_predict\": 136.5}, {\"y_target\": 218.3, \"y_predict\": 218.3}, {\"y_target\": 197.0, \"y_predict\": 197.0}, {\"y_target\": 207.4, \"y_predict\": 207.4}, {\"y_target\": 189.8, \"y_predict\": 189.8}, {\"y_target\": 185.1, \"y_predict\": 185.1}, {\"y_target\": 158.0, \"y_predict\": 158.0}, {\"y_target\": 210.3, \"y_predict\": 210.3}, {\"y_target\": 190.1, \"y_predict\": 190.1}, {\"y_target\": 185.0, \"y_predict\": 185.0}, {\"y_target\": 195.7, \"y_predict\": 195.7}, {\"y_target\": 165.2, \"y_predict\": 165.2}, {\"y_target\": 218.8, \"y_predict\": 218.8}, {\"y_target\": 193.6, \"y_predict\": 193.6}, {\"y_target\": 160.2, \"y_predict\": 160.2}, {\"y_target\": 188.8, \"y_predict\": 188.8}, {\"y_target\": 208.5, \"y_predict\": 208.5}, {\"y_target\": 163.3, \"y_predict\": 163.3}, {\"y_target\": 156.7, \"y_predict\": 156.7}, {\"y_target\": 146.2, \"y_predict\": 146.2}, {\"y_target\": 181.5, \"y_predict\": 181.5}, {\"y_target\": 215.6, \"y_predict\": 215.6}, {\"y_target\": 149.4, \"y_predict\": 149.4}, {\"y_target\": 168.6, \"y_predict\": 168.6}, {\"y_target\": 219.5, \"y_predict\": 219.5}, {\"y_target\": 176.7, \"y_predict\": 176.7}, {\"y_target\": 196.6, \"y_predict\": 196.6}, {\"y_target\": 157.0, \"y_predict\": 157.0}, {\"y_target\": 236.8, \"y_predict\": 236.8}, {\"y_target\": 189.6, \"y_predict\": 189.6}, {\"y_target\": 133.3, \"y_predict\": 133.3}, {\"y_target\": 205.6, \"y_predict\": 205.6}, {\"y_target\": 180.9, \"y_predict\": 180.9}, {\"y_target\": 221.8, \"y_predict\": 221.8}, {\"y_target\": 176.1, \"y_predict\": 176.1}, {\"y_target\": 145.9, \"y_predict\": 145.9}, {\"y_target\": 162.6, \"y_predict\": 162.6}, {\"y_target\": 167.0, \"y_predict\": 167.0}, {\"y_target\": 172.9, \"y_predict\": 172.9}, {\"y_target\": 198.5, \"y_predict\": 198.5}, {\"y_target\": 166.3, \"y_predict\": 166.3}, {\"y_target\": 143.8, \"y_predict\": 143.8}, {\"y_target\": 155.8, \"y_predict\": 155.8}, {\"y_target\": 171.5, \"y_predict\": 171.5}, {\"y_target\": 155.6, \"y_predict\": 155.6}, {\"y_target\": 190.6, \"y_predict\": 190.6}, {\"y_target\": 187.5, \"y_predict\": 187.5}, {\"y_target\": 131.8, \"y_predict\": 131.8}, {\"y_target\": 163.6, \"y_predict\": 163.6}, {\"y_target\": 193.4, \"y_predict\": 193.4}, {\"y_target\": 152.7, \"y_predict\": 152.7}, {\"y_target\": 179.7, \"y_predict\": 179.7}, {\"y_target\": 165.7, \"y_predict\": 165.7}, {\"y_target\": 138.4, \"y_predict\": 138.4}, {\"y_target\": 136.2, \"y_predict\": 136.2}, {\"y_target\": 172.2, \"y_predict\": 172.2}, {\"y_target\": 182.1, \"y_predict\": 182.1}, {\"y_target\": 137.3, \"y_predict\": 137.3}, {\"y_target\": 122.5, \"y_predict\": 122.5}, {\"y_target\": 184.2, \"y_predict\": 184.2}, {\"y_target\": 166.7, \"y_predict\": 166.7}, {\"y_target\": 195.6, \"y_predict\": 195.6}, {\"y_target\": 135.3, \"y_predict\": 135.3}, {\"y_target\": 215.7, \"y_predict\": 215.7}, {\"y_target\": 149.8, \"y_predict\": 149.8}, {\"y_target\": 165.3, \"y_predict\": 165.3}, {\"y_target\": 203.2, \"y_predict\": 203.2}, {\"y_target\": 200.6, \"y_predict\": 200.6}, {\"y_target\": 150.1, \"y_predict\": 150.1}, {\"y_target\": 135.4, \"y_predict\": 135.4}, {\"y_target\": 227.9, \"y_predict\": 227.9}, {\"y_target\": 123.2, \"y_predict\": 123.2}, {\"y_target\": 190.0, \"y_predict\": 190.0}, {\"y_target\": 149.0, \"y_predict\": 149.0}, {\"y_target\": 104.6, \"y_predict\": 104.6}, {\"y_target\": 181.0, \"y_predict\": 181.0}, {\"y_target\": 151.9, \"y_predict\": 151.9}, {\"y_target\": 164.8, \"y_predict\": 164.8}, {\"y_target\": 184.4, \"y_predict\": 184.4}, {\"y_target\": 194.8, \"y_predict\": 194.8}, {\"y_target\": 166.3, \"y_predict\": 166.3}, {\"y_target\": 155.3, \"y_predict\": 155.3}, {\"y_target\": 168.1, \"y_predict\": 168.1}, {\"y_target\": 166.6, \"y_predict\": 166.6}, {\"y_target\": 148.0, \"y_predict\": 148.0}, {\"y_target\": 175.5, \"y_predict\": 175.5}, {\"y_target\": 166.4, \"y_predict\": 166.4}, {\"y_target\": 140.9, \"y_predict\": 140.9}, {\"y_target\": 198.4, \"y_predict\": 198.4}, {\"y_target\": 189.6, \"y_predict\": 189.6}, {\"y_target\": 168.1, \"y_predict\": 168.1}, {\"y_target\": 194.2, \"y_predict\": 194.2}, {\"y_target\": 159.8, \"y_predict\": 159.8}, {\"y_target\": 230.5, \"y_predict\": 230.5}, {\"y_target\": 154.4, \"y_predict\": 154.4}, {\"y_target\": 208.6, \"y_predict\": 208.6}, {\"y_target\": 169.7, \"y_predict\": 169.7}, {\"y_target\": 184.3, \"y_predict\": 184.3}, {\"y_target\": 173.6, \"y_predict\": 173.6}, {\"y_target\": 214.4, \"y_predict\": 214.4}, {\"y_target\": 259.5, \"y_predict\": 259.5}, {\"y_target\": 202.4, \"y_predict\": 202.4}, {\"y_target\": 205.0, \"y_predict\": 205.0}, {\"y_target\": 187.2, \"y_predict\": 187.2}, {\"y_target\": 155.6, \"y_predict\": 155.6}, {\"y_target\": 200.4, \"y_predict\": 200.4}, {\"y_target\": 178.1, \"y_predict\": 178.1}, {\"y_target\": 185.2, \"y_predict\": 185.2}, {\"y_target\": 174.7, \"y_predict\": 174.7}, {\"y_target\": 193.5, \"y_predict\": 193.5}, {\"y_target\": 175.4, \"y_predict\": 175.4}, {\"y_target\": 214.2, \"y_predict\": 214.2}, {\"y_target\": 157.0, \"y_predict\": 157.0}, {\"y_target\": 176.5, \"y_predict\": 176.5}, {\"y_target\": 173.9, \"y_predict\": 173.9}, {\"y_target\": 151.2, \"y_predict\": 151.2}, {\"y_target\": 199.3, \"y_predict\": 199.3}, {\"y_target\": 169.2, \"y_predict\": 169.2}, {\"y_target\": 188.9, \"y_predict\": 188.9}, {\"y_target\": 151.6, \"y_predict\": 151.6}, {\"y_target\": 223.9, \"y_predict\": 223.9}, {\"y_target\": 240.5, \"y_predict\": 240.5}, {\"y_target\": 216.6, \"y_predict\": 216.6}, {\"y_target\": 155.9, \"y_predict\": 155.9}, {\"y_target\": 172.5, \"y_predict\": 172.5}, {\"y_target\": 184.1, \"y_predict\": 184.1}, {\"y_target\": 136.9, \"y_predict\": 136.9}, {\"y_target\": 166.3, \"y_predict\": 166.3}, {\"y_target\": 157.0, \"y_predict\": 157.0}, {\"y_target\": 177.7, \"y_predict\": 177.7}, {\"y_target\": 173.1, \"y_predict\": 173.1}, {\"y_target\": 182.1, \"y_predict\": 182.1}, {\"y_target\": 214.9, \"y_predict\": 214.9}, {\"y_target\": 220.9, \"y_predict\": 220.9}, {\"y_target\": 159.5, \"y_predict\": 159.5}, {\"y_target\": 236.7, \"y_predict\": 236.7}, {\"y_target\": 188.8, \"y_predict\": 188.8}, {\"y_target\": 183.1, \"y_predict\": 183.1}, {\"y_target\": 190.6, \"y_predict\": 190.6}, {\"y_target\": 202.5, \"y_predict\": 202.5}, {\"y_target\": 66.3, \"y_predict\": 66.3}, {\"y_target\": 180.1, \"y_predict\": 180.1}, {\"y_target\": 225.1, \"y_predict\": 225.1}, {\"y_target\": 169.5, \"y_predict\": 169.5}, {\"y_target\": 229.0, \"y_predict\": 229.0}, {\"y_target\": 158.2, \"y_predict\": 158.2}, {\"y_target\": 160.5, \"y_predict\": 160.5}, {\"y_target\": 153.8, \"y_predict\": 153.8}, {\"y_target\": 162.6, \"y_predict\": 162.6}, {\"y_target\": 189.8, \"y_predict\": 189.8}, {\"y_target\": 202.2, \"y_predict\": 202.2}, {\"y_target\": 184.8, \"y_predict\": 184.8}, {\"y_target\": 184.2, \"y_predict\": 184.2}, {\"y_target\": 191.1, \"y_predict\": 191.1}, {\"y_target\": 151.7, \"y_predict\": 151.7}, {\"y_target\": 183.7, \"y_predict\": 183.7}, {\"y_target\": 185.4, \"y_predict\": 185.4}, {\"y_target\": 189.7, \"y_predict\": 189.7}, {\"y_target\": 228.8, \"y_predict\": 228.8}, {\"y_target\": 207.1, \"y_predict\": 207.1}, {\"y_target\": 216.8, \"y_predict\": 216.8}, {\"y_target\": 176.2, \"y_predict\": 176.2}, {\"y_target\": 186.3, \"y_predict\": 186.3}, {\"y_target\": 124.1, \"y_predict\": 124.1}, {\"y_target\": 205.4, \"y_predict\": 205.4}, {\"y_target\": 185.4, \"y_predict\": 185.4}, {\"y_target\": 192.0, \"y_predict\": 192.0}, {\"y_target\": 111.3, \"y_predict\": 111.3}, {\"y_target\": 147.3, \"y_predict\": 147.3}, {\"y_target\": 215.1, \"y_predict\": 215.1}, {\"y_target\": 181.7, \"y_predict\": 181.7}, {\"y_target\": 202.2, \"y_predict\": 202.2}, {\"y_target\": 174.9, \"y_predict\": 174.9}, {\"y_target\": 177.0, \"y_predict\": 177.0}, {\"y_target\": 194.2, \"y_predict\": 194.2}, {\"y_target\": 120.2, \"y_predict\": 120.2}, {\"y_target\": 201.2, \"y_predict\": 201.2}, {\"y_target\": 126.4, \"y_predict\": 126.4}, {\"y_target\": 151.6, \"y_predict\": 151.6}, {\"y_target\": 206.3, \"y_predict\": 206.3}, {\"y_target\": 172.9, \"y_predict\": 172.9}, {\"y_target\": 195.2, \"y_predict\": 195.2}, {\"y_target\": 197.4, \"y_predict\": 197.4}, {\"y_target\": 151.8, \"y_predict\": 151.8}, {\"y_target\": 227.9, \"y_predict\": 227.9}, {\"y_target\": 189.7, \"y_predict\": 189.7}, {\"y_target\": 212.3, \"y_predict\": 212.3}, {\"y_target\": 182.8, \"y_predict\": 182.8}, {\"y_target\": 165.9, \"y_predict\": 165.9}, {\"y_target\": 188.2, \"y_predict\": 188.2}, {\"y_target\": 186.1, \"y_predict\": 186.1}, {\"y_target\": 163.9, \"y_predict\": 163.9}, {\"y_target\": 189.2, \"y_predict\": 189.2}, {\"y_target\": 171.0, \"y_predict\": 171.0}, {\"y_target\": 152.1, \"y_predict\": 152.1}, {\"y_target\": 186.5, \"y_predict\": 186.5}, {\"y_target\": 206.8, \"y_predict\": 206.8}, {\"y_target\": 180.0, \"y_predict\": 180.0}, {\"y_target\": 189.2, \"y_predict\": 189.2}, {\"y_target\": 191.5, \"y_predict\": 191.5}, {\"y_target\": 163.4, \"y_predict\": 163.4}, {\"y_target\": 175.3, \"y_predict\": 175.3}, {\"y_target\": 184.0, \"y_predict\": 184.0}, {\"y_target\": 168.7, \"y_predict\": 168.7}, {\"y_target\": 152.3, \"y_predict\": 152.3}, {\"y_target\": 169.8, \"y_predict\": 169.8}, {\"y_target\": 228.7, \"y_predict\": 228.7}, {\"y_target\": 149.1, \"y_predict\": 149.1}, {\"y_target\": 160.2, \"y_predict\": 160.2}, {\"y_target\": 230.7, \"y_predict\": 230.7}, {\"y_target\": 182.5, \"y_predict\": 182.5}, {\"y_target\": 171.4, \"y_predict\": 171.4}, {\"y_target\": 135.2, \"y_predict\": 135.2}, {\"y_target\": 191.3, \"y_predict\": 191.3}, {\"y_target\": 185.6, \"y_predict\": 185.6}, {\"y_target\": 137.6, \"y_predict\": 137.6}, {\"y_target\": 136.4, \"y_predict\": 136.4}, {\"y_target\": 185.1, \"y_predict\": 185.1}, {\"y_target\": 208.5, \"y_predict\": 208.5}, {\"y_target\": 216.7, \"y_predict\": 216.7}, {\"y_target\": 166.4, \"y_predict\": 166.4}, {\"y_target\": 188.6, \"y_predict\": 188.6}, {\"y_target\": 191.2, \"y_predict\": 191.2}, {\"y_target\": 217.8, \"y_predict\": 217.8}, {\"y_target\": 157.3, \"y_predict\": 157.3}, {\"y_target\": 169.9, \"y_predict\": 169.9}, {\"y_target\": 172.5, \"y_predict\": 172.5}, {\"y_target\": 193.0, \"y_predict\": 193.0}, {\"y_target\": 151.6, \"y_predict\": 151.6}, {\"y_target\": 148.3, \"y_predict\": 148.3}, {\"y_target\": 196.1, \"y_predict\": 196.1}, {\"y_target\": 169.0, \"y_predict\": 169.0}, {\"y_target\": 146.9, \"y_predict\": 146.9}, {\"y_target\": 185.6, \"y_predict\": 185.6}, {\"y_target\": 214.5, \"y_predict\": 214.5}, {\"y_target\": 157.5, \"y_predict\": 157.5}, {\"y_target\": 168.1, \"y_predict\": 168.1}, {\"y_target\": 221.7, \"y_predict\": 221.7}, {\"y_target\": 208.0, \"y_predict\": 208.0}, {\"y_target\": 139.7, \"y_predict\": 139.7}, {\"y_target\": 197.5, \"y_predict\": 197.5}, {\"y_target\": 178.1, \"y_predict\": 178.1}, {\"y_target\": 196.2, \"y_predict\": 196.2}, {\"y_target\": 205.0, \"y_predict\": 205.0}, {\"y_target\": 193.1, \"y_predict\": 193.1}, {\"y_target\": 206.1, \"y_predict\": 206.1}, {\"y_target\": 122.2, \"y_predict\": 122.2}, {\"y_target\": 154.4, \"y_predict\": 154.4}, {\"y_target\": 194.3, \"y_predict\": 194.3}, {\"y_target\": 187.9, \"y_predict\": 187.9}, {\"y_target\": 222.6, \"y_predict\": 222.6}, {\"y_target\": 159.3, \"y_predict\": 159.3}, {\"y_target\": 224.7, \"y_predict\": 224.7}, {\"y_target\": 159.5, \"y_predict\": 159.5}, {\"y_target\": 196.4, \"y_predict\": 196.4}, {\"y_target\": 199.0, \"y_predict\": 199.0}, {\"y_target\": 216.2, \"y_predict\": 216.2}, {\"y_target\": 176.1, \"y_predict\": 176.1}, {\"y_target\": 174.6, \"y_predict\": 174.6}, {\"y_target\": 170.8, \"y_predict\": 170.8}, {\"y_target\": 168.5, \"y_predict\": 168.5}, {\"y_target\": 193.8, \"y_predict\": 193.8}, {\"y_target\": 164.0, \"y_predict\": 164.0}, {\"y_target\": 126.4, \"y_predict\": 126.4}, {\"y_target\": 184.6, \"y_predict\": 184.6}, {\"y_target\": 173.3, \"y_predict\": 173.3}, {\"y_target\": 187.7, \"y_predict\": 187.7}, {\"y_target\": 169.3, \"y_predict\": 169.3}, {\"y_target\": 170.2, \"y_predict\": 170.2}, {\"y_target\": 163.0, \"y_predict\": 163.0}, {\"y_target\": 154.2, \"y_predict\": 154.2}, {\"y_target\": 174.1, \"y_predict\": 174.1}, {\"y_target\": 162.4, \"y_predict\": 162.4}, {\"y_target\": 197.9, \"y_predict\": 197.9}, {\"y_target\": 197.6, \"y_predict\": 197.6}, {\"y_target\": 197.1, \"y_predict\": 197.1}, {\"y_target\": 129.0, \"y_predict\": 129.0}, {\"y_target\": 166.7, \"y_predict\": 166.7}, {\"y_target\": 154.5, \"y_predict\": 154.5}, {\"y_target\": 195.8, \"y_predict\": 195.8}, {\"y_target\": 164.5, \"y_predict\": 164.5}, {\"y_target\": 182.5, \"y_predict\": 182.5}, {\"y_target\": 209.2, \"y_predict\": 209.2}, {\"y_target\": 190.3, \"y_predict\": 190.3}, {\"y_target\": 171.8, \"y_predict\": 171.8}, {\"y_target\": 183.7, \"y_predict\": 183.7}, {\"y_target\": 121.8, \"y_predict\": 121.8}, {\"y_target\": 187.8, \"y_predict\": 187.8}, {\"y_target\": 163.1, \"y_predict\": 163.1}, {\"y_target\": 149.1, \"y_predict\": 149.1}, {\"y_target\": 138.1, \"y_predict\": 138.1}, {\"y_target\": 190.0, \"y_predict\": 190.0}, {\"y_target\": 225.1, \"y_predict\": 225.1}, {\"y_target\": 135.4, \"y_predict\": 135.4}, {\"y_target\": 228.8, \"y_predict\": 228.8}, {\"y_target\": 166.9, \"y_predict\": 166.9}, {\"y_target\": 168.3, \"y_predict\": 168.3}, {\"y_target\": 224.9, \"y_predict\": 224.9}, {\"y_target\": 181.9, \"y_predict\": 181.9}, {\"y_target\": 207.0, \"y_predict\": 207.0}, {\"y_target\": 176.6, \"y_predict\": 176.6}, {\"y_target\": 177.9, \"y_predict\": 177.9}, {\"y_target\": 174.3, \"y_predict\": 174.3}, {\"y_target\": 192.6, \"y_predict\": 192.6}, {\"y_target\": 179.4, \"y_predict\": 179.4}, {\"y_target\": 213.2, \"y_predict\": 213.2}, {\"y_target\": 174.7, \"y_predict\": 174.7}, {\"y_target\": 196.0, \"y_predict\": 196.0}, {\"y_target\": 148.9, \"y_predict\": 148.9}, {\"y_target\": 182.9, \"y_predict\": 182.9}, {\"y_target\": 217.2, \"y_predict\": 217.2}, {\"y_target\": 195.7, \"y_predict\": 195.7}, {\"y_target\": 192.2, \"y_predict\": 192.2}, {\"y_target\": 182.6, \"y_predict\": 182.6}, {\"y_target\": 127.6, \"y_predict\": 127.6}, {\"y_target\": 184.1, \"y_predict\": 184.1}, {\"y_target\": 168.9, \"y_predict\": 168.9}, {\"y_target\": 192.3, \"y_predict\": 192.3}, {\"y_target\": 187.5, \"y_predict\": 187.5}, {\"y_target\": 224.0, \"y_predict\": 224.0}, {\"y_target\": 153.6, \"y_predict\": 153.6}, {\"y_target\": 165.3, \"y_predict\": 165.3}, {\"y_target\": 154.4, \"y_predict\": 154.4}, {\"y_target\": 179.1, \"y_predict\": 179.1}, {\"y_target\": 182.8, \"y_predict\": 182.8}, {\"y_target\": 177.4, \"y_predict\": 177.4}, {\"y_target\": 173.1, \"y_predict\": 173.1}, {\"y_target\": 152.0, \"y_predict\": 152.0}, {\"y_target\": 197.9, \"y_predict\": 197.9}, {\"y_target\": 187.9, \"y_predict\": 187.9}, {\"y_target\": 181.1, \"y_predict\": 181.1}, {\"y_target\": 226.5, \"y_predict\": 226.5}, {\"y_target\": 214.9, \"y_predict\": 214.9}, {\"y_target\": 118.4, \"y_predict\": 118.4}, {\"y_target\": 181.6, \"y_predict\": 181.6}, {\"y_target\": 215.0, \"y_predict\": 215.0}, {\"y_target\": 182.8, \"y_predict\": 182.8}, {\"y_target\": 128.4, \"y_predict\": 128.4}, {\"y_target\": 112.5, \"y_predict\": 112.5}, {\"y_target\": 164.4, \"y_predict\": 164.4}, {\"y_target\": 122.5, \"y_predict\": 122.5}, {\"y_target\": 200.5, \"y_predict\": 200.5}, {\"y_target\": 233.1, \"y_predict\": 233.1}, {\"y_target\": 167.3, \"y_predict\": 167.3}, {\"y_target\": 195.9, \"y_predict\": 195.9}, {\"y_target\": 209.6, \"y_predict\": 209.6}, {\"y_target\": 173.6, \"y_predict\": 173.6}, {\"y_target\": 180.2, \"y_predict\": 180.2}, {\"y_target\": 192.1, \"y_predict\": 192.1}, {\"y_target\": 166.9, \"y_predict\": 166.9}, {\"y_target\": 157.2, \"y_predict\": 157.2}, {\"y_target\": 189.9, \"y_predict\": 189.9}, {\"y_target\": 185.2, \"y_predict\": 185.2}, {\"y_target\": 165.8, \"y_predict\": 165.8}, {\"y_target\": 162.5, \"y_predict\": 162.5}, {\"y_target\": 123.8, \"y_predict\": 123.8}, {\"y_target\": 187.4, \"y_predict\": 187.4}, {\"y_target\": 258.6, \"y_predict\": 258.6}, {\"y_target\": 150.0, \"y_predict\": 150.0}, {\"y_target\": 178.5, \"y_predict\": 178.5}, {\"y_target\": 163.7, \"y_predict\": 163.7}, {\"y_target\": 156.8, \"y_predict\": 156.8}, {\"y_target\": 137.3, \"y_predict\": 137.3}, {\"y_target\": 176.9, \"y_predict\": 176.9}, {\"y_target\": 200.3, \"y_predict\": 200.3}, {\"y_target\": 150.7, \"y_predict\": 150.7}, {\"y_target\": 161.3, \"y_predict\": 161.3}, {\"y_target\": 200.6, \"y_predict\": 200.6}, {\"y_target\": 175.9, \"y_predict\": 175.9}, {\"y_target\": 129.8, \"y_predict\": 129.8}, {\"y_target\": 203.9, \"y_predict\": 203.9}, {\"y_target\": 169.8, \"y_predict\": 169.8}, {\"y_target\": 182.5, \"y_predict\": 182.5}, {\"y_target\": 166.7, \"y_predict\": 166.7}, {\"y_target\": 217.3, \"y_predict\": 217.3}, {\"y_target\": 148.7, \"y_predict\": 148.7}, {\"y_target\": 214.2, \"y_predict\": 214.2}, {\"y_target\": 97.9, \"y_predict\": 97.9}, {\"y_target\": 270.5, \"y_predict\": 270.5}, {\"y_target\": 180.3, \"y_predict\": 180.3}, {\"y_target\": 203.9, \"y_predict\": 203.9}, {\"y_target\": 176.1, \"y_predict\": 176.1}, {\"y_target\": 190.7, \"y_predict\": 190.7}, {\"y_target\": 205.0, \"y_predict\": 205.0}, {\"y_target\": 176.3, \"y_predict\": 176.3}, {\"y_target\": 231.1, \"y_predict\": 231.1}, {\"y_target\": 229.5, \"y_predict\": 229.5}, {\"y_target\": 161.3, \"y_predict\": 161.3}, {\"y_target\": 179.5, \"y_predict\": 179.5}, {\"y_target\": 153.3, \"y_predict\": 153.3}, {\"y_target\": 192.4, \"y_predict\": 192.4}, {\"y_target\": 191.7, \"y_predict\": 191.7}, {\"y_target\": 187.3, \"y_predict\": 187.3}, {\"y_target\": 190.0, \"y_predict\": 190.0}, {\"y_target\": 143.7, \"y_predict\": 143.7}, {\"y_target\": 201.5, \"y_predict\": 201.5}, {\"y_target\": 174.0, \"y_predict\": 174.0}, {\"y_target\": 172.4, \"y_predict\": 172.4}, {\"y_target\": 172.0, \"y_predict\": 172.0}, {\"y_target\": 194.6, \"y_predict\": 194.6}, {\"y_target\": 146.8, \"y_predict\": 146.8}, {\"y_target\": 171.1, \"y_predict\": 171.1}, {\"y_target\": 224.4, \"y_predict\": 224.4}, {\"y_target\": 223.0, \"y_predict\": 223.0}, {\"y_target\": 167.4, \"y_predict\": 167.4}, {\"y_target\": 187.7, \"y_predict\": 187.7}, {\"y_target\": 127.4, \"y_predict\": 127.4}, {\"y_target\": 155.3, \"y_predict\": 155.3}, {\"y_target\": 166.8, \"y_predict\": 166.8}, {\"y_target\": 262.1, \"y_predict\": 262.1}, {\"y_target\": 180.7, \"y_predict\": 180.7}, {\"y_target\": 179.3, \"y_predict\": 179.3}, {\"y_target\": 203.2, \"y_predict\": 203.2}, {\"y_target\": 178.7, \"y_predict\": 178.7}, {\"y_target\": 195.3, \"y_predict\": 195.3}, {\"y_target\": 176.0, \"y_predict\": 176.0}, {\"y_target\": 208.3, \"y_predict\": 208.3}, {\"y_target\": 185.3, \"y_predict\": 185.3}, {\"y_target\": 196.7, \"y_predict\": 196.7}, {\"y_target\": 204.1, \"y_predict\": 204.1}, {\"y_target\": 171.1, \"y_predict\": 171.1}, {\"y_target\": 179.7, \"y_predict\": 179.7}], \"data-1f78dae4f07aba83b138267452415207\": [{\"y_target\": 261.0, \"y_predict\": 237.29025420947562}, {\"y_target\": 167.3, \"y_predict\": 194.53929294616393}, {\"y_target\": 191.0, \"y_predict\": 189.3339811801299}, {\"y_target\": 165.4, \"y_predict\": 174.19570177012127}, {\"y_target\": 160.6, \"y_predict\": 187.51073291068437}, {\"y_target\": 120.1, \"y_predict\": 127.19225638921435}, {\"y_target\": 153.9, \"y_predict\": 153.42593647568256}, {\"y_target\": 174.1, \"y_predict\": 172.33910183694067}, {\"y_target\": 213.2, \"y_predict\": 204.2473678680865}, {\"y_target\": 150.9, \"y_predict\": 185.95315085214898}, {\"y_target\": 187.3, \"y_predict\": 177.03433472109185}, {\"y_target\": 204.5, \"y_predict\": 185.91885940525862}, {\"y_target\": 151.4, \"y_predict\": 146.12181972449469}, {\"y_target\": 169.1, \"y_predict\": 175.07474812078894}, {\"y_target\": 136.7, \"y_predict\": 173.4954038216417}, {\"y_target\": 205.0, \"y_predict\": 202.8526252390655}, {\"y_target\": 156.2, \"y_predict\": 156.36327144381877}, {\"y_target\": 169.1, \"y_predict\": 168.97155912754155}, {\"y_target\": 158.4, \"y_predict\": 134.62251942480813}, {\"y_target\": 195.9, \"y_predict\": 195.16407535646707}, {\"y_target\": 166.8, \"y_predict\": 181.26355510199306}, {\"y_target\": 183.4, \"y_predict\": 185.34776416628824}, {\"y_target\": 154.6, \"y_predict\": 152.2671837143091}, {\"y_target\": 106.5, \"y_predict\": 139.43314491658066}, {\"y_target\": 150.7, \"y_predict\": 174.92772613234786}, {\"y_target\": 165.0, \"y_predict\": 162.9141694639916}, {\"y_target\": 175.2, \"y_predict\": 166.047331605045}, {\"y_target\": 178.0, \"y_predict\": 155.92256880845642}, {\"y_target\": 227.4, \"y_predict\": 200.90446759208496}, {\"y_target\": 188.4, \"y_predict\": 189.59535576341932}, {\"y_target\": 187.5, \"y_predict\": 174.28534593307907}, {\"y_target\": 228.0, \"y_predict\": 211.04673369988672}, {\"y_target\": 191.5, \"y_predict\": 186.72675410509942}, {\"y_target\": 113.5, \"y_predict\": 148.54411767011052}, {\"y_target\": 149.6, \"y_predict\": 156.84829281724888}, {\"y_target\": 186.0, \"y_predict\": 197.33389363640794}, {\"y_target\": 106.1, \"y_predict\": 115.0627382158988}, {\"y_target\": 181.9, \"y_predict\": 184.44278225717548}, {\"y_target\": 201.4, \"y_predict\": 193.87927231304076}, {\"y_target\": 171.0, \"y_predict\": 175.6118451439284}, {\"y_target\": 186.6, \"y_predict\": 167.18177572133285}, {\"y_target\": 178.9, \"y_predict\": 174.41718259931}, {\"y_target\": 154.3, \"y_predict\": 166.27055638477773}, {\"y_target\": 176.9, \"y_predict\": 177.73365866832145}, {\"y_target\": 158.0, \"y_predict\": 166.2339134107056}, {\"y_target\": 133.7, \"y_predict\": 153.01765808093688}, {\"y_target\": 165.3, \"y_predict\": 191.86090593877117}, {\"y_target\": 175.5, \"y_predict\": 194.1850420198366}, {\"y_target\": 181.7, \"y_predict\": 167.22209402538985}, {\"y_target\": 163.2, \"y_predict\": 163.4327109308434}, {\"y_target\": 142.5, \"y_predict\": 196.9352357854022}, {\"y_target\": 178.0, \"y_predict\": 197.1177245359114}, {\"y_target\": 168.0, \"y_predict\": 172.9582157199085}, {\"y_target\": 142.4, \"y_predict\": 161.97294064762988}, {\"y_target\": 164.4, \"y_predict\": 187.67689331522112}, {\"y_target\": 124.3, \"y_predict\": 185.97320066943703}, {\"y_target\": 157.6, \"y_predict\": 166.48906563721133}, {\"y_target\": 188.1, \"y_predict\": 204.27340294613384}, {\"y_target\": 184.3, \"y_predict\": 190.75723780910837}, {\"y_target\": 137.0, \"y_predict\": 150.45433950850142}, {\"y_target\": 163.5, \"y_predict\": 161.2476109829586}, {\"y_target\": 182.8, \"y_predict\": 163.8513722518292}, {\"y_target\": 183.0, \"y_predict\": 182.59510992843732}, {\"y_target\": 182.2, \"y_predict\": 169.38962210272592}, {\"y_target\": 192.2, \"y_predict\": 193.10517984598576}, {\"y_target\": 184.5, \"y_predict\": 196.1257000600108}, {\"y_target\": 168.7, \"y_predict\": 167.9180506766267}, {\"y_target\": 137.6, \"y_predict\": 196.56791611710338}, {\"y_target\": 238.4, \"y_predict\": 224.46985669169052}, {\"y_target\": 150.9, \"y_predict\": 193.84183866337904}, {\"y_target\": 117.6, \"y_predict\": 139.50362861886305}, {\"y_target\": 191.5, \"y_predict\": 158.82588766052763}, {\"y_target\": 190.9, \"y_predict\": 186.60080511562145}, {\"y_target\": 174.0, \"y_predict\": 204.12494387683597}, {\"y_target\": 275.9, \"y_predict\": 239.37368964497762}, {\"y_target\": 186.1, \"y_predict\": 203.35414334237606}, {\"y_target\": 193.7, \"y_predict\": 191.2060624516011}, {\"y_target\": 176.8, \"y_predict\": 165.86786295386887}, {\"y_target\": 169.5, \"y_predict\": 176.78114958107093}, {\"y_target\": 209.5, \"y_predict\": 204.10332921500213}, {\"y_target\": 184.2, \"y_predict\": 185.6245761410894}, {\"y_target\": 145.4, \"y_predict\": 158.56202322090087}, {\"y_target\": 198.6, \"y_predict\": 190.64477410158332}, {\"y_target\": 222.2, \"y_predict\": 206.14855597099978}, {\"y_target\": 162.3, \"y_predict\": 166.87048142636007}, {\"y_target\": 176.4, \"y_predict\": 160.49253327140795}, {\"y_target\": 169.1, \"y_predict\": 158.45195174116952}, {\"y_target\": 161.7, \"y_predict\": 154.80746484413763}, {\"y_target\": 141.4, \"y_predict\": 158.05426888190019}, {\"y_target\": 159.2, \"y_predict\": 162.33864059433535}, {\"y_target\": 173.6, \"y_predict\": 173.6907583756475}, {\"y_target\": 204.1, \"y_predict\": 210.4487928887731}, {\"y_target\": 236.0, \"y_predict\": 197.15895070102835}, {\"y_target\": 215.7, \"y_predict\": 190.00530949027052}, {\"y_target\": 166.3, \"y_predict\": 177.17269852621249}, {\"y_target\": 167.4, \"y_predict\": 178.61505127451704}, {\"y_target\": 156.1, \"y_predict\": 163.61701439344412}, {\"y_target\": 140.3, \"y_predict\": 183.33403584170566}, {\"y_target\": 138.7, \"y_predict\": 138.20197261506758}, {\"y_target\": 199.2, \"y_predict\": 185.9129370590165}, {\"y_target\": 156.9, \"y_predict\": 130.92449716460246}, {\"y_target\": 169.8, \"y_predict\": 196.44271554858565}, {\"y_target\": 140.0, \"y_predict\": 156.17532210726802}, {\"y_target\": 209.6, \"y_predict\": 198.57592254101974}, {\"y_target\": 208.9, \"y_predict\": 203.92298374086113}, {\"y_target\": 194.5, \"y_predict\": 182.7801492728912}, {\"y_target\": 152.6, \"y_predict\": 182.68620773838663}, {\"y_target\": 198.5, \"y_predict\": 192.80741927054703}, {\"y_target\": 192.1, \"y_predict\": 196.60104297792915}, {\"y_target\": 151.2, \"y_predict\": 167.10145491644593}, {\"y_target\": 181.9, \"y_predict\": 180.7744777957703}, {\"y_target\": 163.5, \"y_predict\": 171.23197195240223}, {\"y_target\": 176.9, \"y_predict\": 176.58856987784975}, {\"y_target\": 222.4, \"y_predict\": 163.43401671883535}, {\"y_target\": 234.9, \"y_predict\": 208.56334781024225}, {\"y_target\": 189.5, \"y_predict\": 195.82324002453987}, {\"y_target\": 142.6, \"y_predict\": 179.9307829135443}, {\"y_target\": 224.4, \"y_predict\": 203.31588261533062}, {\"y_target\": 172.7, \"y_predict\": 187.5223495526978}, {\"y_target\": 172.1, \"y_predict\": 181.5991760172423}, {\"y_target\": 174.2, \"y_predict\": 174.67335146021256}, {\"y_target\": 162.8, \"y_predict\": 172.22120538307283}, {\"y_target\": 190.7, \"y_predict\": 208.2052027340034}, {\"y_target\": 149.0, \"y_predict\": 155.0528828776096}, {\"y_target\": 163.8, \"y_predict\": 167.04666152778807}, {\"y_target\": 190.8, \"y_predict\": 198.29127593292043}, {\"y_target\": 181.3, \"y_predict\": 183.24384404072123}, {\"y_target\": 206.9, \"y_predict\": 189.1129869119618}, {\"y_target\": 170.9, \"y_predict\": 174.82293741391408}, {\"y_target\": 192.1, \"y_predict\": 203.82893661859865}, {\"y_target\": 182.6, \"y_predict\": 172.9282588377227}, {\"y_target\": 176.3, \"y_predict\": 175.5128202440647}, {\"y_target\": 171.7, \"y_predict\": 172.67807270018915}, {\"y_target\": 161.1, \"y_predict\": 165.0482524217287}, {\"y_target\": 240.8, \"y_predict\": 219.72441062007243}, {\"y_target\": 172.5, \"y_predict\": 174.06167863235567}, {\"y_target\": 188.5, \"y_predict\": 189.4519000632833}, {\"y_target\": 151.2, \"y_predict\": 166.2314154264109}, {\"y_target\": 174.1, \"y_predict\": 200.69705591403567}, {\"y_target\": 143.9, \"y_predict\": 164.7808841498927}, {\"y_target\": 126.9, \"y_predict\": 134.54714512975252}, {\"y_target\": 225.7, \"y_predict\": 212.61386006036994}, {\"y_target\": 159.3, \"y_predict\": 181.68626832084885}, {\"y_target\": 169.1, \"y_predict\": 173.4261496498563}, {\"y_target\": 181.8, \"y_predict\": 192.42601120591797}, {\"y_target\": 215.5, \"y_predict\": 177.99787967021746}, {\"y_target\": 163.3, \"y_predict\": 170.7247093102893}, {\"y_target\": 204.9, \"y_predict\": 183.06183014932338}, {\"y_target\": 229.6, \"y_predict\": 213.89803894270813}, {\"y_target\": 222.9, \"y_predict\": 196.84500477613807}, {\"y_target\": 205.8, \"y_predict\": 156.49643608103128}, {\"y_target\": 179.0, \"y_predict\": 175.3104418588194}, {\"y_target\": 174.2, \"y_predict\": 181.59189866981026}, {\"y_target\": 178.8, \"y_predict\": 204.72798614698212}, {\"y_target\": 208.1, \"y_predict\": 180.38611225784481}, {\"y_target\": 137.6, \"y_predict\": 135.63611436583346}, {\"y_target\": 185.9, \"y_predict\": 179.53012664204334}, {\"y_target\": 179.1, \"y_predict\": 182.28030008987972}, {\"y_target\": 179.0, \"y_predict\": 177.7695496893903}, {\"y_target\": 224.3, \"y_predict\": 195.4787770955795}, {\"y_target\": 138.1, \"y_predict\": 161.63187027102114}, {\"y_target\": 153.9, \"y_predict\": 177.63918549718218}, {\"y_target\": 159.2, \"y_predict\": 147.88678133476304}, {\"y_target\": 138.1, \"y_predict\": 175.2008240563259}, {\"y_target\": 178.6, \"y_predict\": 188.2463603272675}, {\"y_target\": 238.4, \"y_predict\": 218.96304551923978}, {\"y_target\": 183.4, \"y_predict\": 201.46613108985454}, {\"y_target\": 200.2, \"y_predict\": 190.0582696710725}, {\"y_target\": 162.0, \"y_predict\": 174.31204362651582}, {\"y_target\": 200.6, \"y_predict\": 194.961804606826}, {\"y_target\": 208.1, \"y_predict\": 173.4982060753035}, {\"y_target\": 171.7, \"y_predict\": 186.80726008656762}, {\"y_target\": 209.9, \"y_predict\": 194.34213509389204}, {\"y_target\": 182.4, \"y_predict\": 174.29121899302535}, {\"y_target\": 274.0, \"y_predict\": 219.4734704856486}, {\"y_target\": 162.6, \"y_predict\": 171.92848590693362}, {\"y_target\": 165.8, \"y_predict\": 183.9488462808929}, {\"y_target\": 240.8, \"y_predict\": 213.72755110280156}, {\"y_target\": 148.2, \"y_predict\": 148.72687011467713}, {\"y_target\": 167.5, \"y_predict\": 179.2109136692153}, {\"y_target\": 184.9, \"y_predict\": 182.4919353880269}, {\"y_target\": 185.2, \"y_predict\": 189.39955821817287}, {\"y_target\": 177.6, \"y_predict\": 173.31933619535474}, {\"y_target\": 155.6, \"y_predict\": 161.25603570239443}, {\"y_target\": 203.3, \"y_predict\": 198.10147644652403}, {\"y_target\": 199.1, \"y_predict\": 220.08510699106233}, {\"y_target\": 188.5, \"y_predict\": 178.21704476136608}, {\"y_target\": 165.7, \"y_predict\": 168.9211361786925}, {\"y_target\": 194.0, \"y_predict\": 212.13022941447747}, {\"y_target\": 151.9, \"y_predict\": 174.5111335310429}, {\"y_target\": 206.6, \"y_predict\": 190.29630981881274}, {\"y_target\": 213.5, \"y_predict\": 182.2924574898484}, {\"y_target\": 180.2, \"y_predict\": 179.14397814486574}, {\"y_target\": 212.7, \"y_predict\": 184.7054094693701}, {\"y_target\": 180.7, \"y_predict\": 166.07484596808354}, {\"y_target\": 184.8, \"y_predict\": 170.7015169483726}, {\"y_target\": 171.1, \"y_predict\": 189.2730762855638}, {\"y_target\": 201.4, \"y_predict\": 188.7291316745943}, {\"y_target\": 165.4, \"y_predict\": 173.63187431260212}, {\"y_target\": 182.2, \"y_predict\": 190.17239681115208}, {\"y_target\": 121.0, \"y_predict\": 168.03805884992445}, {\"y_target\": 175.3, \"y_predict\": 175.80711394158018}, {\"y_target\": 173.3, \"y_predict\": 156.9092808175787}, {\"y_target\": 160.1, \"y_predict\": 179.56148168632944}, {\"y_target\": 142.8, \"y_predict\": 163.21848236604032}, {\"y_target\": 240.2, \"y_predict\": 205.76974380419543}, {\"y_target\": 246.4, \"y_predict\": 215.85235219890424}, {\"y_target\": 179.4, \"y_predict\": 192.6932485781388}, {\"y_target\": 186.2, \"y_predict\": 195.70171206878382}, {\"y_target\": 155.9, \"y_predict\": 176.62819174522662}, {\"y_target\": 153.9, \"y_predict\": 171.7078010487615}, {\"y_target\": 157.4, \"y_predict\": 168.23120632642815}, {\"y_target\": 202.6, \"y_predict\": 210.94328607692654}, {\"y_target\": 129.3, \"y_predict\": 141.48381754070445}, {\"y_target\": 160.0, \"y_predict\": 151.66382543059177}, {\"y_target\": 179.7, \"y_predict\": 162.9618278053422}, {\"y_target\": 146.7, \"y_predict\": 162.63797272817425}, {\"y_target\": 209.7, \"y_predict\": 187.39814334926353}, {\"y_target\": 151.3, \"y_predict\": 182.41296893953216}, {\"y_target\": 191.8, \"y_predict\": 180.2256008027289}, {\"y_target\": 146.5, \"y_predict\": 185.96149712035196}, {\"y_target\": 208.6, \"y_predict\": 190.64368793936077}, {\"y_target\": 183.2, \"y_predict\": 198.30846627250585}, {\"y_target\": 195.5, \"y_predict\": 182.22147352266532}, {\"y_target\": 162.2, \"y_predict\": 184.24017165571976}, {\"y_target\": 136.8, \"y_predict\": 163.84901215281562}, {\"y_target\": 150.6, \"y_predict\": 182.27173536115353}, {\"y_target\": 210.9, \"y_predict\": 195.11696590079868}, {\"y_target\": 175.1, \"y_predict\": 171.29361460221537}, {\"y_target\": 213.7, \"y_predict\": 197.19267595145445}, {\"y_target\": 162.9, \"y_predict\": 175.26880025934543}, {\"y_target\": 185.0, \"y_predict\": 178.37805636535433}, {\"y_target\": 150.3, \"y_predict\": 148.79243353670137}, {\"y_target\": 185.3, \"y_predict\": 192.7638055283888}, {\"y_target\": 119.3, \"y_predict\": 138.2490912832045}, {\"y_target\": 129.1, \"y_predict\": 153.26876003001357}, {\"y_target\": 194.4, \"y_predict\": 204.13017943711122}, {\"y_target\": 143.2, \"y_predict\": 170.76109113481655}, {\"y_target\": 159.1, \"y_predict\": 170.8892135652139}, {\"y_target\": 155.5, \"y_predict\": 163.60361011774535}, {\"y_target\": 178.8, \"y_predict\": 178.1352008652167}, {\"y_target\": 168.2, \"y_predict\": 161.91823610408665}, {\"y_target\": 230.3, \"y_predict\": 197.94266742017717}, {\"y_target\": 183.8, \"y_predict\": 181.80142308089043}, {\"y_target\": 180.5, \"y_predict\": 185.1169268996009}, {\"y_target\": 225.5, \"y_predict\": 202.456770778681}, {\"y_target\": 177.0, \"y_predict\": 195.3716279148188}, {\"y_target\": 156.6, \"y_predict\": 182.02720293523146}, {\"y_target\": 185.0, \"y_predict\": 183.4524336125186}, {\"y_target\": 160.1, \"y_predict\": 165.146342541092}, {\"y_target\": 153.9, \"y_predict\": 153.00588175204646}, {\"y_target\": 146.9, \"y_predict\": 154.37557666973228}, {\"y_target\": 147.5, \"y_predict\": 171.53318494419892}, {\"y_target\": 186.9, \"y_predict\": 176.27292891872176}, {\"y_target\": 190.6, \"y_predict\": 185.46124708483242}, {\"y_target\": 170.0, \"y_predict\": 184.69511031348094}, {\"y_target\": 179.9, \"y_predict\": 168.89059476010357}, {\"y_target\": 162.7, \"y_predict\": 168.22448713069213}, {\"y_target\": 217.0, \"y_predict\": 196.12684866012225}, {\"y_target\": 178.2, \"y_predict\": 164.04097667342026}, {\"y_target\": 192.7, \"y_predict\": 205.3515384119441}, {\"y_target\": 232.3, \"y_predict\": 230.58610443200865}, {\"y_target\": 178.3, \"y_predict\": 172.57588303585996}, {\"y_target\": 165.3, \"y_predict\": 174.18270234723556}, {\"y_target\": 170.4, \"y_predict\": 173.06693927813853}, {\"y_target\": 169.9, \"y_predict\": 140.71825005879566}, {\"y_target\": 189.2, \"y_predict\": 188.99456611663632}, {\"y_target\": 164.3, \"y_predict\": 182.39509199430964}, {\"y_target\": 213.6, \"y_predict\": 201.41703953845968}, {\"y_target\": 188.6, \"y_predict\": 156.75365978080853}, {\"y_target\": 172.8, \"y_predict\": 181.52208620107692}, {\"y_target\": 156.0, \"y_predict\": 148.16334136193714}, {\"y_target\": 196.7, \"y_predict\": 194.94843824342172}, {\"y_target\": 165.0, \"y_predict\": 157.962900074234}, {\"y_target\": 164.3, \"y_predict\": 152.40882060471995}, {\"y_target\": 187.1, \"y_predict\": 173.40810893742017}, {\"y_target\": 185.3, \"y_predict\": 193.4571302615324}, {\"y_target\": 186.1, \"y_predict\": 190.6008706812616}, {\"y_target\": 164.9, \"y_predict\": 158.3516020875353}, {\"y_target\": 155.1, \"y_predict\": 172.58634522008606}, {\"y_target\": 210.7, \"y_predict\": 195.121064257849}, {\"y_target\": 205.0, \"y_predict\": 189.39369543642573}, {\"y_target\": 202.7, \"y_predict\": 184.1704158099633}, {\"y_target\": 194.1, \"y_predict\": 194.19684958599572}, {\"y_target\": 188.9, \"y_predict\": 177.98245745933156}, {\"y_target\": 209.1, \"y_predict\": 178.3672993399188}, {\"y_target\": 160.8, \"y_predict\": 168.2528381281748}, {\"y_target\": 182.2, \"y_predict\": 193.6504344971505}, {\"y_target\": 150.8, \"y_predict\": 163.33357852425712}, {\"y_target\": 161.2, \"y_predict\": 173.88107600298417}, {\"y_target\": 157.6, \"y_predict\": 167.32367957423054}, {\"y_target\": 151.9, \"y_predict\": 175.2298351428956}, {\"y_target\": 150.1, \"y_predict\": 139.88458573435705}, {\"y_target\": 189.1, \"y_predict\": 179.0238673648479}, {\"y_target\": 146.7, \"y_predict\": 174.0462252165572}, {\"y_target\": 195.9, \"y_predict\": 191.20878037269952}, {\"y_target\": 212.0, \"y_predict\": 186.13258568759292}, {\"y_target\": 203.3, \"y_predict\": 142.80665899200278}, {\"y_target\": 238.8, \"y_predict\": 217.26358459009424}, {\"y_target\": 177.2, \"y_predict\": 175.17529174704157}, {\"y_target\": 165.1, \"y_predict\": 164.6377607676275}, {\"y_target\": 189.2, \"y_predict\": 171.32975325705218}, {\"y_target\": 196.9, \"y_predict\": 182.01660698306645}, {\"y_target\": 157.3, \"y_predict\": 150.12445313454066}, {\"y_target\": 146.6, \"y_predict\": 138.38282933778325}, {\"y_target\": 166.7, \"y_predict\": 181.9413999269499}, {\"y_target\": 185.0, \"y_predict\": 162.5539729279557}, {\"y_target\": 153.3, \"y_predict\": 147.4071267330572}, {\"y_target\": 156.8, \"y_predict\": 154.96296758182908}, {\"y_target\": 179.2, \"y_predict\": 167.66388033159907}, {\"y_target\": 136.9, \"y_predict\": 134.4961410439813}, {\"y_target\": 189.6, \"y_predict\": 208.93738470303097}, {\"y_target\": 189.0, \"y_predict\": 183.495623279144}, {\"y_target\": 159.1, \"y_predict\": 150.7156801345514}, {\"y_target\": 163.3, \"y_predict\": 170.46286421948486}, {\"y_target\": 215.0, \"y_predict\": 209.23163839647427}, {\"y_target\": 201.4, \"y_predict\": 188.66409408913168}, {\"y_target\": 171.8, \"y_predict\": 177.7743194333495}, {\"y_target\": 156.7, \"y_predict\": 158.50082639465822}, {\"y_target\": 186.3, \"y_predict\": 175.58817322996407}, {\"y_target\": 181.0, \"y_predict\": 143.30586927423352}, {\"y_target\": 160.2, \"y_predict\": 169.68985412368323}, {\"y_target\": 123.6, \"y_predict\": 139.24171560762056}, {\"y_target\": 209.6, \"y_predict\": 199.9027239806136}, {\"y_target\": 191.1, \"y_predict\": 188.2213246786707}, {\"y_target\": 179.6, \"y_predict\": 189.79615628978294}, {\"y_target\": 171.0, \"y_predict\": 159.5758516895779}, {\"y_target\": 167.5, \"y_predict\": 166.83386941833905}, {\"y_target\": 192.0, \"y_predict\": 163.9401220735844}, {\"y_target\": 168.6, \"y_predict\": 181.07305721439855}, {\"y_target\": 150.7, \"y_predict\": 160.89451678416154}, {\"y_target\": 157.6, \"y_predict\": 174.84495703987494}, {\"y_target\": 154.0, \"y_predict\": 145.62078410524163}, {\"y_target\": 178.6, \"y_predict\": 162.58619949764946}, {\"y_target\": 155.8, \"y_predict\": 150.3868198647943}, {\"y_target\": 185.3, \"y_predict\": 183.97239619895484}, {\"y_target\": 189.5, \"y_predict\": 183.7491303459255}, {\"y_target\": 121.4, \"y_predict\": 140.07323742451638}, {\"y_target\": 154.5, \"y_predict\": 150.12242998274192}, {\"y_target\": 201.0, \"y_predict\": 180.20130604034912}, {\"y_target\": 182.8, \"y_predict\": 166.40805452962553}, {\"y_target\": 165.2, \"y_predict\": 167.4491686773324}, {\"y_target\": 176.4, \"y_predict\": 181.2391304245765}, {\"y_target\": 148.7, \"y_predict\": 152.600187714415}, {\"y_target\": 280.8, \"y_predict\": 231.00428861149652}, {\"y_target\": 168.9, \"y_predict\": 189.17723021225976}, {\"y_target\": 138.5, \"y_predict\": 161.99310500522014}, {\"y_target\": 153.5, \"y_predict\": 149.37426539174373}, {\"y_target\": 185.5, \"y_predict\": 194.46785906025224}, {\"y_target\": 159.3, \"y_predict\": 178.16287847693715}, {\"y_target\": 198.2, \"y_predict\": 190.2190551044676}, {\"y_target\": 228.6, \"y_predict\": 210.57972924835795}, {\"y_target\": 204.6, \"y_predict\": 200.03350797512815}, {\"y_target\": 175.4, \"y_predict\": 164.1209407596582}, {\"y_target\": 184.1, \"y_predict\": 187.4807266307911}, {\"y_target\": 155.6, \"y_predict\": 146.8965059682108}, {\"y_target\": 214.1, \"y_predict\": 202.49564512349875}, {\"y_target\": 211.2, \"y_predict\": 215.06307447519941}, {\"y_target\": 206.8, \"y_predict\": 214.1102667091287}, {\"y_target\": 184.4, \"y_predict\": 182.11740855175444}, {\"y_target\": 129.1, \"y_predict\": 161.10920923501578}, {\"y_target\": 243.5, \"y_predict\": 211.23051381100822}, {\"y_target\": 194.3, \"y_predict\": 202.807999085427}, {\"y_target\": 190.1, \"y_predict\": 176.00491517653217}, {\"y_target\": 193.9, \"y_predict\": 180.955554178583}, {\"y_target\": 213.7, \"y_predict\": 208.86377243652782}, {\"y_target\": 166.1, \"y_predict\": 174.07353354473537}, {\"y_target\": 137.4, \"y_predict\": 155.37188691239123}, {\"y_target\": 192.8, \"y_predict\": 182.0276644360748}, {\"y_target\": 225.1, \"y_predict\": 200.54433018494245}, {\"y_target\": 173.5, \"y_predict\": 163.13821631101825}, {\"y_target\": 176.0, \"y_predict\": 171.93926589676806}, {\"y_target\": 206.3, \"y_predict\": 205.5496721387786}, {\"y_target\": 190.1, \"y_predict\": 176.30869118518237}, {\"y_target\": 143.0, \"y_predict\": 184.6723797227467}, {\"y_target\": 182.4, \"y_predict\": 182.04711721352254}, {\"y_target\": 198.7, \"y_predict\": 205.08330746142636}, {\"y_target\": 172.2, \"y_predict\": 179.37943263302466}, {\"y_target\": 200.2, \"y_predict\": 191.9635144354115}, {\"y_target\": 194.2, \"y_predict\": 177.2259179839139}, {\"y_target\": 181.9, \"y_predict\": 162.99696735916078}, {\"y_target\": 224.8, \"y_predict\": 200.40832151748958}, {\"y_target\": 150.9, \"y_predict\": 164.27092917731437}, {\"y_target\": 182.1, \"y_predict\": 197.77612937618838}, {\"y_target\": 114.2, \"y_predict\": 127.91332072378425}, {\"y_target\": 200.1, \"y_predict\": 199.02432598981162}, {\"y_target\": 194.6, \"y_predict\": 199.164041746759}, {\"y_target\": 170.7, \"y_predict\": 169.3037162093326}, {\"y_target\": 123.0, \"y_predict\": 158.61188357368346}, {\"y_target\": 173.0, \"y_predict\": 158.42698091635097}, {\"y_target\": 151.7, \"y_predict\": 152.1625304439943}, {\"y_target\": 161.8, \"y_predict\": 171.7803151549193}, {\"y_target\": 153.7, \"y_predict\": 153.22255388732896}, {\"y_target\": 172.2, \"y_predict\": 156.2962681170272}, {\"y_target\": 168.0, \"y_predict\": 169.99092120106988}, {\"y_target\": 163.9, \"y_predict\": 178.8869249013377}, {\"y_target\": 191.5, \"y_predict\": 180.17879598704545}, {\"y_target\": 164.6, \"y_predict\": 169.0770403438158}, {\"y_target\": 202.2, \"y_predict\": 191.24282801104405}, {\"y_target\": 225.1, \"y_predict\": 202.04614879662165}, {\"y_target\": 161.9, \"y_predict\": 188.17194576863648}, {\"y_target\": 180.3, \"y_predict\": 208.2242007448915}, {\"y_target\": 142.9, \"y_predict\": 155.02082146079042}, {\"y_target\": 195.2, \"y_predict\": 194.51228524147572}, {\"y_target\": 161.0, \"y_predict\": 169.8213242604362}, {\"y_target\": 189.0, \"y_predict\": 175.1938827907116}, {\"y_target\": 200.3, \"y_predict\": 191.90362500361988}, {\"y_target\": 155.9, \"y_predict\": 150.24627796740816}, {\"y_target\": 194.0, \"y_predict\": 194.95730556856572}, {\"y_target\": 177.2, \"y_predict\": 178.97000528855082}, {\"y_target\": 179.3, \"y_predict\": 182.62533972761776}, {\"y_target\": 153.0, \"y_predict\": 176.76780196574472}, {\"y_target\": 191.7, \"y_predict\": 193.60079400918445}, {\"y_target\": 190.2, \"y_predict\": 187.42952203675648}, {\"y_target\": 166.5, \"y_predict\": 165.16019964406007}, {\"y_target\": 175.9, \"y_predict\": 188.7751200395514}, {\"y_target\": 207.4, \"y_predict\": 189.47590270344813}, {\"y_target\": 161.7, \"y_predict\": 181.55975423399036}, {\"y_target\": 183.9, \"y_predict\": 204.57232792661313}, {\"y_target\": 138.4, \"y_predict\": 169.31479503418817}, {\"y_target\": 218.8, \"y_predict\": 178.711677967506}, {\"y_target\": 161.7, \"y_predict\": 164.2136174767864}, {\"y_target\": 205.0, \"y_predict\": 181.61193741911507}, {\"y_target\": 199.8, \"y_predict\": 201.41607397733392}, {\"y_target\": 203.2, \"y_predict\": 191.4654420633134}, {\"y_target\": 213.3, \"y_predict\": 200.26921919234093}, {\"y_target\": 182.5, \"y_predict\": 181.58967081555886}, {\"y_target\": 128.2, \"y_predict\": 150.10191331122059}, {\"y_target\": 178.6, \"y_predict\": 181.0802015720612}, {\"y_target\": 194.7, \"y_predict\": 180.35799338483503}, {\"y_target\": 163.0, \"y_predict\": 157.6152359723439}, {\"y_target\": 192.5, \"y_predict\": 194.94104512611196}, {\"y_target\": 206.3, \"y_predict\": 195.1868301283515}, {\"y_target\": 142.3, \"y_predict\": 150.5355336786287}, {\"y_target\": 211.4, \"y_predict\": 189.30768491116868}, {\"y_target\": 199.9, \"y_predict\": 194.04896075905137}, {\"y_target\": 192.7, \"y_predict\": 182.4853040334307}, {\"y_target\": 209.2, \"y_predict\": 202.96142945910498}, {\"y_target\": 212.3, \"y_predict\": 196.7800100029463}, {\"y_target\": 180.2, \"y_predict\": 180.48492671270117}, {\"y_target\": 176.8, \"y_predict\": 204.38563442162655}, {\"y_target\": 235.0, \"y_predict\": 206.81814416398177}, {\"y_target\": 189.8, \"y_predict\": 175.89811060012147}, {\"y_target\": 129.5, \"y_predict\": 167.91574144244618}, {\"y_target\": 169.9, \"y_predict\": 165.6957851430477}, {\"y_target\": 166.6, \"y_predict\": 184.20161891395853}, {\"y_target\": 178.0, \"y_predict\": 215.1942899787372}, {\"y_target\": 239.7, \"y_predict\": 247.05330381127038}, {\"y_target\": 220.6, \"y_predict\": 177.91802640319793}, {\"y_target\": 181.4, \"y_predict\": 165.4885484034922}, {\"y_target\": 170.6, \"y_predict\": 175.90068989410582}, {\"y_target\": 219.5, \"y_predict\": 204.78804718414364}, {\"y_target\": 130.4, \"y_predict\": 158.0888883172384}, {\"y_target\": 159.7, \"y_predict\": 193.04748529097412}, {\"y_target\": 136.5, \"y_predict\": 181.31724478518782}, {\"y_target\": 150.5, \"y_predict\": 202.57252054225887}, {\"y_target\": 172.8, \"y_predict\": 177.60714746538204}, {\"y_target\": 185.1, \"y_predict\": 189.03028939366573}, {\"y_target\": 154.8, \"y_predict\": 146.99109698886429}, {\"y_target\": 125.2, \"y_predict\": 128.4861006438045}, {\"y_target\": 170.0, \"y_predict\": 179.48776497839643}, {\"y_target\": 163.6, \"y_predict\": 184.45701648146385}, {\"y_target\": 170.4, \"y_predict\": 191.19712328829183}, {\"y_target\": 175.8, \"y_predict\": 179.14422369120956}, {\"y_target\": 213.1, \"y_predict\": 176.29459572812198}, {\"y_target\": 145.7, \"y_predict\": 148.43722022973185}, {\"y_target\": 196.0, \"y_predict\": 195.58374113584455}, {\"y_target\": 143.1, \"y_predict\": 174.6251437350577}, {\"y_target\": 113.2, \"y_predict\": 138.28819516593586}, {\"y_target\": 130.6, \"y_predict\": 136.41983440572645}, {\"y_target\": 197.9, \"y_predict\": 212.70024098550235}, {\"y_target\": 187.4, \"y_predict\": 162.27310398139352}, {\"y_target\": 205.3, \"y_predict\": 203.43303927396605}, {\"y_target\": 211.7, \"y_predict\": 215.3505837481264}, {\"y_target\": 184.1, \"y_predict\": 165.35427226578736}, {\"y_target\": 192.8, \"y_predict\": 159.29695706027107}, {\"y_target\": 179.3, \"y_predict\": 190.42333186773357}, {\"y_target\": 172.6, \"y_predict\": 181.14261577101144}, {\"y_target\": 161.3, \"y_predict\": 170.11894201239178}, {\"y_target\": 183.0, \"y_predict\": 182.48605264058426}, {\"y_target\": 158.4, \"y_predict\": 163.62095484417245}, {\"y_target\": 171.0, \"y_predict\": 169.5338567970241}, {\"y_target\": 181.5, \"y_predict\": 186.98859504168215}, {\"y_target\": 135.2, \"y_predict\": 139.50110602679916}, {\"y_target\": 151.8, \"y_predict\": 160.0794220836722}, {\"y_target\": 207.4, \"y_predict\": 213.25175585960113}, {\"y_target\": 145.9, \"y_predict\": 181.40680319961362}, {\"y_target\": 169.3, \"y_predict\": 175.11801699787196}, {\"y_target\": 136.0, \"y_predict\": 157.73030982410955}, {\"y_target\": 159.5, \"y_predict\": 156.71815600220364}, {\"y_target\": 188.1, \"y_predict\": 179.6593616342437}, {\"y_target\": 200.2, \"y_predict\": 182.456673710311}, {\"y_target\": 174.7, \"y_predict\": 176.93199560734092}, {\"y_target\": 177.8, \"y_predict\": 181.08632087047496}, {\"y_target\": 202.8, \"y_predict\": 193.66164986153262}, {\"y_target\": 197.8, \"y_predict\": 149.52946942281645}, {\"y_target\": 165.9, \"y_predict\": 177.00086368178745}, {\"y_target\": 214.9, \"y_predict\": 205.37270799747074}, {\"y_target\": 171.9, \"y_predict\": 178.32866608889123}, {\"y_target\": 166.2, \"y_predict\": 158.9544965351454}, {\"y_target\": 159.8, \"y_predict\": 179.3979890317494}, {\"y_target\": 219.0, \"y_predict\": 198.5103887061446}, {\"y_target\": 231.3, \"y_predict\": 204.02316674914982}, {\"y_target\": 208.4, \"y_predict\": 195.67228773535638}, {\"y_target\": 219.7, \"y_predict\": 204.40629392294943}, {\"y_target\": 141.0, \"y_predict\": 165.71249879736638}, {\"y_target\": 177.7, \"y_predict\": 171.00502239741223}, {\"y_target\": 166.0, \"y_predict\": 148.90882971884037}, {\"y_target\": 157.4, \"y_predict\": 168.21025573223596}, {\"y_target\": 238.1, \"y_predict\": 195.03156625029038}, {\"y_target\": 259.1, \"y_predict\": 211.15423420075447}, {\"y_target\": 191.8, \"y_predict\": 188.9129373208939}, {\"y_target\": 164.8, \"y_predict\": 165.39205265142198}, {\"y_target\": 161.2, \"y_predict\": 173.49501831280855}, {\"y_target\": 194.4, \"y_predict\": 181.65009351022033}, {\"y_target\": 126.1, \"y_predict\": 171.01821170738873}, {\"y_target\": 167.6, \"y_predict\": 167.9623358785064}, {\"y_target\": 154.1, \"y_predict\": 164.54886875834123}, {\"y_target\": 226.9, \"y_predict\": 197.96412796493703}, {\"y_target\": 171.1, \"y_predict\": 156.1592263360904}, {\"y_target\": 169.4, \"y_predict\": 164.0880642473797}, {\"y_target\": 249.7, \"y_predict\": 194.76160073786693}, {\"y_target\": 166.5, \"y_predict\": 169.93227709318668}, {\"y_target\": 183.6, \"y_predict\": 197.09980146888145}, {\"y_target\": 224.3, \"y_predict\": 190.57288025657698}, {\"y_target\": 179.5, \"y_predict\": 186.06276212931613}, {\"y_target\": 197.8, \"y_predict\": 160.4335582077952}, {\"y_target\": 194.9, \"y_predict\": 167.67879440229942}, {\"y_target\": 189.8, \"y_predict\": 192.12475315147594}, {\"y_target\": 173.0, \"y_predict\": 187.49138815208914}, {\"y_target\": 206.8, \"y_predict\": 201.69569900789028}, {\"y_target\": 195.8, \"y_predict\": 176.6278808861393}, {\"y_target\": 177.2, \"y_predict\": 172.44172194562296}, {\"y_target\": 161.9, \"y_predict\": 165.24881458542495}, {\"y_target\": 189.8, \"y_predict\": 177.4804746685366}, {\"y_target\": 93.8, \"y_predict\": 128.43902412948592}, {\"y_target\": 184.3, \"y_predict\": 184.48591773739048}, {\"y_target\": 177.6, \"y_predict\": 165.25284202724433}, {\"y_target\": 161.2, \"y_predict\": 185.65990011070113}, {\"y_target\": 166.4, \"y_predict\": 188.81482900562506}, {\"y_target\": 172.7, \"y_predict\": 171.45708215734092}, {\"y_target\": 181.1, \"y_predict\": 207.1726635138342}, {\"y_target\": 204.4, \"y_predict\": 188.19895441244404}, {\"y_target\": 152.7, \"y_predict\": 162.5509153795184}, {\"y_target\": 174.0, \"y_predict\": 185.15988573746813}, {\"y_target\": 172.4, \"y_predict\": 177.79783183159017}, {\"y_target\": 220.2, \"y_predict\": 201.4340849434456}, {\"y_target\": 177.5, \"y_predict\": 195.01779466317447}, {\"y_target\": 182.6, \"y_predict\": 218.684738301895}, {\"y_target\": 202.9, \"y_predict\": 195.222003624256}, {\"y_target\": 200.4, \"y_predict\": 207.44697620779806}, {\"y_target\": 214.9, \"y_predict\": 202.23604246702297}, {\"y_target\": 199.9, \"y_predict\": 180.84448111810417}, {\"y_target\": 206.2, \"y_predict\": 198.16308776933252}, {\"y_target\": 134.3, \"y_predict\": 160.26594595342806}, {\"y_target\": 169.8, \"y_predict\": 173.32684674975096}, {\"y_target\": 132.8, \"y_predict\": 138.17567162171343}, {\"y_target\": 201.0, \"y_predict\": 198.7460356953755}, {\"y_target\": 222.3, \"y_predict\": 189.15420079111132}, {\"y_target\": 189.5, \"y_predict\": 190.34318046197623}, {\"y_target\": 146.1, \"y_predict\": 149.05922062182424}, {\"y_target\": 192.2, \"y_predict\": 181.32604808940147}, {\"y_target\": 215.4, \"y_predict\": 198.5366358574925}, {\"y_target\": 211.9, \"y_predict\": 202.54275444410644}, {\"y_target\": 168.1, \"y_predict\": 152.35764716275338}, {\"y_target\": 194.4, \"y_predict\": 187.86917197251316}, {\"y_target\": 267.6, \"y_predict\": 218.13956700787037}, {\"y_target\": 120.4, \"y_predict\": 125.90499109262447}, {\"y_target\": 178.4, \"y_predict\": 183.78721878002347}, {\"y_target\": 266.7, \"y_predict\": 209.3460933558701}, {\"y_target\": 181.6, \"y_predict\": 156.34580099923448}, {\"y_target\": 192.3, \"y_predict\": 160.43590533024692}, {\"y_target\": 167.3, \"y_predict\": 169.7828102735224}, {\"y_target\": 142.5, \"y_predict\": 170.99363864509522}, {\"y_target\": 151.3, \"y_predict\": 161.72649779275622}, {\"y_target\": 164.9, \"y_predict\": 163.9090840616232}, {\"y_target\": 199.5, \"y_predict\": 199.8907437453534}, {\"y_target\": 157.5, \"y_predict\": 150.0011650697371}, {\"y_target\": 187.2, \"y_predict\": 189.31987614242587}, {\"y_target\": 212.3, \"y_predict\": 210.9735364638508}, {\"y_target\": 150.4, \"y_predict\": 166.67029118959414}, {\"y_target\": 133.2, \"y_predict\": 174.85371625988267}, {\"y_target\": 209.6, \"y_predict\": 160.5195460841219}, {\"y_target\": 213.5, \"y_predict\": 208.7604182996099}, {\"y_target\": 184.3, \"y_predict\": 204.7610764859549}, {\"y_target\": 201.1, \"y_predict\": 195.74627783736608}, {\"y_target\": 187.8, \"y_predict\": 173.18423678122144}, {\"y_target\": 158.3, \"y_predict\": 167.57641672964962}, {\"y_target\": 174.1, \"y_predict\": 184.33650629272032}, {\"y_target\": 195.3, \"y_predict\": 193.81474020199926}, {\"y_target\": 167.8, \"y_predict\": 177.8297717158336}, {\"y_target\": 185.6, \"y_predict\": 189.00377918526323}, {\"y_target\": 211.7, \"y_predict\": 200.72120330524203}, {\"y_target\": 220.2, \"y_predict\": 207.517962864953}, {\"y_target\": 166.9, \"y_predict\": 159.5721776594137}, {\"y_target\": 168.4, \"y_predict\": 159.73889320087312}, {\"y_target\": 201.7, \"y_predict\": 200.63355090169952}, {\"y_target\": 213.7, \"y_predict\": 186.4676120882043}, {\"y_target\": 141.8, \"y_predict\": 183.04792251163627}, {\"y_target\": 181.0, \"y_predict\": 173.75864492732248}, {\"y_target\": 168.5, \"y_predict\": 153.1897714477046}, {\"y_target\": 158.7, \"y_predict\": 159.94459189095838}, {\"y_target\": 165.8, \"y_predict\": 163.84428605741033}, {\"y_target\": 105.4, \"y_predict\": 164.57097443792978}, {\"y_target\": 220.4, \"y_predict\": 184.1490666749334}, {\"y_target\": 158.1, \"y_predict\": 164.18631137749566}, {\"y_target\": 166.4, \"y_predict\": 165.49295767875714}, {\"y_target\": 177.9, \"y_predict\": 181.53688146823188}, {\"y_target\": 172.9, \"y_predict\": 176.38364970237205}, {\"y_target\": 142.3, \"y_predict\": 162.01383335254988}, {\"y_target\": 193.5, \"y_predict\": 200.8013787651751}, {\"y_target\": 171.5, \"y_predict\": 186.03946622953515}, {\"y_target\": 185.3, \"y_predict\": 182.30447937212068}, {\"y_target\": 143.3, \"y_predict\": 156.07545755722515}, {\"y_target\": 128.7, \"y_predict\": 151.13151528097433}, {\"y_target\": 192.8, \"y_predict\": 203.97560210515798}, {\"y_target\": 167.3, \"y_predict\": 153.59768079427727}, {\"y_target\": 218.3, \"y_predict\": 213.8039191338646}, {\"y_target\": 157.8, \"y_predict\": 175.51795699001937}, {\"y_target\": 173.3, \"y_predict\": 175.1816795087039}, {\"y_target\": 128.3, \"y_predict\": 152.32379176600642}, {\"y_target\": 215.1, \"y_predict\": 201.25563718963497}, {\"y_target\": 164.9, \"y_predict\": 194.6733975690236}, {\"y_target\": 203.8, \"y_predict\": 200.36184317170645}, {\"y_target\": 179.9, \"y_predict\": 179.85889881789615}, {\"y_target\": 191.4, \"y_predict\": 167.03343633015544}, {\"y_target\": 175.1, \"y_predict\": 175.71414690103407}, {\"y_target\": 167.2, \"y_predict\": 194.92960480156742}, {\"y_target\": 152.6, \"y_predict\": 149.54754639040829}, {\"y_target\": 153.3, \"y_predict\": 169.46929226469908}, {\"y_target\": 176.5, \"y_predict\": 194.30149907360715}, {\"y_target\": 185.6, \"y_predict\": 149.15768332285637}, {\"y_target\": 149.4, \"y_predict\": 164.30174698277938}, {\"y_target\": 197.0, \"y_predict\": 178.46204711965285}, {\"y_target\": 201.7, \"y_predict\": 187.86508058619145}, {\"y_target\": 195.8, \"y_predict\": 186.5797990331448}, {\"y_target\": 189.0, \"y_predict\": 196.69692859232376}, {\"y_target\": 167.9, \"y_predict\": 155.76422757849673}, {\"y_target\": 189.4, \"y_predict\": 192.2010593720091}, {\"y_target\": 164.1, \"y_predict\": 170.9077134300056}, {\"y_target\": 178.9, \"y_predict\": 195.1775283520901}, {\"y_target\": 179.9, \"y_predict\": 201.19531204330698}, {\"y_target\": 181.6, \"y_predict\": 174.40583208267842}, {\"y_target\": 211.1, \"y_predict\": 192.55697361750754}, {\"y_target\": 170.1, \"y_predict\": 188.92138437608605}, {\"y_target\": 159.5, \"y_predict\": 165.4563912274752}, {\"y_target\": 126.9, \"y_predict\": 114.92100185310704}, {\"y_target\": 160.4, \"y_predict\": 176.35581022240206}, {\"y_target\": 179.4, \"y_predict\": 179.86516674740318}, {\"y_target\": 135.0, \"y_predict\": 158.55470332437608}, {\"y_target\": 166.0, \"y_predict\": 169.22990795600188}, {\"y_target\": 159.4, \"y_predict\": 157.12184787332123}, {\"y_target\": 129.4, \"y_predict\": 163.91513799077998}, {\"y_target\": 186.9, \"y_predict\": 181.25627966911696}, {\"y_target\": 202.5, \"y_predict\": 204.0325292343558}, {\"y_target\": 179.9, \"y_predict\": 183.2558807699773}, {\"y_target\": 141.5, \"y_predict\": 170.12729135561295}, {\"y_target\": 182.9, \"y_predict\": 168.95153694204924}, {\"y_target\": 141.6, \"y_predict\": 153.20016693370334}, {\"y_target\": 210.7, \"y_predict\": 204.94292860800803}, {\"y_target\": 150.1, \"y_predict\": 139.84680895641733}, {\"y_target\": 110.4, \"y_predict\": 161.39448700124137}, {\"y_target\": 114.5, \"y_predict\": 141.11483512466117}, {\"y_target\": 177.1, \"y_predict\": 187.68011955087277}, {\"y_target\": 198.7, \"y_predict\": 194.30928599117055}, {\"y_target\": 185.0, \"y_predict\": 182.82677727434015}, {\"y_target\": 185.4, \"y_predict\": 189.71643611723204}, {\"y_target\": 207.6, \"y_predict\": 192.1833537502678}, {\"y_target\": 204.0, \"y_predict\": 197.55876472713862}, {\"y_target\": 172.7, \"y_predict\": 173.85855901750966}, {\"y_target\": 242.9, \"y_predict\": 190.0283867558343}, {\"y_target\": 215.0, \"y_predict\": 187.25927514326818}, {\"y_target\": 177.0, \"y_predict\": 185.40980845931773}, {\"y_target\": 206.1, \"y_predict\": 179.9853202390815}, {\"y_target\": 147.9, \"y_predict\": 153.00110049575645}, {\"y_target\": 184.8, \"y_predict\": 168.2624466143566}, {\"y_target\": 170.5, \"y_predict\": 151.4814213660565}, {\"y_target\": 205.5, \"y_predict\": 189.87745252926615}, {\"y_target\": 262.7, \"y_predict\": 239.47703218018142}, {\"y_target\": 188.8, \"y_predict\": 206.32472459269633}, {\"y_target\": 145.4, \"y_predict\": 161.30471111286735}, {\"y_target\": 218.9, \"y_predict\": 223.1685656733055}, {\"y_target\": 174.2, \"y_predict\": 187.5379567948801}, {\"y_target\": 177.8, \"y_predict\": 187.46758379710255}, {\"y_target\": 150.3, \"y_predict\": 166.6799493323127}, {\"y_target\": 220.7, \"y_predict\": 194.1578736822321}, {\"y_target\": 150.3, \"y_predict\": 163.52149411087333}, {\"y_target\": 182.3, \"y_predict\": 172.59870930030553}, {\"y_target\": 164.9, \"y_predict\": 171.21793211330473}, {\"y_target\": 159.7, \"y_predict\": 161.90060286430239}, {\"y_target\": 164.9, \"y_predict\": 159.38531713172438}, {\"y_target\": 183.3, \"y_predict\": 187.48167913051336}, {\"y_target\": 205.3, \"y_predict\": 189.2086723406357}, {\"y_target\": 149.4, \"y_predict\": 189.07037071488824}, {\"y_target\": 169.0, \"y_predict\": 181.0892652993883}, {\"y_target\": 179.9, \"y_predict\": 184.8172243982505}, {\"y_target\": 178.3, \"y_predict\": 180.6073203893925}, {\"y_target\": 186.5, \"y_predict\": 188.51824127258104}, {\"y_target\": 236.4, \"y_predict\": 195.56720647331508}, {\"y_target\": 158.8, \"y_predict\": 174.44104096838316}, {\"y_target\": 192.8, \"y_predict\": 167.7214081014219}, {\"y_target\": 185.2, \"y_predict\": 185.24373604843433}, {\"y_target\": 190.7, \"y_predict\": 171.27219439008593}, {\"y_target\": 170.1, \"y_predict\": 177.61890229931757}, {\"y_target\": 170.7, \"y_predict\": 177.634644017458}, {\"y_target\": 147.0, \"y_predict\": 162.72807181450702}, {\"y_target\": 147.9, \"y_predict\": 173.91411483727023}, {\"y_target\": 196.9, \"y_predict\": 181.83709176969}, {\"y_target\": 196.5, \"y_predict\": 180.6737526764743}, {\"y_target\": 191.8, \"y_predict\": 195.55713275900362}, {\"y_target\": 164.8, \"y_predict\": 171.04715566070507}, {\"y_target\": 160.4, \"y_predict\": 149.6316674940151}, {\"y_target\": 199.5, \"y_predict\": 178.7910223919799}, {\"y_target\": 196.7, \"y_predict\": 187.5015245702391}, {\"y_target\": 146.8, \"y_predict\": 136.13642261614334}, {\"y_target\": 196.5, \"y_predict\": 193.5550950312665}, {\"y_target\": 154.6, \"y_predict\": 162.6115588613582}, {\"y_target\": 138.8, \"y_predict\": 133.09930025419615}, {\"y_target\": 162.2, \"y_predict\": 159.67631067288082}, {\"y_target\": 177.2, \"y_predict\": 192.77310750896754}, {\"y_target\": 182.8, \"y_predict\": 188.17891671370248}, {\"y_target\": 146.8, \"y_predict\": 157.51268120851861}, {\"y_target\": 136.0, \"y_predict\": 158.23342382056688}, {\"y_target\": 189.7, \"y_predict\": 187.27742132847246}, {\"y_target\": 182.0, \"y_predict\": 163.6934779682446}, {\"y_target\": 160.5, \"y_predict\": 183.56774603143313}, {\"y_target\": 179.1, \"y_predict\": 175.75177636763055}, {\"y_target\": 171.3, \"y_predict\": 180.30562037202054}, {\"y_target\": 192.2, \"y_predict\": 176.46453542174112}, {\"y_target\": 189.5, \"y_predict\": 205.00466878869082}, {\"y_target\": 180.0, \"y_predict\": 188.15043290253803}, {\"y_target\": 161.7, \"y_predict\": 182.93226139952145}, {\"y_target\": 175.7, \"y_predict\": 178.2675214440018}, {\"y_target\": 170.1, \"y_predict\": 195.18023497023557}, {\"y_target\": 193.2, \"y_predict\": 185.5413390338862}, {\"y_target\": 166.2, \"y_predict\": 187.9248195305957}, {\"y_target\": 187.4, \"y_predict\": 153.27340217184366}, {\"y_target\": 167.3, \"y_predict\": 174.20793760103365}, {\"y_target\": 180.6, \"y_predict\": 180.68725184862018}, {\"y_target\": 217.8, \"y_predict\": 222.16813273692912}, {\"y_target\": 152.5, \"y_predict\": 167.50970930222317}, {\"y_target\": 136.4, \"y_predict\": 158.97727482132768}, {\"y_target\": 208.4, \"y_predict\": 181.77043185722192}, {\"y_target\": 157.6, \"y_predict\": 157.53427362820372}, {\"y_target\": 195.6, \"y_predict\": 198.98019245546507}, {\"y_target\": 166.7, \"y_predict\": 182.65883559693313}, {\"y_target\": 167.0, \"y_predict\": 165.91552363342709}, {\"y_target\": 179.1, \"y_predict\": 190.59961477817802}, {\"y_target\": 157.9, \"y_predict\": 161.65454478420398}, {\"y_target\": 211.1, \"y_predict\": 205.10009641748462}, {\"y_target\": 184.3, \"y_predict\": 183.33411668530692}, {\"y_target\": 184.5, \"y_predict\": 186.60770070963756}, {\"y_target\": 265.8, \"y_predict\": 244.39597470281348}, {\"y_target\": 236.9, \"y_predict\": 214.3625996353043}, {\"y_target\": 186.2, \"y_predict\": 192.75490727202555}, {\"y_target\": 169.2, \"y_predict\": 152.74827227571393}, {\"y_target\": 182.2, \"y_predict\": 176.7115226394685}, {\"y_target\": 210.6, \"y_predict\": 198.57289110460792}, {\"y_target\": 180.0, \"y_predict\": 181.83209038220775}, {\"y_target\": 167.9, \"y_predict\": 198.19352786069405}, {\"y_target\": 167.1, \"y_predict\": 174.0667545935011}, {\"y_target\": 164.4, \"y_predict\": 160.45862017609636}, {\"y_target\": 170.9, \"y_predict\": 176.26191339057954}, {\"y_target\": 153.9, \"y_predict\": 216.06620398541628}, {\"y_target\": 190.2, \"y_predict\": 160.7532755939005}, {\"y_target\": 143.8, \"y_predict\": 162.67107968286}, {\"y_target\": 202.4, \"y_predict\": 186.16766285859526}, {\"y_target\": 209.2, \"y_predict\": 175.16344496561902}, {\"y_target\": 165.3, \"y_predict\": 196.36734105871238}, {\"y_target\": 234.6, \"y_predict\": 227.2939148476478}, {\"y_target\": 149.9, \"y_predict\": 146.53276873510575}, {\"y_target\": 94.4, \"y_predict\": 127.73689446503315}, {\"y_target\": 159.6, \"y_predict\": 203.92758252815295}, {\"y_target\": 178.9, \"y_predict\": 173.68474739500007}, {\"y_target\": 177.4, \"y_predict\": 177.26570849347263}, {\"y_target\": 170.3, \"y_predict\": 169.25415259092193}, {\"y_target\": 169.4, \"y_predict\": 188.82501530071167}, {\"y_target\": 137.9, \"y_predict\": 155.12377881503454}, {\"y_target\": 135.7, \"y_predict\": 153.45229622122636}, {\"y_target\": 181.7, \"y_predict\": 173.7219535513577}, {\"y_target\": 107.2, \"y_predict\": 156.41394994528952}, {\"y_target\": 180.9, \"y_predict\": 190.24561710475956}, {\"y_target\": 184.5, \"y_predict\": 189.586120944066}, {\"y_target\": 126.3, \"y_predict\": 169.67367066240172}, {\"y_target\": 161.6, \"y_predict\": 161.2335095341859}, {\"y_target\": 153.2, \"y_predict\": 153.98860942980806}, {\"y_target\": 176.2, \"y_predict\": 156.62288835959302}, {\"y_target\": 165.3, \"y_predict\": 178.99664940832255}, {\"y_target\": 152.8, \"y_predict\": 168.8589047430473}, {\"y_target\": 225.4, \"y_predict\": 199.1147202914149}, {\"y_target\": 188.2, \"y_predict\": 194.29361326007358}, {\"y_target\": 194.6, \"y_predict\": 206.41335283905082}, {\"y_target\": 240.8, \"y_predict\": 227.2524964925019}, {\"y_target\": 219.1, \"y_predict\": 205.48938867996364}, {\"y_target\": 145.2, \"y_predict\": 147.32610314526252}, {\"y_target\": 178.6, \"y_predict\": 198.61700698603042}, {\"y_target\": 176.4, \"y_predict\": 181.48616655515985}, {\"y_target\": 182.3, \"y_predict\": 176.49745493364537}, {\"y_target\": 159.8, \"y_predict\": 210.74107906028274}, {\"y_target\": 160.9, \"y_predict\": 156.71052876879025}, {\"y_target\": 206.7, \"y_predict\": 200.1998017001595}, {\"y_target\": 214.2, \"y_predict\": 189.7640179426636}, {\"y_target\": 224.6, \"y_predict\": 242.1043396950938}, {\"y_target\": 204.2, \"y_predict\": 189.420675311137}, {\"y_target\": 166.5, \"y_predict\": 157.6645878925772}, {\"y_target\": 208.7, \"y_predict\": 190.4832775214485}, {\"y_target\": 165.9, \"y_predict\": 189.4049926536031}, {\"y_target\": 188.4, \"y_predict\": 185.2355942335913}, {\"y_target\": 189.1, \"y_predict\": 204.12955710086493}, {\"y_target\": 227.2, \"y_predict\": 207.01604799895145}, {\"y_target\": 190.6, \"y_predict\": 175.8102063742347}, {\"y_target\": 171.5, \"y_predict\": 185.3873915549669}, {\"y_target\": 206.1, \"y_predict\": 184.89368764855803}, {\"y_target\": 221.5, \"y_predict\": 234.9427424700532}, {\"y_target\": 166.9, \"y_predict\": 146.41021832319603}, {\"y_target\": 169.5, \"y_predict\": 175.09610818780132}, {\"y_target\": 160.8, \"y_predict\": 182.44129661466036}, {\"y_target\": 161.4, \"y_predict\": 132.21821582800732}, {\"y_target\": 182.5, \"y_predict\": 183.526582715342}, {\"y_target\": 205.4, \"y_predict\": 196.32364348127635}, {\"y_target\": 185.4, \"y_predict\": 179.61298009375247}, {\"y_target\": 183.8, \"y_predict\": 188.96006471408356}, {\"y_target\": 209.2, \"y_predict\": 175.39373005414757}, {\"y_target\": 178.3, \"y_predict\": 182.1522439895859}, {\"y_target\": 205.4, \"y_predict\": 201.35523558638022}, {\"y_target\": 194.5, \"y_predict\": 183.16370348543586}, {\"y_target\": 163.9, \"y_predict\": 162.8997114639312}, {\"y_target\": 155.2, \"y_predict\": 165.03058530561998}, {\"y_target\": 180.9, \"y_predict\": 179.14939938827158}, {\"y_target\": 157.0, \"y_predict\": 168.41656314728237}, {\"y_target\": 151.6, \"y_predict\": 170.8933477535373}, {\"y_target\": 244.9, \"y_predict\": 216.8566077254934}, {\"y_target\": 228.4, \"y_predict\": 218.52679043954512}, {\"y_target\": 245.2, \"y_predict\": 179.09124442733543}, {\"y_target\": 173.7, \"y_predict\": 161.4945116174515}, {\"y_target\": 185.1, \"y_predict\": 191.84211718953838}, {\"y_target\": 138.4, \"y_predict\": 151.59897376265988}, {\"y_target\": 180.8, \"y_predict\": 191.87795523621995}, {\"y_target\": 151.5, \"y_predict\": 180.79339771152868}, {\"y_target\": 147.1, \"y_predict\": 155.13397231962628}, {\"y_target\": 185.3, \"y_predict\": 176.32086746574544}, {\"y_target\": 148.6, \"y_predict\": 157.97127713518546}, {\"y_target\": 200.8, \"y_predict\": 190.3886691053075}, {\"y_target\": 201.6, \"y_predict\": 200.58687707387998}, {\"y_target\": 160.3, \"y_predict\": 161.6118071402582}, {\"y_target\": 203.1, \"y_predict\": 207.88579564184465}, {\"y_target\": 181.5, \"y_predict\": 183.96044160724693}, {\"y_target\": 149.8, \"y_predict\": 128.95462630862426}, {\"y_target\": 175.5, \"y_predict\": 190.12993078408294}, {\"y_target\": 202.4, \"y_predict\": 202.6610899054695}, {\"y_target\": 159.8, \"y_predict\": 194.0116923816114}, {\"y_target\": 162.1, \"y_predict\": 259.8280928646629}, {\"y_target\": 198.3, \"y_predict\": 203.465478120055}, {\"y_target\": 181.1, \"y_predict\": 189.24105108361547}, {\"y_target\": 188.9, \"y_predict\": 194.36379744419276}, {\"y_target\": 229.8, \"y_predict\": 240.05757009954468}, {\"y_target\": 168.9, \"y_predict\": 172.630165892867}, {\"y_target\": 149.6, \"y_predict\": 155.48173739232968}, {\"y_target\": 176.1, \"y_predict\": 182.68351002448395}, {\"y_target\": 174.0, \"y_predict\": 188.8749651996956}, {\"y_target\": 176.7, \"y_predict\": 171.1140766459611}, {\"y_target\": 195.8, \"y_predict\": 178.16831697049517}, {\"y_target\": 191.0, \"y_predict\": 179.11015056113698}, {\"y_target\": 188.1, \"y_predict\": 183.878651701452}, {\"y_target\": 175.9, \"y_predict\": 177.69564663302836}, {\"y_target\": 167.1, \"y_predict\": 164.32650819886064}, {\"y_target\": 184.9, \"y_predict\": 193.71214659921296}, {\"y_target\": 198.7, \"y_predict\": 189.9469905833666}, {\"y_target\": 202.4, \"y_predict\": 182.37959833208527}, {\"y_target\": 176.1, \"y_predict\": 185.28276018595653}, {\"y_target\": 208.1, \"y_predict\": 189.1354310116319}, {\"y_target\": 121.4, \"y_predict\": 159.72561146427051}, {\"y_target\": 165.0, \"y_predict\": 179.6335401964269}, {\"y_target\": 133.1, \"y_predict\": 153.09092376080739}, {\"y_target\": 151.5, \"y_predict\": 158.4758547112673}, {\"y_target\": 255.8, \"y_predict\": 212.9620891543538}, {\"y_target\": 164.0, \"y_predict\": 167.4986523345625}, {\"y_target\": 105.2, \"y_predict\": 147.18446033052152}, {\"y_target\": 202.4, \"y_predict\": 197.5639641308598}, {\"y_target\": 126.8, \"y_predict\": 158.09117850585608}, {\"y_target\": 169.8, \"y_predict\": 169.645568068677}, {\"y_target\": 213.8, \"y_predict\": 183.69269063166158}, {\"y_target\": 208.7, \"y_predict\": 170.9186600299958}, {\"y_target\": 171.7, \"y_predict\": 151.61590161356455}, {\"y_target\": 170.8, \"y_predict\": 178.57607197413546}, {\"y_target\": 141.8, \"y_predict\": 162.36732721195037}, {\"y_target\": 199.3, \"y_predict\": 189.6304327117087}, {\"y_target\": 174.8, \"y_predict\": 185.05535871853087}, {\"y_target\": 182.8, \"y_predict\": 190.43411139561834}, {\"y_target\": 169.5, \"y_predict\": 193.5446524118574}, {\"y_target\": 186.7, \"y_predict\": 175.23980327780782}, {\"y_target\": 195.3, \"y_predict\": 188.21151684502544}, {\"y_target\": 185.1, \"y_predict\": 187.1592507738411}, {\"y_target\": 182.6, \"y_predict\": 176.56754352263863}, {\"y_target\": 163.6, \"y_predict\": 156.11843304643375}, {\"y_target\": 201.2, \"y_predict\": 202.2855388668837}, {\"y_target\": 198.3, \"y_predict\": 178.65254996534634}, {\"y_target\": 201.8, \"y_predict\": 195.95103391690157}, {\"y_target\": 209.3, \"y_predict\": 163.72770220233016}, {\"y_target\": 175.0, \"y_predict\": 159.01221420128903}, {\"y_target\": 179.4, \"y_predict\": 190.5862956457841}, {\"y_target\": 216.7, \"y_predict\": 195.36755868274312}, {\"y_target\": 203.0, \"y_predict\": 213.71753626084393}, {\"y_target\": 148.2, \"y_predict\": 162.70609450954885}, {\"y_target\": 177.7, \"y_predict\": 166.38464077675664}, {\"y_target\": 170.6, \"y_predict\": 165.74811738799642}, {\"y_target\": 146.6, \"y_predict\": 161.73602671329027}, {\"y_target\": 180.0, \"y_predict\": 162.4358348191774}, {\"y_target\": 195.1, \"y_predict\": 200.07606346713698}, {\"y_target\": 159.6, \"y_predict\": 152.0083291306084}, {\"y_target\": 160.8, \"y_predict\": 152.72564903056704}, {\"y_target\": 178.2, \"y_predict\": 163.49706162932168}, {\"y_target\": 206.3, \"y_predict\": 168.13380716811741}, {\"y_target\": 183.3, \"y_predict\": 193.14451419338377}, {\"y_target\": 172.3, \"y_predict\": 184.38404254117185}, {\"y_target\": 136.6, \"y_predict\": 189.36613777064116}, {\"y_target\": 193.2, \"y_predict\": 195.03844565012565}, {\"y_target\": 189.8, \"y_predict\": 161.02015485094338}, {\"y_target\": 192.0, \"y_predict\": 184.12530816642848}, {\"y_target\": 202.6, \"y_predict\": 196.62314883830305}, {\"y_target\": 215.6, \"y_predict\": 207.85759005713965}, {\"y_target\": 173.5, \"y_predict\": 171.85107391170087}, {\"y_target\": 109.9, \"y_predict\": 147.97724484627994}, {\"y_target\": 173.1, \"y_predict\": 167.04007460045312}, {\"y_target\": 161.9, \"y_predict\": 145.93344043821}, {\"y_target\": 163.9, \"y_predict\": 166.1157446034251}, {\"y_target\": 175.7, \"y_predict\": 172.04896105949263}, {\"y_target\": 183.8, \"y_predict\": 200.59040231965787}, {\"y_target\": 205.1, \"y_predict\": 205.59995471196495}, {\"y_target\": 139.1, \"y_predict\": 163.0881693909815}, {\"y_target\": 174.2, \"y_predict\": 174.3580410561352}, {\"y_target\": 181.2, \"y_predict\": 170.17943254544275}, {\"y_target\": 123.2, \"y_predict\": 142.47434904618214}, {\"y_target\": 191.7, \"y_predict\": 195.86032589730058}, {\"y_target\": 186.8, \"y_predict\": 176.9575254909415}, {\"y_target\": 173.0, \"y_predict\": 172.17292880739566}, {\"y_target\": 178.7, \"y_predict\": 192.8416169125005}, {\"y_target\": 185.7, \"y_predict\": 218.6989007719685}, {\"y_target\": 190.5, \"y_predict\": 173.9876613673165}, {\"y_target\": 137.7, \"y_predict\": 194.53253557208174}, {\"y_target\": 166.2, \"y_predict\": 154.10487523045177}, {\"y_target\": 169.0, \"y_predict\": 172.36837731806492}, {\"y_target\": 155.6, \"y_predict\": 151.1378101785833}, {\"y_target\": 203.2, \"y_predict\": 205.16445215302807}, {\"y_target\": 172.1, \"y_predict\": 161.73942390189498}, {\"y_target\": 193.5, \"y_predict\": 183.19271714363705}, {\"y_target\": 173.6, \"y_predict\": 188.62456603151833}, {\"y_target\": 172.9, \"y_predict\": 173.83499469421625}, {\"y_target\": 187.3, \"y_predict\": 184.19531964423726}, {\"y_target\": 205.4, \"y_predict\": 172.23377942511627}, {\"y_target\": 124.6, \"y_predict\": 135.34135533132303}, {\"y_target\": 163.5, \"y_predict\": 161.32147124598185}, {\"y_target\": 190.0, \"y_predict\": 192.9622794824467}, {\"y_target\": 153.0, \"y_predict\": 159.75994566783194}, {\"y_target\": 156.4, \"y_predict\": 161.60137245921246}, {\"y_target\": 190.7, \"y_predict\": 159.6364710120895}, {\"y_target\": 148.0, \"y_predict\": 175.49737819397052}, {\"y_target\": 210.2, \"y_predict\": 196.3242396884184}, {\"y_target\": 155.7, \"y_predict\": 165.644033448986}, {\"y_target\": 187.7, \"y_predict\": 147.56313870915892}, {\"y_target\": 195.1, \"y_predict\": 188.1261285925537}, {\"y_target\": 160.5, \"y_predict\": 159.84784755886932}, {\"y_target\": 157.1, \"y_predict\": 146.19275612922806}, {\"y_target\": 191.3, \"y_predict\": 200.50791228486926}, {\"y_target\": 189.4, \"y_predict\": 175.34708094853826}, {\"y_target\": 182.9, \"y_predict\": 182.12324571644444}, {\"y_target\": 188.1, \"y_predict\": 176.39943362694984}, {\"y_target\": 201.0, \"y_predict\": 190.31847538294448}, {\"y_target\": 180.3, \"y_predict\": 171.46785993733562}, {\"y_target\": 178.9, \"y_predict\": 183.35876807856806}, {\"y_target\": 123.4, \"y_predict\": 161.157218528541}, {\"y_target\": 160.0, \"y_predict\": 172.89753639341177}, {\"y_target\": 180.3, \"y_predict\": 179.1560066082475}, {\"y_target\": 189.9, \"y_predict\": 192.83069240550628}, {\"y_target\": 206.7, \"y_predict\": 195.35937380438503}, {\"y_target\": 119.2, \"y_predict\": 145.43256479056777}, {\"y_target\": 149.1, \"y_predict\": 139.90626298755134}, {\"y_target\": 210.0, \"y_predict\": 198.19452377263488}, {\"y_target\": 254.3, \"y_predict\": 214.59716130879931}, {\"y_target\": 168.0, \"y_predict\": 171.14574996427552}, {\"y_target\": 184.2, \"y_predict\": 193.77773099194044}, {\"y_target\": 213.4, \"y_predict\": 153.73986584751907}, {\"y_target\": 178.7, \"y_predict\": 181.1670571062506}, {\"y_target\": 134.2, \"y_predict\": 163.45710268842512}, {\"y_target\": 205.9, \"y_predict\": 206.88441607894367}, {\"y_target\": 208.9, \"y_predict\": 173.70669814314866}, {\"y_target\": 182.3, \"y_predict\": 175.47983719043972}, {\"y_target\": 193.9, \"y_predict\": 180.31875259807612}, {\"y_target\": 189.2, \"y_predict\": 183.51608889124856}, {\"y_target\": 152.2, \"y_predict\": 139.12712961615668}, {\"y_target\": 148.9, \"y_predict\": 143.6655865433366}, {\"y_target\": 193.4, \"y_predict\": 175.70739618316065}, {\"y_target\": 209.3, \"y_predict\": 186.2159061392922}, {\"y_target\": 198.6, \"y_predict\": 182.5516715216869}, {\"y_target\": 205.9, \"y_predict\": 205.24111957684846}, {\"y_target\": 178.8, \"y_predict\": 181.69633079074217}, {\"y_target\": 194.3, \"y_predict\": 192.34057456243744}, {\"y_target\": 172.7, \"y_predict\": 156.86926633101038}, {\"y_target\": 159.7, \"y_predict\": 163.0748948027205}, {\"y_target\": 186.9, \"y_predict\": 187.10089534418452}, {\"y_target\": 176.4, \"y_predict\": 189.71037903899798}, {\"y_target\": 181.8, \"y_predict\": 167.550591755956}, {\"y_target\": 199.0, \"y_predict\": 194.89672460383218}, {\"y_target\": 202.9, \"y_predict\": 202.6186230833013}, {\"y_target\": 171.6, \"y_predict\": 167.70884715575104}, {\"y_target\": 185.8, \"y_predict\": 187.13467098840073}, {\"y_target\": 167.6, \"y_predict\": 162.0812281585062}, {\"y_target\": 179.8, \"y_predict\": 182.55359779435264}, {\"y_target\": 168.3, \"y_predict\": 194.618526765989}, {\"y_target\": 193.1, \"y_predict\": 172.71268112172064}, {\"y_target\": 196.4, \"y_predict\": 186.720840548919}, {\"y_target\": 159.6, \"y_predict\": 160.1370217884593}, {\"y_target\": 150.2, \"y_predict\": 170.9860999062918}, {\"y_target\": 189.1, \"y_predict\": 180.40015028407046}, {\"y_target\": 144.9, \"y_predict\": 153.11310664984882}, {\"y_target\": 188.8, \"y_predict\": 196.32116609219204}, {\"y_target\": 194.2, \"y_predict\": 191.12723181265395}, {\"y_target\": 205.8, \"y_predict\": 174.99619254696137}, {\"y_target\": 203.9, \"y_predict\": 194.17220064694658}, {\"y_target\": 153.9, \"y_predict\": 137.85374818822243}, {\"y_target\": 174.2, \"y_predict\": 181.50947499313253}, {\"y_target\": 206.0, \"y_predict\": 182.45668899612997}, {\"y_target\": 238.2, \"y_predict\": 173.234726410408}, {\"y_target\": 214.7, \"y_predict\": 206.83796773989042}, {\"y_target\": 173.6, \"y_predict\": 161.1046168252794}, {\"y_target\": 165.3, \"y_predict\": 159.00751251119058}, {\"y_target\": 172.2, \"y_predict\": 161.55586836437723}, {\"y_target\": 190.5, \"y_predict\": 185.91932348608262}, {\"y_target\": 220.6, \"y_predict\": 165.51359904001737}, {\"y_target\": 172.2, \"y_predict\": 200.17657850434134}, {\"y_target\": 174.7, \"y_predict\": 183.32552425437498}, {\"y_target\": 215.3, \"y_predict\": 202.5071903846424}, {\"y_target\": 186.4, \"y_predict\": 205.6003131434348}, {\"y_target\": 196.5, \"y_predict\": 214.4638340534145}, {\"y_target\": 178.7, \"y_predict\": 183.67393425821038}, {\"y_target\": 151.7, \"y_predict\": 196.644827357648}, {\"y_target\": 187.8, \"y_predict\": 191.8111217372441}, {\"y_target\": 172.2, \"y_predict\": 163.60829046644918}, {\"y_target\": 171.1, \"y_predict\": 167.35116682232643}, {\"y_target\": 196.4, \"y_predict\": 174.3825727733125}, {\"y_target\": 160.1, \"y_predict\": 172.2431053953327}, {\"y_target\": 200.7, \"y_predict\": 180.4698518301979}, {\"y_target\": 217.1, \"y_predict\": 182.3747800333975}, {\"y_target\": 194.1, \"y_predict\": 200.8801322185099}, {\"y_target\": 189.7, \"y_predict\": 182.02241919277114}, {\"y_target\": 173.2, \"y_predict\": 183.58795638153444}, {\"y_target\": 122.6, \"y_predict\": 122.34276394471689}, {\"y_target\": 156.1, \"y_predict\": 162.29782265126164}, {\"y_target\": 183.5, \"y_predict\": 183.77173482910487}, {\"y_target\": 180.1, \"y_predict\": 174.0731890009453}, {\"y_target\": 153.8, \"y_predict\": 143.93600116944774}, {\"y_target\": 161.4, \"y_predict\": 170.6697130298798}, {\"y_target\": 161.5, \"y_predict\": 159.35382099430163}, {\"y_target\": 194.7, \"y_predict\": 171.13732067237999}, {\"y_target\": 171.5, \"y_predict\": 174.3881118191208}, {\"y_target\": 171.6, \"y_predict\": 172.193932080218}, {\"y_target\": 191.3, \"y_predict\": 210.31227298695012}, {\"y_target\": 153.4, \"y_predict\": 167.59530526569614}, {\"y_target\": 152.8, \"y_predict\": 163.62630039505683}, {\"y_target\": 178.1, \"y_predict\": 173.39744920889044}, {\"y_target\": 157.6, \"y_predict\": 167.87286431291707}, {\"y_target\": 171.3, \"y_predict\": 185.0993950648865}, {\"y_target\": 154.1, \"y_predict\": 171.14574922319133}, {\"y_target\": 229.7, \"y_predict\": 188.89266888242634}, {\"y_target\": 191.7, \"y_predict\": 177.96441879168216}, {\"y_target\": 150.2, \"y_predict\": 163.59698201368948}, {\"y_target\": 216.8, \"y_predict\": 206.68624965243995}, {\"y_target\": 190.3, \"y_predict\": 176.8173463742991}, {\"y_target\": 160.9, \"y_predict\": 152.48179541924915}, {\"y_target\": 195.7, \"y_predict\": 174.07670933054888}, {\"y_target\": 125.9, \"y_predict\": 139.56466806383884}, {\"y_target\": 148.6, \"y_predict\": 170.4866751193015}, {\"y_target\": 201.5, \"y_predict\": 192.63853680985017}, {\"y_target\": 164.5, \"y_predict\": 170.75375771133804}, {\"y_target\": 195.4, \"y_predict\": 172.31793603123162}, {\"y_target\": 164.7, \"y_predict\": 156.59439700929423}, {\"y_target\": 152.7, \"y_predict\": 141.56657997160653}, {\"y_target\": 193.3, \"y_predict\": 184.1907146655283}, {\"y_target\": 217.7, \"y_predict\": 210.6135456151212}, {\"y_target\": 181.2, \"y_predict\": 180.8694392730275}, {\"y_target\": 171.0, \"y_predict\": 172.14735204827207}, {\"y_target\": 129.4, \"y_predict\": 170.03253906646188}, {\"y_target\": 179.5, \"y_predict\": 191.6682748871293}, {\"y_target\": 152.3, \"y_predict\": 159.8400182992496}, {\"y_target\": 147.7, \"y_predict\": 164.06574161184898}, {\"y_target\": 147.6, \"y_predict\": 174.7083100562264}, {\"y_target\": 217.5, \"y_predict\": 180.12747900341896}, {\"y_target\": 209.9, \"y_predict\": 191.28530742448447}, {\"y_target\": 162.1, \"y_predict\": 189.09263533491946}, {\"y_target\": 154.9, \"y_predict\": 161.0093193801733}, {\"y_target\": 189.1, \"y_predict\": 190.5972700067508}, {\"y_target\": 161.6, \"y_predict\": 174.84060809025016}, {\"y_target\": 170.8, \"y_predict\": 167.57344661765399}, {\"y_target\": 162.1, \"y_predict\": 176.09633575946444}, {\"y_target\": 142.9, \"y_predict\": 157.8810695328089}, {\"y_target\": 176.2, \"y_predict\": 184.34791390029872}, {\"y_target\": 164.3, \"y_predict\": 165.5524381051695}, {\"y_target\": 187.5, \"y_predict\": 180.1807415655734}, {\"y_target\": 259.5, \"y_predict\": 247.66903249635862}, {\"y_target\": 162.9, \"y_predict\": 155.51897944139637}, {\"y_target\": 170.7, \"y_predict\": 145.36027580556674}, {\"y_target\": 212.2, \"y_predict\": 199.73908977159326}, {\"y_target\": 193.7, \"y_predict\": 188.81693596065625}, {\"y_target\": 145.0, \"y_predict\": 147.5067353009453}, {\"y_target\": 162.9, \"y_predict\": 151.93772532681373}, {\"y_target\": 198.5, \"y_predict\": 204.6950175960873}, {\"y_target\": 138.2, \"y_predict\": 121.67657134555051}, {\"y_target\": 254.5, \"y_predict\": 218.86332697531486}, {\"y_target\": 212.3, \"y_predict\": 198.99612195635}, {\"y_target\": 211.0, \"y_predict\": 178.708593098915}, {\"y_target\": 160.3, \"y_predict\": 176.495362058149}, {\"y_target\": 171.6, \"y_predict\": 186.55441662265173}, {\"y_target\": 199.2, \"y_predict\": 199.41300929712781}, {\"y_target\": 160.4, \"y_predict\": 167.36435362614353}, {\"y_target\": 159.2, \"y_predict\": 147.02541737463324}, {\"y_target\": 159.3, \"y_predict\": 176.362398745797}, {\"y_target\": 147.4, \"y_predict\": 196.25429824978022}, {\"y_target\": 126.9, \"y_predict\": 140.47003290668007}, {\"y_target\": 197.7, \"y_predict\": 215.11597423362656}, {\"y_target\": 139.4, \"y_predict\": 152.7996274786294}, {\"y_target\": 198.1, \"y_predict\": 192.90329401861277}, {\"y_target\": 216.5, \"y_predict\": 190.65462897342283}, {\"y_target\": 277.6, \"y_predict\": 226.14728611097092}, {\"y_target\": 203.3, \"y_predict\": 194.5486695900213}, {\"y_target\": 211.9, \"y_predict\": 211.741235658308}, {\"y_target\": 178.7, \"y_predict\": 167.67831817250934}, {\"y_target\": 174.3, \"y_predict\": 166.7081544703347}, {\"y_target\": 139.9, \"y_predict\": 173.56283270440645}, {\"y_target\": 162.8, \"y_predict\": 161.84716583143793}, {\"y_target\": 184.3, \"y_predict\": 182.67860373889027}, {\"y_target\": 224.2, \"y_predict\": 168.2593447360912}, {\"y_target\": 168.6, \"y_predict\": 166.30971852963592}, {\"y_target\": 156.1, \"y_predict\": 157.2063530855321}, {\"y_target\": 122.6, \"y_predict\": 150.433818512152}, {\"y_target\": 197.8, \"y_predict\": 204.70191535701164}, {\"y_target\": 154.3, \"y_predict\": 167.94055551980685}, {\"y_target\": 199.4, \"y_predict\": 196.80015359844322}, {\"y_target\": 172.6, \"y_predict\": 171.24448357698094}, {\"y_target\": 186.9, \"y_predict\": 184.20317035765453}, {\"y_target\": 191.7, \"y_predict\": 187.9123813035651}, {\"y_target\": 214.3, \"y_predict\": 198.84310341257054}, {\"y_target\": 194.4, \"y_predict\": 173.84149973702034}, {\"y_target\": 186.0, \"y_predict\": 188.2366935755815}, {\"y_target\": 171.8, \"y_predict\": 198.4780378264336}, {\"y_target\": 203.3, \"y_predict\": 211.54688090847415}, {\"y_target\": 177.1, \"y_predict\": 162.5115612461577}, {\"y_target\": 164.2, \"y_predict\": 168.2366053087827}, {\"y_target\": 129.3, \"y_predict\": 134.34559688405164}, {\"y_target\": 160.7, \"y_predict\": 179.53950234540548}, {\"y_target\": 177.7, \"y_predict\": 165.67029038077956}, {\"y_target\": 236.0, \"y_predict\": 207.2834210801724}, {\"y_target\": 202.0, \"y_predict\": 194.34827649092065}, {\"y_target\": 177.3, \"y_predict\": 176.61986199998782}, {\"y_target\": 174.2, \"y_predict\": 204.5856701170964}, {\"y_target\": 152.5, \"y_predict\": 149.0846799341754}, {\"y_target\": 194.3, \"y_predict\": 176.47595199135134}, {\"y_target\": 277.1, \"y_predict\": 220.7341018248838}, {\"y_target\": 161.3, \"y_predict\": 169.73490089642831}, {\"y_target\": 144.3, \"y_predict\": 167.4407025982958}, {\"y_target\": 153.9, \"y_predict\": 163.8194608231046}, {\"y_target\": 188.9, \"y_predict\": 189.4084047175058}, {\"y_target\": 186.3, \"y_predict\": 173.05799239611136}, {\"y_target\": 204.7, \"y_predict\": 205.43499272262224}, {\"y_target\": 166.4, \"y_predict\": 164.40292514077507}, {\"y_target\": 217.4, \"y_predict\": 222.21214094576905}, {\"y_target\": 197.8, \"y_predict\": 189.37276760224208}, {\"y_target\": 202.4, \"y_predict\": 194.45092674084827}, {\"y_target\": 196.2, \"y_predict\": 208.66546321226048}, {\"y_target\": 168.0, \"y_predict\": 160.07361625450952}, {\"y_target\": 145.4, \"y_predict\": 150.79924916339635}, {\"y_target\": 164.5, \"y_predict\": 177.96919055363685}, {\"y_target\": 169.8, \"y_predict\": 187.17663481441178}, {\"y_target\": 207.1, \"y_predict\": 205.59076766772844}, {\"y_target\": 164.7, \"y_predict\": 142.74390191381195}, {\"y_target\": 140.6, \"y_predict\": 203.1735555924308}, {\"y_target\": 161.9, \"y_predict\": 184.67279570872108}, {\"y_target\": 160.3, \"y_predict\": 175.27151376513865}, {\"y_target\": 142.2, \"y_predict\": 143.43159864114747}, {\"y_target\": 169.4, \"y_predict\": 174.78286191078}, {\"y_target\": 169.4, \"y_predict\": 175.94214169242179}, {\"y_target\": 134.0, \"y_predict\": 143.42088365135234}, {\"y_target\": 125.3, \"y_predict\": 169.1840387257018}, {\"y_target\": 231.0, \"y_predict\": 192.76233647256328}, {\"y_target\": 189.9, \"y_predict\": 181.72246179615905}, {\"y_target\": 173.6, \"y_predict\": 174.18402468062848}, {\"y_target\": 211.1, \"y_predict\": 191.99212613774938}, {\"y_target\": 178.5, \"y_predict\": 195.64107541424755}, {\"y_target\": 182.5, \"y_predict\": 166.5899582066541}, {\"y_target\": 179.0, \"y_predict\": 176.31721183025482}, {\"y_target\": 154.3, \"y_predict\": 160.6519178764932}, {\"y_target\": 197.8, \"y_predict\": 191.44541509229902}, {\"y_target\": 230.6, \"y_predict\": 216.95781107407618}, {\"y_target\": 162.4, \"y_predict\": 177.6067293597838}, {\"y_target\": 200.6, \"y_predict\": 165.49903529953494}, {\"y_target\": 171.5, \"y_predict\": 174.57465687103007}, {\"y_target\": 173.6, \"y_predict\": 171.39005583299237}, {\"y_target\": 221.2, \"y_predict\": 185.1555231871875}, {\"y_target\": 186.7, \"y_predict\": 182.57126512322003}, {\"y_target\": 183.4, \"y_predict\": 183.72226983032235}, {\"y_target\": 181.2, \"y_predict\": 177.49829220607825}, {\"y_target\": 217.1, \"y_predict\": 218.71647236116152}, {\"y_target\": 186.9, \"y_predict\": 179.98772085757008}, {\"y_target\": 145.1, \"y_predict\": 145.69346865221505}, {\"y_target\": 201.6, \"y_predict\": 186.6015737483169}, {\"y_target\": 210.5, \"y_predict\": 190.0694426794372}, {\"y_target\": 126.7, \"y_predict\": 166.66604640574548}, {\"y_target\": 191.4, \"y_predict\": 196.65146126359582}, {\"y_target\": 204.5, \"y_predict\": 201.04426578548987}, {\"y_target\": 175.6, \"y_predict\": 165.9618621860102}, {\"y_target\": 189.5, \"y_predict\": 170.6761857244577}, {\"y_target\": 174.8, \"y_predict\": 176.4213488958285}, {\"y_target\": 215.9, \"y_predict\": 212.21446412696554}, {\"y_target\": 187.8, \"y_predict\": 187.45528424119453}, {\"y_target\": 128.4, \"y_predict\": 121.69937691762394}, {\"y_target\": 177.0, \"y_predict\": 175.42264237079232}, {\"y_target\": 168.6, \"y_predict\": 175.90484072288126}, {\"y_target\": 177.6, \"y_predict\": 181.08049486219596}, {\"y_target\": 123.9, \"y_predict\": 157.96028080406447}, {\"y_target\": 164.6, \"y_predict\": 198.8379248303445}, {\"y_target\": 166.4, \"y_predict\": 177.53081322390588}, {\"y_target\": 200.9, \"y_predict\": 152.12501745258533}, {\"y_target\": 139.8, \"y_predict\": 173.545678313768}, {\"y_target\": 254.3, \"y_predict\": 194.4893542704392}, {\"y_target\": 186.1, \"y_predict\": 182.32005368468822}, {\"y_target\": 159.2, \"y_predict\": 153.54273863453537}, {\"y_target\": 232.3, \"y_predict\": 169.85293031507385}, {\"y_target\": 182.2, \"y_predict\": 187.94319125365092}, {\"y_target\": 270.4, \"y_predict\": 248.22508117523745}, {\"y_target\": 187.3, \"y_predict\": 172.30452827629412}, {\"y_target\": 214.7, \"y_predict\": 167.12828017714915}, {\"y_target\": 158.3, \"y_predict\": 146.24599522355308}, {\"y_target\": 165.1, \"y_predict\": 173.30633316758585}, {\"y_target\": 181.8, \"y_predict\": 186.2387280568718}, {\"y_target\": 174.2, \"y_predict\": 167.14951519051976}, {\"y_target\": 146.4, \"y_predict\": 163.79801580483638}, {\"y_target\": 126.0, \"y_predict\": 154.7949376763563}, {\"y_target\": 226.4, \"y_predict\": 186.33439964470864}, {\"y_target\": 179.0, \"y_predict\": 163.3712865361972}, {\"y_target\": 151.3, \"y_predict\": 177.94021682707472}, {\"y_target\": 138.0, \"y_predict\": 162.63537822504028}, {\"y_target\": 162.0, \"y_predict\": 169.7677487692758}, {\"y_target\": 163.7, \"y_predict\": 168.30872074442493}, {\"y_target\": 197.3, \"y_predict\": 183.87657009396497}, {\"y_target\": 116.7, \"y_predict\": 124.43994849184801}, {\"y_target\": 166.6, \"y_predict\": 167.29050658954645}, {\"y_target\": 198.7, \"y_predict\": 191.3654084183572}, {\"y_target\": 186.9, \"y_predict\": 217.22993182455897}, {\"y_target\": 163.2, \"y_predict\": 153.9289124407077}, {\"y_target\": 186.2, \"y_predict\": 192.07236776295042}, {\"y_target\": 127.4, \"y_predict\": 175.9072954071869}, {\"y_target\": 147.9, \"y_predict\": 175.7690908284878}, {\"y_target\": 158.6, \"y_predict\": 149.43432580856}, {\"y_target\": 156.3, \"y_predict\": 150.75622386258965}, {\"y_target\": 148.3, \"y_predict\": 166.3825128443809}, {\"y_target\": 133.2, \"y_predict\": 163.8318816603678}, {\"y_target\": 152.5, \"y_predict\": 152.21102611206098}, {\"y_target\": 211.7, \"y_predict\": 220.37843896692883}, {\"y_target\": 190.0, \"y_predict\": 206.20154948176565}, {\"y_target\": 211.8, \"y_predict\": 210.08465624120174}, {\"y_target\": 138.2, \"y_predict\": 143.5014612784558}, {\"y_target\": 192.0, \"y_predict\": 187.43942246503113}, {\"y_target\": 202.5, \"y_predict\": 172.968368704473}, {\"y_target\": 195.2, \"y_predict\": 190.22470324616845}, {\"y_target\": 213.5, \"y_predict\": 181.86191578522946}, {\"y_target\": 140.1, \"y_predict\": 145.49685644352036}, {\"y_target\": 222.3, \"y_predict\": 189.9632321478818}, {\"y_target\": 165.7, \"y_predict\": 179.47762495767637}, {\"y_target\": 160.4, \"y_predict\": 150.39515325775193}, {\"y_target\": 161.4, \"y_predict\": 181.20982832511095}, {\"y_target\": 152.6, \"y_predict\": 154.24459141341396}, {\"y_target\": 162.5, \"y_predict\": 164.7094256247687}, {\"y_target\": 142.2, \"y_predict\": 154.68146620431833}, {\"y_target\": 176.6, \"y_predict\": 166.68692951622654}, {\"y_target\": 198.3, \"y_predict\": 193.54525855036997}, {\"y_target\": 169.3, \"y_predict\": 208.28309989531078}, {\"y_target\": 183.7, \"y_predict\": 169.65465329633537}, {\"y_target\": 134.1, \"y_predict\": 136.82004493460894}, {\"y_target\": 204.0, \"y_predict\": 203.94916204975237}, {\"y_target\": 168.5, \"y_predict\": 191.65846826378444}, {\"y_target\": 174.5, \"y_predict\": 178.8067923778915}, {\"y_target\": 168.7, \"y_predict\": 155.08875466872507}, {\"y_target\": 138.7, \"y_predict\": 192.52997360309098}, {\"y_target\": 212.9, \"y_predict\": 234.092232444709}, {\"y_target\": 159.2, \"y_predict\": 181.24413689100558}, {\"y_target\": 172.7, \"y_predict\": 181.26977003172394}, {\"y_target\": 195.9, \"y_predict\": 189.91534352755696}, {\"y_target\": 151.8, \"y_predict\": 173.63070081588015}, {\"y_target\": 205.6, \"y_predict\": 202.7749447506109}, {\"y_target\": 174.5, \"y_predict\": 169.3551409920296}, {\"y_target\": 154.6, \"y_predict\": 154.52751639607555}, {\"y_target\": 120.0, \"y_predict\": 140.20868688945342}, {\"y_target\": 204.2, \"y_predict\": 201.8772921669088}, {\"y_target\": 215.0, \"y_predict\": 199.31120653105893}, {\"y_target\": 145.5, \"y_predict\": 174.9612391843595}, {\"y_target\": 148.2, \"y_predict\": 165.93931898711978}, {\"y_target\": 168.8, \"y_predict\": 169.72878383378927}, {\"y_target\": 177.8, \"y_predict\": 162.05153933932917}, {\"y_target\": 147.3, \"y_predict\": 149.17082670219634}, {\"y_target\": 147.5, \"y_predict\": 157.4659854293325}, {\"y_target\": 190.5, \"y_predict\": 196.21224928890297}, {\"y_target\": 128.0, \"y_predict\": 168.93144858684602}, {\"y_target\": 163.0, \"y_predict\": 168.62412161054695}, {\"y_target\": 174.0, \"y_predict\": 180.6652152555296}, {\"y_target\": 207.9, \"y_predict\": 183.35003923624498}, {\"y_target\": 147.1, \"y_predict\": 155.46378200578764}, {\"y_target\": 180.0, \"y_predict\": 175.18922136783019}, {\"y_target\": 181.6, \"y_predict\": 185.86630520454509}, {\"y_target\": 127.6, \"y_predict\": 222.428688066612}, {\"y_target\": 195.3, \"y_predict\": 188.61795797293257}, {\"y_target\": 188.0, \"y_predict\": 189.9981182193655}, {\"y_target\": 266.2, \"y_predict\": 239.91906743146097}, {\"y_target\": 171.5, \"y_predict\": 166.8467076932045}, {\"y_target\": 162.0, \"y_predict\": 171.06006900284953}, {\"y_target\": 227.5, \"y_predict\": 212.94379256743946}, {\"y_target\": 182.4, \"y_predict\": 187.22055116066883}, {\"y_target\": 250.7, \"y_predict\": 239.76602219628066}, {\"y_target\": 226.9, \"y_predict\": 216.86219472014716}, {\"y_target\": 151.8, \"y_predict\": 173.98222810185376}, {\"y_target\": 178.0, \"y_predict\": 184.64047057676683}, {\"y_target\": 183.5, \"y_predict\": 170.3297843602041}, {\"y_target\": 161.1, \"y_predict\": 173.94007487816395}, {\"y_target\": 213.4, \"y_predict\": 210.60870898716618}, {\"y_target\": 201.4, \"y_predict\": 182.00227170188072}, {\"y_target\": 132.8, \"y_predict\": 156.88662763160482}, {\"y_target\": 127.2, \"y_predict\": 163.41839184102773}, {\"y_target\": 180.1, \"y_predict\": 189.93998926301725}, {\"y_target\": 193.3, \"y_predict\": 204.1503423617761}, {\"y_target\": 170.1, \"y_predict\": 193.6203243221352}, {\"y_target\": 212.0, \"y_predict\": 180.61071370571034}, {\"y_target\": 168.2, \"y_predict\": 174.87522282151397}, {\"y_target\": 189.6, \"y_predict\": 188.425039087445}, {\"y_target\": 159.0, \"y_predict\": 146.99603462517223}, {\"y_target\": 167.9, \"y_predict\": 203.01032432195979}, {\"y_target\": 173.7, \"y_predict\": 162.04909077608414}, {\"y_target\": 178.7, \"y_predict\": 176.35284258223464}, {\"y_target\": 190.5, \"y_predict\": 188.09543141433446}, {\"y_target\": 183.1, \"y_predict\": 157.5846406790968}, {\"y_target\": 182.7, \"y_predict\": 180.40428735258223}, {\"y_target\": 196.6, \"y_predict\": 195.61690029340332}, {\"y_target\": 194.4, \"y_predict\": 201.78623924899807}, {\"y_target\": 177.4, \"y_predict\": 159.9418612763161}, {\"y_target\": 163.1, \"y_predict\": 156.46708095206412}, {\"y_target\": 168.1, \"y_predict\": 175.30574691030426}, {\"y_target\": 205.3, \"y_predict\": 161.7746850697588}, {\"y_target\": 169.0, \"y_predict\": 177.7057349449674}, {\"y_target\": 173.0, \"y_predict\": 169.20941885403354}, {\"y_target\": 129.1, \"y_predict\": 163.64090938096433}, {\"y_target\": 163.7, \"y_predict\": 153.16308687284675}, {\"y_target\": 201.5, \"y_predict\": 199.70617618715562}, {\"y_target\": 234.8, \"y_predict\": 226.0450093281965}, {\"y_target\": 213.7, \"y_predict\": 186.2373119028072}, {\"y_target\": 183.7, \"y_predict\": 189.9396715076521}, {\"y_target\": 184.7, \"y_predict\": 188.8003491273534}, {\"y_target\": 153.4, \"y_predict\": 165.87001028259795}, {\"y_target\": 215.7, \"y_predict\": 189.13865404138522}, {\"y_target\": 141.0, \"y_predict\": 173.67299627815086}, {\"y_target\": 165.8, \"y_predict\": 179.6667818960591}, {\"y_target\": 154.5, \"y_predict\": 218.65804384887025}, {\"y_target\": 144.6, \"y_predict\": 183.2978239695632}, {\"y_target\": 227.6, \"y_predict\": 182.83985653190123}, {\"y_target\": 177.9, \"y_predict\": 202.44809626632863}, {\"y_target\": 216.1, \"y_predict\": 215.1890428938923}, {\"y_target\": 165.3, \"y_predict\": 174.87471496246025}, {\"y_target\": 215.8, \"y_predict\": 208.90077009890027}, {\"y_target\": 193.6, \"y_predict\": 189.06982068147497}, {\"y_target\": 169.0, \"y_predict\": 183.601965021937}, {\"y_target\": 177.9, \"y_predict\": 148.63913604692974}, {\"y_target\": 242.8, \"y_predict\": 200.54196810060907}, {\"y_target\": 122.2, \"y_predict\": 160.2787492787181}, {\"y_target\": 179.1, \"y_predict\": 189.98614136573377}, {\"y_target\": 169.7, \"y_predict\": 204.18702473517493}, {\"y_target\": 178.7, \"y_predict\": 165.70963156022117}, {\"y_target\": 205.3, \"y_predict\": 208.54581814268735}, {\"y_target\": 219.4, \"y_predict\": 189.15030079026724}, {\"y_target\": 169.1, \"y_predict\": 178.11969457772213}, {\"y_target\": 212.1, \"y_predict\": 186.91345200514195}, {\"y_target\": 169.9, \"y_predict\": 201.81555188667124}, {\"y_target\": 151.5, \"y_predict\": 149.3177545186605}, {\"y_target\": 148.3, \"y_predict\": 152.88018616811354}, {\"y_target\": 169.3, \"y_predict\": 171.66262019534736}, {\"y_target\": 162.9, \"y_predict\": 173.0679653273389}, {\"y_target\": 155.6, \"y_predict\": 159.21749928270458}, {\"y_target\": 173.5, \"y_predict\": 166.91398422943575}, {\"y_target\": 164.7, \"y_predict\": 169.16165900584215}, {\"y_target\": 143.8, \"y_predict\": 136.42971456321064}, {\"y_target\": 226.1, \"y_predict\": 193.26345706789365}, {\"y_target\": 177.5, \"y_predict\": 176.71553701597713}, {\"y_target\": 110.7, \"y_predict\": 186.80159302221193}, {\"y_target\": 153.2, \"y_predict\": 148.05386375110027}, {\"y_target\": 173.4, \"y_predict\": 181.68048264730302}, {\"y_target\": 191.3, \"y_predict\": 182.6009180661623}, {\"y_target\": 124.5, \"y_predict\": 158.99413230575277}, {\"y_target\": 196.6, \"y_predict\": 173.52858544170337}, {\"y_target\": 190.9, \"y_predict\": 185.19446238532362}, {\"y_target\": 184.9, \"y_predict\": 179.1236041152934}, {\"y_target\": 153.1, \"y_predict\": 177.69038235779882}, {\"y_target\": 142.0, \"y_predict\": 153.4798906349131}, {\"y_target\": 199.4, \"y_predict\": 196.87359529887203}, {\"y_target\": 190.6, \"y_predict\": 190.48724335326136}, {\"y_target\": 160.0, \"y_predict\": 152.62424713882996}, {\"y_target\": 168.9, \"y_predict\": 172.13291355221943}, {\"y_target\": 215.8, \"y_predict\": 204.14658726261462}, {\"y_target\": 171.1, \"y_predict\": 152.5794396728124}, {\"y_target\": 180.9, \"y_predict\": 178.9782590816776}, {\"y_target\": 177.3, \"y_predict\": 186.02600916638744}, {\"y_target\": 163.8, \"y_predict\": 188.30378512575754}, {\"y_target\": 175.9, \"y_predict\": 223.43026837861072}, {\"y_target\": 187.9, \"y_predict\": 178.70540896719945}, {\"y_target\": 169.4, \"y_predict\": 169.23245581491423}, {\"y_target\": 178.6, \"y_predict\": 175.70550604751094}, {\"y_target\": 183.5, \"y_predict\": 193.84130721666716}, {\"y_target\": 172.0, \"y_predict\": 175.5717888231703}, {\"y_target\": 170.6, \"y_predict\": 158.843291719316}, {\"y_target\": 211.8, \"y_predict\": 169.49976879580967}, {\"y_target\": 170.2, \"y_predict\": 156.53979018769556}, {\"y_target\": 182.3, \"y_predict\": 181.86277846108612}, {\"y_target\": 165.2, \"y_predict\": 150.91281441467925}, {\"y_target\": 159.2, \"y_predict\": 169.67672155886584}, {\"y_target\": 211.7, \"y_predict\": 200.5080879713556}, {\"y_target\": 181.9, \"y_predict\": 182.53395187084442}, {\"y_target\": 165.2, \"y_predict\": 165.9486300526398}, {\"y_target\": 169.9, \"y_predict\": 171.790458765105}, {\"y_target\": 204.7, \"y_predict\": 183.93066307858223}, {\"y_target\": 172.5, \"y_predict\": 186.45471534905633}, {\"y_target\": 168.0, \"y_predict\": 128.9088819000193}, {\"y_target\": 211.6, \"y_predict\": 212.20274868751818}, {\"y_target\": 149.5, \"y_predict\": 142.73447261552408}, {\"y_target\": 206.9, \"y_predict\": 197.31196690407816}, {\"y_target\": 183.4, \"y_predict\": 197.91868747561927}, {\"y_target\": 170.1, \"y_predict\": 177.67309731073323}, {\"y_target\": 191.7, \"y_predict\": 195.14438280090627}, {\"y_target\": 194.1, \"y_predict\": 198.99909093979477}, {\"y_target\": 174.4, \"y_predict\": 175.48190645071003}, {\"y_target\": 184.5, \"y_predict\": 174.2316077614351}, {\"y_target\": 232.1, \"y_predict\": 218.25755493620366}, {\"y_target\": 171.2, \"y_predict\": 181.2736427490098}, {\"y_target\": 175.2, \"y_predict\": 183.80630239948883}, {\"y_target\": 150.6, \"y_predict\": 177.32239061554745}, {\"y_target\": 230.1, \"y_predict\": 205.83143983703832}, {\"y_target\": 160.2, \"y_predict\": 163.66816922146725}, {\"y_target\": 164.9, \"y_predict\": 170.30061917702625}, {\"y_target\": 191.5, \"y_predict\": 192.96115324383695}, {\"y_target\": 168.3, \"y_predict\": 176.5803390359788}, {\"y_target\": 186.7, \"y_predict\": 190.51250751016244}, {\"y_target\": 178.3, \"y_predict\": 177.41912173290345}, {\"y_target\": 158.0, \"y_predict\": 147.10642184244335}, {\"y_target\": 213.3, \"y_predict\": 205.46752725542734}, {\"y_target\": 148.3, \"y_predict\": 166.49198790469922}, {\"y_target\": 176.4, \"y_predict\": 179.05688720459216}, {\"y_target\": 150.9, \"y_predict\": 179.14836054579234}, {\"y_target\": 197.4, \"y_predict\": 187.9422795311498}, {\"y_target\": 133.3, \"y_predict\": 180.89320808256969}, {\"y_target\": 205.2, \"y_predict\": 165.05337893065797}, {\"y_target\": 170.6, \"y_predict\": 173.76157994605506}, {\"y_target\": 209.6, \"y_predict\": 198.98132776292704}, {\"y_target\": 160.7, \"y_predict\": 187.8652101992845}, {\"y_target\": 172.1, \"y_predict\": 160.4177206172754}, {\"y_target\": 167.8, \"y_predict\": 186.70197573022588}, {\"y_target\": 164.7, \"y_predict\": 172.33433777595874}, {\"y_target\": 135.7, \"y_predict\": 146.42004283331948}, {\"y_target\": 171.1, \"y_predict\": 181.34991957184215}, {\"y_target\": 194.0, \"y_predict\": 195.1958016879831}, {\"y_target\": 129.9, \"y_predict\": 140.80391583517178}, {\"y_target\": 119.8, \"y_predict\": 147.7218840035783}, {\"y_target\": 184.1, \"y_predict\": 172.2563199130862}, {\"y_target\": 150.3, \"y_predict\": 177.88048484079198}, {\"y_target\": 162.0, \"y_predict\": 159.1447782719571}, {\"y_target\": 197.4, \"y_predict\": 200.89946009669083}, {\"y_target\": 159.0, \"y_predict\": 174.3466659908407}, {\"y_target\": 193.7, \"y_predict\": 210.13244529039974}, {\"y_target\": 181.6, \"y_predict\": 182.30247843447637}, {\"y_target\": 169.5, \"y_predict\": 170.7386835824297}, {\"y_target\": 207.1, \"y_predict\": 183.90882855024583}, {\"y_target\": 196.8, \"y_predict\": 172.65583882080597}, {\"y_target\": 232.3, \"y_predict\": 200.33195102006675}, {\"y_target\": 180.9, \"y_predict\": 189.72705301165703}, {\"y_target\": 161.9, \"y_predict\": 188.8093825041496}, {\"y_target\": 193.5, \"y_predict\": 177.1197890465962}, {\"y_target\": 218.7, \"y_predict\": 198.63867089568322}, {\"y_target\": 156.0, \"y_predict\": 162.6073111229348}, {\"y_target\": 203.7, \"y_predict\": 186.84613280922386}, {\"y_target\": 213.5, \"y_predict\": 193.5369209296535}, {\"y_target\": 202.2, \"y_predict\": 190.44898535062228}, {\"y_target\": 211.7, \"y_predict\": 184.40163757966081}, {\"y_target\": 156.9, \"y_predict\": 146.71899848070322}, {\"y_target\": 201.8, \"y_predict\": 199.88948957188126}, {\"y_target\": 157.1, \"y_predict\": 163.17271880465756}, {\"y_target\": 137.1, \"y_predict\": 150.72540192697764}, {\"y_target\": 141.7, \"y_predict\": 146.21552780918924}, {\"y_target\": 188.2, \"y_predict\": 172.8107802496837}, {\"y_target\": 199.4, \"y_predict\": 196.50185905453532}, {\"y_target\": 202.5, \"y_predict\": 199.90102564290785}, {\"y_target\": 194.4, \"y_predict\": 191.42848704749133}, {\"y_target\": 293.9, \"y_predict\": 180.1407127975665}, {\"y_target\": 146.6, \"y_predict\": 151.76095883627966}, {\"y_target\": 166.8, \"y_predict\": 136.39604389926257}, {\"y_target\": 190.7, \"y_predict\": 193.43921935973688}, {\"y_target\": 211.9, \"y_predict\": 202.34020809804485}, {\"y_target\": 220.1, \"y_predict\": 201.6354111029715}, {\"y_target\": 202.0, \"y_predict\": 203.03484437341086}, {\"y_target\": 200.5, \"y_predict\": 182.4094288229268}, {\"y_target\": 198.2, \"y_predict\": 193.60911826543563}, {\"y_target\": 154.1, \"y_predict\": 161.56587536260957}, {\"y_target\": 141.1, \"y_predict\": 167.4521574071134}, {\"y_target\": 174.1, \"y_predict\": 162.39337112886926}, {\"y_target\": 191.9, \"y_predict\": 186.72425812139576}, {\"y_target\": 192.1, \"y_predict\": 194.8406700685598}, {\"y_target\": 175.9, \"y_predict\": 186.33126433155888}, {\"y_target\": 166.0, \"y_predict\": 177.56490033601912}, {\"y_target\": 176.4, \"y_predict\": 171.5343881295817}, {\"y_target\": 170.1, \"y_predict\": 187.59101862785334}, {\"y_target\": 153.2, \"y_predict\": 169.66749344272208}, {\"y_target\": 133.5, \"y_predict\": 155.5038130816714}, {\"y_target\": 199.3, \"y_predict\": 207.71246183877167}, {\"y_target\": 169.9, \"y_predict\": 149.03365697273705}, {\"y_target\": 161.0, \"y_predict\": 178.38390162448823}, {\"y_target\": 206.6, \"y_predict\": 229.30264806660878}, {\"y_target\": 247.3, \"y_predict\": 212.05555673447344}, {\"y_target\": 127.1, \"y_predict\": 147.71564081043968}, {\"y_target\": 120.0, \"y_predict\": 129.0501356668002}, {\"y_target\": 174.0, \"y_predict\": 180.68836655200695}, {\"y_target\": 165.7, \"y_predict\": 160.7981822568868}, {\"y_target\": 182.9, \"y_predict\": 174.9895490649773}, {\"y_target\": 169.0, \"y_predict\": 168.12142647279356}, {\"y_target\": 183.4, \"y_predict\": 196.8574668151767}, {\"y_target\": 176.4, \"y_predict\": 188.64653184745592}, {\"y_target\": 160.4, \"y_predict\": 184.3589521027871}, {\"y_target\": 205.2, \"y_predict\": 169.36072676760506}, {\"y_target\": 139.0, \"y_predict\": 128.36546236542682}, {\"y_target\": 187.3, \"y_predict\": 193.02156829271428}, {\"y_target\": 195.5, \"y_predict\": 188.15108616255284}, {\"y_target\": 199.8, \"y_predict\": 197.1174200709703}, {\"y_target\": 159.3, \"y_predict\": 172.3132933336028}, {\"y_target\": 170.3, \"y_predict\": 178.7430484148565}, {\"y_target\": 219.4, \"y_predict\": 189.16861012130948}, {\"y_target\": 157.0, \"y_predict\": 174.90277390045014}, {\"y_target\": 172.7, \"y_predict\": 184.4606112340578}, {\"y_target\": 164.7, \"y_predict\": 157.5649296085858}, {\"y_target\": 180.1, \"y_predict\": 180.93050787990856}, {\"y_target\": 180.1, \"y_predict\": 181.38260548118058}, {\"y_target\": 203.2, \"y_predict\": 204.2873815717053}, {\"y_target\": 189.9, \"y_predict\": 186.19486044357055}, {\"y_target\": 191.0, \"y_predict\": 172.63872353491087}, {\"y_target\": 222.7, \"y_predict\": 211.8010550570994}, {\"y_target\": 202.2, \"y_predict\": 159.47512290166236}, {\"y_target\": 197.4, \"y_predict\": 179.8021928142157}, {\"y_target\": 154.8, \"y_predict\": 173.75938021350825}, {\"y_target\": 219.8, \"y_predict\": 194.83753628578472}, {\"y_target\": 161.7, \"y_predict\": 158.70593112562048}, {\"y_target\": 139.8, \"y_predict\": 169.80063648321797}, {\"y_target\": 175.2, \"y_predict\": 192.13943367779316}, {\"y_target\": 151.3, \"y_predict\": 181.08538453917654}, {\"y_target\": 183.9, \"y_predict\": 173.70421185933137}, {\"y_target\": 193.6, \"y_predict\": 188.74224144614251}, {\"y_target\": 158.1, \"y_predict\": 185.28381623778202}, {\"y_target\": 172.2, \"y_predict\": 171.86604021019784}, {\"y_target\": 142.1, \"y_predict\": 160.29584470793506}, {\"y_target\": 114.3, \"y_predict\": 160.60371697852668}, {\"y_target\": 226.6, \"y_predict\": 156.16628011375522}, {\"y_target\": 208.3, \"y_predict\": 161.19442846430874}, {\"y_target\": 181.9, \"y_predict\": 205.65926082105}, {\"y_target\": 198.4, \"y_predict\": 170.05035213698474}, {\"y_target\": 193.5, \"y_predict\": 188.23455399948284}, {\"y_target\": 165.4, \"y_predict\": 178.144843556326}, {\"y_target\": 151.9, \"y_predict\": 154.21128784593375}, {\"y_target\": 164.9, \"y_predict\": 180.45943293391736}, {\"y_target\": 162.2, \"y_predict\": 165.15124531883558}, {\"y_target\": 162.4, \"y_predict\": 165.23729163870112}, {\"y_target\": 224.8, \"y_predict\": 224.2478136338085}, {\"y_target\": 184.8, \"y_predict\": 184.47413772068452}, {\"y_target\": 230.9, \"y_predict\": 221.5425881634711}, {\"y_target\": 194.4, \"y_predict\": 192.12239626494173}, {\"y_target\": 179.2, \"y_predict\": 148.30326398208254}, {\"y_target\": 219.1, \"y_predict\": 206.52526476945013}, {\"y_target\": 185.1, \"y_predict\": 176.37670623464263}, {\"y_target\": 191.8, \"y_predict\": 183.6478537947894}, {\"y_target\": 196.0, \"y_predict\": 200.05121953050545}, {\"y_target\": 166.9, \"y_predict\": 177.68344355331797}, {\"y_target\": 202.6, \"y_predict\": 208.62704215264597}, {\"y_target\": 184.8, \"y_predict\": 162.22731100539912}, {\"y_target\": 209.1, \"y_predict\": 176.2186055634012}, {\"y_target\": 203.5, \"y_predict\": 177.59034642636598}, {\"y_target\": 207.4, \"y_predict\": 223.28004362970438}, {\"y_target\": 182.4, \"y_predict\": 191.8729082322483}, {\"y_target\": 147.8, \"y_predict\": 158.66464015629947}, {\"y_target\": 193.8, \"y_predict\": 182.2927088624576}, {\"y_target\": 205.2, \"y_predict\": 194.1934807988011}, {\"y_target\": 185.8, \"y_predict\": 199.04177232411763}, {\"y_target\": 239.8, \"y_predict\": 195.15192118201765}, {\"y_target\": 159.9, \"y_predict\": 156.44740323530095}, {\"y_target\": 143.2, \"y_predict\": 153.60632002901428}, {\"y_target\": 191.5, \"y_predict\": 182.39440708172475}, {\"y_target\": 184.0, \"y_predict\": 193.07418696182765}, {\"y_target\": 162.6, \"y_predict\": 180.41211492942557}, {\"y_target\": 181.3, \"y_predict\": 187.09673350908253}, {\"y_target\": 146.2, \"y_predict\": 186.1600453885085}, {\"y_target\": 177.8, \"y_predict\": 183.22735010531176}, {\"y_target\": 173.4, \"y_predict\": 171.77178393953085}, {\"y_target\": 165.0, \"y_predict\": 188.39323957325237}, {\"y_target\": 185.3, \"y_predict\": 193.5286044106956}, {\"y_target\": 146.1, \"y_predict\": 149.00686910737878}, {\"y_target\": 179.9, \"y_predict\": 179.86428706273537}, {\"y_target\": 157.6, \"y_predict\": 180.98170762271167}, {\"y_target\": 193.9, \"y_predict\": 165.7524734069408}, {\"y_target\": 173.0, \"y_predict\": 165.01499273725707}, {\"y_target\": 163.4, \"y_predict\": 191.45434868998615}, {\"y_target\": 183.7, \"y_predict\": 194.01612359296863}, {\"y_target\": 187.7, \"y_predict\": 193.36360528954776}, {\"y_target\": 186.4, \"y_predict\": 184.8828678865445}, {\"y_target\": 172.2, \"y_predict\": 179.37053215245942}, {\"y_target\": 156.6, \"y_predict\": 181.00993223852112}, {\"y_target\": 173.1, \"y_predict\": 169.36472344634745}, {\"y_target\": 220.5, \"y_predict\": 193.1358212628167}, {\"y_target\": 221.3, \"y_predict\": 223.22374984623917}, {\"y_target\": 156.3, \"y_predict\": 188.08630622635712}, {\"y_target\": 195.2, \"y_predict\": 186.2947560238673}, {\"y_target\": 124.8, \"y_predict\": 154.7511042860187}, {\"y_target\": 143.4, \"y_predict\": 149.56270915719054}, {\"y_target\": 190.8, \"y_predict\": 171.68612357029775}, {\"y_target\": 194.0, \"y_predict\": 207.39689325189252}, {\"y_target\": 147.7, \"y_predict\": 166.34268362543318}, {\"y_target\": 196.3, \"y_predict\": 179.4292385190559}, {\"y_target\": 250.0, \"y_predict\": 211.2538840525411}, {\"y_target\": 179.0, \"y_predict\": 183.5725412072005}, {\"y_target\": 177.2, \"y_predict\": 173.72480065528188}, {\"y_target\": 194.2, \"y_predict\": 212.68732311529806}, {\"y_target\": 148.3, \"y_predict\": 187.15281827011495}, {\"y_target\": 180.0, \"y_predict\": 172.11862157463838}, {\"y_target\": 165.2, \"y_predict\": 174.41172027919396}, {\"y_target\": 136.5, \"y_predict\": 119.454697035267}, {\"y_target\": 204.3, \"y_predict\": 191.60228645977577}, {\"y_target\": 154.3, \"y_predict\": 152.47914947138045}, {\"y_target\": 176.2, \"y_predict\": 171.8972017015795}, {\"y_target\": 129.5, \"y_predict\": 144.88615396101733}, {\"y_target\": 187.7, \"y_predict\": 182.30103125730648}, {\"y_target\": 187.8, \"y_predict\": 200.24855440651447}, {\"y_target\": 197.9, \"y_predict\": 204.19379686576144}, {\"y_target\": 191.3, \"y_predict\": 193.12371587339976}, {\"y_target\": 187.5, \"y_predict\": 193.61621904251578}, {\"y_target\": 183.2, \"y_predict\": 190.599834821097}, {\"y_target\": 233.2, \"y_predict\": 213.95504382143258}, {\"y_target\": 185.5, \"y_predict\": 181.0657005943744}, {\"y_target\": 155.4, \"y_predict\": 176.4817338280987}, {\"y_target\": 170.1, \"y_predict\": 164.160432069999}, {\"y_target\": 189.9, \"y_predict\": 205.09879324326448}, {\"y_target\": 202.5, \"y_predict\": 188.77057078042748}, {\"y_target\": 164.5, \"y_predict\": 168.07774186674368}, {\"y_target\": 155.2, \"y_predict\": 162.90094509891105}, {\"y_target\": 151.2, \"y_predict\": 168.18632211618387}, {\"y_target\": 207.8, \"y_predict\": 200.7916930461946}, {\"y_target\": 140.8, \"y_predict\": 154.8558235626261}, {\"y_target\": 148.2, \"y_predict\": 164.0762918328747}, {\"y_target\": 161.0, \"y_predict\": 171.0542061229669}, {\"y_target\": 140.0, \"y_predict\": 143.66157650547328}, {\"y_target\": 135.2, \"y_predict\": 155.37370066298263}, {\"y_target\": 154.8, \"y_predict\": 181.38384180895264}, {\"y_target\": 171.0, \"y_predict\": 193.66566457691513}, {\"y_target\": 154.6, \"y_predict\": 163.18243306377434}, {\"y_target\": 235.8, \"y_predict\": 226.16201457418083}, {\"y_target\": 194.3, \"y_predict\": 194.1933840092483}, {\"y_target\": 201.9, \"y_predict\": 211.17316757481856}, {\"y_target\": 177.0, \"y_predict\": 199.53082912932084}, {\"y_target\": 163.6, \"y_predict\": 186.4691214280932}, {\"y_target\": 177.8, \"y_predict\": 148.77689938712905}, {\"y_target\": 140.8, \"y_predict\": 153.1163425335513}, {\"y_target\": 216.4, \"y_predict\": 190.33869932502503}, {\"y_target\": 168.0, \"y_predict\": 188.2400776723934}, {\"y_target\": 154.7, \"y_predict\": 163.6146743736519}, {\"y_target\": 159.4, \"y_predict\": 176.54459228836436}, {\"y_target\": 205.4, \"y_predict\": 204.19807638073877}, {\"y_target\": 162.6, \"y_predict\": 174.67054195381684}, {\"y_target\": 194.4, \"y_predict\": 180.41485803816627}, {\"y_target\": 153.8, \"y_predict\": 165.7529708189572}, {\"y_target\": 159.4, \"y_predict\": 183.74996763233958}, {\"y_target\": 155.7, \"y_predict\": 149.14860242516554}, {\"y_target\": 207.1, \"y_predict\": 200.83489399584587}, {\"y_target\": 156.8, \"y_predict\": 182.85353524581603}, {\"y_target\": 147.4, \"y_predict\": 170.22253824734014}, {\"y_target\": 168.8, \"y_predict\": 174.3965600173557}, {\"y_target\": 197.6, \"y_predict\": 201.94738109359815}, {\"y_target\": 176.5, \"y_predict\": 155.5407919339785}, {\"y_target\": 175.0, \"y_predict\": 183.14146883929936}, {\"y_target\": 196.1, \"y_predict\": 190.7510165436042}, {\"y_target\": 177.5, \"y_predict\": 168.01163821228118}, {\"y_target\": 190.0, \"y_predict\": 190.7966856047901}, {\"y_target\": 173.9, \"y_predict\": 179.48398962983435}, {\"y_target\": 168.4, \"y_predict\": 175.29578640309825}, {\"y_target\": 163.2, \"y_predict\": 163.21388518170457}, {\"y_target\": 129.6, \"y_predict\": 170.01176804321756}, {\"y_target\": 175.4, \"y_predict\": 163.71376759698697}, {\"y_target\": 80.8, \"y_predict\": 106.51295672945936}, {\"y_target\": 200.8, \"y_predict\": 201.58327299877666}, {\"y_target\": 216.5, \"y_predict\": 202.96496552530994}, {\"y_target\": 173.4, \"y_predict\": 178.31332530391555}, {\"y_target\": 165.4, \"y_predict\": 176.58678575135397}, {\"y_target\": 175.0, \"y_predict\": 184.17327777983462}, {\"y_target\": 163.7, \"y_predict\": 179.20613627149473}, {\"y_target\": 193.1, \"y_predict\": 183.98936862890855}, {\"y_target\": 184.4, \"y_predict\": 172.8008177091024}, {\"y_target\": 193.6, \"y_predict\": 204.08725821094197}, {\"y_target\": 163.5, \"y_predict\": 153.37877160079128}, {\"y_target\": 184.3, \"y_predict\": 169.91208618071687}, {\"y_target\": 155.0, \"y_predict\": 159.09134078656515}, {\"y_target\": 215.9, \"y_predict\": 184.60624553795657}, {\"y_target\": 142.7, \"y_predict\": 174.2929415061135}, {\"y_target\": 114.5, \"y_predict\": 149.7484273015297}, {\"y_target\": 210.5, \"y_predict\": 218.69562658084817}, {\"y_target\": 214.4, \"y_predict\": 183.4357712322304}, {\"y_target\": 142.1, \"y_predict\": 164.38582106806027}, {\"y_target\": 133.4, \"y_predict\": 129.13122739593553}, {\"y_target\": 177.6, \"y_predict\": 169.78419705679258}, {\"y_target\": 194.5, \"y_predict\": 196.0545993664994}, {\"y_target\": 147.8, \"y_predict\": 174.05165076190417}, {\"y_target\": 167.7, \"y_predict\": 189.63555838441044}, {\"y_target\": 194.8, \"y_predict\": 192.23764395594475}, {\"y_target\": 189.3, \"y_predict\": 168.6859734511939}, {\"y_target\": 167.7, \"y_predict\": 176.84269829944094}, {\"y_target\": 177.5, \"y_predict\": 193.15618395392787}, {\"y_target\": 158.9, \"y_predict\": 160.2137948443144}, {\"y_target\": 175.5, \"y_predict\": 180.24091013878785}, {\"y_target\": 203.8, \"y_predict\": 169.38450161276296}, {\"y_target\": 198.5, \"y_predict\": 204.09050213474805}, {\"y_target\": 199.1, \"y_predict\": 201.74271260001237}, {\"y_target\": 185.7, \"y_predict\": 181.2331565793966}, {\"y_target\": 145.2, \"y_predict\": 159.9641086226322}, {\"y_target\": 163.7, \"y_predict\": 159.03103541822043}, {\"y_target\": 155.3, \"y_predict\": 149.81144151306904}, {\"y_target\": 178.5, \"y_predict\": 189.4060980729427}, {\"y_target\": 155.4, \"y_predict\": 142.22586439498446}, {\"y_target\": 172.6, \"y_predict\": 167.82324694369188}, {\"y_target\": 161.0, \"y_predict\": 150.81607034913813}, {\"y_target\": 213.6, \"y_predict\": 195.73252199759276}, {\"y_target\": 151.5, \"y_predict\": 160.11635024097228}, {\"y_target\": 181.6, \"y_predict\": 174.8827525569851}, {\"y_target\": 179.8, \"y_predict\": 160.94335331398804}, {\"y_target\": 210.7, \"y_predict\": 178.71433804075744}, {\"y_target\": 193.0, \"y_predict\": 197.53783082965037}, {\"y_target\": 183.2, \"y_predict\": 169.69010347124134}, {\"y_target\": 199.7, \"y_predict\": 197.14832753222476}, {\"y_target\": 292.5, \"y_predict\": 240.88591071625913}, {\"y_target\": 143.1, \"y_predict\": 153.54600258406145}, {\"y_target\": 200.6, \"y_predict\": 192.81151524950045}, {\"y_target\": 150.3, \"y_predict\": 170.93254247473305}, {\"y_target\": 137.3, \"y_predict\": 158.80651401941213}, {\"y_target\": 155.2, \"y_predict\": 174.90386215555702}, {\"y_target\": 168.3, \"y_predict\": 197.8236727973859}, {\"y_target\": 158.2, \"y_predict\": 148.1595166702906}, {\"y_target\": 211.3, \"y_predict\": 190.8744204646734}, {\"y_target\": 172.7, \"y_predict\": 176.45365640437277}, {\"y_target\": 152.3, \"y_predict\": 154.55079105965072}, {\"y_target\": 163.3, \"y_predict\": 162.63205010941462}, {\"y_target\": 158.6, \"y_predict\": 165.89624201446514}, {\"y_target\": 239.3, \"y_predict\": 219.53765273297134}, {\"y_target\": 159.8, \"y_predict\": 163.79357758155362}, {\"y_target\": 194.2, \"y_predict\": 191.47147891666648}, {\"y_target\": 235.4, \"y_predict\": 207.18266174488744}, {\"y_target\": 175.7, \"y_predict\": 185.7782481599226}, {\"y_target\": 203.6, \"y_predict\": 181.0265825711981}, {\"y_target\": 165.2, \"y_predict\": 182.7954023394392}, {\"y_target\": 240.6, \"y_predict\": 202.3825627791273}, {\"y_target\": 197.9, \"y_predict\": 204.2314237109577}, {\"y_target\": 157.5, \"y_predict\": 170.74359366314422}, {\"y_target\": 172.8, \"y_predict\": 187.11281475857183}, {\"y_target\": 135.8, \"y_predict\": 153.72318803889377}, {\"y_target\": 163.0, \"y_predict\": 161.66452264119144}, {\"y_target\": 113.2, \"y_predict\": 156.56330379432293}, {\"y_target\": 181.2, \"y_predict\": 178.5074572693831}, {\"y_target\": 131.8, \"y_predict\": 154.74943464712163}, {\"y_target\": 235.2, \"y_predict\": 200.52110282821803}, {\"y_target\": 225.1, \"y_predict\": 219.78042511332072}, {\"y_target\": 162.4, \"y_predict\": 164.50181909942174}, {\"y_target\": 176.6, \"y_predict\": 165.96292691772976}, {\"y_target\": 106.1, \"y_predict\": 139.72119426517668}, {\"y_target\": 189.4, \"y_predict\": 185.73312091758598}, {\"y_target\": 174.5, \"y_predict\": 173.5745561369804}, {\"y_target\": 97.3, \"y_predict\": 132.84264566819814}, {\"y_target\": 144.4, \"y_predict\": 158.77313956781586}, {\"y_target\": 190.3, \"y_predict\": 203.7188915505568}, {\"y_target\": 173.6, \"y_predict\": 168.94667994358326}, {\"y_target\": 203.6, \"y_predict\": 179.308175208384}, {\"y_target\": 191.9, \"y_predict\": 192.16567177506184}, {\"y_target\": 166.0, \"y_predict\": 167.59680507594393}, {\"y_target\": 155.7, \"y_predict\": 147.71176012392672}, {\"y_target\": 190.4, \"y_predict\": 207.0675757598629}, {\"y_target\": 168.5, \"y_predict\": 163.54758475913732}, {\"y_target\": 156.6, \"y_predict\": 158.73297824589906}, {\"y_target\": 212.4, \"y_predict\": 196.64461929585065}, {\"y_target\": 171.7, \"y_predict\": 162.03583667819854}, {\"y_target\": 193.8, \"y_predict\": 175.27096192240896}, {\"y_target\": 169.9, \"y_predict\": 165.61383806488536}, {\"y_target\": 241.1, \"y_predict\": 217.4823496237023}, {\"y_target\": 145.6, \"y_predict\": 156.98223854915173}, {\"y_target\": 187.2, \"y_predict\": 183.1382436416684}, {\"y_target\": 104.1, \"y_predict\": 137.72760151702914}, {\"y_target\": 185.8, \"y_predict\": 168.67808311617355}, {\"y_target\": 87.6, \"y_predict\": 95.2262437493092}, {\"y_target\": 166.8, \"y_predict\": 165.28329588872728}, {\"y_target\": 215.1, \"y_predict\": 206.20270634087626}, {\"y_target\": 198.2, \"y_predict\": 183.35182736779916}, {\"y_target\": 212.1, \"y_predict\": 220.36320817200186}, {\"y_target\": 223.6, \"y_predict\": 183.50511008003133}, {\"y_target\": 217.7, \"y_predict\": 179.54181179933636}, {\"y_target\": 181.2, \"y_predict\": 157.38107016324741}, {\"y_target\": 184.8, \"y_predict\": 191.15530135303024}, {\"y_target\": 182.7, \"y_predict\": 188.86555543378105}, {\"y_target\": 185.9, \"y_predict\": 196.33905774577838}, {\"y_target\": 142.4, \"y_predict\": 174.26667436600246}, {\"y_target\": 159.7, \"y_predict\": 152.2184484737306}, {\"y_target\": 154.0, \"y_predict\": 168.3440338691338}, {\"y_target\": 175.0, \"y_predict\": 169.71841855089443}, {\"y_target\": 175.1, \"y_predict\": 180.92094389385088}, {\"y_target\": 198.5, \"y_predict\": 184.316957327983}, {\"y_target\": 110.4, \"y_predict\": 147.95009652737403}, {\"y_target\": 154.1, \"y_predict\": 149.79006675112888}, {\"y_target\": 164.7, \"y_predict\": 153.91630148984055}, {\"y_target\": 217.0, \"y_predict\": 192.79724390799637}, {\"y_target\": 198.9, \"y_predict\": 206.71382549660012}, {\"y_target\": 155.6, \"y_predict\": 146.11775165296268}, {\"y_target\": 186.6, \"y_predict\": 181.45211092701658}, {\"y_target\": 163.6, \"y_predict\": 180.81540098484987}, {\"y_target\": 174.4, \"y_predict\": 178.07540870205023}, {\"y_target\": 223.2, \"y_predict\": 177.36544077214154}, {\"y_target\": 188.2, \"y_predict\": 185.3691586435077}, {\"y_target\": 174.7, \"y_predict\": 208.61833854606232}, {\"y_target\": 148.5, \"y_predict\": 153.37305211968294}, {\"y_target\": 195.6, \"y_predict\": 175.6409501423484}, {\"y_target\": 168.7, \"y_predict\": 159.88848563610574}, {\"y_target\": 164.1, \"y_predict\": 176.06800717599828}, {\"y_target\": 186.7, \"y_predict\": 181.80289650109017}, {\"y_target\": 167.3, \"y_predict\": 176.98945784279167}, {\"y_target\": 263.1, \"y_predict\": 231.21586763570525}, {\"y_target\": 195.2, \"y_predict\": 162.87530559288288}, {\"y_target\": 177.5, \"y_predict\": 189.16341695420357}, {\"y_target\": 168.7, \"y_predict\": 176.102141470012}, {\"y_target\": 243.6, \"y_predict\": 164.8309931708804}, {\"y_target\": 128.7, \"y_predict\": 149.69539807004082}, {\"y_target\": 167.6, \"y_predict\": 171.24913693585546}, {\"y_target\": 168.3, \"y_predict\": 165.8493564868787}, {\"y_target\": 192.1, \"y_predict\": 218.87507775323982}, {\"y_target\": 172.8, \"y_predict\": 177.92850128821155}, {\"y_target\": 257.8, \"y_predict\": 210.6985524763466}, {\"y_target\": 182.0, \"y_predict\": 193.63055892347816}, {\"y_target\": 215.5, \"y_predict\": 189.50998111724147}, {\"y_target\": 197.0, \"y_predict\": 209.03901786527544}, {\"y_target\": 160.1, \"y_predict\": 166.2127060179852}, {\"y_target\": 171.4, \"y_predict\": 181.52922154219104}, {\"y_target\": 201.3, \"y_predict\": 163.79344351028197}, {\"y_target\": 134.7, \"y_predict\": 139.36929823039813}, {\"y_target\": 159.1, \"y_predict\": 148.83706290025532}, {\"y_target\": 212.5, \"y_predict\": 211.67604915402092}, {\"y_target\": 190.3, \"y_predict\": 187.42324431246223}, {\"y_target\": 163.1, \"y_predict\": 162.96349259333422}, {\"y_target\": 173.7, \"y_predict\": 173.37438311316726}, {\"y_target\": 192.5, \"y_predict\": 195.72300486936535}, {\"y_target\": 179.7, \"y_predict\": 181.57218964680084}, {\"y_target\": 189.0, \"y_predict\": 186.92865546586268}, {\"y_target\": 167.5, \"y_predict\": 170.32032751545103}, {\"y_target\": 163.8, \"y_predict\": 170.53079814668038}, {\"y_target\": 166.7, \"y_predict\": 161.63386019752852}, {\"y_target\": 190.7, \"y_predict\": 171.21922712062218}, {\"y_target\": 140.7, \"y_predict\": 140.77356419901997}, {\"y_target\": 191.7, \"y_predict\": 178.20874874791664}, {\"y_target\": 221.7, \"y_predict\": 186.80726324575033}, {\"y_target\": 167.2, \"y_predict\": 162.66877794949608}, {\"y_target\": 187.2, \"y_predict\": 153.28811806973906}, {\"y_target\": 182.8, \"y_predict\": 186.45641640093734}, {\"y_target\": 201.4, \"y_predict\": 197.05092088918062}, {\"y_target\": 185.1, \"y_predict\": 180.74019771519758}, {\"y_target\": 169.7, \"y_predict\": 173.6890415531811}, {\"y_target\": 174.6, \"y_predict\": 172.99322798911737}, {\"y_target\": 154.2, \"y_predict\": 159.48191915915461}, {\"y_target\": 255.9, \"y_predict\": 232.82379729421504}, {\"y_target\": 157.1, \"y_predict\": 181.09722841564485}, {\"y_target\": 179.9, \"y_predict\": 178.80318181457122}, {\"y_target\": 184.5, \"y_predict\": 165.30430887036633}, {\"y_target\": 161.8, \"y_predict\": 149.3411230411261}, {\"y_target\": 145.3, \"y_predict\": 155.69807558514125}, {\"y_target\": 178.2, \"y_predict\": 162.48099889443773}, {\"y_target\": 175.1, \"y_predict\": 154.64148765349665}, {\"y_target\": 216.2, \"y_predict\": 194.93778750730976}, {\"y_target\": 162.2, \"y_predict\": 159.68119298285242}, {\"y_target\": 217.6, \"y_predict\": 200.7278156648149}, {\"y_target\": 213.9, \"y_predict\": 204.73977088215656}, {\"y_target\": 212.5, \"y_predict\": 203.18279807501585}, {\"y_target\": 179.8, \"y_predict\": 183.8211181711475}, {\"y_target\": 154.2, \"y_predict\": 177.1832665398137}, {\"y_target\": 155.1, \"y_predict\": 168.55716861177328}, {\"y_target\": 199.9, \"y_predict\": 189.50214229144123}, {\"y_target\": 177.0, \"y_predict\": 195.12385093253164}, {\"y_target\": 222.1, \"y_predict\": 218.48594707890305}, {\"y_target\": 195.5, \"y_predict\": 196.13157886439}, {\"y_target\": 162.7, \"y_predict\": 182.75699241217686}, {\"y_target\": 177.0, \"y_predict\": 181.78902474336795}, {\"y_target\": 173.6, \"y_predict\": 178.66499813133817}, {\"y_target\": 189.2, \"y_predict\": 186.8060317231652}, {\"y_target\": 175.3, \"y_predict\": 177.72868554385167}, {\"y_target\": 176.4, \"y_predict\": 162.7351788190052}, {\"y_target\": 177.9, \"y_predict\": 164.9534141955694}, {\"y_target\": 172.8, \"y_predict\": 173.4960625194072}, {\"y_target\": 159.7, \"y_predict\": 177.0296551368458}, {\"y_target\": 211.5, \"y_predict\": 195.91971252833417}, {\"y_target\": 218.4, \"y_predict\": 216.6684097846772}, {\"y_target\": 139.9, \"y_predict\": 158.5831771644566}, {\"y_target\": 209.2, \"y_predict\": 183.90558527158078}, {\"y_target\": 162.8, \"y_predict\": 169.11707679110881}, {\"y_target\": 194.4, \"y_predict\": 192.3500374173413}, {\"y_target\": 176.0, \"y_predict\": 187.40887579893575}, {\"y_target\": 165.6, \"y_predict\": 136.72752628289038}, {\"y_target\": 228.4, \"y_predict\": 195.98772125395766}, {\"y_target\": 194.1, \"y_predict\": 184.98098572705692}, {\"y_target\": 201.9, \"y_predict\": 186.73601567157888}, {\"y_target\": 182.2, \"y_predict\": 169.56881019058196}, {\"y_target\": 158.7, \"y_predict\": 139.67530938332246}, {\"y_target\": 156.5, \"y_predict\": 175.5913088172553}, {\"y_target\": 173.6, \"y_predict\": 195.48212334218357}, {\"y_target\": 186.5, \"y_predict\": 189.86962410650787}, {\"y_target\": 238.5, \"y_predict\": 219.09094500744743}, {\"y_target\": 179.8, \"y_predict\": 169.3943887752713}, {\"y_target\": 168.7, \"y_predict\": 165.65923589945766}, {\"y_target\": 157.1, \"y_predict\": 170.68485299194003}, {\"y_target\": 187.4, \"y_predict\": 164.78552573384707}, {\"y_target\": 162.0, \"y_predict\": 162.48786113767187}, {\"y_target\": 199.3, \"y_predict\": 202.2090598218693}, {\"y_target\": 201.2, \"y_predict\": 167.9057548597648}, {\"y_target\": 161.2, \"y_predict\": 150.38302940728764}, {\"y_target\": 200.7, \"y_predict\": 172.5486241712274}, {\"y_target\": 190.6, \"y_predict\": 179.9194091536961}, {\"y_target\": 178.3, \"y_predict\": 175.03182859635683}, {\"y_target\": 158.9, \"y_predict\": 154.85077095519566}, {\"y_target\": 166.5, \"y_predict\": 173.25652141591095}, {\"y_target\": 160.2, \"y_predict\": 170.32229558683335}, {\"y_target\": 180.7, \"y_predict\": 176.52315742017217}, {\"y_target\": 141.8, \"y_predict\": 162.372074363273}, {\"y_target\": 131.1, \"y_predict\": 160.39400085511892}, {\"y_target\": 176.8, \"y_predict\": 181.95006447797007}, {\"y_target\": 176.7, \"y_predict\": 169.55233724087836}, {\"y_target\": 198.1, \"y_predict\": 186.70727755309437}, {\"y_target\": 178.6, \"y_predict\": 176.50805234590575}, {\"y_target\": 181.3, \"y_predict\": 181.02547087504394}, {\"y_target\": 187.0, \"y_predict\": 199.71152068957127}, {\"y_target\": 198.4, \"y_predict\": 173.31588126071844}, {\"y_target\": 195.3, \"y_predict\": 192.08889526821}, {\"y_target\": 190.7, \"y_predict\": 191.10645987527263}, {\"y_target\": 174.7, \"y_predict\": 173.45806472461848}, {\"y_target\": 163.3, \"y_predict\": 174.63716085282886}, {\"y_target\": 162.7, \"y_predict\": 174.06144972393355}, {\"y_target\": 228.1, \"y_predict\": 221.559748181789}, {\"y_target\": 202.8, \"y_predict\": 189.90441535543874}, {\"y_target\": 193.1, \"y_predict\": 189.704971757829}, {\"y_target\": 168.5, \"y_predict\": 171.50886165029544}, {\"y_target\": 185.4, \"y_predict\": 208.6909248635144}, {\"y_target\": 196.5, \"y_predict\": 186.2274122503161}, {\"y_target\": 196.3, \"y_predict\": 189.09974110514577}, {\"y_target\": 205.8, \"y_predict\": 195.24504412851388}, {\"y_target\": 150.0, \"y_predict\": 157.96091710436957}, {\"y_target\": 173.9, \"y_predict\": 201.71947998900475}, {\"y_target\": 202.1, \"y_predict\": 181.7428083393366}, {\"y_target\": 188.7, \"y_predict\": 163.80216210004306}, {\"y_target\": 190.3, \"y_predict\": 178.91457058349386}, {\"y_target\": 227.1, \"y_predict\": 201.84422229191807}, {\"y_target\": 230.0, \"y_predict\": 199.0163694113253}, {\"y_target\": 175.6, \"y_predict\": 145.3775393944543}, {\"y_target\": 152.6, \"y_predict\": 163.84106676129744}, {\"y_target\": 149.0, \"y_predict\": 160.38454791828525}, {\"y_target\": 165.5, \"y_predict\": 180.62671645580906}, {\"y_target\": 183.6, \"y_predict\": 169.52229320999172}, {\"y_target\": 185.4, \"y_predict\": 170.8261457310289}, {\"y_target\": 209.9, \"y_predict\": 189.26786252447758}, {\"y_target\": 161.3, \"y_predict\": 155.2981030691301}, {\"y_target\": 176.6, \"y_predict\": 165.16629507831948}, {\"y_target\": 186.1, \"y_predict\": 202.94253669669786}, {\"y_target\": 180.6, \"y_predict\": 163.19412203410093}, {\"y_target\": 140.8, \"y_predict\": 141.52151341255382}, {\"y_target\": 151.4, \"y_predict\": 166.03933738189326}, {\"y_target\": 149.4, \"y_predict\": 157.41047632789187}, {\"y_target\": 174.0, \"y_predict\": 175.53945146463087}, {\"y_target\": 180.6, \"y_predict\": 190.02012953149142}, {\"y_target\": 185.5, \"y_predict\": 151.59407732951118}, {\"y_target\": 163.7, \"y_predict\": 163.44912452221374}, {\"y_target\": 163.5, \"y_predict\": 161.21548921499948}, {\"y_target\": 197.6, \"y_predict\": 195.95652670456994}, {\"y_target\": 256.9, \"y_predict\": 217.14319533408883}, {\"y_target\": 215.6, \"y_predict\": 204.61323515106562}, {\"y_target\": 183.5, \"y_predict\": 188.18090114116512}, {\"y_target\": 160.0, \"y_predict\": 167.28646989168854}, {\"y_target\": 212.3, \"y_predict\": 197.27473038642435}, {\"y_target\": 184.4, \"y_predict\": 190.5090447296587}, {\"y_target\": 217.0, \"y_predict\": 202.8874951549302}, {\"y_target\": 176.7, \"y_predict\": 176.0970257098736}, {\"y_target\": 151.2, \"y_predict\": 177.05497571515906}, {\"y_target\": 188.0, \"y_predict\": 193.27757640683882}, {\"y_target\": 155.4, \"y_predict\": 155.3554622754417}, {\"y_target\": 181.2, \"y_predict\": 175.27000058719176}, {\"y_target\": 178.3, \"y_predict\": 190.21796864400113}, {\"y_target\": 197.7, \"y_predict\": 177.77631846737665}, {\"y_target\": 209.9, \"y_predict\": 180.3772805438744}, {\"y_target\": 178.3, \"y_predict\": 181.03772399113436}, {\"y_target\": 155.2, \"y_predict\": 144.41865118280688}, {\"y_target\": 194.0, \"y_predict\": 192.4398675131792}, {\"y_target\": 218.1, \"y_predict\": 195.61955511914778}, {\"y_target\": 172.1, \"y_predict\": 161.63062780928882}, {\"y_target\": 155.3, \"y_predict\": 144.7369706102497}, {\"y_target\": 203.7, \"y_predict\": 198.9426857179189}, {\"y_target\": 169.4, \"y_predict\": 187.68994799980553}, {\"y_target\": 184.3, \"y_predict\": 170.95787918746805}, {\"y_target\": 184.3, \"y_predict\": 195.53057425617752}, {\"y_target\": 202.5, \"y_predict\": 180.02458594191197}, {\"y_target\": 136.5, \"y_predict\": 113.00840358989758}, {\"y_target\": 176.4, \"y_predict\": 165.32557707987485}, {\"y_target\": 183.7, \"y_predict\": 194.51373234080722}, {\"y_target\": 191.2, \"y_predict\": 167.54797332423988}, {\"y_target\": 194.7, \"y_predict\": 199.12290748702708}, {\"y_target\": 187.0, \"y_predict\": 177.626655198783}, {\"y_target\": 201.4, \"y_predict\": 178.75797619410972}, {\"y_target\": 171.3, \"y_predict\": 196.272585325543}, {\"y_target\": 192.0, \"y_predict\": 178.74266231660272}, {\"y_target\": 136.5, \"y_predict\": 159.21848876622138}, {\"y_target\": 218.3, \"y_predict\": 211.4703848607029}, {\"y_target\": 197.0, \"y_predict\": 177.67065147569033}, {\"y_target\": 207.4, \"y_predict\": 189.03100668418728}, {\"y_target\": 189.8, \"y_predict\": 178.91331716810942}, {\"y_target\": 185.1, \"y_predict\": 180.82954378291373}, {\"y_target\": 158.0, \"y_predict\": 161.9576221453021}, {\"y_target\": 210.3, \"y_predict\": 197.05730521275564}, {\"y_target\": 190.1, \"y_predict\": 187.85471493099482}, {\"y_target\": 185.0, \"y_predict\": 183.12577666472274}, {\"y_target\": 195.7, \"y_predict\": 185.44447900630638}, {\"y_target\": 165.2, \"y_predict\": 171.16529690154235}, {\"y_target\": 218.8, \"y_predict\": 189.6157864529363}, {\"y_target\": 193.6, \"y_predict\": 192.72751313604113}, {\"y_target\": 160.2, \"y_predict\": 165.20067093485298}, {\"y_target\": 188.8, \"y_predict\": 172.95002826699067}, {\"y_target\": 208.5, \"y_predict\": 214.92539152479787}, {\"y_target\": 163.3, \"y_predict\": 162.43837585656183}, {\"y_target\": 156.7, \"y_predict\": 149.29567045553316}, {\"y_target\": 146.2, \"y_predict\": 148.77181910943514}, {\"y_target\": 181.5, \"y_predict\": 158.49431197066608}, {\"y_target\": 215.6, \"y_predict\": 196.89570781059783}, {\"y_target\": 149.4, \"y_predict\": 155.84769220488843}, {\"y_target\": 168.6, \"y_predict\": 167.02836709154428}, {\"y_target\": 219.5, \"y_predict\": 196.73032340831375}, {\"y_target\": 176.7, \"y_predict\": 165.24750693198726}, {\"y_target\": 196.6, \"y_predict\": 213.2011488484381}, {\"y_target\": 157.0, \"y_predict\": 170.97866781757796}, {\"y_target\": 236.8, \"y_predict\": 229.10662782662448}, {\"y_target\": 189.6, \"y_predict\": 182.58015406717567}, {\"y_target\": 133.3, \"y_predict\": 145.0654218698896}, {\"y_target\": 205.6, \"y_predict\": 195.448743440154}, {\"y_target\": 180.9, \"y_predict\": 166.04868217430297}, {\"y_target\": 221.8, \"y_predict\": 190.30812023549868}, {\"y_target\": 176.1, \"y_predict\": 178.34256739292493}, {\"y_target\": 145.9, \"y_predict\": 159.12997884622274}, {\"y_target\": 162.6, \"y_predict\": 177.98522451975845}, {\"y_target\": 167.0, \"y_predict\": 174.39522612002716}, {\"y_target\": 172.9, \"y_predict\": 184.14925235625975}, {\"y_target\": 198.5, \"y_predict\": 188.67079406029603}, {\"y_target\": 166.3, \"y_predict\": 161.46647292092445}, {\"y_target\": 143.8, \"y_predict\": 147.32462886726321}, {\"y_target\": 155.8, \"y_predict\": 152.92866445015608}, {\"y_target\": 171.5, \"y_predict\": 174.7822770450273}, {\"y_target\": 155.6, \"y_predict\": 169.26207073115924}, {\"y_target\": 190.6, \"y_predict\": 199.74754809582342}, {\"y_target\": 187.5, \"y_predict\": 186.38598923883038}, {\"y_target\": 131.8, \"y_predict\": 178.34504013487017}, {\"y_target\": 163.6, \"y_predict\": 171.2905973895178}, {\"y_target\": 193.4, \"y_predict\": 162.84966560211723}, {\"y_target\": 152.7, \"y_predict\": 160.08541284743484}, {\"y_target\": 179.7, \"y_predict\": 180.03396815974452}, {\"y_target\": 165.7, \"y_predict\": 178.5829703326147}, {\"y_target\": 138.4, \"y_predict\": 158.85681834597614}, {\"y_target\": 136.2, \"y_predict\": 154.01732872426246}, {\"y_target\": 172.2, \"y_predict\": 202.61740767824455}, {\"y_target\": 182.1, \"y_predict\": 184.09315374901473}, {\"y_target\": 137.3, \"y_predict\": 154.49365059560031}, {\"y_target\": 122.5, \"y_predict\": 160.76138488541343}, {\"y_target\": 184.2, \"y_predict\": 179.1048323219504}, {\"y_target\": 166.7, \"y_predict\": 161.13550658430123}, {\"y_target\": 195.6, \"y_predict\": 194.5819954203193}, {\"y_target\": 135.3, \"y_predict\": 173.08220700719897}, {\"y_target\": 215.7, \"y_predict\": 202.15594799883763}, {\"y_target\": 149.8, \"y_predict\": 167.23369161102258}, {\"y_target\": 165.3, \"y_predict\": 168.8943293310925}, {\"y_target\": 203.2, \"y_predict\": 185.531839301953}, {\"y_target\": 200.6, \"y_predict\": 192.70522519487724}, {\"y_target\": 150.1, \"y_predict\": 160.33378375991427}, {\"y_target\": 135.4, \"y_predict\": 168.4178416687709}, {\"y_target\": 227.9, \"y_predict\": 212.99991537623896}, {\"y_target\": 123.2, \"y_predict\": 122.374714120282}, {\"y_target\": 190.0, \"y_predict\": 186.45337472939724}, {\"y_target\": 149.0, \"y_predict\": 142.15698411915022}, {\"y_target\": 104.6, \"y_predict\": 162.76294251610736}, {\"y_target\": 181.0, \"y_predict\": 183.35545782068033}, {\"y_target\": 151.9, \"y_predict\": 159.4630466733447}, {\"y_target\": 164.8, \"y_predict\": 153.56975069962496}, {\"y_target\": 184.4, \"y_predict\": 159.06429829950238}, {\"y_target\": 194.8, \"y_predict\": 187.14937264389923}, {\"y_target\": 166.3, \"y_predict\": 176.2506238361481}, {\"y_target\": 155.3, \"y_predict\": 169.1060406468696}, {\"y_target\": 168.1, \"y_predict\": 214.8102689694786}, {\"y_target\": 166.6, \"y_predict\": 172.16742269035586}, {\"y_target\": 148.0, \"y_predict\": 180.88226560457707}, {\"y_target\": 175.5, \"y_predict\": 177.5907159658607}, {\"y_target\": 166.4, \"y_predict\": 198.6150992645597}, {\"y_target\": 140.9, \"y_predict\": 164.43064194556584}, {\"y_target\": 198.4, \"y_predict\": 195.49063609937286}, {\"y_target\": 189.6, \"y_predict\": 197.68685794737027}, {\"y_target\": 168.1, \"y_predict\": 179.36304169358303}, {\"y_target\": 194.2, \"y_predict\": 174.46867686716595}, {\"y_target\": 159.8, \"y_predict\": 185.93349942977204}, {\"y_target\": 230.5, \"y_predict\": 205.69186816589473}, {\"y_target\": 154.4, \"y_predict\": 161.231442341221}, {\"y_target\": 208.6, \"y_predict\": 201.32414185082004}, {\"y_target\": 169.7, \"y_predict\": 180.13408113393464}, {\"y_target\": 184.3, \"y_predict\": 191.29032158862412}, {\"y_target\": 173.6, \"y_predict\": 181.74124505596336}, {\"y_target\": 214.4, \"y_predict\": 142.64478614984375}, {\"y_target\": 259.5, \"y_predict\": 232.22870083606335}, {\"y_target\": 202.4, \"y_predict\": 175.9816482654455}, {\"y_target\": 205.0, \"y_predict\": 183.9940856458191}, {\"y_target\": 187.2, \"y_predict\": 173.7810898300084}, {\"y_target\": 155.6, \"y_predict\": 163.5344258834551}, {\"y_target\": 200.4, \"y_predict\": 176.70871568292375}, {\"y_target\": 178.1, \"y_predict\": 177.5595588693034}, {\"y_target\": 185.2, \"y_predict\": 176.94967845691954}, {\"y_target\": 174.7, \"y_predict\": 170.41772683035367}, {\"y_target\": 193.5, \"y_predict\": 211.26009622302098}, {\"y_target\": 175.4, \"y_predict\": 169.5568862350814}, {\"y_target\": 214.2, \"y_predict\": 199.52267585538254}, {\"y_target\": 157.0, \"y_predict\": 199.93058775607778}, {\"y_target\": 176.5, \"y_predict\": 165.6100784578723}, {\"y_target\": 173.9, \"y_predict\": 166.88090200375845}, {\"y_target\": 151.2, \"y_predict\": 171.66848862424627}, {\"y_target\": 199.3, \"y_predict\": 175.45363353588937}, {\"y_target\": 169.2, \"y_predict\": 165.91656869837118}, {\"y_target\": 188.9, \"y_predict\": 196.69840532241741}, {\"y_target\": 151.6, \"y_predict\": 160.49858821281876}, {\"y_target\": 223.9, \"y_predict\": 168.73300903636422}, {\"y_target\": 240.5, \"y_predict\": 205.28859689505003}, {\"y_target\": 216.6, \"y_predict\": 196.56614876023207}, {\"y_target\": 155.9, \"y_predict\": 171.9186086924484}, {\"y_target\": 172.5, \"y_predict\": 169.02569581787498}, {\"y_target\": 184.1, \"y_predict\": 188.73474828852235}, {\"y_target\": 136.9, \"y_predict\": 114.18642868904158}, {\"y_target\": 166.3, \"y_predict\": 146.74643263047335}, {\"y_target\": 157.0, \"y_predict\": 156.98837157690411}, {\"y_target\": 177.7, \"y_predict\": 179.47880504280948}, {\"y_target\": 173.1, \"y_predict\": 161.76696081187674}, {\"y_target\": 182.1, \"y_predict\": 180.7156493835058}, {\"y_target\": 214.9, \"y_predict\": 186.5051920955911}, {\"y_target\": 220.9, \"y_predict\": 241.85210724705655}, {\"y_target\": 159.5, \"y_predict\": 179.79318132695656}, {\"y_target\": 236.7, \"y_predict\": 218.1265852342617}, {\"y_target\": 188.8, \"y_predict\": 195.08472696179712}, {\"y_target\": 183.1, \"y_predict\": 156.73040385249172}, {\"y_target\": 190.6, \"y_predict\": 193.55964587875107}, {\"y_target\": 202.5, \"y_predict\": 196.40540670095893}, {\"y_target\": 66.3, \"y_predict\": 133.5961609936022}, {\"y_target\": 180.1, \"y_predict\": 179.92608727881014}, {\"y_target\": 225.1, \"y_predict\": 200.992661575998}, {\"y_target\": 169.5, \"y_predict\": 185.46280843655782}, {\"y_target\": 229.0, \"y_predict\": 195.84324212140467}, {\"y_target\": 158.2, \"y_predict\": 164.31478075197958}, {\"y_target\": 160.5, \"y_predict\": 153.31251882813723}, {\"y_target\": 153.8, \"y_predict\": 179.71764044737102}, {\"y_target\": 162.6, \"y_predict\": 178.49815056820168}, {\"y_target\": 189.8, \"y_predict\": 208.058992452421}, {\"y_target\": 202.2, \"y_predict\": 201.4582536467259}, {\"y_target\": 184.8, \"y_predict\": 172.26197814168677}, {\"y_target\": 184.2, \"y_predict\": 199.05834685787963}, {\"y_target\": 191.1, \"y_predict\": 212.11724229042687}, {\"y_target\": 151.7, \"y_predict\": 167.10488710110383}, {\"y_target\": 183.7, \"y_predict\": 199.6494964768263}, {\"y_target\": 185.4, \"y_predict\": 187.58764225960127}, {\"y_target\": 189.7, \"y_predict\": 184.2037411359666}, {\"y_target\": 228.8, \"y_predict\": 226.77461965120767}, {\"y_target\": 207.1, \"y_predict\": 199.74945644160024}, {\"y_target\": 216.8, \"y_predict\": 200.14066498718327}, {\"y_target\": 176.2, \"y_predict\": 183.7750672465916}, {\"y_target\": 186.3, \"y_predict\": 176.17813219727554}, {\"y_target\": 124.1, \"y_predict\": 132.1893049515797}, {\"y_target\": 205.4, \"y_predict\": 182.52485095791013}, {\"y_target\": 185.4, \"y_predict\": 192.84155227735056}, {\"y_target\": 192.0, \"y_predict\": 203.01020249101055}, {\"y_target\": 111.3, \"y_predict\": 139.55980829962607}, {\"y_target\": 147.3, \"y_predict\": 150.6876478578812}, {\"y_target\": 215.1, \"y_predict\": 216.5061600211055}, {\"y_target\": 181.7, \"y_predict\": 197.13519469677408}, {\"y_target\": 202.2, \"y_predict\": 209.24176107791652}, {\"y_target\": 174.9, \"y_predict\": 160.7616769624921}, {\"y_target\": 177.0, \"y_predict\": 167.71617537141537}, {\"y_target\": 194.2, \"y_predict\": 183.7942172458158}, {\"y_target\": 120.2, \"y_predict\": 164.18398343443917}, {\"y_target\": 201.2, \"y_predict\": 201.7213758202853}, {\"y_target\": 126.4, \"y_predict\": 145.31528635203048}, {\"y_target\": 151.6, \"y_predict\": 173.952193937976}, {\"y_target\": 206.3, \"y_predict\": 182.39463638973118}, {\"y_target\": 172.9, \"y_predict\": 177.67942587597403}, {\"y_target\": 195.2, \"y_predict\": 188.57445880413033}, {\"y_target\": 197.4, \"y_predict\": 160.01935184901197}, {\"y_target\": 151.8, \"y_predict\": 174.44331137394457}, {\"y_target\": 227.9, \"y_predict\": 199.64235237251756}, {\"y_target\": 189.7, \"y_predict\": 150.36746408866557}, {\"y_target\": 212.3, \"y_predict\": 189.43775153702438}, {\"y_target\": 182.8, \"y_predict\": 179.03305896223458}, {\"y_target\": 165.9, \"y_predict\": 184.33843467400663}, {\"y_target\": 188.2, \"y_predict\": 196.85054366475924}, {\"y_target\": 186.1, \"y_predict\": 173.61694724557827}, {\"y_target\": 163.9, \"y_predict\": 176.49608598626207}, {\"y_target\": 189.2, \"y_predict\": 195.72903207865178}, {\"y_target\": 171.0, \"y_predict\": 171.43629444674468}, {\"y_target\": 152.1, \"y_predict\": 149.0499326617281}, {\"y_target\": 186.5, \"y_predict\": 177.2247711961117}, {\"y_target\": 206.8, \"y_predict\": 197.96061977047384}, {\"y_target\": 180.0, \"y_predict\": 186.359199269762}, {\"y_target\": 189.2, \"y_predict\": 184.8902223680412}, {\"y_target\": 191.5, \"y_predict\": 191.11846681961504}, {\"y_target\": 163.4, \"y_predict\": 172.4616837130045}, {\"y_target\": 175.3, \"y_predict\": 186.1682481840266}, {\"y_target\": 184.0, \"y_predict\": 193.77175017447757}, {\"y_target\": 168.7, \"y_predict\": 184.24123849804843}, {\"y_target\": 152.3, \"y_predict\": 180.24519514908636}, {\"y_target\": 169.8, \"y_predict\": 177.59374624779963}, {\"y_target\": 228.7, \"y_predict\": 192.2340265812337}, {\"y_target\": 149.1, \"y_predict\": 161.01646496369315}, {\"y_target\": 160.2, \"y_predict\": 167.96182682844642}, {\"y_target\": 230.7, \"y_predict\": 239.51299566389778}, {\"y_target\": 182.5, \"y_predict\": 176.77521266223545}, {\"y_target\": 171.4, \"y_predict\": 193.2689010581147}, {\"y_target\": 135.2, \"y_predict\": 139.22090596373195}, {\"y_target\": 191.3, \"y_predict\": 198.00842726263988}, {\"y_target\": 185.6, \"y_predict\": 181.0302783692513}, {\"y_target\": 137.6, \"y_predict\": 140.35802004793263}, {\"y_target\": 136.4, \"y_predict\": 154.0458520032565}, {\"y_target\": 185.1, \"y_predict\": 178.2946826952332}, {\"y_target\": 208.5, \"y_predict\": 186.67674279939197}, {\"y_target\": 216.7, \"y_predict\": 219.25802906474502}, {\"y_target\": 166.4, \"y_predict\": 141.40265996704454}, {\"y_target\": 188.6, \"y_predict\": 184.00544567475598}, {\"y_target\": 191.2, \"y_predict\": 188.21327148738354}, {\"y_target\": 217.8, \"y_predict\": 188.85068541142957}, {\"y_target\": 157.3, \"y_predict\": 170.49973636971527}, {\"y_target\": 169.9, \"y_predict\": 162.95822213161753}, {\"y_target\": 172.5, \"y_predict\": 161.19648918296178}, {\"y_target\": 193.0, \"y_predict\": 179.74999109538385}, {\"y_target\": 151.6, \"y_predict\": 157.97515836465132}, {\"y_target\": 148.3, \"y_predict\": 141.92101178555325}, {\"y_target\": 196.1, \"y_predict\": 200.77176313873517}, {\"y_target\": 169.0, \"y_predict\": 180.1098001918491}, {\"y_target\": 146.9, \"y_predict\": 171.0994933396796}, {\"y_target\": 185.6, \"y_predict\": 176.445267081909}, {\"y_target\": 214.5, \"y_predict\": 212.6540828901179}, {\"y_target\": 157.5, \"y_predict\": 170.4840319474171}, {\"y_target\": 168.1, \"y_predict\": 192.45688477223015}, {\"y_target\": 221.7, \"y_predict\": 215.3357388033687}, {\"y_target\": 208.0, \"y_predict\": 201.04976683924338}, {\"y_target\": 139.7, \"y_predict\": 167.318078315876}, {\"y_target\": 197.5, \"y_predict\": 165.7608881460681}, {\"y_target\": 178.1, \"y_predict\": 191.95385877015735}, {\"y_target\": 196.2, \"y_predict\": 174.0678835292976}, {\"y_target\": 205.0, \"y_predict\": 193.53901380200804}, {\"y_target\": 193.1, \"y_predict\": 188.00375375577488}, {\"y_target\": 206.1, \"y_predict\": 198.40683902830733}, {\"y_target\": 122.2, \"y_predict\": 127.10475085304249}, {\"y_target\": 154.4, \"y_predict\": 164.27493230300564}, {\"y_target\": 194.3, \"y_predict\": 199.44478939612284}, {\"y_target\": 187.9, \"y_predict\": 198.66011818389887}, {\"y_target\": 222.6, \"y_predict\": 207.27445707858055}, {\"y_target\": 159.3, \"y_predict\": 169.38787749998875}, {\"y_target\": 224.7, \"y_predict\": 219.81802053917224}, {\"y_target\": 159.5, \"y_predict\": 176.8373527281888}, {\"y_target\": 196.4, \"y_predict\": 203.50426703233228}, {\"y_target\": 199.0, \"y_predict\": 161.4746438601476}, {\"y_target\": 216.2, \"y_predict\": 207.250685381987}, {\"y_target\": 176.1, \"y_predict\": 189.57576597086708}, {\"y_target\": 174.6, \"y_predict\": 168.37554993118317}, {\"y_target\": 170.8, \"y_predict\": 175.38862644098924}, {\"y_target\": 168.5, \"y_predict\": 152.36105163426478}, {\"y_target\": 193.8, \"y_predict\": 184.98614741035377}, {\"y_target\": 164.0, \"y_predict\": 160.24768722902547}, {\"y_target\": 126.4, \"y_predict\": 213.0068763727475}, {\"y_target\": 184.6, \"y_predict\": 196.33446343871347}, {\"y_target\": 173.3, \"y_predict\": 176.97753748952277}, {\"y_target\": 187.7, \"y_predict\": 167.41252108393815}, {\"y_target\": 169.3, \"y_predict\": 162.53802789801443}, {\"y_target\": 170.2, \"y_predict\": 182.50000515156614}, {\"y_target\": 163.0, \"y_predict\": 165.4707674187684}, {\"y_target\": 154.2, \"y_predict\": 178.52276521126686}, {\"y_target\": 174.1, \"y_predict\": 164.7699214557441}, {\"y_target\": 162.4, \"y_predict\": 176.36830905039008}, {\"y_target\": 197.9, \"y_predict\": 195.51186799360067}, {\"y_target\": 197.6, \"y_predict\": 195.95307016970168}, {\"y_target\": 197.1, \"y_predict\": 183.01267540590314}, {\"y_target\": 129.0, \"y_predict\": 172.13738067044764}, {\"y_target\": 166.7, \"y_predict\": 148.36123658912283}, {\"y_target\": 154.5, \"y_predict\": 157.25384894537729}, {\"y_target\": 195.8, \"y_predict\": 183.19503490967685}, {\"y_target\": 164.5, \"y_predict\": 175.48334548865486}, {\"y_target\": 182.5, \"y_predict\": 176.19009242530723}, {\"y_target\": 209.2, \"y_predict\": 195.815919562938}, {\"y_target\": 190.3, \"y_predict\": 182.31509802792473}, {\"y_target\": 171.8, \"y_predict\": 176.62738028665981}, {\"y_target\": 183.7, \"y_predict\": 199.5332529220776}, {\"y_target\": 121.8, \"y_predict\": 173.3617283986635}, {\"y_target\": 187.8, \"y_predict\": 180.13876789000372}, {\"y_target\": 163.1, \"y_predict\": 162.73028290855206}, {\"y_target\": 149.1, \"y_predict\": 163.63706288847044}, {\"y_target\": 138.1, \"y_predict\": 162.8786591426634}, {\"y_target\": 190.0, \"y_predict\": 175.01394236771614}, {\"y_target\": 225.1, \"y_predict\": 206.34334537565948}, {\"y_target\": 135.4, \"y_predict\": 126.70535597056227}, {\"y_target\": 228.8, \"y_predict\": 211.6236191007635}, {\"y_target\": 166.9, \"y_predict\": 159.45347118749552}, {\"y_target\": 168.3, \"y_predict\": 155.89242907421473}, {\"y_target\": 224.9, \"y_predict\": 204.91292189123175}, {\"y_target\": 181.9, \"y_predict\": 179.87744297094144}, {\"y_target\": 207.0, \"y_predict\": 197.37910050585967}, {\"y_target\": 176.6, \"y_predict\": 194.6355561629738}, {\"y_target\": 177.9, \"y_predict\": 184.90374919678462}, {\"y_target\": 174.3, \"y_predict\": 199.35912864879748}, {\"y_target\": 192.6, \"y_predict\": 179.78840801100287}, {\"y_target\": 179.4, \"y_predict\": 182.43088256951654}, {\"y_target\": 213.2, \"y_predict\": 187.50704355716454}, {\"y_target\": 174.7, \"y_predict\": 151.11512547871385}, {\"y_target\": 196.0, \"y_predict\": 180.20347963760472}, {\"y_target\": 148.9, \"y_predict\": 173.51245791875024}, {\"y_target\": 182.9, \"y_predict\": 169.47323833144227}, {\"y_target\": 217.2, \"y_predict\": 220.68595912541076}, {\"y_target\": 195.7, \"y_predict\": 168.19005937609415}, {\"y_target\": 192.2, \"y_predict\": 193.5594544928352}, {\"y_target\": 182.6, \"y_predict\": 175.79792803469002}, {\"y_target\": 127.6, \"y_predict\": 145.59377788843256}, {\"y_target\": 184.1, \"y_predict\": 191.50969719516544}, {\"y_target\": 168.9, \"y_predict\": 177.91576322180148}, {\"y_target\": 192.3, \"y_predict\": 191.61492815062465}, {\"y_target\": 187.5, \"y_predict\": 184.06603886143083}, {\"y_target\": 224.0, \"y_predict\": 215.59440560097784}, {\"y_target\": 153.6, \"y_predict\": 157.59339333430958}, {\"y_target\": 165.3, \"y_predict\": 183.18351092775023}, {\"y_target\": 154.4, \"y_predict\": 152.45204711623327}, {\"y_target\": 179.1, \"y_predict\": 140.49560891094836}, {\"y_target\": 182.8, \"y_predict\": 200.0156110021058}, {\"y_target\": 177.4, \"y_predict\": 171.1260802689984}, {\"y_target\": 173.1, \"y_predict\": 160.55958866095165}, {\"y_target\": 152.0, \"y_predict\": 153.53923925183224}, {\"y_target\": 197.9, \"y_predict\": 193.06795067320732}, {\"y_target\": 187.9, \"y_predict\": 185.85819535459333}, {\"y_target\": 181.1, \"y_predict\": 175.02608612997977}, {\"y_target\": 226.5, \"y_predict\": 208.31405474840247}, {\"y_target\": 214.9, \"y_predict\": 188.45811897025396}, {\"y_target\": 118.4, \"y_predict\": 161.76649567035636}, {\"y_target\": 181.6, \"y_predict\": 189.25767655702813}, {\"y_target\": 215.0, \"y_predict\": 160.50466298749234}, {\"y_target\": 182.8, \"y_predict\": 168.87565157169854}, {\"y_target\": 128.4, \"y_predict\": 146.49749867129404}, {\"y_target\": 112.5, \"y_predict\": 182.3530715141997}, {\"y_target\": 164.4, \"y_predict\": 150.85911449791323}, {\"y_target\": 122.5, \"y_predict\": 159.47848955054778}, {\"y_target\": 200.5, \"y_predict\": 186.36966157691856}, {\"y_target\": 233.1, \"y_predict\": 206.92277187242098}, {\"y_target\": 167.3, \"y_predict\": 175.10287796703565}, {\"y_target\": 195.9, \"y_predict\": 194.08720198246104}, {\"y_target\": 209.6, \"y_predict\": 198.6299067763415}, {\"y_target\": 173.6, \"y_predict\": 178.6313375731066}, {\"y_target\": 180.2, \"y_predict\": 183.94071890835878}, {\"y_target\": 192.1, \"y_predict\": 191.7751694444296}, {\"y_target\": 166.9, \"y_predict\": 166.69281714168105}, {\"y_target\": 157.2, \"y_predict\": 149.6910118016571}, {\"y_target\": 189.9, \"y_predict\": 197.10795369476529}, {\"y_target\": 185.2, \"y_predict\": 194.46510936513351}, {\"y_target\": 165.8, \"y_predict\": 163.35124273143103}, {\"y_target\": 162.5, \"y_predict\": 173.43343648085596}, {\"y_target\": 123.8, \"y_predict\": 185.75951133183491}, {\"y_target\": 187.4, \"y_predict\": 189.4796085446265}, {\"y_target\": 258.6, \"y_predict\": 237.55940922376362}, {\"y_target\": 150.0, \"y_predict\": 145.14446141998076}, {\"y_target\": 178.5, \"y_predict\": 167.27138381278982}, {\"y_target\": 163.7, \"y_predict\": 153.3226341080437}, {\"y_target\": 156.8, \"y_predict\": 155.14761564226328}, {\"y_target\": 137.3, \"y_predict\": 165.05451278770178}, {\"y_target\": 176.9, \"y_predict\": 204.5267172165895}, {\"y_target\": 200.3, \"y_predict\": 200.92616723696995}, {\"y_target\": 150.7, \"y_predict\": 153.11747215305587}, {\"y_target\": 161.3, \"y_predict\": 180.09039689714626}, {\"y_target\": 200.6, \"y_predict\": 208.1583867269544}, {\"y_target\": 175.9, \"y_predict\": 177.49527484001902}, {\"y_target\": 129.8, \"y_predict\": 152.31958417194107}, {\"y_target\": 203.9, \"y_predict\": 203.0525319718036}, {\"y_target\": 169.8, \"y_predict\": 176.97369272401957}, {\"y_target\": 182.5, \"y_predict\": 163.19338726716046}, {\"y_target\": 166.7, \"y_predict\": 156.7315706235578}, {\"y_target\": 217.3, \"y_predict\": 219.6618566900082}, {\"y_target\": 148.7, \"y_predict\": 148.8030710256996}, {\"y_target\": 214.2, \"y_predict\": 195.55391373012137}, {\"y_target\": 97.9, \"y_predict\": 114.73283280726434}, {\"y_target\": 270.5, \"y_predict\": 211.30113625055182}, {\"y_target\": 180.3, \"y_predict\": 196.62516952592222}, {\"y_target\": 203.9, \"y_predict\": 181.99750654640354}, {\"y_target\": 176.1, \"y_predict\": 167.0226053051451}, {\"y_target\": 190.7, \"y_predict\": 187.81588847434895}, {\"y_target\": 205.0, \"y_predict\": 213.5989574566901}, {\"y_target\": 176.3, \"y_predict\": 177.51642714815569}, {\"y_target\": 231.1, \"y_predict\": 216.19689374370137}, {\"y_target\": 229.5, \"y_predict\": 225.7385097934491}, {\"y_target\": 161.3, \"y_predict\": 175.79639737982487}, {\"y_target\": 179.5, \"y_predict\": 168.6272622573973}, {\"y_target\": 153.3, \"y_predict\": 163.9978648868971}, {\"y_target\": 192.4, \"y_predict\": 172.9268204344291}, {\"y_target\": 191.7, \"y_predict\": 177.77118671341654}, {\"y_target\": 187.3, \"y_predict\": 188.45226481172466}, {\"y_target\": 190.0, \"y_predict\": 191.4203155132582}, {\"y_target\": 143.7, \"y_predict\": 166.11072923067186}, {\"y_target\": 201.5, \"y_predict\": 197.2148166334489}, {\"y_target\": 174.0, \"y_predict\": 179.33170829222396}, {\"y_target\": 172.4, \"y_predict\": 173.00442281421587}, {\"y_target\": 172.0, \"y_predict\": 182.0431394583402}, {\"y_target\": 194.6, \"y_predict\": 171.6254171691116}, {\"y_target\": 146.8, \"y_predict\": 156.90840997189986}, {\"y_target\": 171.1, \"y_predict\": 173.77673866159577}, {\"y_target\": 224.4, \"y_predict\": 244.38515749716842}, {\"y_target\": 223.0, \"y_predict\": 230.2548796099772}, {\"y_target\": 167.4, \"y_predict\": 154.81861186233925}, {\"y_target\": 187.7, \"y_predict\": 187.1553557834497}, {\"y_target\": 127.4, \"y_predict\": 181.06867959320914}, {\"y_target\": 155.3, \"y_predict\": 151.17518614418447}, {\"y_target\": 166.8, \"y_predict\": 173.21190320649524}, {\"y_target\": 262.1, \"y_predict\": 190.95177751517048}, {\"y_target\": 180.7, \"y_predict\": 187.84770406848594}, {\"y_target\": 179.3, \"y_predict\": 195.20334676081603}, {\"y_target\": 203.2, \"y_predict\": 186.21903132818363}, {\"y_target\": 178.7, \"y_predict\": 190.72398357639895}, {\"y_target\": 195.3, \"y_predict\": 187.94821656887893}, {\"y_target\": 176.0, \"y_predict\": 187.86921055037936}, {\"y_target\": 208.3, \"y_predict\": 187.7017605509916}, {\"y_target\": 185.3, \"y_predict\": 163.10612290493552}, {\"y_target\": 196.7, \"y_predict\": 201.33773885987506}, {\"y_target\": 204.1, \"y_predict\": 199.12317820794604}, {\"y_target\": 171.1, \"y_predict\": 178.0169808235427}, {\"y_target\": 179.7, \"y_predict\": 190.6639567609971}]}}, {\"mode\": \"vega-lite\"});\n",
              "</script>"
            ],
            "text/plain": [
              "alt.LayerChart(...)"
            ]
          },
          "metadata": {},
          "execution_count": 40
        }
      ]
    },
    {
      "cell_type": "markdown",
      "source": [
        "**[4.8]** Display the predictions versus the target line charts on the testing set"
      ],
      "metadata": {
        "id": "igmz-SSoOO9f"
      }
    },
    {
      "cell_type": "code",
      "source": [
        "perfect_line_chart_testing  = alt.Chart(pd.DataFrame({'y_target': y_test, 'y_predict': y_test})).mark_line(color='green').encode(\n",
        "    x='y_target',\n",
        "    y='y_predict'\n",
        "  )\n",
        "perfect_line_chart_testing \n",
        "\n",
        "predict_line_chart_testing  = alt.Chart(pd.DataFrame({'y_target': y_test, 'y_predict': y_test_preds})).mark_line().encode(\n",
        "    x='y_target',\n",
        "    y='y_predict'\n",
        "  )\n",
        "predict_line_chart_testing \n",
        "\n",
        "perfect_line_chart_testing + predict_line_chart_testing "
      ],
      "metadata": {
        "id": "ODkbkuZDOPB8",
        "colab": {
          "base_uri": "https://localhost:8080/",
          "height": 368
        },
        "outputId": "ca5e03ee-2cbe-4300-e667-4ffdcbff3f95"
      },
      "execution_count": 41,
      "outputs": [
        {
          "output_type": "execute_result",
          "data": {
            "text/html": [
              "\n",
              "<div id=\"altair-viz-aaab8197159842fe96e86263e97c4987\"></div>\n",
              "<script type=\"text/javascript\">\n",
              "  var VEGA_DEBUG = (typeof VEGA_DEBUG == \"undefined\") ? {} : VEGA_DEBUG;\n",
              "  (function(spec, embedOpt){\n",
              "    let outputDiv = document.currentScript.previousElementSibling;\n",
              "    if (outputDiv.id !== \"altair-viz-aaab8197159842fe96e86263e97c4987\") {\n",
              "      outputDiv = document.getElementById(\"altair-viz-aaab8197159842fe96e86263e97c4987\");\n",
              "    }\n",
              "    const paths = {\n",
              "      \"vega\": \"https://cdn.jsdelivr.net/npm//vega@5?noext\",\n",
              "      \"vega-lib\": \"https://cdn.jsdelivr.net/npm//vega-lib?noext\",\n",
              "      \"vega-lite\": \"https://cdn.jsdelivr.net/npm//vega-lite@4.17.0?noext\",\n",
              "      \"vega-embed\": \"https://cdn.jsdelivr.net/npm//vega-embed@6?noext\",\n",
              "    };\n",
              "\n",
              "    function maybeLoadScript(lib, version) {\n",
              "      var key = `${lib.replace(\"-\", \"\")}_version`;\n",
              "      return (VEGA_DEBUG[key] == version) ?\n",
              "        Promise.resolve(paths[lib]) :\n",
              "        new Promise(function(resolve, reject) {\n",
              "          var s = document.createElement('script');\n",
              "          document.getElementsByTagName(\"head\")[0].appendChild(s);\n",
              "          s.async = true;\n",
              "          s.onload = () => {\n",
              "            VEGA_DEBUG[key] = version;\n",
              "            return resolve(paths[lib]);\n",
              "          };\n",
              "          s.onerror = () => reject(`Error loading script: ${paths[lib]}`);\n",
              "          s.src = paths[lib];\n",
              "        });\n",
              "    }\n",
              "\n",
              "    function showError(err) {\n",
              "      outputDiv.innerHTML = `<div class=\"error\" style=\"color:red;\">${err}</div>`;\n",
              "      throw err;\n",
              "    }\n",
              "\n",
              "    function displayChart(vegaEmbed) {\n",
              "      vegaEmbed(outputDiv, spec, embedOpt)\n",
              "        .catch(err => showError(`Javascript Error: ${err.message}<br>This usually means there's a typo in your chart specification. See the javascript console for the full traceback.`));\n",
              "    }\n",
              "\n",
              "    if(typeof define === \"function\" && define.amd) {\n",
              "      requirejs.config({paths});\n",
              "      require([\"vega-embed\"], displayChart, err => showError(`Error loading script: ${err.message}`));\n",
              "    } else {\n",
              "      maybeLoadScript(\"vega\", \"5\")\n",
              "        .then(() => maybeLoadScript(\"vega-lite\", \"4.17.0\"))\n",
              "        .then(() => maybeLoadScript(\"vega-embed\", \"6\"))\n",
              "        .catch(showError)\n",
              "        .then(() => displayChart(vegaEmbed));\n",
              "    }\n",
              "  })({\"config\": {\"view\": {\"continuousWidth\": 400, \"continuousHeight\": 300}}, \"layer\": [{\"data\": {\"name\": \"data-560274f3e6bb77ff417636ed40acdb9d\"}, \"mark\": {\"type\": \"line\", \"color\": \"green\"}, \"encoding\": {\"x\": {\"field\": \"y_target\", \"type\": \"quantitative\"}, \"y\": {\"field\": \"y_predict\", \"type\": \"quantitative\"}}}, {\"data\": {\"name\": \"data-67ec8e5399c3c6256f4c579548839a5d\"}, \"mark\": \"line\", \"encoding\": {\"x\": {\"field\": \"y_target\", \"type\": \"quantitative\"}, \"y\": {\"field\": \"y_predict\", \"type\": \"quantitative\"}}}], \"$schema\": \"https://vega.github.io/schema/vega-lite/v4.17.0.json\", \"datasets\": {\"data-560274f3e6bb77ff417636ed40acdb9d\": [{\"y_target\": 159.5, \"y_predict\": 159.5}, {\"y_target\": 167.2, \"y_predict\": 167.2}, {\"y_target\": 131.6, \"y_predict\": 131.6}, {\"y_target\": 189.4, \"y_predict\": 189.4}, {\"y_target\": 168.9, \"y_predict\": 168.9}, {\"y_target\": 130.6, \"y_predict\": 130.6}, {\"y_target\": 162.7, \"y_predict\": 162.7}, {\"y_target\": 153.9, \"y_predict\": 153.9}, {\"y_target\": 176.4, \"y_predict\": 176.4}, {\"y_target\": 155.5, \"y_predict\": 155.5}, {\"y_target\": 248.2, \"y_predict\": 248.2}, {\"y_target\": 155.8, \"y_predict\": 155.8}, {\"y_target\": 164.6, \"y_predict\": 164.6}, {\"y_target\": 161.5, \"y_predict\": 161.5}, {\"y_target\": 144.9, \"y_predict\": 144.9}, {\"y_target\": 183.4, \"y_predict\": 183.4}, {\"y_target\": 187.4, \"y_predict\": 187.4}, {\"y_target\": 131.2, \"y_predict\": 131.2}, {\"y_target\": 193.4, \"y_predict\": 193.4}, {\"y_target\": 180.3, \"y_predict\": 180.3}, {\"y_target\": 165.6, \"y_predict\": 165.6}, {\"y_target\": 171.8, \"y_predict\": 171.8}, {\"y_target\": 157.4, \"y_predict\": 157.4}, {\"y_target\": 180.4, \"y_predict\": 180.4}, {\"y_target\": 166.0, \"y_predict\": 166.0}, {\"y_target\": 142.1, \"y_predict\": 142.1}, {\"y_target\": 218.3, \"y_predict\": 218.3}, {\"y_target\": 176.8, \"y_predict\": 176.8}, {\"y_target\": 205.2, \"y_predict\": 205.2}, {\"y_target\": 188.6, \"y_predict\": 188.6}, {\"y_target\": 173.5, \"y_predict\": 173.5}, {\"y_target\": 179.7, \"y_predict\": 179.7}, {\"y_target\": 193.7, \"y_predict\": 193.7}, {\"y_target\": 173.3, \"y_predict\": 173.3}, {\"y_target\": 181.9, \"y_predict\": 181.9}, {\"y_target\": 153.7, \"y_predict\": 153.7}, {\"y_target\": 177.3, \"y_predict\": 177.3}, {\"y_target\": 201.3, \"y_predict\": 201.3}, {\"y_target\": 164.3, \"y_predict\": 164.3}, {\"y_target\": 185.8, \"y_predict\": 185.8}, {\"y_target\": 180.8, \"y_predict\": 180.8}, {\"y_target\": 179.9, \"y_predict\": 179.9}, {\"y_target\": 170.0, \"y_predict\": 170.0}, {\"y_target\": 176.2, \"y_predict\": 176.2}, {\"y_target\": 159.3, \"y_predict\": 159.3}, {\"y_target\": 204.9, \"y_predict\": 204.9}, {\"y_target\": 162.8, \"y_predict\": 162.8}, {\"y_target\": 126.0, \"y_predict\": 126.0}, {\"y_target\": 172.2, \"y_predict\": 172.2}, {\"y_target\": 163.6, \"y_predict\": 163.6}, {\"y_target\": 220.4, \"y_predict\": 220.4}, {\"y_target\": 172.4, \"y_predict\": 172.4}, {\"y_target\": 173.2, \"y_predict\": 173.2}, {\"y_target\": 194.7, \"y_predict\": 194.7}, {\"y_target\": 183.9, \"y_predict\": 183.9}, {\"y_target\": 199.1, \"y_predict\": 199.1}, {\"y_target\": 200.3, \"y_predict\": 200.3}, {\"y_target\": 155.7, \"y_predict\": 155.7}, {\"y_target\": 177.0, \"y_predict\": 177.0}, {\"y_target\": 184.7, \"y_predict\": 184.7}, {\"y_target\": 166.2, \"y_predict\": 166.2}, {\"y_target\": 218.9, \"y_predict\": 218.9}, {\"y_target\": 175.4, \"y_predict\": 175.4}, {\"y_target\": 250.0, \"y_predict\": 250.0}, {\"y_target\": 180.4, \"y_predict\": 180.4}, {\"y_target\": 165.1, \"y_predict\": 165.1}, {\"y_target\": 151.6, \"y_predict\": 151.6}, {\"y_target\": 190.7, \"y_predict\": 190.7}, {\"y_target\": 125.2, \"y_predict\": 125.2}, {\"y_target\": 202.3, \"y_predict\": 202.3}, {\"y_target\": 140.8, \"y_predict\": 140.8}, {\"y_target\": 240.1, \"y_predict\": 240.1}, {\"y_target\": 211.0, \"y_predict\": 211.0}, {\"y_target\": 202.5, \"y_predict\": 202.5}, {\"y_target\": 211.3, \"y_predict\": 211.3}, {\"y_target\": 174.0, \"y_predict\": 174.0}, {\"y_target\": 194.0, \"y_predict\": 194.0}, {\"y_target\": 234.4, \"y_predict\": 234.4}, {\"y_target\": 177.3, \"y_predict\": 177.3}, {\"y_target\": 181.8, \"y_predict\": 181.8}, {\"y_target\": 199.5, \"y_predict\": 199.5}, {\"y_target\": 150.1, \"y_predict\": 150.1}, {\"y_target\": 147.6, \"y_predict\": 147.6}, {\"y_target\": 192.6, \"y_predict\": 192.6}, {\"y_target\": 173.4, \"y_predict\": 173.4}, {\"y_target\": 191.2, \"y_predict\": 191.2}, {\"y_target\": 184.2, \"y_predict\": 184.2}, {\"y_target\": 189.0, \"y_predict\": 189.0}, {\"y_target\": 159.3, \"y_predict\": 159.3}, {\"y_target\": 151.9, \"y_predict\": 151.9}, {\"y_target\": 230.1, \"y_predict\": 230.1}, {\"y_target\": 167.2, \"y_predict\": 167.2}, {\"y_target\": 200.1, \"y_predict\": 200.1}, {\"y_target\": 205.1, \"y_predict\": 205.1}, {\"y_target\": 185.8, \"y_predict\": 185.8}, {\"y_target\": 153.9, \"y_predict\": 153.9}, {\"y_target\": 258.7, \"y_predict\": 258.7}, {\"y_target\": 147.6, \"y_predict\": 147.6}, {\"y_target\": 186.4, \"y_predict\": 186.4}, {\"y_target\": 194.9, \"y_predict\": 194.9}, {\"y_target\": 176.1, \"y_predict\": 176.1}, {\"y_target\": 169.2, \"y_predict\": 169.2}, {\"y_target\": 136.4, \"y_predict\": 136.4}, {\"y_target\": 156.0, \"y_predict\": 156.0}, {\"y_target\": 222.5, \"y_predict\": 222.5}, {\"y_target\": 168.1, \"y_predict\": 168.1}, {\"y_target\": 203.0, \"y_predict\": 203.0}, {\"y_target\": 162.9, \"y_predict\": 162.9}, {\"y_target\": 248.7, \"y_predict\": 248.7}, {\"y_target\": 157.5, \"y_predict\": 157.5}, {\"y_target\": 209.6, \"y_predict\": 209.6}, {\"y_target\": 184.6, \"y_predict\": 184.6}, {\"y_target\": 148.8, \"y_predict\": 148.8}, {\"y_target\": 183.0, \"y_predict\": 183.0}, {\"y_target\": 195.5, \"y_predict\": 195.5}, {\"y_target\": 181.9, \"y_predict\": 181.9}, {\"y_target\": 182.1, \"y_predict\": 182.1}, {\"y_target\": 247.1, \"y_predict\": 247.1}, {\"y_target\": 170.7, \"y_predict\": 170.7}, {\"y_target\": 230.9, \"y_predict\": 230.9}, {\"y_target\": 198.9, \"y_predict\": 198.9}, {\"y_target\": 163.4, \"y_predict\": 163.4}, {\"y_target\": 168.9, \"y_predict\": 168.9}, {\"y_target\": 229.7, \"y_predict\": 229.7}, {\"y_target\": 187.2, \"y_predict\": 187.2}, {\"y_target\": 210.0, \"y_predict\": 210.0}, {\"y_target\": 171.5, \"y_predict\": 171.5}, {\"y_target\": 181.4, \"y_predict\": 181.4}, {\"y_target\": 175.3, \"y_predict\": 175.3}, {\"y_target\": 144.8, \"y_predict\": 144.8}, {\"y_target\": 142.1, \"y_predict\": 142.1}, {\"y_target\": 193.8, \"y_predict\": 193.8}, {\"y_target\": 170.1, \"y_predict\": 170.1}, {\"y_target\": 146.4, \"y_predict\": 146.4}, {\"y_target\": 195.3, \"y_predict\": 195.3}, {\"y_target\": 161.3, \"y_predict\": 161.3}, {\"y_target\": 162.6, \"y_predict\": 162.6}, {\"y_target\": 216.3, \"y_predict\": 216.3}, {\"y_target\": 168.3, \"y_predict\": 168.3}, {\"y_target\": 214.9, \"y_predict\": 214.9}, {\"y_target\": 203.4, \"y_predict\": 203.4}, {\"y_target\": 162.6, \"y_predict\": 162.6}, {\"y_target\": 213.6, \"y_predict\": 213.6}, {\"y_target\": 186.1, \"y_predict\": 186.1}, {\"y_target\": 214.7, \"y_predict\": 214.7}, {\"y_target\": 190.2, \"y_predict\": 190.2}, {\"y_target\": 202.3, \"y_predict\": 202.3}, {\"y_target\": 229.9, \"y_predict\": 229.9}, {\"y_target\": 184.1, \"y_predict\": 184.1}, {\"y_target\": 182.6, \"y_predict\": 182.6}, {\"y_target\": 171.6, \"y_predict\": 171.6}, {\"y_target\": 176.6, \"y_predict\": 176.6}, {\"y_target\": 207.0, \"y_predict\": 207.0}, {\"y_target\": 170.0, \"y_predict\": 170.0}, {\"y_target\": 180.0, \"y_predict\": 180.0}, {\"y_target\": 199.6, \"y_predict\": 199.6}, {\"y_target\": 178.3, \"y_predict\": 178.3}, {\"y_target\": 211.2, \"y_predict\": 211.2}, {\"y_target\": 169.2, \"y_predict\": 169.2}, {\"y_target\": 180.5, \"y_predict\": 180.5}, {\"y_target\": 127.9, \"y_predict\": 127.9}, {\"y_target\": 136.3, \"y_predict\": 136.3}, {\"y_target\": 154.2, \"y_predict\": 154.2}, {\"y_target\": 222.5, \"y_predict\": 222.5}, {\"y_target\": 199.1, \"y_predict\": 199.1}, {\"y_target\": 183.5, \"y_predict\": 183.5}, {\"y_target\": 152.7, \"y_predict\": 152.7}, {\"y_target\": 185.6, \"y_predict\": 185.6}, {\"y_target\": 203.1, \"y_predict\": 203.1}, {\"y_target\": 173.3, \"y_predict\": 173.3}, {\"y_target\": 201.2, \"y_predict\": 201.2}, {\"y_target\": 176.6, \"y_predict\": 176.6}, {\"y_target\": 182.7, \"y_predict\": 182.7}, {\"y_target\": 179.9, \"y_predict\": 179.9}, {\"y_target\": 130.4, \"y_predict\": 130.4}, {\"y_target\": 173.8, \"y_predict\": 173.8}, {\"y_target\": 186.9, \"y_predict\": 186.9}, {\"y_target\": 179.9, \"y_predict\": 179.9}, {\"y_target\": 211.9, \"y_predict\": 211.9}, {\"y_target\": 153.5, \"y_predict\": 153.5}, {\"y_target\": 188.2, \"y_predict\": 188.2}, {\"y_target\": 168.7, \"y_predict\": 168.7}, {\"y_target\": 177.9, \"y_predict\": 177.9}, {\"y_target\": 147.4, \"y_predict\": 147.4}, {\"y_target\": 155.1, \"y_predict\": 155.1}, {\"y_target\": 155.5, \"y_predict\": 155.5}, {\"y_target\": 185.6, \"y_predict\": 185.6}, {\"y_target\": 195.0, \"y_predict\": 195.0}, {\"y_target\": 173.1, \"y_predict\": 173.1}, {\"y_target\": 209.6, \"y_predict\": 209.6}, {\"y_target\": 145.8, \"y_predict\": 145.8}, {\"y_target\": 160.0, \"y_predict\": 160.0}, {\"y_target\": 182.4, \"y_predict\": 182.4}, {\"y_target\": 152.5, \"y_predict\": 152.5}, {\"y_target\": 174.1, \"y_predict\": 174.1}, {\"y_target\": 132.6, \"y_predict\": 132.6}, {\"y_target\": 183.2, \"y_predict\": 183.2}, {\"y_target\": 200.2, \"y_predict\": 200.2}, {\"y_target\": 187.2, \"y_predict\": 187.2}, {\"y_target\": 190.0, \"y_predict\": 190.0}, {\"y_target\": 176.8, \"y_predict\": 176.8}, {\"y_target\": 167.5, \"y_predict\": 167.5}, {\"y_target\": 179.5, \"y_predict\": 179.5}, {\"y_target\": 187.8, \"y_predict\": 187.8}, {\"y_target\": 177.6, \"y_predict\": 177.6}, {\"y_target\": 188.3, \"y_predict\": 188.3}, {\"y_target\": 173.3, \"y_predict\": 173.3}, {\"y_target\": 154.6, \"y_predict\": 154.6}, {\"y_target\": 163.0, \"y_predict\": 163.0}, {\"y_target\": 163.1, \"y_predict\": 163.1}, {\"y_target\": 186.9, \"y_predict\": 186.9}, {\"y_target\": 210.8, \"y_predict\": 210.8}, {\"y_target\": 181.1, \"y_predict\": 181.1}, {\"y_target\": 131.9, \"y_predict\": 131.9}, {\"y_target\": 186.7, \"y_predict\": 186.7}, {\"y_target\": 173.8, \"y_predict\": 173.8}, {\"y_target\": 153.4, \"y_predict\": 153.4}, {\"y_target\": 102.6, \"y_predict\": 102.6}, {\"y_target\": 189.8, \"y_predict\": 189.8}, {\"y_target\": 160.3, \"y_predict\": 160.3}, {\"y_target\": 181.3, \"y_predict\": 181.3}, {\"y_target\": 176.3, \"y_predict\": 176.3}, {\"y_target\": 161.9, \"y_predict\": 161.9}, {\"y_target\": 205.4, \"y_predict\": 205.4}, {\"y_target\": 185.8, \"y_predict\": 185.8}, {\"y_target\": 206.1, \"y_predict\": 206.1}, {\"y_target\": 181.6, \"y_predict\": 181.6}, {\"y_target\": 114.3, \"y_predict\": 114.3}, {\"y_target\": 189.9, \"y_predict\": 189.9}, {\"y_target\": 160.0, \"y_predict\": 160.0}, {\"y_target\": 206.0, \"y_predict\": 206.0}, {\"y_target\": 174.6, \"y_predict\": 174.6}, {\"y_target\": 189.7, \"y_predict\": 189.7}, {\"y_target\": 183.1, \"y_predict\": 183.1}, {\"y_target\": 170.1, \"y_predict\": 170.1}, {\"y_target\": 237.1, \"y_predict\": 237.1}, {\"y_target\": 181.5, \"y_predict\": 181.5}, {\"y_target\": 179.2, \"y_predict\": 179.2}, {\"y_target\": 210.0, \"y_predict\": 210.0}, {\"y_target\": 177.5, \"y_predict\": 177.5}, {\"y_target\": 150.8, \"y_predict\": 150.8}, {\"y_target\": 189.2, \"y_predict\": 189.2}, {\"y_target\": 152.3, \"y_predict\": 152.3}, {\"y_target\": 178.0, \"y_predict\": 178.0}, {\"y_target\": 196.8, \"y_predict\": 196.8}, {\"y_target\": 151.3, \"y_predict\": 151.3}, {\"y_target\": 177.8, \"y_predict\": 177.8}, {\"y_target\": 179.0, \"y_predict\": 179.0}, {\"y_target\": 186.6, \"y_predict\": 186.6}, {\"y_target\": 139.2, \"y_predict\": 139.2}, {\"y_target\": 182.3, \"y_predict\": 182.3}, {\"y_target\": 205.0, \"y_predict\": 205.0}, {\"y_target\": 174.4, \"y_predict\": 174.4}, {\"y_target\": 171.9, \"y_predict\": 171.9}, {\"y_target\": 194.1, \"y_predict\": 194.1}, {\"y_target\": 193.7, \"y_predict\": 193.7}, {\"y_target\": 132.5, \"y_predict\": 132.5}, {\"y_target\": 140.9, \"y_predict\": 140.9}, {\"y_target\": 186.4, \"y_predict\": 186.4}, {\"y_target\": 240.1, \"y_predict\": 240.1}, {\"y_target\": 161.0, \"y_predict\": 161.0}, {\"y_target\": 184.3, \"y_predict\": 184.3}, {\"y_target\": 102.1, \"y_predict\": 102.1}, {\"y_target\": 166.5, \"y_predict\": 166.5}, {\"y_target\": 185.0, \"y_predict\": 185.0}, {\"y_target\": 178.8, \"y_predict\": 178.8}, {\"y_target\": 213.1, \"y_predict\": 213.1}, {\"y_target\": 59.7, \"y_predict\": 59.7}, {\"y_target\": 158.6, \"y_predict\": 158.6}, {\"y_target\": 226.0, \"y_predict\": 226.0}, {\"y_target\": 152.7, \"y_predict\": 152.7}, {\"y_target\": 177.8, \"y_predict\": 177.8}, {\"y_target\": 196.0, \"y_predict\": 196.0}, {\"y_target\": 180.7, \"y_predict\": 180.7}, {\"y_target\": 221.7, \"y_predict\": 221.7}, {\"y_target\": 143.8, \"y_predict\": 143.8}, {\"y_target\": 209.5, \"y_predict\": 209.5}, {\"y_target\": 269.2, \"y_predict\": 269.2}, {\"y_target\": 168.7, \"y_predict\": 168.7}, {\"y_target\": 137.7, \"y_predict\": 137.7}, {\"y_target\": 164.4, \"y_predict\": 164.4}, {\"y_target\": 177.8, \"y_predict\": 177.8}, {\"y_target\": 132.7, \"y_predict\": 132.7}, {\"y_target\": 170.9, \"y_predict\": 170.9}, {\"y_target\": 211.2, \"y_predict\": 211.2}, {\"y_target\": 184.4, \"y_predict\": 184.4}, {\"y_target\": 144.6, \"y_predict\": 144.6}, {\"y_target\": 209.4, \"y_predict\": 209.4}, {\"y_target\": 202.1, \"y_predict\": 202.1}, {\"y_target\": 195.4, \"y_predict\": 195.4}, {\"y_target\": 178.4, \"y_predict\": 178.4}, {\"y_target\": 174.8, \"y_predict\": 174.8}, {\"y_target\": 151.9, \"y_predict\": 151.9}, {\"y_target\": 208.4, \"y_predict\": 208.4}, {\"y_target\": 198.2, \"y_predict\": 198.2}, {\"y_target\": 240.1, \"y_predict\": 240.1}, {\"y_target\": 181.6, \"y_predict\": 181.6}, {\"y_target\": 171.4, \"y_predict\": 171.4}, {\"y_target\": 193.2, \"y_predict\": 193.2}, {\"y_target\": 223.4, \"y_predict\": 223.4}, {\"y_target\": 161.8, \"y_predict\": 161.8}, {\"y_target\": 160.0, \"y_predict\": 160.0}, {\"y_target\": 185.0, \"y_predict\": 185.0}, {\"y_target\": 170.3, \"y_predict\": 170.3}, {\"y_target\": 153.4, \"y_predict\": 153.4}, {\"y_target\": 198.4, \"y_predict\": 198.4}, {\"y_target\": 160.8, \"y_predict\": 160.8}, {\"y_target\": 168.8, \"y_predict\": 168.8}, {\"y_target\": 163.8, \"y_predict\": 163.8}, {\"y_target\": 186.7, \"y_predict\": 186.7}, {\"y_target\": 145.5, \"y_predict\": 145.5}, {\"y_target\": 135.0, \"y_predict\": 135.0}, {\"y_target\": 187.0, \"y_predict\": 187.0}, {\"y_target\": 216.9, \"y_predict\": 216.9}, {\"y_target\": 153.7, \"y_predict\": 153.7}, {\"y_target\": 168.7, \"y_predict\": 168.7}, {\"y_target\": 212.2, \"y_predict\": 212.2}, {\"y_target\": 168.3, \"y_predict\": 168.3}, {\"y_target\": 139.4, \"y_predict\": 139.4}, {\"y_target\": 108.8, \"y_predict\": 108.8}, {\"y_target\": 167.7, \"y_predict\": 167.7}, {\"y_target\": 146.4, \"y_predict\": 146.4}, {\"y_target\": 196.6, \"y_predict\": 196.6}, {\"y_target\": 182.8, \"y_predict\": 182.8}, {\"y_target\": 152.1, \"y_predict\": 152.1}, {\"y_target\": 191.1, \"y_predict\": 191.1}, {\"y_target\": 211.4, \"y_predict\": 211.4}, {\"y_target\": 174.6, \"y_predict\": 174.6}, {\"y_target\": 153.8, \"y_predict\": 153.8}, {\"y_target\": 182.2, \"y_predict\": 182.2}, {\"y_target\": 194.7, \"y_predict\": 194.7}, {\"y_target\": 153.3, \"y_predict\": 153.3}, {\"y_target\": 162.0, \"y_predict\": 162.0}, {\"y_target\": 157.4, \"y_predict\": 157.4}, {\"y_target\": 176.0, \"y_predict\": 176.0}, {\"y_target\": 206.0, \"y_predict\": 206.0}, {\"y_target\": 136.9, \"y_predict\": 136.9}, {\"y_target\": 226.5, \"y_predict\": 226.5}, {\"y_target\": 199.1, \"y_predict\": 199.1}, {\"y_target\": 143.5, \"y_predict\": 143.5}, {\"y_target\": 159.7, \"y_predict\": 159.7}, {\"y_target\": 136.5, \"y_predict\": 136.5}, {\"y_target\": 198.4, \"y_predict\": 198.4}, {\"y_target\": 174.4, \"y_predict\": 174.4}, {\"y_target\": 126.1, \"y_predict\": 126.1}, {\"y_target\": 193.1, \"y_predict\": 193.1}, {\"y_target\": 180.8, \"y_predict\": 180.8}, {\"y_target\": 198.1, \"y_predict\": 198.1}, {\"y_target\": 190.4, \"y_predict\": 190.4}, {\"y_target\": 188.3, \"y_predict\": 188.3}, {\"y_target\": 162.9, \"y_predict\": 162.9}, {\"y_target\": 169.3, \"y_predict\": 169.3}, {\"y_target\": 178.9, \"y_predict\": 178.9}, {\"y_target\": 205.5, \"y_predict\": 205.5}, {\"y_target\": 219.4, \"y_predict\": 219.4}, {\"y_target\": 213.7, \"y_predict\": 213.7}, {\"y_target\": 201.1, \"y_predict\": 201.1}, {\"y_target\": 161.6, \"y_predict\": 161.6}, {\"y_target\": 159.9, \"y_predict\": 159.9}, {\"y_target\": 181.4, \"y_predict\": 181.4}, {\"y_target\": 172.5, \"y_predict\": 172.5}, {\"y_target\": 187.1, \"y_predict\": 187.1}, {\"y_target\": 167.7, \"y_predict\": 167.7}, {\"y_target\": 174.1, \"y_predict\": 174.1}, {\"y_target\": 104.8, \"y_predict\": 104.8}, {\"y_target\": 131.4, \"y_predict\": 131.4}, {\"y_target\": 162.2, \"y_predict\": 162.2}, {\"y_target\": 180.0, \"y_predict\": 180.0}, {\"y_target\": 200.7, \"y_predict\": 200.7}, {\"y_target\": 151.5, \"y_predict\": 151.5}, {\"y_target\": 144.3, \"y_predict\": 144.3}, {\"y_target\": 191.5, \"y_predict\": 191.5}, {\"y_target\": 207.3, \"y_predict\": 207.3}, {\"y_target\": 185.9, \"y_predict\": 185.9}, {\"y_target\": 218.3, \"y_predict\": 218.3}, {\"y_target\": 205.0, \"y_predict\": 205.0}, {\"y_target\": 206.1, \"y_predict\": 206.1}, {\"y_target\": 133.8, \"y_predict\": 133.8}, {\"y_target\": 181.7, \"y_predict\": 181.7}, {\"y_target\": 130.3, \"y_predict\": 130.3}, {\"y_target\": 163.0, \"y_predict\": 163.0}, {\"y_target\": 202.5, \"y_predict\": 202.5}, {\"y_target\": 163.5, \"y_predict\": 163.5}, {\"y_target\": 165.5, \"y_predict\": 165.5}, {\"y_target\": 151.5, \"y_predict\": 151.5}, {\"y_target\": 248.1, \"y_predict\": 248.1}, {\"y_target\": 143.4, \"y_predict\": 143.4}, {\"y_target\": 168.9, \"y_predict\": 168.9}, {\"y_target\": 156.0, \"y_predict\": 156.0}, {\"y_target\": 184.6, \"y_predict\": 184.6}, {\"y_target\": 154.9, \"y_predict\": 154.9}, {\"y_target\": 176.2, \"y_predict\": 176.2}, {\"y_target\": 142.9, \"y_predict\": 142.9}, {\"y_target\": 200.3, \"y_predict\": 200.3}, {\"y_target\": 159.7, \"y_predict\": 159.7}, {\"y_target\": 220.9, \"y_predict\": 220.9}, {\"y_target\": 180.2, \"y_predict\": 180.2}, {\"y_target\": 146.8, \"y_predict\": 146.8}, {\"y_target\": 244.0, \"y_predict\": 244.0}, {\"y_target\": 166.9, \"y_predict\": 166.9}, {\"y_target\": 158.9, \"y_predict\": 158.9}, {\"y_target\": 127.1, \"y_predict\": 127.1}, {\"y_target\": 139.0, \"y_predict\": 139.0}, {\"y_target\": 198.5, \"y_predict\": 198.5}, {\"y_target\": 170.6, \"y_predict\": 170.6}, {\"y_target\": 162.1, \"y_predict\": 162.1}, {\"y_target\": 247.6, \"y_predict\": 247.6}, {\"y_target\": 164.5, \"y_predict\": 164.5}, {\"y_target\": 180.9, \"y_predict\": 180.9}, {\"y_target\": 161.7, \"y_predict\": 161.7}, {\"y_target\": 216.1, \"y_predict\": 216.1}, {\"y_target\": 183.4, \"y_predict\": 183.4}, {\"y_target\": 158.9, \"y_predict\": 158.9}, {\"y_target\": 115.0, \"y_predict\": 115.0}, {\"y_target\": 191.8, \"y_predict\": 191.8}, {\"y_target\": 160.3, \"y_predict\": 160.3}, {\"y_target\": 187.4, \"y_predict\": 187.4}, {\"y_target\": 139.2, \"y_predict\": 139.2}, {\"y_target\": 198.1, \"y_predict\": 198.1}, {\"y_target\": 192.1, \"y_predict\": 192.1}, {\"y_target\": 151.8, \"y_predict\": 151.8}, {\"y_target\": 192.3, \"y_predict\": 192.3}, {\"y_target\": 192.7, \"y_predict\": 192.7}, {\"y_target\": 178.9, \"y_predict\": 178.9}, {\"y_target\": 200.0, \"y_predict\": 200.0}, {\"y_target\": 206.5, \"y_predict\": 206.5}, {\"y_target\": 192.7, \"y_predict\": 192.7}, {\"y_target\": 143.9, \"y_predict\": 143.9}, {\"y_target\": 169.2, \"y_predict\": 169.2}, {\"y_target\": 183.6, \"y_predict\": 183.6}, {\"y_target\": 147.7, \"y_predict\": 147.7}, {\"y_target\": 180.1, \"y_predict\": 180.1}, {\"y_target\": 123.4, \"y_predict\": 123.4}, {\"y_target\": 183.6, \"y_predict\": 183.6}, {\"y_target\": 147.5, \"y_predict\": 147.5}, {\"y_target\": 126.3, \"y_predict\": 126.3}, {\"y_target\": 215.9, \"y_predict\": 215.9}, {\"y_target\": 156.6, \"y_predict\": 156.6}, {\"y_target\": 188.4, \"y_predict\": 188.4}, {\"y_target\": 171.0, \"y_predict\": 171.0}, {\"y_target\": 135.7, \"y_predict\": 135.7}, {\"y_target\": 184.9, \"y_predict\": 184.9}, {\"y_target\": 172.6, \"y_predict\": 172.6}, {\"y_target\": 216.9, \"y_predict\": 216.9}, {\"y_target\": 216.2, \"y_predict\": 216.2}, {\"y_target\": 140.8, \"y_predict\": 140.8}, {\"y_target\": 137.9, \"y_predict\": 137.9}, {\"y_target\": 193.7, \"y_predict\": 193.7}, {\"y_target\": 198.3, \"y_predict\": 198.3}, {\"y_target\": 236.7, \"y_predict\": 236.7}, {\"y_target\": 215.5, \"y_predict\": 215.5}, {\"y_target\": 197.2, \"y_predict\": 197.2}, {\"y_target\": 171.7, \"y_predict\": 171.7}, {\"y_target\": 211.0, \"y_predict\": 211.0}, {\"y_target\": 180.2, \"y_predict\": 180.2}, {\"y_target\": 174.0, \"y_predict\": 174.0}, {\"y_target\": 160.4, \"y_predict\": 160.4}, {\"y_target\": 195.8, \"y_predict\": 195.8}, {\"y_target\": 187.2, \"y_predict\": 187.2}, {\"y_target\": 185.4, \"y_predict\": 185.4}, {\"y_target\": 195.5, \"y_predict\": 195.5}, {\"y_target\": 158.6, \"y_predict\": 158.6}, {\"y_target\": 218.0, \"y_predict\": 218.0}, {\"y_target\": 173.0, \"y_predict\": 173.0}, {\"y_target\": 140.0, \"y_predict\": 140.0}, {\"y_target\": 148.4, \"y_predict\": 148.4}, {\"y_target\": 130.9, \"y_predict\": 130.9}, {\"y_target\": 163.7, \"y_predict\": 163.7}, {\"y_target\": 214.8, \"y_predict\": 214.8}, {\"y_target\": 292.5, \"y_predict\": 292.5}, {\"y_target\": 194.1, \"y_predict\": 194.1}, {\"y_target\": 223.9, \"y_predict\": 223.9}, {\"y_target\": 151.9, \"y_predict\": 151.9}, {\"y_target\": 205.7, \"y_predict\": 205.7}, {\"y_target\": 127.0, \"y_predict\": 127.0}, {\"y_target\": 232.0, \"y_predict\": 232.0}, {\"y_target\": 183.7, \"y_predict\": 183.7}, {\"y_target\": 218.9, \"y_predict\": 218.9}, {\"y_target\": 132.6, \"y_predict\": 132.6}, {\"y_target\": 195.6, \"y_predict\": 195.6}, {\"y_target\": 186.8, \"y_predict\": 186.8}, {\"y_target\": 165.4, \"y_predict\": 165.4}, {\"y_target\": 178.1, \"y_predict\": 178.1}, {\"y_target\": 164.1, \"y_predict\": 164.1}, {\"y_target\": 183.2, \"y_predict\": 183.2}, {\"y_target\": 175.5, \"y_predict\": 175.5}, {\"y_target\": 188.8, \"y_predict\": 188.8}, {\"y_target\": 164.0, \"y_predict\": 164.0}, {\"y_target\": 155.8, \"y_predict\": 155.8}, {\"y_target\": 179.0, \"y_predict\": 179.0}, {\"y_target\": 129.0, \"y_predict\": 129.0}, {\"y_target\": 166.8, \"y_predict\": 166.8}, {\"y_target\": 222.0, \"y_predict\": 222.0}, {\"y_target\": 178.6, \"y_predict\": 178.6}, {\"y_target\": 187.3, \"y_predict\": 187.3}, {\"y_target\": 181.1, \"y_predict\": 181.1}, {\"y_target\": 174.7, \"y_predict\": 174.7}, {\"y_target\": 145.1, \"y_predict\": 145.1}, {\"y_target\": 210.1, \"y_predict\": 210.1}, {\"y_target\": 201.8, \"y_predict\": 201.8}, {\"y_target\": 203.3, \"y_predict\": 203.3}, {\"y_target\": 197.3, \"y_predict\": 197.3}, {\"y_target\": 230.9, \"y_predict\": 230.9}, {\"y_target\": 178.5, \"y_predict\": 178.5}, {\"y_target\": 184.3, \"y_predict\": 184.3}, {\"y_target\": 156.9, \"y_predict\": 156.9}, {\"y_target\": 180.2, \"y_predict\": 180.2}, {\"y_target\": 175.8, \"y_predict\": 175.8}, {\"y_target\": 145.0, \"y_predict\": 145.0}, {\"y_target\": 177.2, \"y_predict\": 177.2}, {\"y_target\": 207.4, \"y_predict\": 207.4}, {\"y_target\": 163.1, \"y_predict\": 163.1}, {\"y_target\": 142.2, \"y_predict\": 142.2}, {\"y_target\": 172.8, \"y_predict\": 172.8}, {\"y_target\": 182.8, \"y_predict\": 182.8}, {\"y_target\": 182.9, \"y_predict\": 182.9}, {\"y_target\": 140.5, \"y_predict\": 140.5}, {\"y_target\": 214.0, \"y_predict\": 214.0}, {\"y_target\": 160.2, \"y_predict\": 160.2}, {\"y_target\": 138.8, \"y_predict\": 138.8}, {\"y_target\": 153.3, \"y_predict\": 153.3}, {\"y_target\": 212.5, \"y_predict\": 212.5}, {\"y_target\": 201.4, \"y_predict\": 201.4}, {\"y_target\": 241.9, \"y_predict\": 241.9}, {\"y_target\": 175.7, \"y_predict\": 175.7}, {\"y_target\": 146.5, \"y_predict\": 146.5}, {\"y_target\": 162.5, \"y_predict\": 162.5}, {\"y_target\": 169.4, \"y_predict\": 169.4}, {\"y_target\": 212.3, \"y_predict\": 212.3}, {\"y_target\": 181.8, \"y_predict\": 181.8}, {\"y_target\": 131.6, \"y_predict\": 131.6}, {\"y_target\": 147.2, \"y_predict\": 147.2}, {\"y_target\": 151.2, \"y_predict\": 151.2}, {\"y_target\": 173.4, \"y_predict\": 173.4}, {\"y_target\": 205.9, \"y_predict\": 205.9}, {\"y_target\": 188.4, \"y_predict\": 188.4}, {\"y_target\": 159.3, \"y_predict\": 159.3}, {\"y_target\": 196.1, \"y_predict\": 196.1}, {\"y_target\": 196.0, \"y_predict\": 196.0}, {\"y_target\": 199.7, \"y_predict\": 199.7}, {\"y_target\": 181.3, \"y_predict\": 181.3}, {\"y_target\": 191.8, \"y_predict\": 191.8}, {\"y_target\": 132.3, \"y_predict\": 132.3}, {\"y_target\": 217.9, \"y_predict\": 217.9}, {\"y_target\": 168.4, \"y_predict\": 168.4}, {\"y_target\": 183.8, \"y_predict\": 183.8}, {\"y_target\": 153.1, \"y_predict\": 153.1}, {\"y_target\": 188.3, \"y_predict\": 188.3}, {\"y_target\": 181.3, \"y_predict\": 181.3}, {\"y_target\": 199.1, \"y_predict\": 199.1}, {\"y_target\": 176.0, \"y_predict\": 176.0}, {\"y_target\": 171.3, \"y_predict\": 171.3}, {\"y_target\": 178.8, \"y_predict\": 178.8}, {\"y_target\": 155.3, \"y_predict\": 155.3}, {\"y_target\": 170.6, \"y_predict\": 170.6}, {\"y_target\": 151.2, \"y_predict\": 151.2}, {\"y_target\": 146.5, \"y_predict\": 146.5}, {\"y_target\": 217.0, \"y_predict\": 217.0}, {\"y_target\": 178.2, \"y_predict\": 178.2}, {\"y_target\": 113.9, \"y_predict\": 113.9}, {\"y_target\": 165.8, \"y_predict\": 165.8}, {\"y_target\": 160.0, \"y_predict\": 160.0}, {\"y_target\": 165.5, \"y_predict\": 165.5}, {\"y_target\": 188.4, \"y_predict\": 188.4}, {\"y_target\": 142.4, \"y_predict\": 142.4}, {\"y_target\": 202.7, \"y_predict\": 202.7}, {\"y_target\": 206.9, \"y_predict\": 206.9}, {\"y_target\": 169.3, \"y_predict\": 169.3}, {\"y_target\": 179.6, \"y_predict\": 179.6}, {\"y_target\": 233.0, \"y_predict\": 233.0}, {\"y_target\": 178.2, \"y_predict\": 178.2}, {\"y_target\": 193.1, \"y_predict\": 193.1}, {\"y_target\": 194.5, \"y_predict\": 194.5}, {\"y_target\": 158.6, \"y_predict\": 158.6}, {\"y_target\": 170.4, \"y_predict\": 170.4}, {\"y_target\": 181.2, \"y_predict\": 181.2}, {\"y_target\": 124.8, \"y_predict\": 124.8}, {\"y_target\": 178.8, \"y_predict\": 178.8}, {\"y_target\": 180.1, \"y_predict\": 180.1}, {\"y_target\": 231.3, \"y_predict\": 231.3}, {\"y_target\": 173.9, \"y_predict\": 173.9}, {\"y_target\": 141.0, \"y_predict\": 141.0}, {\"y_target\": 129.8, \"y_predict\": 129.8}, {\"y_target\": 362.8, \"y_predict\": 362.8}, {\"y_target\": 167.8, \"y_predict\": 167.8}, {\"y_target\": 150.7, \"y_predict\": 150.7}, {\"y_target\": 116.0, \"y_predict\": 116.0}, {\"y_target\": 175.3, \"y_predict\": 175.3}, {\"y_target\": 164.1, \"y_predict\": 164.1}, {\"y_target\": 180.1, \"y_predict\": 180.1}, {\"y_target\": 148.3, \"y_predict\": 148.3}, {\"y_target\": 162.7, \"y_predict\": 162.7}, {\"y_target\": 183.7, \"y_predict\": 183.7}, {\"y_target\": 162.5, \"y_predict\": 162.5}, {\"y_target\": 200.1, \"y_predict\": 200.1}, {\"y_target\": 166.2, \"y_predict\": 166.2}, {\"y_target\": 191.9, \"y_predict\": 191.9}, {\"y_target\": 143.8, \"y_predict\": 143.8}, {\"y_target\": 156.1, \"y_predict\": 156.1}, {\"y_target\": 167.4, \"y_predict\": 167.4}, {\"y_target\": 217.1, \"y_predict\": 217.1}, {\"y_target\": 150.3, \"y_predict\": 150.3}, {\"y_target\": 152.8, \"y_predict\": 152.8}, {\"y_target\": 161.1, \"y_predict\": 161.1}, {\"y_target\": 187.6, \"y_predict\": 187.6}, {\"y_target\": 131.6, \"y_predict\": 131.6}, {\"y_target\": 187.5, \"y_predict\": 187.5}, {\"y_target\": 174.2, \"y_predict\": 174.2}, {\"y_target\": 199.1, \"y_predict\": 199.1}], \"data-67ec8e5399c3c6256f4c579548839a5d\": [{\"y_target\": 159.5, \"y_predict\": 165.20530799750713}, {\"y_target\": 167.2, \"y_predict\": 164.6268443979191}, {\"y_target\": 131.6, \"y_predict\": 150.67243120584095}, {\"y_target\": 189.4, \"y_predict\": 166.89532564668318}, {\"y_target\": 168.9, \"y_predict\": 165.41280228265416}, {\"y_target\": 130.6, \"y_predict\": 137.62374291905647}, {\"y_target\": 162.7, \"y_predict\": 184.71212314620954}, {\"y_target\": 153.9, \"y_predict\": 159.23455862337195}, {\"y_target\": 176.4, \"y_predict\": 171.45331102294293}, {\"y_target\": 155.5, \"y_predict\": 188.8834514283994}, {\"y_target\": 248.2, \"y_predict\": 230.79131210929341}, {\"y_target\": 155.8, \"y_predict\": 159.3276295452246}, {\"y_target\": 164.6, \"y_predict\": 189.41407992600725}, {\"y_target\": 161.5, \"y_predict\": 168.55968436779634}, {\"y_target\": 144.9, \"y_predict\": 169.73772784507264}, {\"y_target\": 183.4, \"y_predict\": 178.14006946485856}, {\"y_target\": 187.4, \"y_predict\": 183.73326050141657}, {\"y_target\": 131.2, \"y_predict\": 172.54453631811512}, {\"y_target\": 193.4, \"y_predict\": 205.14707056283675}, {\"y_target\": 180.3, \"y_predict\": 189.9949161317266}, {\"y_target\": 165.6, \"y_predict\": 171.36966373307573}, {\"y_target\": 171.8, \"y_predict\": 169.90329578380593}, {\"y_target\": 157.4, \"y_predict\": 165.5240993227563}, {\"y_target\": 180.4, \"y_predict\": 209.38882059470924}, {\"y_target\": 166.0, \"y_predict\": 168.99584074450604}, {\"y_target\": 142.1, \"y_predict\": 146.90702837298772}, {\"y_target\": 218.3, \"y_predict\": 207.7476798868044}, {\"y_target\": 176.8, \"y_predict\": 173.85352406078454}, {\"y_target\": 205.2, \"y_predict\": 149.66980383981027}, {\"y_target\": 188.6, \"y_predict\": 180.12629784941305}, {\"y_target\": 173.5, \"y_predict\": 167.7012597898646}, {\"y_target\": 179.7, \"y_predict\": 214.93332818916272}, {\"y_target\": 193.7, \"y_predict\": 186.3505311134759}, {\"y_target\": 173.3, \"y_predict\": 165.6777659385851}, {\"y_target\": 181.9, \"y_predict\": 181.40781874675432}, {\"y_target\": 153.7, \"y_predict\": 158.0211327368534}, {\"y_target\": 177.3, \"y_predict\": 192.50654740840164}, {\"y_target\": 201.3, \"y_predict\": 210.50106898539957}, {\"y_target\": 164.3, \"y_predict\": 212.90429989999626}, {\"y_target\": 185.8, \"y_predict\": 169.87662792777874}, {\"y_target\": 180.8, \"y_predict\": 171.8368212585528}, {\"y_target\": 179.9, \"y_predict\": 184.52931552577692}, {\"y_target\": 170.0, \"y_predict\": 175.50981079783583}, {\"y_target\": 176.2, \"y_predict\": 156.9968758317402}, {\"y_target\": 159.3, \"y_predict\": 151.72981761083628}, {\"y_target\": 204.9, \"y_predict\": 196.49856569764205}, {\"y_target\": 162.8, \"y_predict\": 215.61793123930212}, {\"y_target\": 126.0, \"y_predict\": 120.93262001883225}, {\"y_target\": 172.2, \"y_predict\": 178.74343447155832}, {\"y_target\": 163.6, \"y_predict\": 169.422289448756}, {\"y_target\": 220.4, \"y_predict\": 191.99610500067195}, {\"y_target\": 172.4, \"y_predict\": 164.50824763044716}, {\"y_target\": 173.2, \"y_predict\": 199.70743680703626}, {\"y_target\": 194.7, \"y_predict\": 190.4258302971293}, {\"y_target\": 183.9, \"y_predict\": 167.96528476463533}, {\"y_target\": 199.1, \"y_predict\": 196.70945773965897}, {\"y_target\": 200.3, \"y_predict\": 192.41556470551686}, {\"y_target\": 155.7, \"y_predict\": 176.86281612721328}, {\"y_target\": 177.0, \"y_predict\": 153.42391634609447}, {\"y_target\": 184.7, \"y_predict\": 177.43038078248762}, {\"y_target\": 166.2, \"y_predict\": 164.98886379062094}, {\"y_target\": 218.9, \"y_predict\": 212.18453206611375}, {\"y_target\": 175.4, \"y_predict\": 182.08763862251612}, {\"y_target\": 250.0, \"y_predict\": 212.39097784779972}, {\"y_target\": 180.4, \"y_predict\": 188.70464001871758}, {\"y_target\": 165.1, \"y_predict\": 174.0550148877908}, {\"y_target\": 151.6, \"y_predict\": 147.328307017116}, {\"y_target\": 190.7, \"y_predict\": 191.89161977790695}, {\"y_target\": 125.2, \"y_predict\": 127.5227620845068}, {\"y_target\": 202.3, \"y_predict\": 194.22790455626082}, {\"y_target\": 140.8, \"y_predict\": 154.8309301581325}, {\"y_target\": 240.1, \"y_predict\": 211.31255452167989}, {\"y_target\": 211.0, \"y_predict\": 217.23472273114243}, {\"y_target\": 202.5, \"y_predict\": 207.4841242960083}, {\"y_target\": 211.3, \"y_predict\": 185.35822034766022}, {\"y_target\": 174.0, \"y_predict\": 174.06883610080575}, {\"y_target\": 194.0, \"y_predict\": 196.9234635945842}, {\"y_target\": 234.4, \"y_predict\": 208.49711128896604}, {\"y_target\": 177.3, \"y_predict\": 184.13329367379478}, {\"y_target\": 181.8, \"y_predict\": 185.52067649119488}, {\"y_target\": 199.5, \"y_predict\": 201.7992930196906}, {\"y_target\": 150.1, \"y_predict\": 131.3433860216646}, {\"y_target\": 147.6, \"y_predict\": 182.8439807631439}, {\"y_target\": 192.6, \"y_predict\": 201.32387428978672}, {\"y_target\": 173.4, \"y_predict\": 178.08931701015518}, {\"y_target\": 191.2, \"y_predict\": 190.27465069896735}, {\"y_target\": 184.2, \"y_predict\": 175.0643130355753}, {\"y_target\": 189.0, \"y_predict\": 180.68315694533985}, {\"y_target\": 159.3, \"y_predict\": 192.28094490626845}, {\"y_target\": 151.9, \"y_predict\": 163.83753526767163}, {\"y_target\": 230.1, \"y_predict\": 201.19194693643362}, {\"y_target\": 167.2, \"y_predict\": 161.70939143233366}, {\"y_target\": 200.1, \"y_predict\": 210.5248283476472}, {\"y_target\": 205.1, \"y_predict\": 197.03858915390566}, {\"y_target\": 185.8, \"y_predict\": 167.52153171731518}, {\"y_target\": 153.9, \"y_predict\": 157.05175026788208}, {\"y_target\": 258.7, \"y_predict\": 182.86451449649718}, {\"y_target\": 147.6, \"y_predict\": 147.7439118715027}, {\"y_target\": 186.4, \"y_predict\": 190.01689470316927}, {\"y_target\": 194.9, \"y_predict\": 209.90927834179303}, {\"y_target\": 176.1, \"y_predict\": 178.529065668523}, {\"y_target\": 169.2, \"y_predict\": 172.47473578417143}, {\"y_target\": 136.4, \"y_predict\": 170.61119020933197}, {\"y_target\": 156.0, \"y_predict\": 171.6305074854947}, {\"y_target\": 222.5, \"y_predict\": 193.75857121380346}, {\"y_target\": 168.1, \"y_predict\": 151.70235929484264}, {\"y_target\": 203.0, \"y_predict\": 192.9952950428447}, {\"y_target\": 162.9, \"y_predict\": 155.46894594466923}, {\"y_target\": 248.7, \"y_predict\": 201.1547042924916}, {\"y_target\": 157.5, \"y_predict\": 179.92714141099614}, {\"y_target\": 209.6, \"y_predict\": 160.2286936935414}, {\"y_target\": 184.6, \"y_predict\": 196.1208246503341}, {\"y_target\": 148.8, \"y_predict\": 139.7971912270557}, {\"y_target\": 183.0, \"y_predict\": 196.0192420494138}, {\"y_target\": 195.5, \"y_predict\": 188.21670060764748}, {\"y_target\": 181.9, \"y_predict\": 191.34782338896648}, {\"y_target\": 182.1, \"y_predict\": 194.47503176427406}, {\"y_target\": 247.1, \"y_predict\": 203.32379421880228}, {\"y_target\": 170.7, \"y_predict\": 174.02376071935356}, {\"y_target\": 230.9, \"y_predict\": 207.2488818405754}, {\"y_target\": 198.9, \"y_predict\": 217.23806274888784}, {\"y_target\": 163.4, \"y_predict\": 166.26936671239312}, {\"y_target\": 168.9, \"y_predict\": 177.58682391178777}, {\"y_target\": 229.7, \"y_predict\": 204.60670951793315}, {\"y_target\": 187.2, \"y_predict\": 159.20103149966428}, {\"y_target\": 210.0, \"y_predict\": 181.6788551817598}, {\"y_target\": 171.5, \"y_predict\": 176.23993204919242}, {\"y_target\": 181.4, \"y_predict\": 187.52740599459315}, {\"y_target\": 175.3, \"y_predict\": 179.13694318640813}, {\"y_target\": 144.8, \"y_predict\": 161.56300962748878}, {\"y_target\": 142.1, \"y_predict\": 177.6705149260906}, {\"y_target\": 193.8, \"y_predict\": 184.56914767341405}, {\"y_target\": 170.1, \"y_predict\": 164.3923420659754}, {\"y_target\": 146.4, \"y_predict\": 157.927949783631}, {\"y_target\": 195.3, \"y_predict\": 170.9965388718191}, {\"y_target\": 161.3, \"y_predict\": 170.77690393616066}, {\"y_target\": 162.6, \"y_predict\": 150.59725388743811}, {\"y_target\": 216.3, \"y_predict\": 214.41730553584162}, {\"y_target\": 168.3, \"y_predict\": 189.50688314754848}, {\"y_target\": 214.9, \"y_predict\": 196.3714906623305}, {\"y_target\": 203.4, \"y_predict\": 185.94086287879543}, {\"y_target\": 162.6, \"y_predict\": 160.1677908668747}, {\"y_target\": 213.6, \"y_predict\": 178.99876188596548}, {\"y_target\": 186.1, \"y_predict\": 197.8860971307486}, {\"y_target\": 214.7, \"y_predict\": 194.74950034014165}, {\"y_target\": 190.2, \"y_predict\": 184.55516676781815}, {\"y_target\": 202.3, \"y_predict\": 189.91063305690918}, {\"y_target\": 229.9, \"y_predict\": 209.04819533304513}, {\"y_target\": 184.1, \"y_predict\": 189.74150757911332}, {\"y_target\": 182.6, \"y_predict\": 154.94503441414392}, {\"y_target\": 171.6, \"y_predict\": 186.3526762973092}, {\"y_target\": 176.6, \"y_predict\": 182.81947686066115}, {\"y_target\": 207.0, \"y_predict\": 203.4649148467755}, {\"y_target\": 170.0, \"y_predict\": 173.77942049314268}, {\"y_target\": 180.0, \"y_predict\": 187.51513229332937}, {\"y_target\": 199.6, \"y_predict\": 185.71050439683748}, {\"y_target\": 178.3, \"y_predict\": 179.27575376849043}, {\"y_target\": 211.2, \"y_predict\": 194.21373589573668}, {\"y_target\": 169.2, \"y_predict\": 183.25942923121855}, {\"y_target\": 180.5, \"y_predict\": 185.3995457068528}, {\"y_target\": 127.9, \"y_predict\": 135.21941774121382}, {\"y_target\": 136.3, \"y_predict\": 158.9131532238251}, {\"y_target\": 154.2, \"y_predict\": 171.58156014232023}, {\"y_target\": 222.5, \"y_predict\": 198.77277569803968}, {\"y_target\": 199.1, \"y_predict\": 184.60496243561394}, {\"y_target\": 183.5, \"y_predict\": 177.75603076689796}, {\"y_target\": 152.7, \"y_predict\": 154.40381641522904}, {\"y_target\": 185.6, \"y_predict\": 201.37603058689135}, {\"y_target\": 203.1, \"y_predict\": 189.92724620667008}, {\"y_target\": 173.3, \"y_predict\": 172.55800781385298}, {\"y_target\": 201.2, \"y_predict\": 188.10995475921342}, {\"y_target\": 176.6, \"y_predict\": 174.68586570073666}, {\"y_target\": 182.7, \"y_predict\": 181.72041428535155}, {\"y_target\": 179.9, \"y_predict\": 164.0666663116694}, {\"y_target\": 130.4, \"y_predict\": 152.45382185422983}, {\"y_target\": 173.8, \"y_predict\": 147.3113660885152}, {\"y_target\": 186.9, \"y_predict\": 187.6934409356117}, {\"y_target\": 179.9, \"y_predict\": 179.6931508072272}, {\"y_target\": 211.9, \"y_predict\": 216.95727994110666}, {\"y_target\": 153.5, \"y_predict\": 175.12054304567164}, {\"y_target\": 188.2, \"y_predict\": 191.93991907710327}, {\"y_target\": 168.7, \"y_predict\": 175.82846736710243}, {\"y_target\": 177.9, \"y_predict\": 177.91459657366073}, {\"y_target\": 147.4, \"y_predict\": 156.3004606471656}, {\"y_target\": 155.1, \"y_predict\": 159.14719291962365}, {\"y_target\": 155.5, \"y_predict\": 160.62165222104323}, {\"y_target\": 185.6, \"y_predict\": 174.90179249657626}, {\"y_target\": 195.0, \"y_predict\": 208.93931618215174}, {\"y_target\": 173.1, \"y_predict\": 186.6027168840063}, {\"y_target\": 209.6, \"y_predict\": 157.42245804199703}, {\"y_target\": 145.8, \"y_predict\": 158.11516214793406}, {\"y_target\": 160.0, \"y_predict\": 196.13275090727868}, {\"y_target\": 182.4, \"y_predict\": 171.77409879078252}, {\"y_target\": 152.5, \"y_predict\": 181.2639817974317}, {\"y_target\": 174.1, \"y_predict\": 176.9975641667021}, {\"y_target\": 132.6, \"y_predict\": 149.2339290465437}, {\"y_target\": 183.2, \"y_predict\": 186.63746474169974}, {\"y_target\": 200.2, \"y_predict\": 180.91700905950597}, {\"y_target\": 187.2, \"y_predict\": 189.1781281215641}, {\"y_target\": 190.0, \"y_predict\": 192.00231242690387}, {\"y_target\": 176.8, \"y_predict\": 172.9064450368157}, {\"y_target\": 167.5, \"y_predict\": 165.02036204844018}, {\"y_target\": 179.5, \"y_predict\": 176.6843789093326}, {\"y_target\": 187.8, \"y_predict\": 168.6563367730144}, {\"y_target\": 177.6, \"y_predict\": 161.8396774446896}, {\"y_target\": 188.3, \"y_predict\": 163.91612895869625}, {\"y_target\": 173.3, \"y_predict\": 173.4119033430759}, {\"y_target\": 154.6, \"y_predict\": 155.43881753029177}, {\"y_target\": 163.0, \"y_predict\": 167.80031661533627}, {\"y_target\": 163.1, \"y_predict\": 160.59950336562557}, {\"y_target\": 186.9, \"y_predict\": 182.3900716110264}, {\"y_target\": 210.8, \"y_predict\": 191.91696488492417}, {\"y_target\": 181.1, \"y_predict\": 208.9769422703003}, {\"y_target\": 131.9, \"y_predict\": 144.33235945507187}, {\"y_target\": 186.7, \"y_predict\": 165.34619266360832}, {\"y_target\": 173.8, \"y_predict\": 174.88405975370708}, {\"y_target\": 153.4, \"y_predict\": 159.41974621858466}, {\"y_target\": 102.6, \"y_predict\": 107.81807862356649}, {\"y_target\": 189.8, \"y_predict\": 193.8977388571411}, {\"y_target\": 160.3, \"y_predict\": 170.89842555624477}, {\"y_target\": 181.3, \"y_predict\": 192.29126365779638}, {\"y_target\": 176.3, \"y_predict\": 178.68470313313023}, {\"y_target\": 161.9, \"y_predict\": 180.00052009816426}, {\"y_target\": 205.4, \"y_predict\": 198.90445266807706}, {\"y_target\": 185.8, \"y_predict\": 188.87460710075754}, {\"y_target\": 206.1, \"y_predict\": 185.00058173735962}, {\"y_target\": 181.6, \"y_predict\": 180.00688515766947}, {\"y_target\": 114.3, \"y_predict\": 159.5944224602396}, {\"y_target\": 189.9, \"y_predict\": 195.34480345728056}, {\"y_target\": 160.0, \"y_predict\": 162.85217537337843}, {\"y_target\": 206.0, \"y_predict\": 200.47300293027936}, {\"y_target\": 174.6, \"y_predict\": 197.61371123685277}, {\"y_target\": 189.7, \"y_predict\": 195.7972247583435}, {\"y_target\": 183.1, \"y_predict\": 181.78078818990267}, {\"y_target\": 170.1, \"y_predict\": 191.0263928188324}, {\"y_target\": 237.1, \"y_predict\": 199.52903583485949}, {\"y_target\": 181.5, \"y_predict\": 200.88055044246067}, {\"y_target\": 179.2, \"y_predict\": 177.49700736176567}, {\"y_target\": 210.0, \"y_predict\": 194.6820843935624}, {\"y_target\": 177.5, \"y_predict\": 193.80915288629626}, {\"y_target\": 150.8, \"y_predict\": 173.06921202123112}, {\"y_target\": 189.2, \"y_predict\": 196.9259910284103}, {\"y_target\": 152.3, \"y_predict\": 138.28479599125353}, {\"y_target\": 178.0, \"y_predict\": 157.18534351235536}, {\"y_target\": 196.8, \"y_predict\": 183.1412841702903}, {\"y_target\": 151.3, \"y_predict\": 172.40892701589846}, {\"y_target\": 177.8, \"y_predict\": 168.43539985261393}, {\"y_target\": 179.0, \"y_predict\": 167.356421586255}, {\"y_target\": 186.6, \"y_predict\": 193.087098607383}, {\"y_target\": 139.2, \"y_predict\": 180.85078635049243}, {\"y_target\": 182.3, \"y_predict\": 183.40729146404993}, {\"y_target\": 205.0, \"y_predict\": 183.8904627333501}, {\"y_target\": 174.4, \"y_predict\": 174.958347147232}, {\"y_target\": 171.9, \"y_predict\": 142.80257529157365}, {\"y_target\": 194.1, \"y_predict\": 175.1176782057505}, {\"y_target\": 193.7, \"y_predict\": 180.1209524790581}, {\"y_target\": 132.5, \"y_predict\": 133.47085074696184}, {\"y_target\": 140.9, \"y_predict\": 161.57157391893566}, {\"y_target\": 186.4, \"y_predict\": 199.95860198320725}, {\"y_target\": 240.1, \"y_predict\": 221.03449077337558}, {\"y_target\": 161.0, \"y_predict\": 182.87188171029976}, {\"y_target\": 184.3, \"y_predict\": 182.97220796784774}, {\"y_target\": 102.1, \"y_predict\": 111.97282932952368}, {\"y_target\": 166.5, \"y_predict\": 165.30366546251656}, {\"y_target\": 185.0, \"y_predict\": 185.06448974127403}, {\"y_target\": 178.8, \"y_predict\": 177.71368324129313}, {\"y_target\": 213.1, \"y_predict\": 186.53367674716202}, {\"y_target\": 59.7, \"y_predict\": 86.8358252969953}, {\"y_target\": 158.6, \"y_predict\": 151.85337378747636}, {\"y_target\": 226.0, \"y_predict\": 205.8348781296163}, {\"y_target\": 152.7, \"y_predict\": 150.45012063013098}, {\"y_target\": 177.8, \"y_predict\": 190.19197425750346}, {\"y_target\": 196.0, \"y_predict\": 189.4468535780862}, {\"y_target\": 180.7, \"y_predict\": 195.79613927422974}, {\"y_target\": 221.7, \"y_predict\": 222.2970890413416}, {\"y_target\": 143.8, \"y_predict\": 134.10949097664468}, {\"y_target\": 209.5, \"y_predict\": 187.6689535798822}, {\"y_target\": 269.2, \"y_predict\": 222.4197079692347}, {\"y_target\": 168.7, \"y_predict\": 168.1795717653903}, {\"y_target\": 137.7, \"y_predict\": 166.00940117091608}, {\"y_target\": 164.4, \"y_predict\": 177.4678797072791}, {\"y_target\": 177.8, \"y_predict\": 197.9104789041657}, {\"y_target\": 132.7, \"y_predict\": 143.2129281212758}, {\"y_target\": 170.9, \"y_predict\": 156.39302834107326}, {\"y_target\": 211.2, \"y_predict\": 208.893831643595}, {\"y_target\": 184.4, \"y_predict\": 191.77171666681318}, {\"y_target\": 144.6, \"y_predict\": 151.84384510532925}, {\"y_target\": 209.4, \"y_predict\": 192.15197992912042}, {\"y_target\": 202.1, \"y_predict\": 190.06289747617484}, {\"y_target\": 195.4, \"y_predict\": 155.36554731260952}, {\"y_target\": 178.4, \"y_predict\": 176.94424922404008}, {\"y_target\": 174.8, \"y_predict\": 170.33518176640683}, {\"y_target\": 151.9, \"y_predict\": 158.2374329169245}, {\"y_target\": 208.4, \"y_predict\": 212.96460785478902}, {\"y_target\": 198.2, \"y_predict\": 206.24154870232178}, {\"y_target\": 240.1, \"y_predict\": 214.3150417209094}, {\"y_target\": 181.6, \"y_predict\": 183.31982460210145}, {\"y_target\": 171.4, \"y_predict\": 166.41199480926466}, {\"y_target\": 193.2, \"y_predict\": 183.53704303274148}, {\"y_target\": 223.4, \"y_predict\": 176.82107509124222}, {\"y_target\": 161.8, \"y_predict\": 165.92385208517737}, {\"y_target\": 160.0, \"y_predict\": 201.66310386099417}, {\"y_target\": 185.0, \"y_predict\": 185.46542185731246}, {\"y_target\": 170.3, \"y_predict\": 164.3614278085525}, {\"y_target\": 153.4, \"y_predict\": 160.88850976972276}, {\"y_target\": 198.4, \"y_predict\": 193.51395189533764}, {\"y_target\": 160.8, \"y_predict\": 158.16341557016213}, {\"y_target\": 168.8, \"y_predict\": 180.0973822186449}, {\"y_target\": 163.8, \"y_predict\": 131.0794526263494}, {\"y_target\": 186.7, \"y_predict\": 182.9266906882488}, {\"y_target\": 145.5, \"y_predict\": 148.97690272275557}, {\"y_target\": 135.0, \"y_predict\": 125.35489371245995}, {\"y_target\": 187.0, \"y_predict\": 200.55774834407634}, {\"y_target\": 216.9, \"y_predict\": 217.79624199242144}, {\"y_target\": 153.7, \"y_predict\": 160.83846734283088}, {\"y_target\": 168.7, \"y_predict\": 189.44653722564976}, {\"y_target\": 212.2, \"y_predict\": 218.6090853555403}, {\"y_target\": 168.3, \"y_predict\": 170.70639265578896}, {\"y_target\": 139.4, \"y_predict\": 150.1829019285572}, {\"y_target\": 108.8, \"y_predict\": 146.60840337659326}, {\"y_target\": 167.7, \"y_predict\": 166.5430790082812}, {\"y_target\": 146.4, \"y_predict\": 154.12913662151}, {\"y_target\": 196.6, \"y_predict\": 190.902952896948}, {\"y_target\": 182.8, \"y_predict\": 164.93627359417786}, {\"y_target\": 152.1, \"y_predict\": 150.94014846797663}, {\"y_target\": 191.1, \"y_predict\": 176.11359394452023}, {\"y_target\": 211.4, \"y_predict\": 197.55357970748022}, {\"y_target\": 174.6, \"y_predict\": 180.34655472525344}, {\"y_target\": 153.8, \"y_predict\": 162.44729908206392}, {\"y_target\": 182.2, \"y_predict\": 169.4288529900748}, {\"y_target\": 194.7, \"y_predict\": 193.0961417021312}, {\"y_target\": 153.3, \"y_predict\": 155.82612851325644}, {\"y_target\": 162.0, \"y_predict\": 161.90221916361185}, {\"y_target\": 157.4, \"y_predict\": 164.10120933447104}, {\"y_target\": 176.0, \"y_predict\": 175.23321704927372}, {\"y_target\": 206.0, \"y_predict\": 182.6631762097804}, {\"y_target\": 136.9, \"y_predict\": 168.79205207443303}, {\"y_target\": 226.5, \"y_predict\": 220.90220785100598}, {\"y_target\": 199.1, \"y_predict\": 183.21430713115157}, {\"y_target\": 143.5, \"y_predict\": 166.42513073266207}, {\"y_target\": 159.7, \"y_predict\": 178.59986685224217}, {\"y_target\": 136.5, \"y_predict\": 170.355457929649}, {\"y_target\": 198.4, \"y_predict\": 204.00097684400757}, {\"y_target\": 174.4, \"y_predict\": 183.00427177719166}, {\"y_target\": 126.1, \"y_predict\": 143.50849758270516}, {\"y_target\": 193.1, \"y_predict\": 185.2351295334847}, {\"y_target\": 180.8, \"y_predict\": 188.55002618739312}, {\"y_target\": 198.1, \"y_predict\": 202.58413196334024}, {\"y_target\": 190.4, \"y_predict\": 193.3905154739569}, {\"y_target\": 188.3, \"y_predict\": 186.09719698649397}, {\"y_target\": 162.9, \"y_predict\": 138.62969907973437}, {\"y_target\": 169.3, \"y_predict\": 179.42248283422103}, {\"y_target\": 178.9, \"y_predict\": 185.22613828363063}, {\"y_target\": 205.5, \"y_predict\": 204.6151763163293}, {\"y_target\": 219.4, \"y_predict\": 175.21793006247563}, {\"y_target\": 213.7, \"y_predict\": 208.95105321135117}, {\"y_target\": 201.1, \"y_predict\": 198.7233617946186}, {\"y_target\": 161.6, \"y_predict\": 171.17535412555122}, {\"y_target\": 159.9, \"y_predict\": 182.29877510691736}, {\"y_target\": 181.4, \"y_predict\": 162.02396163670576}, {\"y_target\": 172.5, \"y_predict\": 178.80861936387146}, {\"y_target\": 187.1, \"y_predict\": 202.71735985921708}, {\"y_target\": 167.7, \"y_predict\": 166.17458838880916}, {\"y_target\": 174.1, \"y_predict\": 178.5377647705736}, {\"y_target\": 104.8, \"y_predict\": 145.46761537278311}, {\"y_target\": 131.4, \"y_predict\": 155.27602348914576}, {\"y_target\": 162.2, \"y_predict\": 174.7978026798524}, {\"y_target\": 180.0, \"y_predict\": 167.27923970778522}, {\"y_target\": 200.7, \"y_predict\": 198.56801376017316}, {\"y_target\": 151.5, \"y_predict\": 180.86171477363274}, {\"y_target\": 144.3, \"y_predict\": 183.79707484035288}, {\"y_target\": 191.5, \"y_predict\": 179.8367091973873}, {\"y_target\": 207.3, \"y_predict\": 192.44826112623286}, {\"y_target\": 185.9, \"y_predict\": 151.20822929549442}, {\"y_target\": 218.3, \"y_predict\": 216.5823326427256}, {\"y_target\": 205.0, \"y_predict\": 196.81828125358032}, {\"y_target\": 206.1, \"y_predict\": 193.2765780235803}, {\"y_target\": 133.8, \"y_predict\": 146.37582630126911}, {\"y_target\": 181.7, \"y_predict\": 196.39062497809937}, {\"y_target\": 130.3, \"y_predict\": 151.3114873543176}, {\"y_target\": 163.0, \"y_predict\": 165.68193531087573}, {\"y_target\": 202.5, \"y_predict\": 159.3690460940066}, {\"y_target\": 163.5, \"y_predict\": 170.34599076651915}, {\"y_target\": 165.5, \"y_predict\": 174.58868519076728}, {\"y_target\": 151.5, \"y_predict\": 173.1413080528986}, {\"y_target\": 248.1, \"y_predict\": 219.4642360456333}, {\"y_target\": 143.4, \"y_predict\": 160.6394256487819}, {\"y_target\": 168.9, \"y_predict\": 171.19468782663353}, {\"y_target\": 156.0, \"y_predict\": 172.10594014154708}, {\"y_target\": 184.6, \"y_predict\": 179.0905183307055}, {\"y_target\": 154.9, \"y_predict\": 164.7596263332545}, {\"y_target\": 176.2, \"y_predict\": 209.43659621797522}, {\"y_target\": 142.9, \"y_predict\": 162.54986405158576}, {\"y_target\": 200.3, \"y_predict\": 179.73420600017604}, {\"y_target\": 159.7, \"y_predict\": 176.0937644559732}, {\"y_target\": 220.9, \"y_predict\": 210.66347744689415}, {\"y_target\": 180.2, \"y_predict\": 174.05907103623926}, {\"y_target\": 146.8, \"y_predict\": 172.03928704287262}, {\"y_target\": 244.0, \"y_predict\": 207.1694413525636}, {\"y_target\": 166.9, \"y_predict\": 157.53823182632635}, {\"y_target\": 158.9, \"y_predict\": 171.5900705688953}, {\"y_target\": 127.1, \"y_predict\": 168.73975220278302}, {\"y_target\": 139.0, \"y_predict\": 170.94216359185268}, {\"y_target\": 198.5, \"y_predict\": 194.8191085034596}, {\"y_target\": 170.6, \"y_predict\": 167.18876001793495}, {\"y_target\": 162.1, \"y_predict\": 169.97327609081108}, {\"y_target\": 247.6, \"y_predict\": 192.44110894001233}, {\"y_target\": 164.5, \"y_predict\": 158.1675444885721}, {\"y_target\": 180.9, \"y_predict\": 190.6522339168951}, {\"y_target\": 161.7, \"y_predict\": 175.72841640213525}, {\"y_target\": 216.1, \"y_predict\": 207.2730152990083}, {\"y_target\": 183.4, \"y_predict\": 175.4377428617355}, {\"y_target\": 158.9, \"y_predict\": 178.51615093848775}, {\"y_target\": 115.0, \"y_predict\": 122.80449842803263}, {\"y_target\": 191.8, \"y_predict\": 175.25017881752893}, {\"y_target\": 160.3, \"y_predict\": 177.9530704055268}, {\"y_target\": 187.4, \"y_predict\": 186.17012495513504}, {\"y_target\": 139.2, \"y_predict\": 179.23252474779642}, {\"y_target\": 198.1, \"y_predict\": 194.84017979677665}, {\"y_target\": 192.1, \"y_predict\": 195.76469712654333}, {\"y_target\": 151.8, \"y_predict\": 173.3785438052787}, {\"y_target\": 192.3, \"y_predict\": 179.7104314540781}, {\"y_target\": 192.7, \"y_predict\": 179.45487844887992}, {\"y_target\": 178.9, \"y_predict\": 175.75376749744765}, {\"y_target\": 200.0, \"y_predict\": 207.87326368582376}, {\"y_target\": 206.5, \"y_predict\": 207.038835728858}, {\"y_target\": 192.7, \"y_predict\": 193.20433315622353}, {\"y_target\": 143.9, \"y_predict\": 168.90757671204545}, {\"y_target\": 169.2, \"y_predict\": 167.5835110251659}, {\"y_target\": 183.6, \"y_predict\": 166.729198022133}, {\"y_target\": 147.7, \"y_predict\": 140.12229642006108}, {\"y_target\": 180.1, \"y_predict\": 186.04078778776062}, {\"y_target\": 123.4, \"y_predict\": 137.1935860687768}, {\"y_target\": 183.6, \"y_predict\": 181.7254327138653}, {\"y_target\": 147.5, \"y_predict\": 139.3959503372895}, {\"y_target\": 126.3, \"y_predict\": 167.46362024230964}, {\"y_target\": 215.9, \"y_predict\": 174.23766350767863}, {\"y_target\": 156.6, \"y_predict\": 146.52132526455586}, {\"y_target\": 188.4, \"y_predict\": 185.4093876923663}, {\"y_target\": 171.0, \"y_predict\": 159.2364674458869}, {\"y_target\": 135.7, \"y_predict\": 146.2313370176984}, {\"y_target\": 184.9, \"y_predict\": 177.68359732324788}, {\"y_target\": 172.6, \"y_predict\": 157.05777233439545}, {\"y_target\": 216.9, \"y_predict\": 200.04437071646225}, {\"y_target\": 216.2, \"y_predict\": 184.02599337522014}, {\"y_target\": 140.8, \"y_predict\": 150.66807856179497}, {\"y_target\": 137.9, \"y_predict\": 152.4520824884069}, {\"y_target\": 193.7, \"y_predict\": 175.20033201846445}, {\"y_target\": 198.3, \"y_predict\": 203.16722853169887}, {\"y_target\": 236.7, \"y_predict\": 201.64018002028263}, {\"y_target\": 215.5, \"y_predict\": 190.9117277386789}, {\"y_target\": 197.2, \"y_predict\": 189.62237960414396}, {\"y_target\": 171.7, \"y_predict\": 181.99448498618082}, {\"y_target\": 211.0, \"y_predict\": 208.71192971224104}, {\"y_target\": 180.2, \"y_predict\": 184.7635502559594}, {\"y_target\": 174.0, \"y_predict\": 193.80752096059126}, {\"y_target\": 160.4, \"y_predict\": 171.45539051916262}, {\"y_target\": 195.8, \"y_predict\": 190.29855346578526}, {\"y_target\": 187.2, \"y_predict\": 136.88951678056483}, {\"y_target\": 185.4, \"y_predict\": 171.12916720687932}, {\"y_target\": 195.5, \"y_predict\": 178.83668972958623}, {\"y_target\": 158.6, \"y_predict\": 173.08668616936419}, {\"y_target\": 218.0, \"y_predict\": 195.21199531383337}, {\"y_target\": 173.0, \"y_predict\": 170.56724213808758}, {\"y_target\": 140.0, \"y_predict\": 161.33221911835403}, {\"y_target\": 148.4, \"y_predict\": 140.64088264019261}, {\"y_target\": 130.9, \"y_predict\": 142.63562042973294}, {\"y_target\": 163.7, \"y_predict\": 177.70684780150626}, {\"y_target\": 214.8, \"y_predict\": 193.35701137498828}, {\"y_target\": 292.5, \"y_predict\": 168.60492320130538}, {\"y_target\": 194.1, \"y_predict\": 210.42746175325004}, {\"y_target\": 223.9, \"y_predict\": 170.54634557340094}, {\"y_target\": 151.9, \"y_predict\": 168.78432504636086}, {\"y_target\": 205.7, \"y_predict\": 181.78810682311155}, {\"y_target\": 127.0, \"y_predict\": 185.84134718659766}, {\"y_target\": 232.0, \"y_predict\": 195.752555400915}, {\"y_target\": 183.7, \"y_predict\": 192.14813865622958}, {\"y_target\": 218.9, \"y_predict\": 176.75354425181015}, {\"y_target\": 132.6, \"y_predict\": 155.12380659708145}, {\"y_target\": 195.6, \"y_predict\": 198.70605646754453}, {\"y_target\": 186.8, \"y_predict\": 184.23643338289045}, {\"y_target\": 165.4, \"y_predict\": 175.68766836098004}, {\"y_target\": 178.1, \"y_predict\": 156.971964686618}, {\"y_target\": 164.1, \"y_predict\": 175.86457404149658}, {\"y_target\": 183.2, \"y_predict\": 195.65832805082158}, {\"y_target\": 175.5, \"y_predict\": 151.2796842376312}, {\"y_target\": 188.8, \"y_predict\": 181.8736832454997}, {\"y_target\": 164.0, \"y_predict\": 160.7883082107026}, {\"y_target\": 155.8, \"y_predict\": 170.0334889469574}, {\"y_target\": 179.0, \"y_predict\": 179.53697936892036}, {\"y_target\": 129.0, \"y_predict\": 147.80356770690148}, {\"y_target\": 166.8, \"y_predict\": 151.65260559047266}, {\"y_target\": 222.0, \"y_predict\": 195.67523838339022}, {\"y_target\": 178.6, \"y_predict\": 163.82727120507752}, {\"y_target\": 187.3, \"y_predict\": 186.78895151029107}, {\"y_target\": 181.1, \"y_predict\": 174.77491796351882}, {\"y_target\": 174.7, \"y_predict\": 186.93918293116155}, {\"y_target\": 145.1, \"y_predict\": 150.82730672147574}, {\"y_target\": 210.1, \"y_predict\": 188.6544030078531}, {\"y_target\": 201.8, \"y_predict\": 187.69143341458712}, {\"y_target\": 203.3, \"y_predict\": 192.00391812553156}, {\"y_target\": 197.3, \"y_predict\": 171.10033342743677}, {\"y_target\": 230.9, \"y_predict\": 214.00907210283503}, {\"y_target\": 178.5, \"y_predict\": 182.67907155053615}, {\"y_target\": 184.3, \"y_predict\": 175.01128912140672}, {\"y_target\": 156.9, \"y_predict\": 157.75931101646987}, {\"y_target\": 180.2, \"y_predict\": 172.7519824463291}, {\"y_target\": 175.8, \"y_predict\": 179.47961020906726}, {\"y_target\": 145.0, \"y_predict\": 158.0630673035223}, {\"y_target\": 177.2, \"y_predict\": 160.2703404101942}, {\"y_target\": 207.4, \"y_predict\": 196.85350037320993}, {\"y_target\": 163.1, \"y_predict\": 190.81772260125524}, {\"y_target\": 142.2, \"y_predict\": 155.6345770084929}, {\"y_target\": 172.8, \"y_predict\": 192.03663119869415}, {\"y_target\": 182.8, \"y_predict\": 180.86540691946504}, {\"y_target\": 182.9, \"y_predict\": 171.55943803879543}, {\"y_target\": 140.5, \"y_predict\": 209.66287638375252}, {\"y_target\": 214.0, \"y_predict\": 201.56313400071735}, {\"y_target\": 160.2, \"y_predict\": 161.29379605568238}, {\"y_target\": 138.8, \"y_predict\": 156.14181653825602}, {\"y_target\": 153.3, \"y_predict\": 188.97542649116917}, {\"y_target\": 212.5, \"y_predict\": 196.90216883306624}, {\"y_target\": 201.4, \"y_predict\": 168.79242586178512}, {\"y_target\": 241.9, \"y_predict\": 203.41647448818463}, {\"y_target\": 175.7, \"y_predict\": 175.4209362162956}, {\"y_target\": 146.5, \"y_predict\": 135.45973945423964}, {\"y_target\": 162.5, \"y_predict\": 176.2020328291853}, {\"y_target\": 169.4, \"y_predict\": 163.0473273742193}, {\"y_target\": 212.3, \"y_predict\": 176.22119987406901}, {\"y_target\": 181.8, \"y_predict\": 160.63450782184728}, {\"y_target\": 131.6, \"y_predict\": 149.81259567620762}, {\"y_target\": 147.2, \"y_predict\": 168.46947939873485}, {\"y_target\": 151.2, \"y_predict\": 178.783356449115}, {\"y_target\": 173.4, \"y_predict\": 167.51319482653068}, {\"y_target\": 205.9, \"y_predict\": 190.4679051727954}, {\"y_target\": 188.4, \"y_predict\": 169.5760778635868}, {\"y_target\": 159.3, \"y_predict\": 198.9287578828743}, {\"y_target\": 196.1, \"y_predict\": 171.4114923847768}, {\"y_target\": 196.0, \"y_predict\": 210.95473671610182}, {\"y_target\": 199.7, \"y_predict\": 197.83989261795898}, {\"y_target\": 181.3, \"y_predict\": 176.94396225821367}, {\"y_target\": 191.8, \"y_predict\": 194.26013667480245}, {\"y_target\": 132.3, \"y_predict\": 164.69737816867098}, {\"y_target\": 217.9, \"y_predict\": 204.96699857349535}, {\"y_target\": 168.4, \"y_predict\": 172.7139864588259}, {\"y_target\": 183.8, \"y_predict\": 199.71723692480768}, {\"y_target\": 153.1, \"y_predict\": 146.97505873050693}, {\"y_target\": 188.3, \"y_predict\": 164.65686872884703}, {\"y_target\": 181.3, \"y_predict\": 172.87057210075167}, {\"y_target\": 199.1, \"y_predict\": 198.34954288215144}, {\"y_target\": 176.0, \"y_predict\": 162.6892354561091}, {\"y_target\": 171.3, \"y_predict\": 179.99733869078437}, {\"y_target\": 178.8, \"y_predict\": 121.38163436544443}, {\"y_target\": 155.3, \"y_predict\": 149.21091591631955}, {\"y_target\": 170.6, \"y_predict\": 185.19376718299912}, {\"y_target\": 151.2, \"y_predict\": 194.00073515825892}, {\"y_target\": 146.5, \"y_predict\": 148.94116042446868}, {\"y_target\": 217.0, \"y_predict\": 194.67304926339483}, {\"y_target\": 178.2, \"y_predict\": 168.87129072491481}, {\"y_target\": 113.9, \"y_predict\": 161.3069226422219}, {\"y_target\": 165.8, \"y_predict\": 177.41246661822507}, {\"y_target\": 160.0, \"y_predict\": 166.75891412804188}, {\"y_target\": 165.5, \"y_predict\": 197.30871630328917}, {\"y_target\": 188.4, \"y_predict\": 172.56552262944732}, {\"y_target\": 142.4, \"y_predict\": 150.49634195838425}, {\"y_target\": 202.7, \"y_predict\": 179.97584919234203}, {\"y_target\": 206.9, \"y_predict\": 183.14617690986992}, {\"y_target\": 169.3, \"y_predict\": 182.15035922302616}, {\"y_target\": 179.6, \"y_predict\": 182.03908158131395}, {\"y_target\": 233.0, \"y_predict\": 223.28534506225606}, {\"y_target\": 178.2, \"y_predict\": 218.8711945957296}, {\"y_target\": 193.1, \"y_predict\": 185.46806902412905}, {\"y_target\": 194.5, \"y_predict\": 200.90861548997748}, {\"y_target\": 158.6, \"y_predict\": 173.05933681536098}, {\"y_target\": 170.4, \"y_predict\": 180.43769881655717}, {\"y_target\": 181.2, \"y_predict\": 192.94177633575188}, {\"y_target\": 124.8, \"y_predict\": 164.86846113325035}, {\"y_target\": 178.8, \"y_predict\": 176.41519622975656}, {\"y_target\": 180.1, \"y_predict\": 181.74484387453055}, {\"y_target\": 231.3, \"y_predict\": 204.29556748012308}, {\"y_target\": 173.9, \"y_predict\": 183.88489587944673}, {\"y_target\": 141.0, \"y_predict\": 159.2182197334632}, {\"y_target\": 129.8, \"y_predict\": 158.06419020663736}, {\"y_target\": 362.8, \"y_predict\": 318.95096268983934}, {\"y_target\": 167.8, \"y_predict\": 174.82995609904196}, {\"y_target\": 150.7, \"y_predict\": 154.99884138037396}, {\"y_target\": 116.0, \"y_predict\": 152.40606098551498}, {\"y_target\": 175.3, \"y_predict\": 194.00588570853253}, {\"y_target\": 164.1, \"y_predict\": 168.12754080864318}, {\"y_target\": 180.1, \"y_predict\": 193.50202102979054}, {\"y_target\": 148.3, \"y_predict\": 150.7154846607432}, {\"y_target\": 162.7, \"y_predict\": 153.80592187671965}, {\"y_target\": 183.7, \"y_predict\": 203.81697059305486}, {\"y_target\": 162.5, \"y_predict\": 162.43898359856112}, {\"y_target\": 200.1, \"y_predict\": 181.2701124927319}, {\"y_target\": 166.2, \"y_predict\": 164.3231198145058}, {\"y_target\": 191.9, \"y_predict\": 185.33920335735903}, {\"y_target\": 143.8, \"y_predict\": 160.14880056317966}, {\"y_target\": 156.1, \"y_predict\": 182.70979573371284}, {\"y_target\": 167.4, \"y_predict\": 174.04347366252696}, {\"y_target\": 217.1, \"y_predict\": 197.05646906103564}, {\"y_target\": 150.3, \"y_predict\": 180.57829511299522}, {\"y_target\": 152.8, \"y_predict\": 152.2324489298691}, {\"y_target\": 161.1, \"y_predict\": 168.82813659974664}, {\"y_target\": 187.6, \"y_predict\": 152.1256167084208}, {\"y_target\": 131.6, \"y_predict\": 167.72041001163092}, {\"y_target\": 187.5, \"y_predict\": 184.92493923359822}, {\"y_target\": 174.2, \"y_predict\": 171.22921165527703}, {\"y_target\": 199.1, \"y_predict\": 233.38226237673004}]}}, {\"mode\": \"vega-lite\"});\n",
              "</script>"
            ],
            "text/plain": [
              "alt.LayerChart(...)"
            ]
          },
          "metadata": {},
          "execution_count": 41
        }
      ]
    }
  ]
}